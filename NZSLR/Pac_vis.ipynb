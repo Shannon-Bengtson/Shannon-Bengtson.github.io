{
 "cells": [
  {
   "cell_type": "markdown",
   "metadata": {},
   "source": [
    "# File Setup"
   ]
  },
  {
   "cell_type": "code",
   "execution_count": 3,
   "metadata": {
    "ExecuteTime": {
     "end_time": "2021-05-31T04:00:16.636276Z",
     "start_time": "2021-05-31T04:00:13.812182Z"
    }
   },
   "outputs": [],
   "source": [
    "import numpy as np\n",
    "import pandas as pd\n",
    "import matplotlib\n",
    "import matplotlib.pyplot as plt\n",
    "import netCDF4\n",
    "import math\n",
    "import sys\n",
    "import os\n",
    "import itertools\n",
    "import scipy.stats"
   ]
  },
  {
   "cell_type": "markdown",
   "metadata": {},
   "source": [
    "# Load Pacific SLR Data"
   ]
  },
  {
   "cell_type": "code",
   "execution_count": null,
   "metadata": {
    "ExecuteTime": {
     "end_time": "2021-05-31T04:00:16.642232Z",
     "start_time": "2021-05-31T04:00:16.639234Z"
    }
   },
   "outputs": [],
   "source": [
    "# Site ID 1 (index 0) from Greg Garner is Tarawa"
   ]
  },
  {
   "cell_type": "markdown",
   "metadata": {},
   "source": [
    "## Time series, quantile slices"
   ]
  },
  {
   "cell_type": "code",
   "execution_count": null,
   "metadata": {
    "ExecuteTime": {
     "end_time": "2021-05-31T04:00:17.116768Z",
     "start_time": "2021-05-31T04:00:16.644466Z"
    }
   },
   "outputs": [],
   "source": [
    "# List all AISs used\n",
    "AISs = [\n",
    "    \"k14\",\n",
    "    \"dp16\",\n",
    "    \"dp21\",\n",
    "    \"k14v\",\n",
    "    \"dp16v\",\n",
    "    \"dp21v\"    \n",
    "]\n",
    "\n",
    "AIS_scenarios = {}\n",
    "\n",
    "# Loop over each AIS type\n",
    "for AIS in AISs:\n",
    "    # Create list of rcp scenarios to loop over\n",
    "    rcps = [\n",
    "        \"26\",\n",
    "        \"45\",\n",
    "        \"85\"\n",
    "    ]\n",
    "\n",
    "    # have one colour per rcp\n",
    "    colours = [\n",
    "        'r',\n",
    "        'k',\n",
    "        'b'\n",
    "    ]\n",
    "\n",
    "    # Create an empty dictionary to store the quantile dataframes in\n",
    "    rcp_scenarios = {}\n",
    "\n",
    "    # loop over each rcp\n",
    "    for rcp,colour in zip(rcps,colours):\n",
    "\n",
    "        # get file name \n",
    "        file = \"pac_islands/workflows/wf_{}/rcp{}/total-workflow_localsl.nc\".format(AIS,rcp,rcp)\n",
    "\n",
    "        # Load the data\n",
    "        ds = netCDF4.Dataset(file)\n",
    "\n",
    "        # Extract the variables\n",
    "        time = np.array(ds.variables['years'])\n",
    "        lat = np.array(ds.variables['lat'])\n",
    "        long = np.array(ds.variables['lon'])\n",
    "        localSL_quantiles = np.array(ds.variables['localSL_quantiles'])\n",
    "        quantiles = np.array(ds.variables['quantiles'])\n",
    "        site_id = np.array(ds.variables['id'])\n",
    "\n",
    "        # get some quantiles for plotting (indexing them from the ds quantile list)\n",
    "        quantile_value = 0.5\n",
    "        quantile_index = np.where(quantiles==round((np.min(abs(quantiles-quantile_value))+quantile_value),2))[0][0] ## check the rounding here\n",
    "        quantile_index\n",
    "\n",
    "        median_quantile = pd.DataFrame(data=localSL_quantiles[quantile_index,:,:],index=site_id,columns=time)\n",
    "        median_quantile.index = median_quantile.index.set_names(['site'])\n",
    "        median_quantile = pd.melt(median_quantile.reset_index(),id_vars='site')\n",
    "        median_quantile.rename(columns={'value':'SLR','variable':'year'},inplace=True)\n",
    "\n",
    "        # Lower IPCC likelihood quantile\n",
    "        quantile_value = 0.17\n",
    "        quantile_index = np.where(quantiles==round((np.min(abs(quantiles-quantile_value))+quantile_value),2))[0][0] ## check the rounding here\n",
    "        quantile_index\n",
    "\n",
    "        lower_quantile = pd.DataFrame(data=localSL_quantiles[quantile_index,:,:],index=site_id,columns=time)\n",
    "        lower_quantile.index = lower_quantile.index.set_names(['site'])\n",
    "        lower_quantile = pd.melt(lower_quantile.reset_index(),id_vars='site')\n",
    "        lower_quantile.rename(columns={'value':'SLR','variable':'year'},inplace=True)\n",
    "\n",
    "        # Upper IPCC likelihood quantile\n",
    "        quantile_value = 0.83\n",
    "        quantile_index = np.where(quantiles==round((np.min(abs(quantiles-quantile_value))+quantile_value),2))[0][0] ## check the rounding here\n",
    "        quantile_index\n",
    "\n",
    "        upper_quantile = pd.DataFrame(data=localSL_quantiles[quantile_index,:,:],index=site_id,columns=time)\n",
    "        upper_quantile.index = upper_quantile.index.set_names(['site'])\n",
    "        upper_quantile = pd.melt(upper_quantile.reset_index(),id_vars='site')\n",
    "        upper_quantile.rename(columns={'value':'SLR','variable':'year'},inplace=True)\n",
    "\n",
    "        # Get just one site for visualisations (since they're all very similar)\n",
    "        median_quantile = median_quantile[median_quantile.site==0]\n",
    "        lower_quantile = lower_quantile[lower_quantile.site==0]\n",
    "        upper_quantile = upper_quantile[upper_quantile.site==0]\n",
    "\n",
    "        rcp_scenarios.update({\n",
    "            rcp:{\n",
    "                \"median\":median_quantile,\n",
    "                \"lower\":lower_quantile,\n",
    "                \"upper\":upper_quantile,\n",
    "                'colour':colour\n",
    "            }\n",
    "        })\n",
    "        \n",
    "    AIS_scenarios.update({\n",
    "        AIS:rcp_scenarios\n",
    "    })\n"
   ]
  },
  {
   "cell_type": "markdown",
   "metadata": {},
   "source": [
    "# Visulise the projections"
   ]
  },
  {
   "cell_type": "code",
   "execution_count": null,
   "metadata": {
    "ExecuteTime": {
     "end_time": "2021-05-31T04:00:17.934734Z",
     "start_time": "2021-05-31T04:00:17.116768Z"
    },
    "scrolled": false
   },
   "outputs": [],
   "source": [
    "# Set up the figure\n",
    "fig = plt.figure(figsize=(15,10))\n",
    "plt.subplots_adjust(hspace=0)\n",
    "\n",
    "ax1 = plt.subplot2grid((3,2),(0,0))\n",
    "ax2 = plt.subplot2grid((3,2),(1,0))\n",
    "ax3 = plt.subplot2grid((3,2),(2,0))\n",
    "ax4 = plt.subplot2grid((3,2),(0,1))\n",
    "ax5 = plt.subplot2grid((3,2),(1,1))\n",
    "ax6 = plt.subplot2grid((3,2),(2,1))\n",
    "\n",
    "def plot_slr_scenarios(scenario_name,ax):\n",
    "    '''\n",
    "    '''\n",
    "    for rcp,quantile_dict in AIS_scenarios[scenario_name].items():\n",
    "        ax.plot(quantile_dict['median'].year,quantile_dict['median'].SLR,c=quantile_dict['colour'])\n",
    "        ax.fill_between(x=list(quantile_dict['lower'].year),\n",
    "                         y1=list(quantile_dict['lower'].SLR),\n",
    "                         y2=list(quantile_dict['upper'].SLR),\n",
    "                         zorder=-1000,\n",
    "                         color=quantile_dict['colour'],\n",
    "                         alpha=0.1)\n",
    "    return(ax)\n",
    "\n",
    "# plot the results\n",
    "ax1 = plot_slr_scenarios('k14',ax1)\n",
    "ax2 = plot_slr_scenarios('dp16',ax2)\n",
    "ax3 = plot_slr_scenarios('dp21',ax3)\n",
    "ax4 = plot_slr_scenarios('k14v',ax4)\n",
    "ax5 = plot_slr_scenarios('dp16v',ax5)\n",
    "ax6 = plot_slr_scenarios('dp21v',ax6)\n",
    "  \n",
    "# Format the graph\n",
    "for ax in [ax2,ax5]:\n",
    "    ax.set_ylabel('Mean sea-level change (mm)')\n",
    "\n",
    "ax5.yaxis.set_label_position('right')\n",
    "    \n",
    "for ax in [ax3,ax6]:\n",
    "    ax.set_xlabel('Time (years)')\n",
    "# ax1.set_title()\n",
    "\n",
    "for ax in [ax4,ax5,ax6]:\n",
    "    ax.yaxis.tick_right()\n",
    "    \n",
    "for ax in [ax1,ax2,ax4,ax5]:\n",
    "    ax.set_xticklabels([])\n",
    "    \n",
    "ax1.set_title('No VLM')\n",
    "ax4.set_title('With VLM')\n",
    "\n",
    "ax1.text(x=2020,y=np.max(ax1.get_ylim())-0.2*np.mean(ax1.get_ylim()),s='k14')\n",
    "ax2.text(x=2020,y=np.max(ax2.get_ylim())-0.2*np.mean(ax2.get_ylim()),s='dp16')\n",
    "ax3.text(x=2020,y=np.max(ax3.get_ylim())-0.2*np.mean(ax3.get_ylim()),s='dp21')\n",
    "\n",
    "l1 = plt.scatter([],[],c='r')\n",
    "l2 = plt.scatter([],[],c='k')\n",
    "l3 = plt.scatter([],[],c='b')\n",
    "\n",
    "ax6.legend([l1,l2,l3],['RCP 2.6','RCP 4.5','RCP 8.5'],loc='upper left')\n",
    "\n",
    "plt.show()"
   ]
  },
  {
   "cell_type": "code",
   "execution_count": null,
   "metadata": {
    "ExecuteTime": {
     "end_time": "2021-05-31T04:01:05.520902Z",
     "start_time": "2021-05-31T04:01:05.508889Z"
    }
   },
   "outputs": [],
   "source": [
    "AIS_scenarios"
   ]
  },
  {
   "cell_type": "code",
   "execution_count": null,
   "metadata": {
    "ExecuteTime": {
     "end_time": "2021-05-31T04:01:11.779859Z",
     "start_time": "2021-05-31T04:01:11.770881Z"
    }
   },
   "outputs": [],
   "source": [
    "pd.concat(AIS_scenarios['k14v']['26'])"
   ]
  },
  {
   "cell_type": "code",
   "execution_count": null,
   "metadata": {
    "ExecuteTime": {
     "end_time": "2021-05-31T04:01:45.830563Z",
     "start_time": "2021-05-31T04:01:45.820392Z"
    }
   },
   "outputs": [],
   "source": [
    "AIS_scenarios['dp21']['85']['median']"
   ]
  },
  {
   "cell_type": "code",
   "execution_count": null,
   "metadata": {
    "ExecuteTime": {
     "end_time": "2021-05-31T04:01:43.158379Z",
     "start_time": "2021-05-31T04:01:43.147365Z"
    }
   },
   "outputs": [],
   "source": [
    "AIS_scenarios['dp21v']['85']['median']"
   ]
  },
  {
   "cell_type": "code",
   "execution_count": null,
   "metadata": {},
   "outputs": [],
   "source": []
  }
 ],
 "metadata": {
  "hide_input": false,
  "kernelspec": {
   "display_name": "Python 3 (ipykernel)",
   "language": "python",
   "name": "python3"
  },
  "language_info": {
   "codemirror_mode": {
    "name": "ipython",
    "version": 3
   },
   "file_extension": ".py",
   "mimetype": "text/x-python",
   "name": "python",
   "nbconvert_exporter": "python",
   "pygments_lexer": "ipython3",
   "version": "3.8.5"
  },
  "toc": {
   "base_numbering": 1,
   "nav_menu": {},
   "number_sections": true,
   "sideBar": true,
   "skip_h1_title": false,
   "title_cell": "Table of Contents",
   "title_sidebar": "Contents",
   "toc_cell": false,
   "toc_position": {
    "height": "calc(100% - 180px)",
    "left": "10px",
    "top": "150px",
    "width": "384px"
   },
   "toc_section_display": true,
   "toc_window_display": true
  },
  "varInspector": {
   "cols": {
    "lenName": 16,
    "lenType": 16,
    "lenVar": 40
   },
   "kernels_config": {
    "python": {
     "delete_cmd_postfix": "",
     "delete_cmd_prefix": "del ",
     "library": "var_list.py",
     "varRefreshCmd": "print(var_dic_list())"
    },
    "r": {
     "delete_cmd_postfix": ") ",
     "delete_cmd_prefix": "rm(",
     "library": "var_list.r",
     "varRefreshCmd": "cat(var_dic_list()) "
    }
   },
   "types_to_exclude": [
    "module",
    "function",
    "builtin_function_or_method",
    "instance",
    "_Feature"
   ],
   "window_display": false
  }
 },
 "nbformat": 4,
 "nbformat_minor": 4
}
