{
 "cells": [
  {
   "cell_type": "markdown",
   "metadata": {},
   "source": [
    "# File Setup"
   ]
  },
  {
   "cell_type": "code",
   "execution_count": 9,
   "metadata": {
    "ExecuteTime": {
     "end_time": "2021-06-10T00:56:08.286629Z",
     "start_time": "2021-06-10T00:56:05.922369Z"
    }
   },
   "outputs": [
    {
     "ename": "ModuleNotFoundError",
     "evalue": "No module named 'legate'",
     "output_type": "error",
     "traceback": [
      "\u001b[0;31m---------------------------------------------------------------------------\u001b[0m",
      "\u001b[0;31mModuleNotFoundError\u001b[0m                       Traceback (most recent call last)",
      "\u001b[0;32m<ipython-input-9-bae3f87bc18a>\u001b[0m in \u001b[0;36m<module>\u001b[0;34m\u001b[0m\n\u001b[0;32m----> 1\u001b[0;31m \u001b[0;32mimport\u001b[0m \u001b[0mlegate\u001b[0m\u001b[0;34m\u001b[0m\u001b[0;34m\u001b[0m\u001b[0m\n\u001b[0m\u001b[1;32m      2\u001b[0m \u001b[0;32mimport\u001b[0m \u001b[0mlegate\u001b[0m\u001b[0;34m.\u001b[0m\u001b[0mnumpy\u001b[0m \u001b[0;32mas\u001b[0m \u001b[0mnp\u001b[0m\u001b[0;34m\u001b[0m\u001b[0;34m\u001b[0m\u001b[0m\n\u001b[1;32m      3\u001b[0m \u001b[0;32mimport\u001b[0m \u001b[0mpandas\u001b[0m \u001b[0;32mas\u001b[0m \u001b[0mpd\u001b[0m\u001b[0;34m\u001b[0m\u001b[0;34m\u001b[0m\u001b[0m\n\u001b[1;32m      4\u001b[0m \u001b[0;32mimport\u001b[0m \u001b[0mmatplotlib\u001b[0m\u001b[0;34m\u001b[0m\u001b[0;34m\u001b[0m\u001b[0m\n\u001b[1;32m      5\u001b[0m \u001b[0;32mimport\u001b[0m \u001b[0mmatplotlib\u001b[0m\u001b[0;34m.\u001b[0m\u001b[0mpyplot\u001b[0m \u001b[0;32mas\u001b[0m \u001b[0mplt\u001b[0m\u001b[0;34m\u001b[0m\u001b[0;34m\u001b[0m\u001b[0m\n",
      "\u001b[0;31mModuleNotFoundError\u001b[0m: No module named 'legate'"
     ]
    }
   ],
   "source": [
    "import numpy as np\n",
    "import pandas as pd\n",
    "import matplotlib\n",
    "import matplotlib.pyplot as plt\n",
    "import netCDF4\n",
    "# import cartopy\n",
    "import math\n",
    "import sys\n",
    "import os\n",
    "import itertools\n",
    "import scipy.stats\n",
    "import json"
   ]
  },
  {
   "cell_type": "code",
   "execution_count": 7,
   "metadata": {
    "ExecuteTime": {
     "end_time": "2021-06-10T00:57:18.606108Z",
     "start_time": "2021-06-10T00:57:14.825231Z"
    }
   },
   "outputs": [
    {
     "name": "stdout",
     "output_type": "stream",
     "text": [
      "Collecting legate\n",
      "  Downloading legate-0.0.0-py3-none-any.whl (1.0 kB)\n",
      "Installing collected packages: legate\n",
      "Successfully installed legate-0.0.0\n",
      "\u001b[33mWARNING: Running pip as root will break packages and permissions. You should install packages reliably by using venv: https://pip.pypa.io/warnings/venv\u001b[0m\n"
     ]
    }
   ],
   "source": [
    "\n",
    "!$sys.executable -m pip install legate\n"
   ]
  },
  {
   "cell_type": "markdown",
   "metadata": {},
   "source": [
    "# Load Pacific SLR Data"
   ]
  },
  {
   "cell_type": "code",
   "execution_count": 3,
   "metadata": {
    "ExecuteTime": {
     "end_time": "2021-06-09T01:52:25.510285Z",
     "start_time": "2021-06-09T01:52:25.505283Z"
    }
   },
   "outputs": [],
   "source": [
    "# Site ID 1 (index 0) is Tarawa"
   ]
  },
  {
   "cell_type": "markdown",
   "metadata": {},
   "source": [
    "## Time series, full distributions"
   ]
  },
  {
   "cell_type": "code",
   "execution_count": 4,
   "metadata": {
    "ExecuteTime": {
     "end_time": "2021-06-09T01:52:28.420368Z",
     "start_time": "2021-06-09T01:52:25.514282Z"
    }
   },
   "outputs": [],
   "source": [
    "# List all AISs used\n",
    "AISs = [\n",
    "    \"k14\",\n",
    "    \"dp16\",\n",
    "    \"dp21\",\n",
    "    \"k14v\",\n",
    "    \"dp16v\",\n",
    "    \"dp21v\"    \n",
    "]\n",
    "\n",
    "# Create a dictionary to store the dictionaries of probabilities in\n",
    "probs_dict = {}\n",
    "\n",
    "# Loop over each AIS type\n",
    "for AIS in AISs:\n",
    "    # Create list of rcp scenarios to loop over\n",
    "    rcps = [\n",
    "        \"26\",\n",
    "        \"45\",\n",
    "        \"85\"\n",
    "    ]\n",
    "\n",
    "    # loop over each rcp\n",
    "    for rcp in rcps:\n",
    "\n",
    "        # get file name \n",
    "        file = \"pac_islands/workflows/wf_{}/rcp{}/total-workflow_localsl.nc\".format(AIS,rcp,rcp)\n",
    "\n",
    "        # Load the data\n",
    "        ds = netCDF4.Dataset(file)\n",
    "\n",
    "        # Extract the variables\n",
    "        time = np.array(ds.variables['years'])\n",
    "        lat = np.array(ds.variables['lat'])\n",
    "        long = np.array(ds.variables['lon'])\n",
    "        localSL_quantiles = np.array(ds.variables['localSL_quantiles'])\n",
    "        quantiles = np.array(ds.variables['quantiles'])\n",
    "        site_id = np.array(ds.variables['id'])\n",
    "\n",
    "        for year,year_index in zip(time,np.arange(0,len(time),1)):\n",
    "            var = localSL_quantiles[:,0,year_index]\n",
    "            var_mean, var_stdev = np.mean(var),np.std(var)\n",
    "            zscores = [(x-var_mean)/var_stdev for x in var]\n",
    "            p_values = [scipy.stats.norm.pdf(abs(x))*2 for x in zscores]\n",
    "            p_values = p_values/np.sum(p_values) #normalise the pvalues\n",
    "            SLR = {str(x):str(y) for x,y in zip(p_values,localSL_quantiles[:,0,year_index])}\n",
    "\n",
    "            probs_dict.update({\n",
    "                str((AIS,rcp,year)):SLR\n",
    "            })\n"
   ]
  },
  {
   "cell_type": "code",
   "execution_count": 5,
   "metadata": {
    "ExecuteTime": {
     "end_time": "2021-06-09T01:52:28.541193Z",
     "start_time": "2021-06-09T01:52:28.420368Z"
    }
   },
   "outputs": [],
   "source": [
    "with open('distributions_dict.json', 'w') as fp:\n",
    "    json.dump(probs_dict, fp)"
   ]
  },
  {
   "cell_type": "code",
   "execution_count": 6,
   "metadata": {
    "ExecuteTime": {
     "end_time": "2021-06-09T01:53:21.253548Z",
     "start_time": "2021-06-09T01:53:21.246553Z"
    }
   },
   "outputs": [
    {
     "data": {
      "text/plain": [
       "<class 'netCDF4._netCDF4.Dataset'>\n",
       "root group (NETCDF4 data model, file format HDF5):\n",
       "    description: Total SLR for workflow\n",
       "    history: Created Tue May  4 15:10:51 2021; Seed Value 1122\n",
       "    source: FACTS: Post-processed total among available contributors: verticallandmotion-kopp14-verticallandmotion_localsl.nc,icesheets-kopp14SROCC-icesheets-rcp85_GIS_localsl.nc,glaciers-kopp14-glaciers-rcp85_localsl.nc,icesheets-dp20-icesheet-rcp85_AIS_localsl.nc,oceandynamics-kopp14-oceandynamics-rcp85_localsl.nc,landwaterstorage-ssp-landwaterstorage-rcp85_localsl.nc\n",
       "    dimensions(sizes): nsites(6), years(14), quantiles(108)\n",
       "    variables(dimensions): float32 lat(nsites), float32 lon(nsites), int32 id(nsites), int32 years(years), float32 quantiles(quantiles), int16 localSL_quantiles(quantiles, nsites, years)\n",
       "    groups: "
      ]
     },
     "execution_count": 6,
     "metadata": {},
     "output_type": "execute_result"
    }
   ],
   "source": [
    "ds"
   ]
  },
  {
   "cell_type": "code",
   "execution_count": null,
   "metadata": {},
   "outputs": [],
   "source": []
  }
 ],
 "metadata": {
  "kernelspec": {
   "display_name": "Python 3",
   "language": "python",
   "name": "python3"
  },
  "language_info": {
   "codemirror_mode": {
    "name": "ipython",
    "version": 3
   },
   "file_extension": ".py",
   "mimetype": "text/x-python",
   "name": "python",
   "nbconvert_exporter": "python",
   "pygments_lexer": "ipython3",
   "version": "3.8.5"
  },
  "toc": {
   "base_numbering": 1,
   "nav_menu": {},
   "number_sections": true,
   "sideBar": true,
   "skip_h1_title": false,
   "title_cell": "Table of Contents",
   "title_sidebar": "Contents",
   "toc_cell": false,
   "toc_position": {},
   "toc_section_display": true,
   "toc_window_display": false
  },
  "varInspector": {
   "cols": {
    "lenName": 16,
    "lenType": 16,
    "lenVar": 40
   },
   "kernels_config": {
    "python": {
     "delete_cmd_postfix": "",
     "delete_cmd_prefix": "del ",
     "library": "var_list.py",
     "varRefreshCmd": "print(var_dic_list())"
    },
    "r": {
     "delete_cmd_postfix": ") ",
     "delete_cmd_prefix": "rm(",
     "library": "var_list.r",
     "varRefreshCmd": "cat(var_dic_list()) "
    }
   },
   "types_to_exclude": [
    "module",
    "function",
    "builtin_function_or_method",
    "instance",
    "_Feature"
   ],
   "window_display": false
  }
 },
 "nbformat": 4,
 "nbformat_minor": 4
}
