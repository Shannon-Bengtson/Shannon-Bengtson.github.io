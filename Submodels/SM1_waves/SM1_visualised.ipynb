{
 "cells": [
  {
   "cell_type": "markdown",
   "metadata": {},
   "source": [
    "# File Description"
   ]
  },
  {
   "cell_type": "markdown",
   "metadata": {},
   "source": []
  },
  {
   "cell_type": "markdown",
   "metadata": {},
   "source": [
    "# File Setup"
   ]
  },
  {
   "cell_type": "code",
   "execution_count": 1,
   "metadata": {},
   "outputs": [],
   "source": [
    "%load_ext autoreload\n",
    "%autoreload 2"
   ]
  },
  {
   "cell_type": "code",
   "execution_count": 4,
   "metadata": {},
   "outputs": [],
   "source": [
    "import sys\n",
    "import pandas as pd\n",
    "import numpy as np\n",
    "import matplotlib\n",
    "import matplotlib.pyplot as plt\n",
    "import math\n",
    "\n",
    "sys.path.append('C:\\\\Users\\\\Administrator\\\\GNS Science\\\\Pacific Island Sea Level Team - Documents\\\\General\\\\Model_and_data\\\\python_classes')\n",
    "\n",
    "from BNVisualisation import BNVisualisation\n",
    "from BNValidation import BNValidation\n",
    "from BNModelSetup import BNModelSetup\n",
    "\n",
    "from SM1_preprocessing import *\n",
    "# from create_SM1 import create_SM1"
   ]
  },
  {
   "cell_type": "markdown",
   "metadata": {},
   "source": [
    "# Create SM1"
   ]
  },
  {
   "cell_type": "code",
   "execution_count": 106,
   "metadata": {},
   "outputs": [],
   "source": [
    "# Import and preprocess data\n",
    "df_Pto_lagoon,SM1_variables_dict = SM1_preprocessing_lagoon()"
   ]
  },
  {
   "cell_type": "code",
   "execution_count": 107,
   "metadata": {},
   "outputs": [],
   "source": [
    "# Create a dictionary of arcs to set\n",
    "arcs_list = [\n",
    "    {'WindDir':'H0'},\n",
    "    {'Wind':'H0'},\n",
    "    {'WindDir':'H0L0'},\n",
    "    {'Wind':'H0L0'}\n",
    "]"
   ]
  },
  {
   "cell_type": "code",
   "execution_count": 532,
   "metadata": {},
   "outputs": [],
   "source": [
    "# Create a dictionary to put the discretisations into\n",
    "var_dict = {\n",
    "    'Wind':{\n",
    "        'n_bins':3,\n",
    "        'strategy':'kmeans',\n",
    "        'bin_names':['Low','Mid','High'],\n",
    "        'evidence':[0.1,0.1,0.9],\n",
    "        'data':SM1_variables_dict['Wind']\n",
    "    },\n",
    "    'WindDir':{\n",
    "        'n_bins':3,\n",
    "        'strategy':'kmeans',\n",
    "        'bin_names':['Low','Mid','High'],\n",
    "        'evidence':[0.74,0.01,0.25],\n",
    "        'data':SM1_variables_dict['WindDir']\n",
    "    },\n",
    "    'H0':{\n",
    "        'n_bins':3,\n",
    "        'strategy':'kmeans',\n",
    "        'bin_names':['Low','Mid','High'],\n",
    "        'data':SM1_variables_dict['H0']\n",
    "    },\n",
    "    'H0L0':{\n",
    "        'n_bins':3,\n",
    "        'strategy':'kmeans',\n",
    "        'bin_names':['Low','Mid','High'],\n",
    "        'data':SM1_variables_dict['H0L0']\n",
    "    }\n",
    "}"
   ]
  },
  {
   "cell_type": "code",
   "execution_count": 534,
   "metadata": {
    "scrolled": false
   },
   "outputs": [
    {
     "data": {
      "text/html": [
       "<div>\n",
       "<style scoped>\n",
       "    .dataframe tbody tr th:only-of-type {\n",
       "        vertical-align: middle;\n",
       "    }\n",
       "\n",
       "    .dataframe tbody tr th {\n",
       "        vertical-align: top;\n",
       "    }\n",
       "\n",
       "    .dataframe thead tr th {\n",
       "        text-align: left;\n",
       "    }\n",
       "\n",
       "    .dataframe thead tr:last-of-type th {\n",
       "        text-align: right;\n",
       "    }\n",
       "</style>\n",
       "<table border=\"1\" class=\"dataframe\">\n",
       "  <thead>\n",
       "    <tr>\n",
       "      <th>WindDir</th>\n",
       "      <th colspan=\"3\" halign=\"left\">High</th>\n",
       "      <th colspan=\"3\" halign=\"left\">Low</th>\n",
       "      <th colspan=\"3\" halign=\"left\">Mid</th>\n",
       "    </tr>\n",
       "    <tr>\n",
       "      <th>Wind</th>\n",
       "      <th>High</th>\n",
       "      <th>Low</th>\n",
       "      <th>Mid</th>\n",
       "      <th>High</th>\n",
       "      <th>Low</th>\n",
       "      <th>Mid</th>\n",
       "      <th>High</th>\n",
       "      <th>Low</th>\n",
       "      <th>Mid</th>\n",
       "    </tr>\n",
       "    <tr>\n",
       "      <th>H0</th>\n",
       "      <th></th>\n",
       "      <th></th>\n",
       "      <th></th>\n",
       "      <th></th>\n",
       "      <th></th>\n",
       "      <th></th>\n",
       "      <th></th>\n",
       "      <th></th>\n",
       "      <th></th>\n",
       "    </tr>\n",
       "  </thead>\n",
       "  <tbody>\n",
       "    <tr>\n",
       "      <th>High</th>\n",
       "      <td>0.215427</td>\n",
       "      <td>0.055558</td>\n",
       "      <td>0.073463</td>\n",
       "      <td>0.801285</td>\n",
       "      <td>0.121446</td>\n",
       "      <td>0.399381</td>\n",
       "      <td>0.205335</td>\n",
       "      <td>0.051010</td>\n",
       "      <td>0.061390</td>\n",
       "    </tr>\n",
       "    <tr>\n",
       "      <th>Low</th>\n",
       "      <td>0.144946</td>\n",
       "      <td>0.676065</td>\n",
       "      <td>0.497836</td>\n",
       "      <td>0.010177</td>\n",
       "      <td>0.541742</td>\n",
       "      <td>0.197200</td>\n",
       "      <td>0.171568</td>\n",
       "      <td>0.666951</td>\n",
       "      <td>0.529133</td>\n",
       "    </tr>\n",
       "    <tr>\n",
       "      <th>Mid</th>\n",
       "      <td>0.639627</td>\n",
       "      <td>0.268377</td>\n",
       "      <td>0.428701</td>\n",
       "      <td>0.188538</td>\n",
       "      <td>0.336812</td>\n",
       "      <td>0.403419</td>\n",
       "      <td>0.623097</td>\n",
       "      <td>0.282039</td>\n",
       "      <td>0.409477</td>\n",
       "    </tr>\n",
       "  </tbody>\n",
       "</table>\n",
       "</div>"
      ],
      "text/plain": [
       "WindDir      High                           Low                           Mid  \\\n",
       "Wind         High       Low       Mid      High       Low       Mid      High   \n",
       "H0                                                                              \n",
       "High     0.215427  0.055558  0.073463  0.801285  0.121446  0.399381  0.205335   \n",
       "Low      0.144946  0.676065  0.497836  0.010177  0.541742  0.197200  0.171568   \n",
       "Mid      0.639627  0.268377  0.428701  0.188538  0.336812  0.403419  0.623097   \n",
       "\n",
       "WindDir                      \n",
       "Wind          Low       Mid  \n",
       "H0                           \n",
       "High     0.051010  0.061390  \n",
       "Low      0.666951  0.529133  \n",
       "Mid      0.282039  0.409477  "
      ]
     },
     "execution_count": 534,
     "metadata": {},
     "output_type": "execute_result"
    }
   ],
   "source": [
    "# Discretise the data\n",
    "\n",
    "df_SM1_input_disc,var_dict = BNModelSetup().discretiser(SM1_variables_dict,var_dict)\n",
    "\n",
    "# Create the BN\n",
    "ds_SM1_input,net_SM1,SM1_node_ids = BNModelSetup().create_SM(arcs_list)\n",
    "\n",
    "# Get conditional probs tables\n",
    "BNModelSetup().get_conditional_prob_table(net_SM1,'H0')\n"
   ]
  },
  {
   "cell_type": "code",
   "execution_count": 539,
   "metadata": {},
   "outputs": [
    {
     "data": {
      "image/png": "[encoded data removed]",
      "text/plain": [
       "<Figure size 504x720 with 4 Axes>"
      ]
     },
     "metadata": {
      "needs_background": "light"
     },
     "output_type": "display_data"
    }
   ],
   "source": [
    "BNModelSetup().plot_discretiser(var_dict)"
   ]
  },
  {
   "cell_type": "code",
   "execution_count": 540,
   "metadata": {},
   "outputs": [
    {
     "data": {
      "text/plain": [
       "{'Wind': {'n_bins': 3,\n",
       "  'strategy': 'kmeans',\n",
       "  'bin_names': ['Low', 'Mid', 'High'],\n",
       "  'evidence': [0.1, 0.1, 0.9],\n",
       "  'data': array([4.31408198, 4.33455398, 4.19860314, ..., 9.24675265, 8.33042196,\n",
       "         8.31924737]),\n",
       "  'bin_edges': array([5.71064130e-03, 3.72193968e+00, 6.06555144e+00, 1.43183119e+01]),\n",
       "  'resulting_probs': {'Low': 0.06990737753834739,\n",
       "   'Mid': 0.0635564686527202,\n",
       "   'High': 0.8665361538089323}},\n",
       " 'WindDir': {'n_bins': 3,\n",
       "  'strategy': 'kmeans',\n",
       "  'bin_names': ['Low', 'Mid', 'High'],\n",
       "  'evidence': [0.74, 0.01, 0.25],\n",
       "  'data': array([-63.31858054, -63.12438388, -61.87272475, ..., 223.97324201,\n",
       "         220.98769058, 224.2813351 ]),\n",
       "  'bin_edges': array([-89.9878431 ,  71.80934938, 178.17811153, 269.99642001]),\n",
       "  'resulting_probs': {'Low': 0.790256893720469,\n",
       "   'Mid': 0.0022740815133314497,\n",
       "   'High': 0.2074690247661996}},\n",
       " 'H0': {'n_bins': 3,\n",
       "  'strategy': 'kmeans',\n",
       "  'bin_names': ['Low', 'Mid', 'High'],\n",
       "  'data': array([2.01365948, 1.98831832, 1.977404  , ..., 2.05956054, 2.11108518,\n",
       "         2.14895964]),\n",
       "  'bin_edges': array([0.27818465, 0.87384297, 1.26080742, 3.25895715]),\n",
       "  'resulting_probs': {'Low': 0.08061775993002773,\n",
       "   'Mid': 0.4897530700376603,\n",
       "   'High': 0.429629170032312}},\n",
       " 'H0L0': {'n_bins': 3,\n",
       "  'strategy': 'kmeans',\n",
       "  'bin_names': ['Low', 'Mid', 'High'],\n",
       "  'data': array([0.24854257, 0.24512598, 0.24308636, ..., 0.41728593, 0.41594124,\n",
       "         0.41480645]),\n",
       "  'bin_edges': array([0.04169611, 0.24166502, 0.34760068, 0.66684105]),\n",
       "  'resulting_probs': {'Low': 0.30626363153580555,\n",
       "   'Mid': 0.08900171410978223,\n",
       "   'High': 0.6047346543544121}}}"
      ]
     },
     "execution_count": 540,
     "metadata": {},
     "output_type": "execute_result"
    }
   ],
   "source": [
    "# Set evidence and get beliefs\n",
    "net_SM1,var_dict = BNModelSetup().set_evidence(net_SM1,var_dict)"
   ]
  },
  {
   "cell_type": "code",
   "execution_count": 542,
   "metadata": {},
   "outputs": [
    {
     "data": {
      "image/svg+xml": [
       "<?xml version=\"1.0\" encoding=\"UTF-8\" standalone=\"no\"?>\r\n",
       "<!DOCTYPE svg PUBLIC \"-//W3C//DTD SVG 1.1//EN\"\r\n",
       " \"http://www.w3.org/Graphics/SVG/1.1/DTD/svg11.dtd\">\r\n",
       "<!-- Generated by graphviz version 2.44.1 (20200629.0846)\r\n",
       " -->\r\n",
       "<!-- Pages: 1 -->\r\n",
       "<svg width=\"353pt\" height=\"360pt\"\r\n",
       " viewBox=\"0.00 0.00 352.53 360.00\" xmlns=\"http://www.w3.org/2000/svg\" xmlns:xlink=\"http://www.w3.org/1999/xlink\">\r\n",
       "<g id=\"graph0\" class=\"graph\" transform=\"scale(0.41 0.41) rotate(0) translate(36 832)\">\r\n",
       "<polygon fill=\"white\" stroke=\"transparent\" points=\"-36,36 -36,-832 814,-832 814,36 -36,36\"/>\r\n",
       "<!-- 0 -->\r\n",
       "<g id=\"node1\" class=\"node\">\r\n",
       "<title>0</title>\r\n",
       "<polygon fill=\"none\" stroke=\"black\" points=\"380,-796 0,-796 0,-416 380,-416 380,-796\"/>\r\n",
       "<image xlink:href=\"Wind_graph.jpeg\" width=\"380px\" height=\"380px\" preserveAspectRatio=\"xMinYMin meet\" x=\"0\" y=\"-796\"/>\r\n",
       "</g>\r\n",
       "<!-- 2 -->\r\n",
       "<g id=\"node3\" class=\"node\">\r\n",
       "<title>2</title>\r\n",
       "<polygon fill=\"none\" stroke=\"black\" points=\"380,-380 0,-380 0,0 380,0 380,-380\"/>\r\n",
       "<image xlink:href=\"H0_graph.jpeg\" width=\"380px\" height=\"380px\" preserveAspectRatio=\"xMinYMin meet\" x=\"0\" y=\"-380\"/>\r\n",
       "</g>\r\n",
       "<!-- 0&#45;&gt;2 -->\r\n",
       "<g id=\"edge1\" class=\"edge\">\r\n",
       "<title>0&#45;&gt;2</title>\r\n",
       "<path fill=\"none\" stroke=\"black\" d=\"M190,-415.87C190,-407.46 190,-399.02 190,-390.58\"/>\r\n",
       "<polygon fill=\"black\" stroke=\"black\" points=\"193.5,-390.31 190,-380.31 186.5,-390.31 193.5,-390.31\"/>\r\n",
       "</g>\r\n",
       "<!-- 3 -->\r\n",
       "<g id=\"node4\" class=\"node\">\r\n",
       "<title>3</title>\r\n",
       "<polygon fill=\"none\" stroke=\"black\" points=\"778,-380 398,-380 398,0 778,0 778,-380\"/>\r\n",
       "<image xlink:href=\"H0L0_graph.jpeg\" width=\"380px\" height=\"380px\" preserveAspectRatio=\"xMinYMin meet\" x=\"398\" y=\"-380\"/>\r\n",
       "</g>\r\n",
       "<!-- 0&#45;&gt;3 -->\r\n",
       "<g id=\"edge2\" class=\"edge\">\r\n",
       "<title>0&#45;&gt;3</title>\r\n",
       "<path fill=\"none\" stroke=\"black\" d=\"M371.82,-415.87C380.88,-406.45 389.99,-396.97 399.07,-387.53\"/>\r\n",
       "<polygon fill=\"black\" stroke=\"black\" points=\"401.6,-389.95 406,-380.31 396.55,-385.1 401.6,-389.95\"/>\r\n",
       "</g>\r\n",
       "<!-- 1 -->\r\n",
       "<g id=\"node2\" class=\"node\">\r\n",
       "<title>1</title>\r\n",
       "<polygon fill=\"none\" stroke=\"black\" points=\"778,-796 398,-796 398,-416 778,-416 778,-796\"/>\r\n",
       "<image xlink:href=\"WindDir_graph.jpeg\" width=\"380px\" height=\"380px\" preserveAspectRatio=\"xMinYMin meet\" x=\"398\" y=\"-796\"/>\r\n",
       "</g>\r\n",
       "<!-- 1&#45;&gt;2 -->\r\n",
       "<g id=\"edge3\" class=\"edge\">\r\n",
       "<title>1&#45;&gt;2</title>\r\n",
       "<path fill=\"none\" stroke=\"black\" d=\"M406.18,-415.87C397.12,-406.45 388.01,-396.97 378.93,-387.53\"/>\r\n",
       "<polygon fill=\"black\" stroke=\"black\" points=\"381.45,-385.1 372,-380.31 376.4,-389.95 381.45,-385.1\"/>\r\n",
       "</g>\r\n",
       "<!-- 1&#45;&gt;3 -->\r\n",
       "<g id=\"edge4\" class=\"edge\">\r\n",
       "<title>1&#45;&gt;3</title>\r\n",
       "<path fill=\"none\" stroke=\"black\" d=\"M588,-415.87C588,-407.46 588,-399.02 588,-390.58\"/>\r\n",
       "<polygon fill=\"black\" stroke=\"black\" points=\"591.5,-390.31 588,-380.31 584.5,-390.31 591.5,-390.31\"/>\r\n",
       "</g>\r\n",
       "</g>\r\n",
       "</svg>\r\n"
      ],
      "text/plain": [
       "<graphviz.dot.Digraph at 0x25700ff6190>"
      ]
     },
     "execution_count": 542,
     "metadata": {},
     "output_type": "execute_result"
    }
   ],
   "source": [
    "# Plot the BN  \n",
    "graph_SM1 = BNVisualisation(ds_SM1_input,df_SM1_input_disc,net_SM1,var_dict).graph\n",
    "\n",
    "graph_SM1\n"
   ]
  },
  {
   "cell_type": "code",
   "execution_count": 549,
   "metadata": {},
   "outputs": [
    {
     "name": "stdout",
     "output_type": "stream",
     "text": [
      "{'High': 0.11826849606325371, 'Low': 0.8798098152579098, 'Mid': 0.43738548554130485}\n"
     ]
    },
    {
     "data": {
      "image/png": "[encoded data removed]",
      "text/plain": [
       "<Figure size 720x720 with 2 Axes>"
      ]
     },
     "metadata": {
      "needs_background": "light"
     },
     "output_type": "display_data"
    }
   ],
   "source": [
    "# Check out how good the model is\n",
    "\n",
    "print(BNValidation(ds_SM1_input,net_SM1,\"H0\").acc_dict)\n",
    "\n",
    "fig, ax = BNValidation(ds_SM1_input,net_SM1,\"H0\").confusion_matrix()\n"
   ]
  },
  {
   "cell_type": "code",
   "execution_count": 550,
   "metadata": {},
   "outputs": [
    {
     "name": "stdout",
     "output_type": "stream",
     "text": [
      "{'High': 0.6482935175872834, 'Low': 0.8565992673103001, 'Mid': 0.6139930937058546}\n"
     ]
    },
    {
     "data": {
      "image/png": "[encoded data removed]",
      "text/plain": [
       "<Figure size 720x720 with 2 Axes>"
      ]
     },
     "metadata": {
      "needs_background": "light"
     },
     "output_type": "display_data"
    }
   ],
   "source": [
    "# Check out how good the model is\n",
    "\n",
    "print(BNValidation(ds_SM1_input,net_SM1,\"H0L0\").acc_dict)\n",
    "\n",
    "fig, ax = BNValidation(ds_SM1_input,net_SM1,\"H0L0\").confusion_matrix()\n"
   ]
  },
  {
   "cell_type": "markdown",
   "metadata": {},
   "source": [
    "# Plotting Discretisation"
   ]
  },
  {
   "cell_type": "code",
   "execution_count": 241,
   "metadata": {
    "scrolled": false
   },
   "outputs": [
    {
     "data": {
      "image/png": "[encoded data removed]",
      "text/plain": [
       "<Figure size 432x288 with 1 Axes>"
      ]
     },
     "metadata": {
      "needs_background": "light"
     },
     "output_type": "display_data"
    }
   ],
   "source": [
    "\n",
    "ax = plt.subplot2grid((1,1),(0,0))\n",
    "\n",
    "ax.hist(df_Pto_lagoon['Wind'],color='b')\n",
    "\n",
    "for edge in var_dict['Wind']['bin_edges']:\n",
    "    ax.plot([edge,edge],ax.get_ylim(),c='k',ls='--')\n",
    "\n",
    "for edge1,edge2,bin_name in \\\n",
    "        zip(var_dict['Wind']['bin_edges'][:-1],var_dict['Wind']['bin_edges'][1:],var_dict['Wind']['bin_names']):\n",
    "    ax.text(np.mean([edge1,edge2]),ax.get_ylim()[1]*0.9,bin_name,ha='center', va='center') \n",
    "    \n",
    "ax.set_xlabel('Wind')\n",
    "ax.set_ylabel('Count')\n",
    "\n",
    "plt.show()"
   ]
  },
  {
   "cell_type": "code",
   "execution_count": 396,
   "metadata": {
    "scrolled": true
   },
   "outputs": [
    {
     "data": {
      "image/png": "[encoded data removed]",
      "text/plain": [
       "<Figure size 360x360 with 1 Axes>"
      ]
     },
     "metadata": {
      "needs_background": "light"
     },
     "output_type": "display_data"
    },
    {
     "data": {
      "image/png": "[encoded data removed]",
      "text/plain": [
       "<Figure size 360x360 with 1 Axes>"
      ]
     },
     "metadata": {
      "needs_background": "light"
     },
     "output_type": "display_data"
    },
    {
     "data": {
      "image/png": "[encoded data removed]",
      "text/plain": [
       "<Figure size 360x360 with 1 Axes>"
      ]
     },
     "metadata": {
      "needs_background": "light"
     },
     "output_type": "display_data"
    },
    {
     "data": {
      "image/png": "[encoded data removed]",
      "text/plain": [
       "<Figure size 360x360 with 1 Axes>"
      ]
     },
     "metadata": {
      "needs_background": "light"
     },
     "output_type": "display_data"
    }
   ],
   "source": [
    "fig_dict = {}\n",
    "\n",
    "for var_key in var_dict.keys():\n",
    "\n",
    "    df_H0_probs = pd.DataFrame.from_dict(H0_prob_dict[var_key],orient='index',columns=['prob'])\n",
    "\n",
    "    # Setup the figure\n",
    "    fig, ax = plt.subplots(figsize=(5,5))\n",
    "\n",
    "    ax.barh(y=np.arange(0,len(df_H0_probs),1),\n",
    "            width=np.array(df_H0_probs.prob),\n",
    "            tick_label=df_H0_probs.index,\n",
    "            facecolor='k',\n",
    "            edgecolor=None)\n",
    "    # Try to plot the evidence (if there has been any set)\n",
    "    try:\n",
    "        ax.barh(y=np.arange(0,len(var_dict[var_key]['evidence']),1),\n",
    "                width=np.array(var_dict[var_key]['evidence']),\n",
    "                tick_label=var_dict[var_key]['bin_names'],\n",
    "                fill=False,\n",
    "                edgecolor ='r',\n",
    "                linewidth=2)\n",
    "    except:\n",
    "        continue\n",
    "        \n",
    "    ax.set_xlabel('Probability')\n",
    "    ax.set_title('var_key')\n",
    "\n",
    "    plt.savefig('{}_graph.png'.format(var_key))\n",
    "    \n",
    "    # Add details of bin to the var dict\n",
    "    var_dict.update({\n",
    "        var_key:{**var_dict[var_key],**{'figure':'{}_graph.png'.format(var_key)}}\n",
    "    })"
   ]
  },
  {
   "cell_type": "code",
   "execution_count": 405,
   "metadata": {},
   "outputs": [
    {
     "data": {
      "text/html": [
       "<div>\n",
       "<style scoped>\n",
       "    .dataframe tbody tr th:only-of-type {\n",
       "        vertical-align: middle;\n",
       "    }\n",
       "\n",
       "    .dataframe tbody tr th {\n",
       "        vertical-align: top;\n",
       "    }\n",
       "\n",
       "    .dataframe thead th {\n",
       "        text-align: right;\n",
       "    }\n",
       "</style>\n",
       "<table border=\"1\" class=\"dataframe\">\n",
       "  <thead>\n",
       "    <tr style=\"text-align: right;\">\n",
       "      <th></th>\n",
       "      <th>prob</th>\n",
       "    </tr>\n",
       "  </thead>\n",
       "  <tbody>\n",
       "    <tr>\n",
       "      <th>Low</th>\n",
       "      <td>0.306264</td>\n",
       "    </tr>\n",
       "    <tr>\n",
       "      <th>Mid</th>\n",
       "      <td>0.089002</td>\n",
       "    </tr>\n",
       "    <tr>\n",
       "      <th>High</th>\n",
       "      <td>0.604735</td>\n",
       "    </tr>\n",
       "  </tbody>\n",
       "</table>\n",
       "</div>"
      ],
      "text/plain": [
       "          prob\n",
       "Low   0.306264\n",
       "Mid   0.089002\n",
       "High  0.604735"
      ]
     },
     "execution_count": 405,
     "metadata": {},
     "output_type": "execute_result"
    }
   ],
   "source": []
  },
  {
   "cell_type": "code",
   "execution_count": 404,
   "metadata": {},
   "outputs": [
    {
     "data": {
      "text/html": [
       "<div>\n",
       "<style scoped>\n",
       "    .dataframe tbody tr th:only-of-type {\n",
       "        vertical-align: middle;\n",
       "    }\n",
       "\n",
       "    .dataframe tbody tr th {\n",
       "        vertical-align: top;\n",
       "    }\n",
       "\n",
       "    .dataframe thead th {\n",
       "        text-align: right;\n",
       "    }\n",
       "</style>\n",
       "<table border=\"1\" class=\"dataframe\">\n",
       "  <thead>\n",
       "    <tr style=\"text-align: right;\">\n",
       "      <th></th>\n",
       "      <th>prob</th>\n",
       "    </tr>\n",
       "  </thead>\n",
       "  <tbody>\n",
       "    <tr>\n",
       "      <th>Low</th>\n",
       "      <td>0.306264</td>\n",
       "    </tr>\n",
       "    <tr>\n",
       "      <th>Mid</th>\n",
       "      <td>0.089002</td>\n",
       "    </tr>\n",
       "    <tr>\n",
       "      <th>High</th>\n",
       "      <td>0.604735</td>\n",
       "    </tr>\n",
       "  </tbody>\n",
       "</table>\n",
       "</div>"
      ],
      "text/plain": [
       "          prob\n",
       "Low   0.306264\n",
       "Mid   0.089002\n",
       "High  0.604735"
      ]
     },
     "execution_count": 404,
     "metadata": {},
     "output_type": "execute_result"
    }
   ],
   "source": [
    "df_H0_probs"
   ]
  },
  {
   "cell_type": "code",
   "execution_count": 517,
   "metadata": {
    "scrolled": false
   },
   "outputs": [
    {
     "data": {
      "image/svg+xml": [
       "<?xml version=\"1.0\" encoding=\"UTF-8\" standalone=\"no\"?>\r\n",
       "<!DOCTYPE svg PUBLIC \"-//W3C//DTD SVG 1.1//EN\"\r\n",
       " \"http://www.w3.org/Graphics/SVG/1.1/DTD/svg11.dtd\">\r\n",
       "<!-- Generated by graphviz version 2.44.1 (20200629.0846)\r\n",
       " -->\r\n",
       "<!-- Pages: 1 -->\r\n",
       "<svg width=\"353pt\" height=\"360pt\"\r\n",
       " viewBox=\"0.00 0.00 352.53 360.00\" xmlns=\"http://www.w3.org/2000/svg\" xmlns:xlink=\"http://www.w3.org/1999/xlink\">\r\n",
       "<g id=\"graph0\" class=\"graph\" transform=\"scale(0.41 0.41) rotate(0) translate(36 832)\">\r\n",
       "<polygon fill=\"white\" stroke=\"transparent\" points=\"-36,36 -36,-832 814,-832 814,36 -36,36\"/>\r\n",
       "<!-- 0 -->\r\n",
       "<g id=\"node1\" class=\"node\">\r\n",
       "<title>0</title>\r\n",
       "<polygon fill=\"none\" stroke=\"black\" points=\"380,-796 0,-796 0,-416 380,-416 380,-796\"/>\r\n",
       "<image xlink:href=\"Wind_graph.jpeg\" width=\"380px\" height=\"380px\" preserveAspectRatio=\"xMinYMin meet\" x=\"0\" y=\"-796\"/>\r\n",
       "</g>\r\n",
       "<!-- 2 -->\r\n",
       "<g id=\"node3\" class=\"node\">\r\n",
       "<title>2</title>\r\n",
       "<polygon fill=\"none\" stroke=\"black\" points=\"380,-380 0,-380 0,0 380,0 380,-380\"/>\r\n",
       "<image xlink:href=\"H0_graph.jpeg\" width=\"380px\" height=\"380px\" preserveAspectRatio=\"xMinYMin meet\" x=\"0\" y=\"-380\"/>\r\n",
       "</g>\r\n",
       "<!-- 0&#45;&gt;2 -->\r\n",
       "<g id=\"edge1\" class=\"edge\">\r\n",
       "<title>0&#45;&gt;2</title>\r\n",
       "<path fill=\"none\" stroke=\"black\" d=\"M190,-415.87C190,-407.46 190,-399.02 190,-390.58\"/>\r\n",
       "<polygon fill=\"black\" stroke=\"black\" points=\"193.5,-390.31 190,-380.31 186.5,-390.31 193.5,-390.31\"/>\r\n",
       "</g>\r\n",
       "<!-- 3 -->\r\n",
       "<g id=\"node4\" class=\"node\">\r\n",
       "<title>3</title>\r\n",
       "<polygon fill=\"none\" stroke=\"black\" points=\"778,-380 398,-380 398,0 778,0 778,-380\"/>\r\n",
       "<image xlink:href=\"H0L0_graph.jpeg\" width=\"380px\" height=\"380px\" preserveAspectRatio=\"xMinYMin meet\" x=\"398\" y=\"-380\"/>\r\n",
       "</g>\r\n",
       "<!-- 0&#45;&gt;3 -->\r\n",
       "<g id=\"edge2\" class=\"edge\">\r\n",
       "<title>0&#45;&gt;3</title>\r\n",
       "<path fill=\"none\" stroke=\"black\" d=\"M371.82,-415.87C380.88,-406.45 389.99,-396.97 399.07,-387.53\"/>\r\n",
       "<polygon fill=\"black\" stroke=\"black\" points=\"401.6,-389.95 406,-380.31 396.55,-385.1 401.6,-389.95\"/>\r\n",
       "</g>\r\n",
       "<!-- 1 -->\r\n",
       "<g id=\"node2\" class=\"node\">\r\n",
       "<title>1</title>\r\n",
       "<polygon fill=\"none\" stroke=\"black\" points=\"778,-796 398,-796 398,-416 778,-416 778,-796\"/>\r\n",
       "<image xlink:href=\"WindDir_graph.jpeg\" width=\"380px\" height=\"380px\" preserveAspectRatio=\"xMinYMin meet\" x=\"398\" y=\"-796\"/>\r\n",
       "</g>\r\n",
       "<!-- 1&#45;&gt;2 -->\r\n",
       "<g id=\"edge3\" class=\"edge\">\r\n",
       "<title>1&#45;&gt;2</title>\r\n",
       "<path fill=\"none\" stroke=\"black\" d=\"M406.18,-415.87C397.12,-406.45 388.01,-396.97 378.93,-387.53\"/>\r\n",
       "<polygon fill=\"black\" stroke=\"black\" points=\"381.45,-385.1 372,-380.31 376.4,-389.95 381.45,-385.1\"/>\r\n",
       "</g>\r\n",
       "<!-- 1&#45;&gt;3 -->\r\n",
       "<g id=\"edge4\" class=\"edge\">\r\n",
       "<title>1&#45;&gt;3</title>\r\n",
       "<path fill=\"none\" stroke=\"black\" d=\"M588,-415.87C588,-407.46 588,-399.02 588,-390.58\"/>\r\n",
       "<polygon fill=\"black\" stroke=\"black\" points=\"591.5,-390.31 588,-380.31 584.5,-390.31 591.5,-390.31\"/>\r\n",
       "</g>\r\n",
       "</g>\r\n",
       "</svg>\r\n"
      ],
      "text/plain": [
       "<graphviz.dot.Digraph at 0x257172fe4c0>"
      ]
     },
     "execution_count": 517,
     "metadata": {},
     "output_type": "execute_result"
    }
   ],
   "source": [
    "# Plot the BN  \n",
    "graph_SM1 = BNVisualisation(ds_SM1_input,df_SM1_input_disc,net_SM1,var_dict).graph\n",
    "\n",
    "graph_SM1\n"
   ]
  },
  {
   "cell_type": "code",
   "execution_count": 482,
   "metadata": {},
   "outputs": [
    {
     "data": {
      "text/plain": [
       "{'Wind': {'n_bins': 3,\n",
       "  'strategy': 'kmeans',\n",
       "  'bin_names': ['Low', 'Mid', 'High'],\n",
       "  'evidence': [0.1, 0.1, 0.9],\n",
       "  'bin_edges': array([5.71064130e-03, 3.72193968e+00, 6.06555144e+00, 1.43183119e+01]),\n",
       "  'resulting_probs': {'Low': 0.06990737753834739,\n",
       "   'Mid': 0.0635564686527202,\n",
       "   'High': 0.8665361538089323},\n",
       "  'figure': 'Wind_graph.png'},\n",
       " 'WindDir': {'n_bins': 3,\n",
       "  'strategy': 'kmeans',\n",
       "  'bin_names': ['Low', 'Mid', 'High'],\n",
       "  'evidence': [0.74, 0.01, 0.25],\n",
       "  'bin_edges': array([-89.9878431 ,  71.80934938, 178.17811153, 269.99642001]),\n",
       "  'resulting_probs': {'Low': 0.790256893720469,\n",
       "   'Mid': 0.0022740815133314497,\n",
       "   'High': 0.2074690247661996},\n",
       "  'figure': 'WindDir_graph.png'},\n",
       " 'H0': {'n_bins': 3,\n",
       "  'strategy': 'kmeans',\n",
       "  'bin_names': ['Low', 'Mid', 'High'],\n",
       "  'bin_edges': array([0.27818465, 0.87384297, 1.26080742, 3.25895715]),\n",
       "  'resulting_probs': {'Low': 0.08061775993002773,\n",
       "   'Mid': 0.4897530700376603,\n",
       "   'High': 0.429629170032312},\n",
       "  'figure': 'H0_graph.png'},\n",
       " 'H0L0': {'n_bins': 3,\n",
       "  'strategy': 'kmeans',\n",
       "  'bin_names': ['Low', 'Mid', 'High'],\n",
       "  'bin_edges': array([0.04169611, 0.24166502, 0.34760068, 0.66684105]),\n",
       "  'resulting_probs': {'Low': 0.30626363153580555,\n",
       "   'Mid': 0.08900171410978223,\n",
       "   'High': 0.6047346543544121},\n",
       "  'figure': 'H0L0_graph.png'}}"
      ]
     },
     "execution_count": 482,
     "metadata": {},
     "output_type": "execute_result"
    }
   ],
   "source": [
    "BNVisualisation(ds_SM1_input,df_SM1_input_disc,net_SM1,var_dict).var_dict"
   ]
  },
  {
   "cell_type": "code",
   "execution_count": 302,
   "metadata": {},
   "outputs": [
    {
     "name": "stdout",
     "output_type": "stream",
     "text": [
      "Wind\n",
      "WindDir\n",
      "H0\n",
      "H0L0\n"
     ]
    }
   ],
   "source": []
  },
  {
   "cell_type": "code",
   "execution_count": 161,
   "metadata": {},
   "outputs": [],
   "source": []
  },
  {
   "cell_type": "code",
   "execution_count": 162,
   "metadata": {},
   "outputs": [
    {
     "name": "stdout",
     "output_type": "stream",
     "text": [
      "[0.06669149097761372, 0.6468822421208282, 0.28642626690155815]\n"
     ]
    }
   ],
   "source": [
    "print(net_SM1.get_node_value(2))"
   ]
  },
  {
   "cell_type": "code",
   "execution_count": null,
   "metadata": {},
   "outputs": [],
   "source": [
    "\n",
    "    \n",
    "    \n",
    "    "
   ]
  },
  {
   "cell_type": "markdown",
   "metadata": {},
   "source": [
    "# Discretisation"
   ]
  },
  {
   "cell_type": "code",
   "execution_count": 44,
   "metadata": {},
   "outputs": [],
   "source": [
    "df_SM1_input_disc = BNModelSetup().discretiser(SM1_variables_dict,descretisation_dict)\n",
    "\n"
   ]
  },
  {
   "cell_type": "code",
   "execution_count": 45,
   "metadata": {},
   "outputs": [
    {
     "data": {
      "text/plain": [
       "{'Wind': array([4.31408198, 4.33455398, 4.19860314, ..., 9.24675265, 8.33042196,\n",
       "        8.31924737]),\n",
       " 'WindDir': array([-63.31858054, -63.12438388, -61.87272475, ..., 223.97324201,\n",
       "        220.98769058, 224.2813351 ]),\n",
       " 'H0': array([2.01365948, 1.98831832, 1.977404  , ..., 2.05956054, 2.11108518,\n",
       "        2.14895964]),\n",
       " 'H0L0': array([0.24854257, 0.24512598, 0.24308636, ..., 0.41728593, 0.41594124,\n",
       "        0.41480645])}"
      ]
     },
     "execution_count": 45,
     "metadata": {},
     "output_type": "execute_result"
    }
   ],
   "source": [
    "SM1_variables_dict"
   ]
  },
  {
   "cell_type": "code",
   "execution_count": 101,
   "metadata": {},
   "outputs": [],
   "source": [
    "discretisation_dict = {\n",
    "    'Wind':{\n",
    "        'n_bins':3,\n",
    "        'strategy':'kmeans',\n",
    "        'bin_names':['Low','Mid','High']\n",
    "    },\n",
    "    'WindDir':{\n",
    "        'n_bins':3,\n",
    "        'strategy':'kmeans',\n",
    "        'bin_names':['Low','Mid','High']\n",
    "    },\n",
    "    'H0':{\n",
    "        'n_bins':3,\n",
    "        'strategy':'kmeans',\n",
    "        'bin_names':['Low','Mid','High']\n",
    "    },\n",
    "    'H0L0':{\n",
    "        'n_bins':3,\n",
    "        'strategy':'kmeans',\n",
    "        'bin_names':['Low','Mid','High']\n",
    "    }\n",
    "}"
   ]
  },
  {
   "cell_type": "code",
   "execution_count": 131,
   "metadata": {},
   "outputs": [
    {
     "ename": "SyntaxError",
     "evalue": "'return' outside function (<ipython-input-131-1d85700ee153>, line 37)",
     "output_type": "error",
     "traceback": [
      "\u001b[1;36m  File \u001b[1;32m\"<ipython-input-131-1d85700ee153>\"\u001b[1;36m, line \u001b[1;32m37\u001b[0m\n\u001b[1;33m    return(df_discretised)\u001b[0m\n\u001b[1;37m    ^\u001b[0m\n\u001b[1;31mSyntaxError\u001b[0m\u001b[1;31m:\u001b[0m 'return' outside function\n"
     ]
    }
   ],
   "source": [
    "from sklearn.preprocessing import KBinsDiscretizer\n",
    "\n",
    "# Create an empty dictionary to put the discretised variables arrays into\n",
    "discretised_arrays_dict = {}\n",
    "\n",
    "for var_key,disc_params in discretisation_dict.items():\n",
    "    \n",
    "    # get the variable array\n",
    "    var_array = SM1_variables_dict[var_key].reshape(-1, 1)\n",
    "    \n",
    "    # Discretise the data using kmeans clustering\n",
    "    # Set up discretising function\n",
    "    est = KBinsDiscretizer(n_bins=disc_params['n_bins'], encode='ordinal', strategy=disc_params['strategy'])\n",
    "\n",
    "    # Use the discretiser on the array and gen output\n",
    "    est.fit(var_array)\n",
    "    discretised_array = est.transform(var_array)\n",
    "    \n",
    "    # Reshape to be x,\n",
    "    discretised_array = discretised_array.reshape(len(discretised_array),)\n",
    "    \n",
    "    # Add discretised data to a dict\n",
    "    discretised_arrays_dict.update({\n",
    "        var_key:discretised_array\n",
    "    })\n",
    "    \n",
    "# Make a dictionary of arrays that do not need to be discretised\n",
    "other_arrays = {}\n",
    "[other_arrays.update({x:SM1_variables_dict[x]}) for x in SM1_variables_dict.keys() if x not in discretisation_dict.keys()]\n",
    "\n",
    "# Create a dataframe\n",
    "df_discretised = pd.DataFrame.from_dict({**discretised_arrays_dict, **other_arrays})\n",
    "\n",
    "# Save back as csv\n",
    "df_discretised.to_csv('input_disc.csv',index=False)\n",
    "\n",
    "return(df_discretised)"
   ]
  },
  {
   "cell_type": "code",
   "execution_count": 132,
   "metadata": {},
   "outputs": [],
   "source": [
    "discretised_array = (discretised_array.astype(int)).astype(str)\n",
    "\n",
    "for bin_no,bin_name in zip(np.arange(0,disc_params['n_bins'],1),disc_params['bin_names']):\n",
    "    \n",
    "    discretised_array[discretised_array==str(int(bin_no))] = bin_name\n"
   ]
  },
  {
   "cell_type": "code",
   "execution_count": 133,
   "metadata": {},
   "outputs": [
    {
     "data": {
      "text/plain": [
       "array(['Mid', 'Mid', 'Mid', ..., 'High', 'High', 'High'], dtype='<U11')"
      ]
     },
     "execution_count": 133,
     "metadata": {},
     "output_type": "execute_result"
    }
   ],
   "source": [
    "discretised_array"
   ]
  },
  {
   "cell_type": "code",
   "execution_count": 125,
   "metadata": {},
   "outputs": [
    {
     "data": {
      "text/plain": [
       "{'Wind': array([1., 1., 1., ..., 2., 2., 2.]),\n",
       " 'WindDir': array([0., 0., 0., ..., 2., 2., 2.]),\n",
       " 'H0': array([2., 2., 2., ..., 2., 2., 2.]),\n",
       " 'H0L0': array([1., 1., 1., ..., 2., 2., 2.])}"
      ]
     },
     "execution_count": 125,
     "metadata": {},
     "output_type": "execute_result"
    }
   ],
   "source": [
    "bin_no\n",
    "{**discretised_arrays_dict, **other_arrays}"
   ]
  },
  {
   "cell_type": "code",
   "execution_count": 105,
   "metadata": {},
   "outputs": [
    {
     "data": {
      "text/html": [
       "<div>\n",
       "<style scoped>\n",
       "    .dataframe tbody tr th:only-of-type {\n",
       "        vertical-align: middle;\n",
       "    }\n",
       "\n",
       "    .dataframe tbody tr th {\n",
       "        vertical-align: top;\n",
       "    }\n",
       "\n",
       "    .dataframe thead th {\n",
       "        text-align: right;\n",
       "    }\n",
       "</style>\n",
       "<table border=\"1\" class=\"dataframe\">\n",
       "  <thead>\n",
       "    <tr style=\"text-align: right;\">\n",
       "      <th></th>\n",
       "      <th>Wind</th>\n",
       "      <th>WindDir</th>\n",
       "      <th>H0</th>\n",
       "      <th>H0L0</th>\n",
       "    </tr>\n",
       "  </thead>\n",
       "  <tbody>\n",
       "    <tr>\n",
       "      <th>0</th>\n",
       "      <td>1.0</td>\n",
       "      <td>0.0</td>\n",
       "      <td>2.0</td>\n",
       "      <td>1.0</td>\n",
       "    </tr>\n",
       "    <tr>\n",
       "      <th>1</th>\n",
       "      <td>1.0</td>\n",
       "      <td>0.0</td>\n",
       "      <td>2.0</td>\n",
       "      <td>1.0</td>\n",
       "    </tr>\n",
       "    <tr>\n",
       "      <th>2</th>\n",
       "      <td>1.0</td>\n",
       "      <td>0.0</td>\n",
       "      <td>2.0</td>\n",
       "      <td>1.0</td>\n",
       "    </tr>\n",
       "    <tr>\n",
       "      <th>3</th>\n",
       "      <td>1.0</td>\n",
       "      <td>0.0</td>\n",
       "      <td>2.0</td>\n",
       "      <td>0.0</td>\n",
       "    </tr>\n",
       "    <tr>\n",
       "      <th>4</th>\n",
       "      <td>1.0</td>\n",
       "      <td>0.0</td>\n",
       "      <td>2.0</td>\n",
       "      <td>0.0</td>\n",
       "    </tr>\n",
       "    <tr>\n",
       "      <th>...</th>\n",
       "      <td>...</td>\n",
       "      <td>...</td>\n",
       "      <td>...</td>\n",
       "      <td>...</td>\n",
       "    </tr>\n",
       "    <tr>\n",
       "      <th>227899</th>\n",
       "      <td>2.0</td>\n",
       "      <td>2.0</td>\n",
       "      <td>2.0</td>\n",
       "      <td>2.0</td>\n",
       "    </tr>\n",
       "    <tr>\n",
       "      <th>227900</th>\n",
       "      <td>2.0</td>\n",
       "      <td>2.0</td>\n",
       "      <td>2.0</td>\n",
       "      <td>2.0</td>\n",
       "    </tr>\n",
       "    <tr>\n",
       "      <th>227901</th>\n",
       "      <td>2.0</td>\n",
       "      <td>2.0</td>\n",
       "      <td>2.0</td>\n",
       "      <td>2.0</td>\n",
       "    </tr>\n",
       "    <tr>\n",
       "      <th>227902</th>\n",
       "      <td>2.0</td>\n",
       "      <td>2.0</td>\n",
       "      <td>2.0</td>\n",
       "      <td>2.0</td>\n",
       "    </tr>\n",
       "    <tr>\n",
       "      <th>227903</th>\n",
       "      <td>2.0</td>\n",
       "      <td>2.0</td>\n",
       "      <td>2.0</td>\n",
       "      <td>2.0</td>\n",
       "    </tr>\n",
       "  </tbody>\n",
       "</table>\n",
       "<p>227904 rows × 4 columns</p>\n",
       "</div>"
      ],
      "text/plain": [
       "        Wind  WindDir   H0  H0L0\n",
       "0        1.0      0.0  2.0   1.0\n",
       "1        1.0      0.0  2.0   1.0\n",
       "2        1.0      0.0  2.0   1.0\n",
       "3        1.0      0.0  2.0   0.0\n",
       "4        1.0      0.0  2.0   0.0\n",
       "...      ...      ...  ...   ...\n",
       "227899   2.0      2.0  2.0   2.0\n",
       "227900   2.0      2.0  2.0   2.0\n",
       "227901   2.0      2.0  2.0   2.0\n",
       "227902   2.0      2.0  2.0   2.0\n",
       "227903   2.0      2.0  2.0   2.0\n",
       "\n",
       "[227904 rows x 4 columns]"
      ]
     },
     "execution_count": 105,
     "metadata": {},
     "output_type": "execute_result"
    }
   ],
   "source": []
  },
  {
   "cell_type": "code",
   "execution_count": 91,
   "metadata": {},
   "outputs": [
    {
     "data": {
      "text/plain": [
       "(227904,)"
      ]
     },
     "execution_count": 91,
     "metadata": {},
     "output_type": "execute_result"
    }
   ],
   "source": [
    "other_arrays['H0L0'].shape"
   ]
  },
  {
   "cell_type": "code",
   "execution_count": 92,
   "metadata": {},
   "outputs": [
    {
     "data": {
      "text/plain": [
       "227904"
      ]
     },
     "execution_count": 92,
     "metadata": {},
     "output_type": "execute_result"
    }
   ],
   "source": []
  },
  {
   "cell_type": "code",
   "execution_count": null,
   "metadata": {},
   "outputs": [],
   "source": []
  }
 ],
 "metadata": {
  "hide_input": false,
  "kernelspec": {
   "display_name": "Python 3",
   "language": "python",
   "name": "python3"
  },
  "language_info": {
   "codemirror_mode": {
    "name": "ipython",
    "version": 3
   },
   "file_extension": ".py",
   "mimetype": "text/x-python",
   "name": "python",
   "nbconvert_exporter": "python",
   "pygments_lexer": "ipython3",
   "version": "3.8.5"
  },
  "toc": {
   "base_numbering": 1,
   "nav_menu": {},
   "number_sections": true,
   "sideBar": true,
   "skip_h1_title": false,
   "title_cell": "Table of Contents",
   "title_sidebar": "Contents",
   "toc_cell": false,
   "toc_position": {
    "height": "calc(100% - 180px)",
    "left": "10px",
    "top": "150px",
    "width": "165px"
   },
   "toc_section_display": true,
   "toc_window_display": true
  }
 },
 "nbformat": 4,
 "nbformat_minor": 4
}
