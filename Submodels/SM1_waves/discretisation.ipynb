{
 "cells": [
  {
   "cell_type": "code",
   "execution_count": 7,
   "metadata": {},
   "outputs": [],
   "source": [
    "import pandas as pd\n",
    "import numpy as np\n",
    "import matplotlib\n",
    "import matplotlib.pyplot as plt\n",
    "from datetime import datetime\n",
    "from sklearn.preprocessing import KBinsDiscretizer\n"
   ]
  },
  {
   "cell_type": "code",
   "execution_count": 5,
   "metadata": {},
   "outputs": [],
   "source": [
    "# Download the data \n",
    "df_Pto_lagoon = pd.read_csv('../Data_files/Pto_110_lagoonside.csv') # Lagoon side data\n",
    "df_Pto_ocean = pd.read_csv('../Data_files/Pto_218_oceanside.csv') # Ocean side data \n",
    "\n",
    "# Convert the date time to a proper datetime format\n",
    "df_Pto_lagoon['Time'] = [datetime.strptime(x,'%m/%d/%y %H:%M:%S') for x in df_Pto_lagoon['Time']]\n",
    "df_Pto_ocean['Time'] = [datetime.strptime(x,'%m/%d/%y %H:%M:%S') for x in df_Pto_ocean['Time']]\n",
    "\n",
    "\n",
    "# Convert datetime to to number of days and hours count\n",
    "df_Pto_lagoon['Time'] = df_Pto_lagoon['Time']-np.min(df_Pto_lagoon['Time'])\n",
    "df_Pto_ocean['Time'] = df_Pto_ocean['Time']-np.min(df_Pto_ocean['Time'])"
   ]
  },
  {
   "cell_type": "code",
   "execution_count": 44,
   "metadata": {},
   "outputs": [
    {
     "data": {
      "image/png": "[encoded data removed]",
      "text/plain": [
       "<Figure size 432x288 with 1 Axes>"
      ]
     },
     "metadata": {
      "needs_background": "light"
     },
     "output_type": "display_data"
    }
   ],
   "source": [
    "# Discretise the data using kmeans clustering\n",
    "# Set up discretising function\n",
    "est = KBinsDiscretizer(n_bins=4, encode='ordinal', strategy='kmeans')\n",
    "\n",
    "## Strategy info\n",
    "    # uniform\n",
    "        # All bins in each feature have identical widths.\n",
    "    # quantile\n",
    "        # All bins in each feature have the same number of points.\n",
    "    # kmeans\n",
    "        # Values in each bin have the same nearest center of a 1D k-means cluster\n",
    "\n",
    "# Turn dataframe into array for the discretiser\n",
    "tide_lagoon_array = np.array(df_Pto_lagoon['Tide'])\n",
    "tide_lagoon_array = tide_lagoon_array.reshape(len(tide_lagoon_array),1)\n",
    "\n",
    "# Use the discretiser on the array and gen output\n",
    "est.fit(tide_lagoon_array)\n",
    "tide_lagoon_disc_array = est.transform(tide_lagoon_array)\n",
    "\n",
    "# Turn the resulting discretised array back to a dataframe\n",
    "df_tide_lagoon_disc = pd.DataFrame(tide_lagoon_disc_array).astype(str)\n",
    "\n",
    "# Relabel the columns of the new dataframe\n",
    "df_tide_lagoon_disc.columns = ['Tide']\n",
    "\n",
    "ax1 = plt.subplot2grid((1,1),(0,0))\n",
    "\n",
    "ax1.hist(df_Pto_lagoon['Tide'])\n",
    "\n",
    "for edge in est.bin_edges_:\n",
    "    ax1.plot([edge,edge],ax1.get_ylim())"
   ]
  },
  {
   "cell_type": "code",
   "execution_count": 47,
   "metadata": {},
   "outputs": [
    {
     "data": {
      "image/png": "[encoded data removed]",
      "text/plain": [
       "<Figure size 432x288 with 1 Axes>"
      ]
     },
     "metadata": {
      "needs_background": "light"
     },
     "output_type": "display_data"
    }
   ],
   "source": [
    "# Discretise the data using kmeans clustering\n",
    "# Set up discretising function\n",
    "est = KBinsDiscretizer(n_bins=4, encode='ordinal', strategy='quantile')\n",
    "\n",
    "## Strategy info\n",
    "    # uniform\n",
    "        # All bins in each feature have identical widths.\n",
    "    # quantile\n",
    "        # All bins in each feature have the same number of points.\n",
    "    # kmeans\n",
    "        # Values in each bin have the same nearest center of a 1D k-means cluster\n",
    "\n",
    "# Turn dataframe into array for the discretiser\n",
    "tide_lagoon_array = np.array(df_Pto_lagoon['Tm_offshore'])\n",
    "tide_lagoon_array = tide_lagoon_array.reshape(len(tide_lagoon_array),1)\n",
    "\n",
    "# Use the discretiser on the array and gen output\n",
    "est.fit(tide_lagoon_array)\n",
    "tide_lagoon_disc_array = est.transform(tide_lagoon_array)\n",
    "\n",
    "# Turn the resulting discretised array back to a dataframe\n",
    "df_tide_lagoon_disc = pd.DataFrame(tide_lagoon_disc_array).astype(str)\n",
    "\n",
    "# Relabel the columns of the new dataframe\n",
    "df_tide_lagoon_disc.columns = ['Tm_offshore']\n",
    "\n",
    "ax1 = plt.subplot2grid((1,1),(0,0))\n",
    "\n",
    "ax1.hist(df_Pto_lagoon['Tm_offshore'])\n",
    "\n",
    "for edge in est.bin_edges_:\n",
    "    ax1.plot([edge,edge],ax1.get_ylim())"
   ]
  },
  {
   "cell_type": "code",
   "execution_count": 15,
   "metadata": {},
   "outputs": [
    {
     "data": {
      "text/plain": [
       "(227904, 1)"
      ]
     },
     "execution_count": 15,
     "metadata": {},
     "output_type": "execute_result"
    }
   ],
   "source": [
    "np.array(df_Pto_lagoon['Tide']).reshape(227904,1).shape"
   ]
  },
  {
   "cell_type": "code",
   "execution_count": 13,
   "metadata": {},
   "outputs": [
    {
     "data": {
      "text/plain": [
       "(227904, 10)"
      ]
     },
     "execution_count": 13,
     "metadata": {},
     "output_type": "execute_result"
    }
   ],
   "source": [
    "np.array(df_Pto_lagoon[list(df_Pto_lagoon)]).shape"
   ]
  },
  {
   "cell_type": "code",
   "execution_count": null,
   "metadata": {},
   "outputs": [],
   "source": []
  },
  {
   "cell_type": "code",
   "execution_count": 20,
   "metadata": {},
   "outputs": [
    {
     "data": {
      "text/html": [
       "<div>\n",
       "<style scoped>\n",
       "    .dataframe tbody tr th:only-of-type {\n",
       "        vertical-align: middle;\n",
       "    }\n",
       "\n",
       "    .dataframe tbody tr th {\n",
       "        vertical-align: top;\n",
       "    }\n",
       "\n",
       "    .dataframe thead th {\n",
       "        text-align: right;\n",
       "    }\n",
       "</style>\n",
       "<table border=\"1\" class=\"dataframe\">\n",
       "  <thead>\n",
       "    <tr style=\"text-align: right;\">\n",
       "      <th></th>\n",
       "      <th>Tide</th>\n",
       "    </tr>\n",
       "  </thead>\n",
       "  <tbody>\n",
       "    <tr>\n",
       "      <th>0</th>\n",
       "      <td>2.0</td>\n",
       "    </tr>\n",
       "    <tr>\n",
       "      <th>1</th>\n",
       "      <td>1.0</td>\n",
       "    </tr>\n",
       "    <tr>\n",
       "      <th>2</th>\n",
       "      <td>1.0</td>\n",
       "    </tr>\n",
       "    <tr>\n",
       "      <th>3</th>\n",
       "      <td>1.0</td>\n",
       "    </tr>\n",
       "    <tr>\n",
       "      <th>4</th>\n",
       "      <td>1.0</td>\n",
       "    </tr>\n",
       "    <tr>\n",
       "      <th>...</th>\n",
       "      <td>...</td>\n",
       "    </tr>\n",
       "    <tr>\n",
       "      <th>227899</th>\n",
       "      <td>0.0</td>\n",
       "    </tr>\n",
       "    <tr>\n",
       "      <th>227900</th>\n",
       "      <td>0.0</td>\n",
       "    </tr>\n",
       "    <tr>\n",
       "      <th>227901</th>\n",
       "      <td>1.0</td>\n",
       "    </tr>\n",
       "    <tr>\n",
       "      <th>227902</th>\n",
       "      <td>1.0</td>\n",
       "    </tr>\n",
       "    <tr>\n",
       "      <th>227903</th>\n",
       "      <td>2.0</td>\n",
       "    </tr>\n",
       "  </tbody>\n",
       "</table>\n",
       "<p>227904 rows × 1 columns</p>\n",
       "</div>"
      ],
      "text/plain": [
       "       Tide\n",
       "0       2.0\n",
       "1       1.0\n",
       "2       1.0\n",
       "3       1.0\n",
       "4       1.0\n",
       "...     ...\n",
       "227899  0.0\n",
       "227900  0.0\n",
       "227901  1.0\n",
       "227902  1.0\n",
       "227903  2.0\n",
       "\n",
       "[227904 rows x 1 columns]"
      ]
     },
     "execution_count": 20,
     "metadata": {},
     "output_type": "execute_result"
    }
   ],
   "source": [
    "df_tide_lagoon_disc"
   ]
  },
  {
   "cell_type": "code",
   "execution_count": 25,
   "metadata": {},
   "outputs": [
    {
     "data": {
      "text/plain": [
       "array([array([-1.1266828 , -0.42471461,  0.02698937,  0.47905084,  1.24178494])],\n",
       "      dtype=object)"
      ]
     },
     "execution_count": 25,
     "metadata": {},
     "output_type": "execute_result"
    }
   ],
   "source": []
  },
  {
   "cell_type": "code",
   "execution_count": 34,
   "metadata": {
    "scrolled": false
   },
   "outputs": [
    {
     "data": {
      "text/plain": [
       "['__annotations__',\n",
       " '__call__',\n",
       " '__class__',\n",
       " '__closure__',\n",
       " '__code__',\n",
       " '__defaults__',\n",
       " '__delattr__',\n",
       " '__dict__',\n",
       " '__dir__',\n",
       " '__doc__',\n",
       " '__eq__',\n",
       " '__format__',\n",
       " '__ge__',\n",
       " '__get__',\n",
       " '__getattribute__',\n",
       " '__globals__',\n",
       " '__gt__',\n",
       " '__hash__',\n",
       " '__init__',\n",
       " '__init_subclass__',\n",
       " '__kwdefaults__',\n",
       " '__le__',\n",
       " '__lt__',\n",
       " '__module__',\n",
       " '__name__',\n",
       " '__ne__',\n",
       " '__new__',\n",
       " '__qualname__',\n",
       " '__reduce__',\n",
       " '__reduce_ex__',\n",
       " '__repr__',\n",
       " '__setattr__',\n",
       " '__sizeof__',\n",
       " '__str__',\n",
       " '__subclasshook__']"
      ]
     },
     "execution_count": 34,
     "metadata": {},
     "output_type": "execute_result"
    }
   ],
   "source": [
    "dir(plt.gca)"
   ]
  },
  {
   "cell_type": "code",
   "execution_count": null,
   "metadata": {},
   "outputs": [],
   "source": []
  }
 ],
 "metadata": {
  "hide_input": false,
  "kernelspec": {
   "display_name": "Python 3",
   "language": "python",
   "name": "python3"
  },
  "language_info": {
   "codemirror_mode": {
    "name": "ipython",
    "version": 3
   },
   "file_extension": ".py",
   "mimetype": "text/x-python",
   "name": "python",
   "nbconvert_exporter": "python",
   "pygments_lexer": "ipython3",
   "version": "3.8.5"
  },
  "toc": {
   "base_numbering": 1,
   "nav_menu": {},
   "number_sections": true,
   "sideBar": true,
   "skip_h1_title": false,
   "title_cell": "Table of Contents",
   "title_sidebar": "Contents",
   "toc_cell": false,
   "toc_position": {},
   "toc_section_display": true,
   "toc_window_display": false
  }
 },
 "nbformat": 4,
 "nbformat_minor": 4
}
