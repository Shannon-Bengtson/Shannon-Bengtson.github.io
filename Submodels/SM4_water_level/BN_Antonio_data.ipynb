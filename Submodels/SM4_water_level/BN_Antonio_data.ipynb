{
 "cells": [
  {
   "cell_type": "markdown",
   "metadata": {},
   "source": [
    "# File Description"
   ]
  },
  {
   "cell_type": "markdown",
   "metadata": {},
   "source": [
    "This notebook contains the most up-to-date version of the pilot model for total water level on Tarawa, currently for only two locations (one lagoon side and one ocean side).\n",
    "\n",
    "Currently needs work:\n",
    "- Incorporating MEI into network\n",
    "- Adjusting the binning of the MSL distributions to account for future SLR\n",
    "- Adding SLR projections as evidence option"
   ]
  },
  {
   "cell_type": "markdown",
   "metadata": {
    "heading_collapsed": true
   },
   "source": [
    "# File Setup"
   ]
  },
  {
   "cell_type": "markdown",
   "metadata": {
    "hidden": true
   },
   "source": [
    "##\n",
    "How does the order of magnitude vary betwene the lagoon and the ocean?\n",
    "which is most sensitive to waves? How would that interact with topography?"
   ]
  },
  {
   "cell_type": "code",
   "execution_count": 1,
   "metadata": {
    "ExecuteTime": {
     "end_time": "2021-06-10T02:18:06.245034Z",
     "start_time": "2021-06-10T02:18:06.200060Z"
    },
    "hidden": true
   },
   "outputs": [],
   "source": [
    "%load_ext autoreload\n",
    "%autoreload 2"
   ]
  },
  {
   "cell_type": "code",
   "execution_count": 2,
   "metadata": {
    "ExecuteTime": {
     "end_time": "2021-06-10T02:18:09.215577Z",
     "start_time": "2021-06-10T02:18:06.246033Z"
    },
    "hidden": true
   },
   "outputs": [],
   "source": [
    "import pandas as pd\n",
    "import numpy as np\n",
    "import matplotlib\n",
    "import matplotlib.pyplot as plt\n",
    "import itertools\n",
    "import os\n",
    "import json\n",
    "from datetime import datetime\n",
    "import pysmile\n",
    "import sys\n",
    "import json\n",
    "sys.path.append('/mnt/c/Users/shannonb/Documents/Model_and_data/python_classes')\n",
    "# sys.path.append('C:\\\\Users\\\\shannonb\\\\Documents\\\\Model_and_data\\\\python_classes')\n",
    "import rpy2\n",
    "# os.environ['R_HOME'] = 'C:\\ProgramData\\Anaconda3\\Lib\\R'\n",
    "# %load_ext rpy2.ipython\n",
    "\n",
    "from BNModel import BNModel\n",
    "\n",
    "from BN_Antonio_preprocessing import *\n"
   ]
  },
  {
   "cell_type": "code",
   "execution_count": 3,
   "metadata": {},
   "outputs": [],
   "source": [
    "# import sys\n",
    "# !{sys.executable} -m pip install graphviz\n",
    "import pysmile\n",
    "import pysmile_license"
   ]
  },
  {
   "cell_type": "code",
   "execution_count": 4,
   "metadata": {},
   "outputs": [
    {
     "data": {
      "text/plain": [
       "<module 'pysmile_license' from '/mnt/c/Users/shannonb/Documents/Model_and_data/Submodels/SM4_water_level/pysmile_license.py'>"
      ]
     },
     "execution_count": 4,
     "metadata": {},
     "output_type": "execute_result"
    }
   ],
   "source": [
    "pysmile_license"
   ]
  },
  {
   "cell_type": "code",
   "execution_count": 5,
   "metadata": {
    "ExecuteTime": {
     "end_time": "2021-06-10T02:18:09.301509Z",
     "start_time": "2021-06-10T02:18:09.217559Z"
    },
    "hidden": true
   },
   "outputs": [],
   "source": [
    "### set location of file storage\n",
    "folder = 'BN_antonio_data'\n",
    "try:\n",
    "    os.makedirs(folder)\n",
    "except FileExistsError:\n",
    "    pass"
   ]
  },
  {
   "cell_type": "markdown",
   "metadata": {},
   "source": [
    "# Data Prep"
   ]
  },
  {
   "cell_type": "markdown",
   "metadata": {
    "heading_collapsed": true
   },
   "source": [
    "## Preprocessing"
   ]
  },
  {
   "cell_type": "code",
   "execution_count": 6,
   "metadata": {
    "ExecuteTime": {
     "end_time": "2021-06-10T02:18:16.558430Z",
     "start_time": "2021-06-10T02:18:09.303508Z"
    },
    "hidden": true
   },
   "outputs": [],
   "source": [
    "# Import and preprocess data\n",
    "df_lagoon,lagoon_data_dict = BN_Antonio_preprocessing_lagoon()\n",
    "df_ocean,ocean_data_dict = BN_Antonio_preprocessing_ocean()"
   ]
  },
  {
   "cell_type": "markdown",
   "metadata": {},
   "source": [
    "### Testing MEI correlations"
   ]
  },
  {
   "cell_type": "code",
   "execution_count": 7,
   "metadata": {
    "ExecuteTime": {
     "end_time": "2021-06-10T02:18:16.950209Z",
     "start_time": "2021-06-10T02:18:16.561434Z"
    },
    "hidden": true
   },
   "outputs": [],
   "source": [
    "# ax1 = plt.subplot2grid((1,1),(0,0))\n",
    "# ax2 = ax1.twinx()\n",
    "\n",
    "# ax1.plot(df_lagoon.Time,df_lagoon.MSL)\n",
    "\n",
    "# ax2.plot(df_lagoon.Time,df_lagoon.MEI,c='k')"
   ]
  },
  {
   "cell_type": "code",
   "execution_count": 8,
   "metadata": {
    "ExecuteTime": {
     "end_time": "2021-06-10T02:18:17.028165Z",
     "start_time": "2021-06-10T02:18:16.952207Z"
    },
    "hidden": true
   },
   "outputs": [],
   "source": [
    "# df_lagoon_test = df_lagoon\n",
    "# df_lagoon_test = df_lagoon_test.reset_index()\n",
    "# # df_lagoon_test['MEI'] = \\\n",
    "# #     [(x-np.min(df_lagoon_test.MEI))/(np.max(df_lagoon_test.MEI)-np.min(df_lagoon_test.MEI)) for x in df_lagoon_test.MEI]\n",
    "\n",
    "# # df_lagoon_test['MEI'] = \\\n",
    "# #     [(x-np.min(df_lagoon_test.MSL))/(np.max(df_lagoon_test.MSL)-np.min(df_lagoon_test.MSL)) for x in df_lagoon_test.MSL]"
   ]
  },
  {
   "cell_type": "code",
   "execution_count": 9,
   "metadata": {
    "ExecuteTime": {
     "end_time": "2021-06-10T02:18:17.370967Z",
     "start_time": "2021-06-10T02:18:17.031163Z"
    },
    "hidden": true
   },
   "outputs": [],
   "source": [
    "# ax1 = plt.subplot2grid((1,1),(0,0))\n",
    "# ax2 = ax1.twinx()\n",
    "\n",
    "# ax1.plot(df_lagoon.Time,df_lagoon.MSL)\n",
    "\n",
    "# ax2.plot(df_lagoon.Time,df_lagoon.MEI,c='k')"
   ]
  },
  {
   "cell_type": "code",
   "execution_count": 10,
   "metadata": {
    "ExecuteTime": {
     "end_time": "2021-06-10T02:18:17.510887Z",
     "start_time": "2021-06-10T02:18:17.373966Z"
    },
    "hidden": true
   },
   "outputs": [],
   "source": [
    "# %%R\n",
    "\n",
    "# library(pracma)"
   ]
  },
  {
   "cell_type": "code",
   "execution_count": 11,
   "metadata": {
    "ExecuteTime": {
     "end_time": "2021-06-10T02:18:59.035287Z",
     "start_time": "2021-06-10T02:18:17.513886Z"
    },
    "hidden": true,
    "scrolled": false
   },
   "outputs": [],
   "source": [
    "# %%R -i df_lagoon_test -o MSLmavg -o INDEXmavg -o MEImavg \n",
    "\n",
    "# MSLmavg = movavg(df_lagoon_test$MSL,4380) # 4380\n",
    "# MEImavg = movavg(df_lagoon_test$MEI,4380)\n",
    "# INDEXmavg = movavg(df_lagoon_test$index,4380)\n",
    "\n",
    "# # plot(df_lagoon_test$MEI,df_lagoon_test$MSLmavg,col='red')\n",
    "\n",
    "# # linreg = lm(MSL ~ MEI, data=df_lagoon_test)\n",
    "\n",
    "# # abline(linreg,col='blue')\n",
    "\n",
    "# # plot(INDEXmavg,MSLmavg,col='red')\n",
    "# # lines(df_lagoon_test$index,df_lagoon_test$MEI)\n"
   ]
  },
  {
   "cell_type": "code",
   "execution_count": 12,
   "metadata": {
    "ExecuteTime": {
     "end_time": "2021-06-10T02:18:59.513010Z",
     "start_time": "2021-06-10T02:18:59.036285Z"
    },
    "hidden": true
   },
   "outputs": [],
   "source": [
    "# ax1 = plt.subplot2grid((1,1),(0,0))\n",
    "# ax2 = ax1.twinx()\n",
    "\n",
    "# ax1.plot(INDEXmavg,MSLmavg)\n",
    "\n",
    "# ax2.plot(INDEXmavg,MEImavg,c='k')\n",
    "# ax2.plot(INDEXmavg[:-8760],MEImavg[8760:],c='r')"
   ]
  },
  {
   "cell_type": "code",
   "execution_count": 13,
   "metadata": {
    "ExecuteTime": {
     "end_time": "2021-06-10T02:18:59.605956Z",
     "start_time": "2021-06-10T02:18:59.516008Z"
    },
    "hidden": true
   },
   "outputs": [],
   "source": [
    "# MEI_shift = MEImavg[8760:]\n",
    "# MSL_shift = MSLmavg[:-8760]"
   ]
  },
  {
   "cell_type": "code",
   "execution_count": 14,
   "metadata": {
    "ExecuteTime": {
     "end_time": "2021-06-10T02:18:59.737851Z",
     "start_time": "2021-06-10T02:18:59.608925Z"
    },
    "hidden": true
   },
   "outputs": [],
   "source": [
    "# %%R -i MSLmavg -i MEImavg\n",
    "\n",
    "# cor(MSLmavg, MEImavg, method = c(\"pearson\", \"kendall\", \"spearman\"))"
   ]
  },
  {
   "cell_type": "code",
   "execution_count": 15,
   "metadata": {
    "ExecuteTime": {
     "end_time": "2021-06-10T02:18:59.841796Z",
     "start_time": "2021-06-10T02:18:59.739850Z"
    },
    "hidden": true
   },
   "outputs": [],
   "source": [
    "# %%R -i MSL_shift -i MEI_shift\n",
    "\n",
    "# cor(MSL_shift, MEI_shift, method = c(\"pearson\", \"kendall\", \"spearman\"))"
   ]
  },
  {
   "cell_type": "code",
   "execution_count": 16,
   "metadata": {
    "ExecuteTime": {
     "end_time": "2021-06-10T02:18:59.909754Z",
     "start_time": "2021-06-10T02:18:59.842821Z"
    },
    "hidden": true
   },
   "outputs": [],
   "source": [
    "# len(MSLmavg)"
   ]
  },
  {
   "cell_type": "code",
   "execution_count": 17,
   "metadata": {
    "ExecuteTime": {
     "end_time": "2021-06-10T02:18:59.979712Z",
     "start_time": "2021-06-10T02:18:59.910751Z"
    },
    "hidden": true
   },
   "outputs": [],
   "source": [
    "# len(df_lagoon)"
   ]
  },
  {
   "cell_type": "markdown",
   "metadata": {},
   "source": [
    "## Test forward and backward correlations"
   ]
  },
  {
   "cell_type": "code",
   "execution_count": null,
   "metadata": {},
   "outputs": [],
   "source": []
  },
  {
   "cell_type": "code",
   "execution_count": 18,
   "metadata": {},
   "outputs": [
    {
     "name": "stdout",
     "output_type": "stream",
     "text": [
      "/mnt/c/Users/shannonb/Documents/Model_and_data/Submodels/SM4_water_level\r\n"
     ]
    }
   ],
   "source": [
    "!pwd"
   ]
  },
  {
   "cell_type": "code",
   "execution_count": 19,
   "metadata": {
    "ExecuteTime": {
     "end_time": "2021-06-10T02:19:00.055670Z",
     "start_time": "2021-06-10T02:18:59.981714Z"
    }
   },
   "outputs": [],
   "source": [
    "### HOW TO INCLUDE TEMPORAL ASPECT ??"
   ]
  },
  {
   "cell_type": "code",
   "execution_count": 20,
   "metadata": {
    "ExecuteTime": {
     "end_time": "2021-06-10T02:19:00.157639Z",
     "start_time": "2021-06-10T02:19:00.056667Z"
    }
   },
   "outputs": [],
   "source": [
    "# Load SLR Projections\n",
    "\n",
    "data_location = \"/mnt/c/Users/shannonb/Documents/Model_and_data/Dataset/D7_MSL_projections/\"\n",
    "\n",
    "file_name = \"distributions_dict\"\n",
    "\n",
    "with open(\"{}{}.json\".format(data_location,file_name), 'r') as fp:\n",
    "    SL_proj_dict = json.load(fp)\n",
    "    \n",
    "    \n"
   ]
  },
  {
   "cell_type": "markdown",
   "metadata": {},
   "source": [
    "## Create Variable Dictionary"
   ]
  },
  {
   "cell_type": "code",
   "execution_count": 21,
   "metadata": {
    "ExecuteTime": {
     "end_time": "2021-06-10T02:19:00.234568Z",
     "start_time": "2021-06-10T02:19:00.159611Z"
    },
    "scrolled": false
   },
   "outputs": [],
   "source": [
    "#### Don't include spaces in bin names. if no discretisation, just leave out that key\n",
    "lagoon_model_dict = {\n",
    "    'variables':{\n",
    "        'Wind':{\n",
    "            'label':'Wind Speed (m/s)',\n",
    "            'discretisation':{\n",
    "                'n_bins':7,\n",
    "                'strategy':'kmeans',\n",
    "                'bin_names':['VeryLow','Low','LowMid','Mid','HighMid','High','VeryHigh']\n",
    "            },\n",
    "            'child_nodes':['MSL']\n",
    "        },\n",
    "        'WindDir':{\n",
    "            'label':r'Wind Direction (degrees)',\n",
    "            'discretisation':{\n",
    "                'n_bins':8,\n",
    "                'strategy':'uniform',\n",
    "                'bin_names':['WNW','NNW','NNE','ENE','ESE','SSE','SSW','WSW']\n",
    "            },\n",
    "            'child_nodes':['MSL']\n",
    "        },\n",
    "        'Hs_offshore':{\n",
    "            'label':'Offshore wave height (m)',\n",
    "            'discretisation':{\n",
    "                'n_bins':7,\n",
    "                'strategy':'kmeans',\n",
    "                'bin_names':['VeryLow','Low','LowMid','Mid','HighMid','High','VeryHigh']\n",
    "            },\n",
    "            'child_nodes':['MSL']\n",
    "        },\n",
    "        'Tm_offshore':{\n",
    "            'label':'Offshore wave period (s)',\n",
    "            'discretisation':{\n",
    "                'n_bins':7,\n",
    "                'strategy':'kmeans',\n",
    "                'bin_names':['VeryLow','Low','LowMid','Mid','HighMid','High','VeryHigh']\n",
    "            },\n",
    "            'child_nodes':['MSL']\n",
    "        },\n",
    "        'Dir_offshore':{\n",
    "            'label':r'Offshore wave direction (degrees)',\n",
    "            'discretisation':{\n",
    "                'n_bins':8,\n",
    "                'strategy':'kmeans',\n",
    "                'bin_names':['NNE','ENE','ESE','SSE','SSW','WSW','WNW','NNW']\n",
    "            },\n",
    "            'child_nodes':['MSL']\n",
    "        },\n",
    "        'TWL_point_110':{\n",
    "            'label':'Total water level at point 110 (m)',\n",
    "            'discretisation':{\n",
    "                'n_bins':7,\n",
    "                'strategy':'kmeans',\n",
    "                'bin_names':['VeryLow','Low','LowMid','Mid','HighMid','High','VeryHigh']\n",
    "            },\n",
    "            'child_nodes':[]\n",
    "        },\n",
    "        'TWL_point_110_less_Tide':{\n",
    "            'label':'Total water level at point 110 less tide (m)',\n",
    "            'discretisation':{\n",
    "                'n_bins':7,\n",
    "                'strategy':'kmeans',\n",
    "                'bin_names':['VeryLow','Low','LowMid','Mid','HighMid','High','VeryHigh']\n",
    "            },\n",
    "            'child_nodes':['TWL_point_110']\n",
    "        },\n",
    "        'Hs_point_110':{\n",
    "            'label':'Wave height at point 110 (m)',\n",
    "            'discretisation':{\n",
    "                'n_bins':7,\n",
    "                'strategy':'kmeans',\n",
    "                'bin_names':['VeryLow','Low','LowMid','Mid','HighMid','High','VeryHigh']\n",
    "            },\n",
    "            'child_nodes':['TWL_point_110_less_Tide']\n",
    "        },\n",
    "        'MSL':{\n",
    "            'label':'Mean sea level (m)',\n",
    "            'discretisation':{\n",
    "                'n_bins':7,\n",
    "                'strategy':'kmeans',\n",
    "                'bin_names':['VeryLow','Low','LowMid','Mid','HighMid','High','VeryHigh']\n",
    "            },\n",
    "            'child_nodes':['TWL_point_110_less_Tide']\n",
    "        },\n",
    "        'MEI':{\n",
    "            'label':'Multivariate ENSO index',\n",
    "            'discretisation':{\n",
    "                'n_bins':3,\n",
    "                'strategy':'kmeans',\n",
    "                'bin_names':['La Niña','-','El Niño'],\n",
    "                'bin_edges':[-0.5,0.5]\n",
    "            },\n",
    "            'child_nodes':['MSL']\n",
    "        },\n",
    "        'Tide':{\n",
    "            'label':'Tide (m)',\n",
    "            'discretisation':{\n",
    "                'n_bins':7,\n",
    "                'strategy':'kmeans',\n",
    "                'bin_names':['VeryLow','Low','LowMid','Mid','HighMid','High','VeryHigh']\n",
    "            },\n",
    "            'child_nodes':['TWL_point_110']\n",
    "        }\n",
    "    },\n",
    "    'training_frac':0.8,\n",
    "    'bootstrap_reps':3\n",
    "}"
   ]
  },
  {
   "cell_type": "code",
   "execution_count": 22,
   "metadata": {
    "ExecuteTime": {
     "end_time": "2021-06-10T02:19:00.324519Z",
     "start_time": "2021-06-10T02:19:00.237568Z"
    }
   },
   "outputs": [],
   "source": [
    "ocean_model_dict = {\n",
    "   'variables':{\n",
    "       'Tm_point_218':{\n",
    "            'label':'Wave period at point 218 (s)',\n",
    "            'discretisation':{\n",
    "                'n_bins':7,\n",
    "                'strategy':'kmeans',\n",
    "                'bin_names':['VeryLow','Low','LowMid','Mid','HighMid','High','VeryHigh']\n",
    "            },\n",
    "            'child_nodes':['TWL_point_218_less_Tide']\n",
    "        },\n",
    "        'Hs_point_218':{\n",
    "            'label':'Wave height at point 218 (m)',\n",
    "            'discretisation':{\n",
    "                'n_bins':7,\n",
    "                'strategy':'kmeans',\n",
    "                'bin_names':['VeryLow','Low','LowMid','Mid','HighMid','High','VeryHigh']\n",
    "            },\n",
    "            'child_nodes':['TWL_point_218_less_Tide']\n",
    "        },\n",
    "        'MSL':{\n",
    "            'label':'Mean sea level (m)',\n",
    "            'discretisation':{\n",
    "                'n_bins':7,\n",
    "                'strategy':'kmeans',\n",
    "                'bin_names':['VeryLow','Low','LowMid','Mid','HighMid','High','VeryHigh']\n",
    "            },\n",
    "            'child_nodes':['TWL_point_218_less_Tide']\n",
    "        },\n",
    "        'MEI':{\n",
    "            'label':'Multivariate ENSO index',\n",
    "            'discretisation':{\n",
    "                'n_bins':5,\n",
    "                'strategy':'kmeans',\n",
    "                'bin_names':['VeryLow','Low','Mid','High','VeryHigh']\n",
    "            },\n",
    "            'child_nodes':['MSL']\n",
    "        },\n",
    "        'Tide':{\n",
    "            'label':'Tide (m)',\n",
    "            'discretisation':{\n",
    "                'n_bins':7,\n",
    "                'strategy':'kmeans',\n",
    "                'bin_names':['VeryLow','Low','LowMid','Mid','HighMid','High','VeryHigh']\n",
    "            },\n",
    "            'child_nodes':['TWL_point_218']\n",
    "        },\n",
    "        'TWL_point_218':{\n",
    "            'label':'Total water level at point 218 (m)',\n",
    "            'discretisation':{\n",
    "                'n_bins':7,\n",
    "                'strategy':'kmeans',\n",
    "                'bin_names':['VeryLow','Low','LowMid','Mid','HighMid','High','VeryHigh']\n",
    "            },\n",
    "            'child_nodes':[]\n",
    "        },\n",
    "        'TWL_point_218_less_Tide':{\n",
    "            'label':'Total water level at point 218 less tide (m)',\n",
    "            'discretisation':{\n",
    "                'n_bins':7,\n",
    "                'strategy':'kmeans',\n",
    "                'bin_names':['VeryLow','Low','LowMid','Mid','HighMid','High','VeryHigh']\n",
    "            },\n",
    "            'child_nodes':['TWL_point_218']\n",
    "        }\n",
    "   },\n",
    "    'training_frac':0.8,\n",
    "    'bootstrap_reps':3\n",
    "}"
   ]
  },
  {
   "cell_type": "markdown",
   "metadata": {
    "heading_collapsed": true
   },
   "source": [
    "## Bootstrapping the data"
   ]
  },
  {
   "cell_type": "code",
   "execution_count": 23,
   "metadata": {
    "ExecuteTime": {
     "end_time": "2021-06-10T02:19:00.754301Z",
     "start_time": "2021-06-10T02:19:00.326513Z"
    },
    "hidden": true,
    "scrolled": true
   },
   "outputs": [],
   "source": [
    "# Bootstrap the data, and add it to the model_dict\n",
    "lagoon_model_dict = BNModel().bootstrap_data(lagoon_model_dict,lagoon_data_dict,df_lagoon)\n",
    "\n",
    "ocean_model_dict = BNModel().bootstrap_data(ocean_model_dict,ocean_data_dict,df_ocean)"
   ]
  },
  {
   "cell_type": "markdown",
   "metadata": {},
   "source": [
    "## Discretise the data"
   ]
  },
  {
   "cell_type": "code",
   "execution_count": 24,
   "metadata": {
    "ExecuteTime": {
     "end_time": "2021-06-10T02:19:46.021235Z",
     "start_time": "2021-06-10T02:19:00.755300Z"
    }
   },
   "outputs": [],
   "source": [
    "# Discretise the data\n",
    "lagoon_file_label = \"lagoon\"\n",
    "ocean_file_label = \"ocean\"\n",
    "\n",
    "lagoon_model_dict = BNModel().discretiser(lagoon_model_dict)\n",
    "ocean_model_dict = BNModel().discretiser(ocean_model_dict)"
   ]
  },
  {
   "cell_type": "code",
   "execution_count": 25,
   "metadata": {
    "ExecuteTime": {
     "end_time": "2021-06-10T02:19:46.096175Z",
     "start_time": "2021-06-10T02:19:46.022236Z"
    }
   },
   "outputs": [
    {
     "data": {
      "text/plain": [
       "{'label': 'Multivariate ENSO index',\n",
       " 'discretisation': {'n_bins': 3,\n",
       "  'strategy': 'kmeans',\n",
       "  'bin_names': ['La Niña', '-', 'El Niño'],\n",
       "  'bin_edges': [-0.5, 0.5]},\n",
       " 'child_nodes': ['MSL'],\n",
       " 'training_data_preprocessed': {0: array([ 0.88,  0.88,  0.88, ..., -0.32, -0.32, -0.32]),\n",
       "  1: array([ 0.88,  0.88,  0.88, ..., -0.32, -0.32, -0.32]),\n",
       "  2: array([ 0.88,  0.88,  0.88, ..., -0.32, -0.32, -0.32])},\n",
       " 'testing_data_preprocessed': {0: array([ 0.88,  0.88,  0.88, ..., -0.32, -0.32, -0.32]),\n",
       "  1: array([ 0.88,  0.88,  0.88, ..., -0.32, -0.32, -0.32]),\n",
       "  2: array([ 0.88,  0.88,  0.88, ..., -0.32, -0.32, -0.32])},\n",
       " 'training_data': {0: array(['El Niño', 'El Niño', 'El Niño', ..., 'La Niña', 'La Niña',\n",
       "         'La Niña'], dtype='<U32'),\n",
       "  1: array(['El Niño', 'El Niño', 'El Niño', ..., 'La Niña', 'La Niña',\n",
       "         'La Niña'], dtype='<U32'),\n",
       "  2: array(['El Niño', 'El Niño', 'El Niño', ..., 'La Niña', 'La Niña',\n",
       "         'La Niña'], dtype='<U32')},\n",
       " 'testing_data': {0: array(['El Niño', 'El Niño', 'El Niño', ..., 'La Niña', 'La Niña',\n",
       "         'La Niña'], dtype='<U32'),\n",
       "  1: array(['El Niño', 'El Niño', 'El Niño', ..., 'La Niña', 'La Niña',\n",
       "         'La Niña'], dtype='<U32'),\n",
       "  2: array(['El Niño', 'El Niño', 'El Niño', ..., 'La Niña', 'La Niña',\n",
       "         'La Niña'], dtype='<U32')},\n",
       " 'bin_edges': {0: array([-0.5,  0.5]),\n",
       "  1: array([-0.5,  0.5]),\n",
       "  2: array([-0.5,  0.5])}}"
      ]
     },
     "execution_count": 25,
     "metadata": {},
     "output_type": "execute_result"
    }
   ],
   "source": [
    "lagoon_model_dict['variables']['MEI']"
   ]
  },
  {
   "cell_type": "code",
   "execution_count": 26,
   "metadata": {
    "ExecuteTime": {
     "end_time": "2021-06-10T02:19:49.387291Z",
     "start_time": "2021-06-10T02:19:46.102171Z"
    },
    "scrolled": true
   },
   "outputs": [],
   "source": [
    "# lagoon_disc_fig = BNModel().plot_discretiser(lagoon_model_dict)"
   ]
  },
  {
   "cell_type": "code",
   "execution_count": 27,
   "metadata": {
    "ExecuteTime": {
     "end_time": "2021-06-10T02:19:49.404279Z",
     "start_time": "2021-06-10T02:18:06.256Z"
    },
    "scrolled": false
   },
   "outputs": [
    {
     "data": {
      "image/png": "[encoded data removed]",
      "text/plain": [
       "<Figure size 720x1440 with 14 Axes>"
      ]
     },
     "metadata": {
      "needs_background": "light"
     },
     "output_type": "display_data"
    }
   ],
   "source": [
    "ocean_disc_fig = BNModel().plot_discretiser(ocean_model_dict)"
   ]
  },
  {
   "cell_type": "markdown",
   "metadata": {},
   "source": [
    "## Save the data"
   ]
  },
  {
   "cell_type": "code",
   "execution_count": 28,
   "metadata": {
    "ExecuteTime": {
     "end_time": "2021-06-10T02:20:58.711518Z",
     "start_time": "2021-06-10T02:20:53.985216Z"
    }
   },
   "outputs": [],
   "source": [
    "BNModel().save_dataset(lagoon_model_dict,lagoon_file_label)\n",
    "BNModel().save_dataset(ocean_model_dict,ocean_file_label)"
   ]
  },
  {
   "cell_type": "markdown",
   "metadata": {},
   "source": [
    "# Create BN Model"
   ]
  },
  {
   "cell_type": "code",
   "execution_count": null,
   "metadata": {},
   "outputs": [],
   "source": [
    "\n",
    "\n",
    "model_dict = lagoon_model_dict\n",
    "file_label = lagoon_file_label\n",
    "    \n",
    "# Create an empty dictionary to put the pysmile objects into per rep\n",
    "model_objects_dict = {}\n",
    "\n",
    "# Loop over each repetition of bootstrapping\n",
    "for rep in np.arange(0,model_dict['bootstrap_reps'],1):\n",
    "\n",
    "    # Structure Learning using pysmile\n",
    "    ds_training = pysmile.learning.DataSet()\n",
    "    ds_training.read_file('training_data_{}_{}.csv'.format(file_label,rep))\n",
    "\n",
    "    # Also create a testing dataset for later use\n",
    "    ds_testing = pysmile.learning.DataSet()\n",
    "    ds_testing.read_file('testing_data_{}_{}.csv'.format(file_label,rep))\n",
    "\n",
    "    # Initialise new network\n",
    "    net = pysmile.Network()\n",
    "\n",
    "    # Loop over each variable and create a node\n",
    "    for var_key,var_dict in model_dict['variables'].items():\n",
    "        net.add_node(pysmile.NodeType.CPT, var_key)\n",
    "        # Add node outcomes based on bins of discretisation\n",
    "        for outcome in var_dict['discretisation']['bin_names']:\n",
    "            net.add_outcome(var_key,outcome)\n",
    "\n",
    "        # Delete the preexisting outcomes (state0 and state1)\n",
    "        net.delete_outcome(var_key,'State0')\n",
    "        net.delete_outcome(var_key,'State1')\n",
    "\n",
    "    # Create a dictionary of all node and node ids\n",
    "    node_ids_dict = {} \n",
    "    for node, node_id in zip(net.get_all_node_ids(), net.get_all_nodes()):\n",
    "        node_ids_dict.update({\n",
    "            node:node_id\n",
    "        })\n",
    "\n",
    "    # Add arcs according to the dict provided\n",
    "    for var_key,var_dict in model_dict['variables'].items():\n",
    "        for child in var_dict['child_nodes']:\n",
    "            net.add_arc(node_ids_dict[var_key],node_ids_dict[child])\n",
    "\n",
    "    # I don't know what matching does exactly\n",
    "    matching = ds_training.match_network(net)\n",
    "\n",
    "    # Get the expectation maximisation (EM) function for parameter estimation\n",
    "    em = pysmile.learning.EM()\n",
    "\n",
    "    # Learn the paramters using EM\n",
    "    em.learn(data=ds_training, net=net, matching=matching)\n",
    "\n",
    "    # Save the network\n",
    "    net.write_file(\"SM_{}_{}.xdsl\".format(file_label,rep))\n",
    "\n",
    "    # Add network and dataset to a dict\n",
    "    model_objects_dict.update({\n",
    "        rep:{\n",
    "            'net':net,\n",
    "            'training_file':'training_data_{}_{}.csv'.format(file_label,rep),\n",
    "            'testing_file':'testing_data_{}_{}.csv'.format(file_label,rep),\n",
    "            'ds_training':ds_training,\n",
    "            'ds_testing':ds_testing\n",
    "        }\n",
    "    })\n",
    "\n",
    "# Update the model dictionary to have node ids in it (assume all reps have same ids)\n",
    "[var_dict.update({'id':node_ids_dict[var_key]}) for var_key,var_dict in model_dict['variables'].items()]\n",
    "\n",
    "# Add all model objects to the dict \n",
    "model_dict.update({\n",
    "    'model':model_objects_dict\n",
    "})\n"
   ]
  },
  {
   "cell_type": "code",
   "execution_count": null,
   "metadata": {
    "ExecuteTime": {
     "end_time": "2021-06-10T02:21:05.864450Z",
     "start_time": "2021-06-10T02:21:05.152790Z"
    },
    "scrolled": true
   },
   "outputs": [],
   "source": [
    "# Create the BN\n",
    "lagoon_model_dict = BNModel().create_SM(lagoon_model_dict,lagoon_file_label)\n",
    "ocean_model_dict = BNModel().create_SM(ocean_model_dict,ocean_file_label)"
   ]
  },
  {
   "cell_type": "markdown",
   "metadata": {},
   "source": [
    "## View Conditional Probability tables"
   ]
  },
  {
   "cell_type": "code",
   "execution_count": null,
   "metadata": {
    "ExecuteTime": {
     "end_time": "2021-06-10T02:20:58.809434Z",
     "start_time": "2021-06-10T02:20:56.573Z"
    },
    "scrolled": false
   },
   "outputs": [],
   "source": [
    "# Get conditional probs tables\n",
    "BNModel().get_conditional_prob_table(lagoon_model_dict,'TWL_point_110')"
   ]
  },
  {
   "cell_type": "code",
   "execution_count": null,
   "metadata": {
    "ExecuteTime": {
     "end_time": "2021-06-10T02:20:58.814431Z",
     "start_time": "2021-06-10T02:20:56.725Z"
    }
   },
   "outputs": [],
   "source": [
    "# Get conditional probs tables\n",
    "df_CPT_MSL = BNModel().get_conditional_prob_table(ocean_model_dict,'MSL')"
   ]
  },
  {
   "cell_type": "code",
   "execution_count": null,
   "metadata": {
    "ExecuteTime": {
     "end_time": "2021-06-10T02:20:58.822424Z",
     "start_time": "2021-06-10T02:20:56.885Z"
    }
   },
   "outputs": [],
   "source": [
    "df_CPT_MSL = df_CPT_MSL[['Low','Mid','High']]\n",
    "df_CPT_MSL = df_CPT_MSL.loc[['VeryLow','Low','LowMid','Mid','HighMid','High','VeryHigh']]\n",
    "\n",
    "plt.pcolor(df_CPT_MSL)"
   ]
  },
  {
   "cell_type": "code",
   "execution_count": null,
   "metadata": {
    "ExecuteTime": {
     "end_time": "2021-06-10T02:20:58.827422Z",
     "start_time": "2021-06-10T02:20:57.062Z"
    }
   },
   "outputs": [],
   "source": [
    "df_CPT_MSL.T"
   ]
  },
  {
   "cell_type": "markdown",
   "metadata": {},
   "source": [
    "# Set Evidence"
   ]
  },
  {
   "cell_type": "code",
   "execution_count": null,
   "metadata": {
    "ExecuteTime": {
     "end_time": "2021-06-10T02:20:58.833418Z",
     "start_time": "2021-06-10T02:20:57.381Z"
    }
   },
   "outputs": [],
   "source": [
    "lagoon_evidence_dict = {\n",
    "    'Wind':[0.05,0.8,0.05,0.1,0.01,0.01,0.01],\n",
    "    'WindDir':[0.05,0.8,0.05,0.1,0.01,0.01,0.01,0.01]\n",
    "}\n",
    "\n",
    "ocean_evidence_dict = {\n",
    "    'Tide':[0.05,0.8,0.05,0.1,0.01,0.01,0.01],\n",
    "    'MSL':[0.05,0.8,0.05,0.1,0.01,0.01,0.01]\n",
    "}"
   ]
  },
  {
   "cell_type": "code",
   "execution_count": null,
   "metadata": {
    "ExecuteTime": {
     "end_time": "2021-06-10T02:20:58.838415Z",
     "start_time": "2021-06-10T02:20:57.549Z"
    }
   },
   "outputs": [],
   "source": [
    "lagoon_model_dict = BNModel().add_evidence_to_dict(lagoon_model_dict,lagoon_evidence_dict)\n",
    "ocean_model_dict = BNModel().add_evidence_to_dict(ocean_model_dict,ocean_evidence_dict)"
   ]
  },
  {
   "cell_type": "markdown",
   "metadata": {},
   "source": [
    "# Update beliefs based on evidence"
   ]
  },
  {
   "cell_type": "code",
   "execution_count": null,
   "metadata": {
    "ExecuteTime": {
     "end_time": "2021-06-10T02:20:58.843410Z",
     "start_time": "2021-06-10T02:20:57.946Z"
    }
   },
   "outputs": [],
   "source": [
    "# Set evidence and get beliefs\n",
    "lagoon_model_dict = BNModel().update_evidence(lagoon_model_dict)\n",
    "ocean_model_dict = BNModel().update_evidence(ocean_model_dict)"
   ]
  },
  {
   "cell_type": "markdown",
   "metadata": {},
   "source": [
    "# BN Visualisation"
   ]
  },
  {
   "cell_type": "code",
   "execution_count": null,
   "metadata": {
    "ExecuteTime": {
     "end_time": "2021-06-10T02:20:58.849407Z",
     "start_time": "2021-06-10T02:20:58.285Z"
    },
    "scrolled": false
   },
   "outputs": [],
   "source": [
    "\n",
    "# Set up graph\n",
    "graph_lagoon = BNModel().create_BN_graph()\n",
    "\n",
    "# Create nodes of the graph\n",
    "graph_lagoon,lagoon_model_dict = BNModel().create_nodes(graph_lagoon,lagoon_model_dict,1)\n",
    "\n",
    "# Create arcs between nodesb\n",
    "graph_lagoon = BNModel().create_arcs(graph_lagoon,lagoon_model_dict)\n",
    "\n",
    "# Save as dot file\n",
    "graph_lagoon.render(filename='graph_lagoon',format='png')\n",
    "\n",
    "# Plot the graph\n",
    "graph_lagoon\n"
   ]
  },
  {
   "cell_type": "code",
   "execution_count": null,
   "metadata": {
    "ExecuteTime": {
     "end_time": "2021-06-10T02:20:59.261392Z",
     "start_time": "2021-06-10T02:20:59.150428Z"
    }
   },
   "outputs": [],
   "source": [
    "\n",
    "# Set up graph\n",
    "graph_ocean = BNModel().create_BN_graph()\n",
    "\n",
    "# Create nodes of the graph\n",
    "graph_ocean,ocean_model_dict = BNModel().create_nodes(graph_ocean,ocean_model_dict,1)\n",
    "\n",
    "# Create arcs between nodesb\n",
    "graph_ocean = BNModel().create_arcs(graph_ocean,ocean_model_dict)\n",
    "\n",
    "# Save as dot file\n",
    "graph_ocean.render(filename='graph_ocean',format='png')\n",
    "\n",
    "# Plot the graph\n",
    "graph_ocean"
   ]
  },
  {
   "cell_type": "markdown",
   "metadata": {},
   "source": [
    "# Model Validation"
   ]
  },
  {
   "cell_type": "code",
   "execution_count": null,
   "metadata": {
    "ExecuteTime": {
     "end_time": "2021-06-10T02:19:49.419271Z",
     "start_time": "2021-06-10T02:18:06.285Z"
    }
   },
   "outputs": [],
   "source": [
    "### Research picking number of kfolds \n",
    "\n",
    "lagoon_acc_dict = BNModel().get_accuracies(lagoon_model_dict,\"TWL_point_110\")\n",
    "\n",
    "print(lagoon_acc_dict)\n",
    "\n",
    "fig, ax = BNModel().confusion_matrix(lagoon_model_dict,\"TWL_point_110\",1)"
   ]
  },
  {
   "cell_type": "code",
   "execution_count": null,
   "metadata": {
    "ExecuteTime": {
     "end_time": "2021-06-10T02:19:49.420270Z",
     "start_time": "2021-06-10T02:18:06.287Z"
    },
    "scrolled": false
   },
   "outputs": [],
   "source": [
    "\n",
    "ocean_acc_dict = BNModel().get_accuracies(ocean_model_dict,\"TWL_point_218\")\n",
    "\n",
    "print(ocean_acc_dict)\n",
    "\n",
    "fig, ax = BNModel().confusion_matrix(ocean_model_dict,\"TWL_point_218\",1)"
   ]
  },
  {
   "cell_type": "markdown",
   "metadata": {
    "heading_collapsed": true
   },
   "source": [
    "# Sensitivity Analysis"
   ]
  },
  {
   "cell_type": "markdown",
   "metadata": {
    "hidden": true
   },
   "source": [
    "## Lagoon"
   ]
  },
  {
   "cell_type": "markdown",
   "metadata": {
    "hidden": true
   },
   "source": [
    "### Tide on TWL"
   ]
  },
  {
   "cell_type": "code",
   "execution_count": null,
   "metadata": {
    "ExecuteTime": {
     "end_time": "2021-06-10T02:19:49.421270Z",
     "start_time": "2021-06-10T02:18:06.291Z"
    },
    "hidden": true
   },
   "outputs": [],
   "source": [
    "df_tide_VL_post = BNModel().univariant_sensitivity(lagoon_model_dict,'Tide','VeryLow','TWL_point_110')\n",
    "df_tide_VL_post\n",
    "\n"
   ]
  },
  {
   "cell_type": "code",
   "execution_count": null,
   "metadata": {
    "ExecuteTime": {
     "end_time": "2021-06-10T02:19:49.422270Z",
     "start_time": "2021-06-10T02:18:06.293Z"
    },
    "hidden": true
   },
   "outputs": [],
   "source": [
    "df_tide_L_post = BNModel().univariant_sensitivity(lagoon_model_dict,'Tide','Low','TWL_point_110')\n",
    "df_tide_L_post"
   ]
  },
  {
   "cell_type": "code",
   "execution_count": null,
   "metadata": {
    "ExecuteTime": {
     "end_time": "2021-06-10T02:19:49.423270Z",
     "start_time": "2021-06-10T02:18:06.295Z"
    },
    "hidden": true
   },
   "outputs": [],
   "source": [
    "df_tide_H_post = BNModel().univariant_sensitivity(lagoon_model_dict,'Tide','High','TWL_point_110')\n",
    "df_tide_H_post"
   ]
  },
  {
   "cell_type": "code",
   "execution_count": null,
   "metadata": {
    "ExecuteTime": {
     "end_time": "2021-06-10T02:19:49.424269Z",
     "start_time": "2021-06-10T02:18:06.297Z"
    },
    "hidden": true
   },
   "outputs": [],
   "source": [
    "df_tide_VH_post = BNModel().univariant_sensitivity(lagoon_model_dict,'Tide','VeryHigh','TWL_point_110')\n",
    "df_tide_VH_post"
   ]
  },
  {
   "cell_type": "markdown",
   "metadata": {
    "hidden": true
   },
   "source": [
    "### MSL on TWL less tide"
   ]
  },
  {
   "cell_type": "code",
   "execution_count": null,
   "metadata": {
    "ExecuteTime": {
     "end_time": "2021-06-10T02:19:49.425267Z",
     "start_time": "2021-06-10T02:18:06.299Z"
    },
    "hidden": true
   },
   "outputs": [],
   "source": [
    "df_MSL_VL_post = BNModel().univariant_sensitivity(lagoon_model_dict,'MSL','VeryLow','TWL_point_110')\n",
    "df_MSL_VL_post"
   ]
  },
  {
   "cell_type": "code",
   "execution_count": null,
   "metadata": {
    "ExecuteTime": {
     "end_time": "2021-06-10T02:19:49.426268Z",
     "start_time": "2021-06-10T02:18:06.301Z"
    },
    "hidden": true
   },
   "outputs": [],
   "source": [
    "df_MSL_H_post = BNModel().univariant_sensitivity(lagoon_model_dict,'MSL','High','TWL_point_110')\n",
    "df_MSL_H_post"
   ]
  },
  {
   "cell_type": "code",
   "execution_count": null,
   "metadata": {
    "ExecuteTime": {
     "end_time": "2021-06-10T02:19:49.427266Z",
     "start_time": "2021-06-10T02:18:06.303Z"
    },
    "hidden": true,
    "scrolled": false
   },
   "outputs": [],
   "source": [
    "# df_MSL_VH_post = BNModel().univariant_sensitivity(lagoon_model_dict,0,'MSL','VeryHigh','TWL_point_110_less')\n",
    "# df_MSL_VH_post"
   ]
  },
  {
   "cell_type": "markdown",
   "metadata": {
    "hidden": true
   },
   "source": [
    "### Hs_offshore on TWL less tide"
   ]
  },
  {
   "cell_type": "code",
   "execution_count": null,
   "metadata": {
    "ExecuteTime": {
     "end_time": "2021-06-10T02:19:49.428264Z",
     "start_time": "2021-06-10T02:18:06.305Z"
    },
    "hidden": true
   },
   "outputs": [],
   "source": [
    "# df_Wind_VL_post = BNModel().univariant_sensitivity(lagoon_model_dict,0,'Wind','VeryLow','TWL_point_110_less_tide')\n",
    "# df_Wind_VL_post"
   ]
  },
  {
   "cell_type": "markdown",
   "metadata": {},
   "source": [
    "# MSL Priors based on Future Projections"
   ]
  },
  {
   "cell_type": "markdown",
   "metadata": {},
   "source": [
    "## Get the distribution of MSL data currently"
   ]
  },
  {
   "cell_type": "code",
   "execution_count": null,
   "metadata": {
    "ExecuteTime": {
     "end_time": "2021-06-10T02:19:49.429266Z",
     "start_time": "2021-06-10T02:18:06.308Z"
    }
   },
   "outputs": [],
   "source": [
    "def grouping_bins(data):\n",
    "    grouped_dict = {}\n",
    "\n",
    "    for bin_name in np.unique(data):\n",
    "        grouped_dict.update({\n",
    "            bin_name:len(data[data==bin_name])\n",
    "        })\n",
    "        \n",
    "    df_grouped = pd.DataFrame.from_dict(grouped_dict,orient='index')\n",
    "    \n",
    "    return(df_grouped)"
   ]
  },
  {
   "cell_type": "code",
   "execution_count": null,
   "metadata": {
    "ExecuteTime": {
     "end_time": "2021-06-10T02:19:49.430264Z",
     "start_time": "2021-06-10T02:18:06.309Z"
    }
   },
   "outputs": [],
   "source": [
    "def descretiser(bin_edges,bin_names,data_array):\n",
    "    \n",
    "    discretised_array = np.empty(len(data_array)).astype(str)\n",
    "    \n",
    "    for lower, upper, bin_name in zip(\n",
    "        bin_edges[:-1],\n",
    "        bin_edges[1:],\n",
    "        bin_names):\n",
    "        \n",
    "        discretised_array[(data_array>lower)&(data_array<upper)] = bin_name\n",
    "\n",
    "        # Now Include out of bounds values in the upper and lower bins\n",
    "        discretised_array[data_array<np.min(bin_edges)] = bin_names[0]\n",
    "        discretised_array[data_array>np.max(bin_edges)] = bin_names[-1]\n",
    "        \n",
    "    return(discretised_array)\n",
    "                    "
   ]
  },
  {
   "cell_type": "code",
   "execution_count": null,
   "metadata": {
    "ExecuteTime": {
     "end_time": "2021-06-10T02:19:49.431263Z",
     "start_time": "2021-06-10T02:18:06.311Z"
    }
   },
   "outputs": [],
   "source": [
    "# Bin the MSL data\n",
    "MSL_data = lagoon_model_dict['variables']['MSL']['training_data'][0]\n",
    "\n",
    "# Grouping the bins \n",
    "MSL_bins_grouped = grouping_bins(MSL_data)\n",
    "\n",
    "# Put the bins in the right order\n",
    "df_MSL_distribution = MSL_bins_grouped.reindex(lagoon_model_dict['variables']['MSL']['discretisation']['bin_names'])\n",
    "\n",
    "# Plot the data\n",
    "plt.plot(df_MSL_distribution)"
   ]
  },
  {
   "cell_type": "markdown",
   "metadata": {},
   "source": [
    "## Add the Global average for now"
   ]
  },
  {
   "cell_type": "code",
   "execution_count": null,
   "metadata": {
    "ExecuteTime": {
     "end_time": "2021-06-10T02:19:49.432263Z",
     "start_time": "2021-06-10T02:18:06.313Z"
    }
   },
   "outputs": [],
   "source": [
    "# Get the preprocessed data to add to\n",
    "MSL_training_data_preprocessed = lagoon_model_dict['variables']['MSL']['training_data_preprocessed'][0]\n",
    "MSL_testing_data_preprocessed = lagoon_model_dict['variables']['MSL']['testing_data_preprocessed'][0]\n",
    "\n",
    "# Print some stats to get an idea of how adding SLR will affect the data\n",
    "print(np.min(MSL_training_data_preprocessed))\n",
    "print(np.max(MSL_training_data_preprocessed))\n",
    "print(np.mean(MSL_training_data_preprocessed))\n",
    "print(np.median(MSL_training_data_preprocessed))"
   ]
  },
  {
   "cell_type": "code",
   "execution_count": null,
   "metadata": {
    "ExecuteTime": {
     "end_time": "2021-06-10T02:19:49.433262Z",
     "start_time": "2021-06-10T02:18:06.315Z"
    }
   },
   "outputs": [],
   "source": [
    "# Based on a 2 mm/yr rate\n",
    "mean_SLR_2050 = 2*29/1000\n",
    "mean_SLR_2100 = 2*59/1000\n",
    "\n",
    "# Get MSLs adjusted for regional sea level rise\n",
    "MSL_2050 = MSL_training_data_preprocessed+mean_SLR_2050\n",
    "MSL_2100 = MSL_training_data_preprocessed+mean_SLR_2100"
   ]
  },
  {
   "cell_type": "code",
   "execution_count": null,
   "metadata": {
    "ExecuteTime": {
     "end_time": "2021-06-10T02:19:49.434261Z",
     "start_time": "2021-06-10T02:18:06.317Z"
    }
   },
   "outputs": [],
   "source": [
    "# Using the bins from before, discretise the results\n",
    "bin_edges = lagoon_model_dict['variables']['MSL']['bin_edges'][0]\n",
    "bin_names = lagoon_model_dict['variables']['MSL']['discretisation']['bin_names']\n",
    "\n",
    "# Normalise the data\n",
    "df_MSL_2021 = df_MSL_distribution/np.nansum(df_MSL_distribution)\n",
    "\n",
    "# Calculated discretised MSL for the scenarios\n",
    "MSL_2050 = MSL_training_data_preprocessed+mean_SLR_2050\n",
    "MSL_2050_discretised = descretiser(bin_edges,bin_names,MSL_2050)\n",
    "df_MSL_2050 = grouping_bins(MSL_2050_discretised)\n",
    "df_MSL_2050 = df_MSL_2050.reindex(lagoon_model_dict['variables']['MSL']['discretisation']['bin_names'])\n",
    "df_MSL_2050[df_MSL_2050.isna()] = 0.001\n",
    "df_MSL_2050 = df_MSL_2050/np.nansum(df_MSL_2050)\n",
    "\n",
    "# Calculated discretised MSL for the scenarios\n",
    "MSL_2100 = MSL_training_data_preprocessed+mean_SLR_2100\n",
    "MSL_2100_discretised = descretiser(bin_edges,bin_names,MSL_2100)\n",
    "df_MSL_2100 = grouping_bins(MSL_2100_discretised)\n",
    "df_MSL_2100 = df_MSL_2100.reindex(lagoon_model_dict['variables']['MSL']['discretisation']['bin_names'])\n",
    "df_MSL_2100[df_MSL_2100.isna()] = 0.001\n",
    "df_MSL_2100 = df_MSL_2100/np.nansum(df_MSL_2100)\n"
   ]
  },
  {
   "cell_type": "markdown",
   "metadata": {},
   "source": [
    "### Set evidence of 2050"
   ]
  },
  {
   "cell_type": "code",
   "execution_count": null,
   "metadata": {
    "ExecuteTime": {
     "end_time": "2021-06-10T02:19:49.435261Z",
     "start_time": "2021-06-10T02:18:06.319Z"
    }
   },
   "outputs": [],
   "source": [
    "# Create dict of evidence\n",
    "MSL_2050_evidence_dict = {\n",
    "    'MSL':list(df_MSL_2050[0])\n",
    "}\n",
    "\n",
    "# Add evidence for MSL to the model dict\n",
    "lagoon_model_dict = BNModel().add_evidence_to_dict(lagoon_model_dict,MSL_2050_evidence_dict)\n",
    "ocean_model_dict = BNModel().add_evidence_to_dict(ocean_model_dict,MSL_2050_evidence_dict)\n",
    "\n",
    "# Set evidence and get beliefs\n",
    "lagoon_model_dict = BNModel().update_evidence(lagoon_model_dict)\n",
    "\n",
    "# TWL posterior 2050\n",
    "TWL_MSL_2050_posterior_dict = lagoon_model_dict['variables']['TWL_point_110']['resulting_probs'][0]\n",
    "df_TWL_MSL_2050_posterior = pd.DataFrame.from_dict(TWL_MSL_2050_posterior_dict,orient='index')"
   ]
  },
  {
   "cell_type": "code",
   "execution_count": null,
   "metadata": {
    "ExecuteTime": {
     "end_time": "2021-06-10T02:19:49.437260Z",
     "start_time": "2021-06-10T02:18:06.321Z"
    }
   },
   "outputs": [],
   "source": [
    "# Create dict of evidence\n",
    "MSL_2100_evidence_dict = {\n",
    "    'MSL':list(df_MSL_2100[0])\n",
    "}\n",
    "\n",
    "# Add evidence for MSL to the model dict\n",
    "lagoon_model_dict = BNModel().add_evidence_to_dict(lagoon_model_dict,MSL_2100_evidence_dict)\n",
    "ocean_model_dict = BNModel().add_evidence_to_dict(ocean_model_dict,MSL_2100_evidence_dict)\n",
    "\n",
    "# Set evidence and get beliefs\n",
    "lagoon_model_dict = BNModel().update_evidence(lagoon_model_dict)\n",
    "\n",
    "# TWL posterior 2100\n",
    "TWL_MSL_2100_posterior_dict = lagoon_model_dict['variables']['TWL_point_110']['resulting_probs'][0]\n",
    "df_TWL_MSL_2100_posterior = pd.DataFrame.from_dict(TWL_MSL_2100_posterior_dict,orient='index')"
   ]
  },
  {
   "cell_type": "code",
   "execution_count": null,
   "metadata": {
    "ExecuteTime": {
     "end_time": "2021-06-10T02:19:49.438260Z",
     "start_time": "2021-06-10T02:18:06.323Z"
    },
    "scrolled": false
   },
   "outputs": [],
   "source": [
    "# get the original data to compare it to\n",
    "TWL_training_dict = lagoon_model_dict['variables']['TWL_point_110']['training_data'][0]\n",
    "df_TWL_training = grouping_bins(TWL_training_dict)\n",
    "df_TWL_training = df_TWL_training.reindex(lagoon_model_dict['variables']['MSL']['discretisation']['bin_names'])\n",
    "df_TWL_training[df_TWL_training.isna()] = 0.001\n",
    "df_TWL_training = df_TWL_training/np.nansum(df_TWL_training)\n",
    "\n",
    "# Create an extra set of dfs for data as a fraction of original\n",
    "TWL_MSL_2050 = [(ind,y/x) for ind,x,y in zip(df_TWL_training.index,df_TWL_training[0],df_TWL_MSL_2050_posterior[0])]\n",
    "TWL_MSL_2100 = [(ind,y/x) for ind,x,y in zip(df_TWL_training.index,df_TWL_training[0],df_TWL_MSL_2100_posterior[0])]\n",
    "df_TWL_MSL_2050 = pd.DataFrame(TWL_MSL_2050).set_index(0)\n",
    "df_TWL_MSL_2100 = pd.DataFrame(TWL_MSL_2100).set_index(0)"
   ]
  },
  {
   "cell_type": "code",
   "execution_count": null,
   "metadata": {
    "ExecuteTime": {
     "end_time": "2021-06-10T02:19:49.439259Z",
     "start_time": "2021-06-10T02:18:06.325Z"
    },
    "scrolled": false
   },
   "outputs": [],
   "source": [
    "\n",
    "# Set up the figure\n",
    "fig = plt.figure(figsize=(10,15))\n",
    "fig.subplots_adjust(hspace=0.5)\n",
    "ax1 = plt.subplot2grid((3,1),(0,0))\n",
    "ax2 = plt.subplot2grid((3,1),(1,0))\n",
    "ax3 = plt.subplot2grid((3,1),(2,0))\n",
    "\n",
    "# Plot MSL data and prior distributions\n",
    "ax1.plot(df_MSL_2021,c='k')\n",
    "ax1.plot(df_MSL_2050,c='b')\n",
    "ax1.plot(df_MSL_2100,c='r')\n",
    "\n",
    "# Plot posterior distributions compared to original data\n",
    "output_2021, = ax2.plot(df_TWL_training,c='k')\n",
    "output_2050, = ax2.plot(df_TWL_MSL_2050_posterior,c='b')\n",
    "output_2100, = ax2.plot(df_TWL_MSL_2100_posterior,c='r')\n",
    "\n",
    "# Plot posterior distributions as a fraction of the original data\n",
    "output_2050, = ax3.plot(df_TWL_MSL_2050,c='b')\n",
    "output_2100, = ax3.plot(df_TWL_MSL_2100,c='r')\n",
    "ax3_xlims = ax3.get_xlim()\n",
    "ax3.plot(ax3_xlims,[1,1],c='0.5',ls='--')\n",
    "ax3.set_xlim(ax3_xlims)\n",
    "\n",
    "# Format the graph\n",
    "ax1.set_ylabel('Probability')\n",
    "ax1.set_xlabel('Mean Sea Level')\n",
    "ax2.set_ylabel('Probability')\n",
    "ax2.set_xlabel('Total Water Level')\n",
    "ax3.set_ylabel('Probability/Probability')\n",
    "ax3.set_xlabel('Total Water Level')\n",
    "\n",
    "ax1.legend([output_2021,output_2050,output_2100],['Present','2050','2100'])\n"
   ]
  },
  {
   "cell_type": "markdown",
   "metadata": {},
   "source": [
    "# Load in some IPCC RSL Data"
   ]
  },
  {
   "cell_type": "code",
   "execution_count": null,
   "metadata": {
    "ExecuteTime": {
     "end_time": "2021-06-10T02:19:49.440258Z",
     "start_time": "2021-06-10T02:18:06.327Z"
    }
   },
   "outputs": [],
   "source": [
    "# The IPCC data (Openheimer et al., 2019, IPCC Ch4) is relative to the 1983-2005\n",
    "# Antonio's data is 1993-2017\n",
    "\n",
    "# It's not clear to me right now if the IPCC data is relative to the 1983-2005 value globally averaged, \n",
    "# or if it varies regionally\n"
   ]
  },
  {
   "cell_type": "code",
   "execution_count": null,
   "metadata": {
    "ExecuteTime": {
     "end_time": "2021-06-10T02:19:49.442259Z",
     "start_time": "2021-06-10T02:18:06.329Z"
    }
   },
   "outputs": [],
   "source": [
    "import xarray as xr\n",
    "tarawa_lat = 1.333\n",
    "tarawa_long = 173"
   ]
  },
  {
   "cell_type": "code",
   "execution_count": null,
   "metadata": {
    "ExecuteTime": {
     "end_time": "2021-06-10T02:19:49.443257Z",
     "start_time": "2021-06-10T02:18:06.331Z"
    }
   },
   "outputs": [],
   "source": [
    "# Load the RSLD from IPCC, chapter\n",
    "ds_RSLR_2040_rcp26 = xr.open_dataset (r'C:\\Users\\shannonb\\Documents\\Model_and_data\\Dataset\\Additional_data\\Sea_levels\\Data\\Chapter4_SM\\SM4.2\\rsl_26_2040.nc')\n",
    "ds_RSLR_2040_rcp45 = xr.open_dataset (r'C:\\Users\\shannonb\\Documents\\Model_and_data\\Dataset\\Additional_data\\Sea_levels\\Data\\Chapter4_SM\\SM4.2\\rsl_45_2040.nc')\n",
    "ds_RSLR_2040_rcp85 = xr.open_dataset (r'C:\\Users\\shannonb\\Documents\\Model_and_data\\Dataset\\Additional_data\\Sea_levels\\Data\\Chapter4_SM\\SM4.2\\rsl_85_2040.nc')\n",
    "\n",
    "ds_RSLR_2055_rcp26 = xr.open_dataset (r'C:\\Users\\shannonb\\Documents\\Model_and_data\\Dataset\\Additional_data\\Sea_levels\\Data\\Chapter4_SM\\SM4.2\\rsl_26_2055.nc')\n",
    "ds_RSLR_2055_rcp45 = xr.open_dataset (r'C:\\Users\\shannonb\\Documents\\Model_and_data\\Dataset\\Additional_data\\Sea_levels\\Data\\Chapter4_SM\\SM4.2\\rsl_45_2055.nc')\n",
    "ds_RSLR_2055_rcp85 = xr.open_dataset (r'C:\\Users\\shannonb\\Documents\\Model_and_data\\Dataset\\Additional_data\\Sea_levels\\Data\\Chapter4_SM\\SM4.2\\rsl_85_2055.nc')\n",
    "\n",
    "ds_RSLR_2090_rcp26 = xr.open_dataset (r'C:\\Users\\shannonb\\Documents\\Model_and_data\\Dataset\\Additional_data\\Sea_levels\\Data\\Chapter4_SM\\SM4.2\\rsl_26_2090.nc')\n",
    "ds_RSLR_2090_rcp45 = xr.open_dataset (r'C:\\Users\\shannonb\\Documents\\Model_and_data\\Dataset\\Additional_data\\Sea_levels\\Data\\Chapter4_SM\\SM4.2\\rsl_45_2090.nc')\n",
    "ds_RSLR_2090_rcp85 = xr.open_dataset (r'C:\\Users\\shannonb\\Documents\\Model_and_data\\Dataset\\Additional_data\\Sea_levels\\Data\\Chapter4_SM\\SM4.2\\rsl_85_2090.nc')\n"
   ]
  },
  {
   "cell_type": "code",
   "execution_count": null,
   "metadata": {
    "ExecuteTime": {
     "end_time": "2021-06-10T02:19:49.444258Z",
     "start_time": "2021-06-10T02:18:06.333Z"
    }
   },
   "outputs": [],
   "source": [
    "# Get the RSLR for Tarawa specifically\n",
    "RSLR_2040_rcp26 = float(ds_RSLR_2040_rcp26['slr_md'].sel(x=tarawa_long,y=tarawa_lat,method='nearest'))\n",
    "RSLR_2055_rcp26 = float(ds_RSLR_2055_rcp26['slr_md'].sel(x=tarawa_long,y=tarawa_lat,method='nearest'))\n",
    "RSLR_2090_rcp26 = float(ds_RSLR_2090_rcp26['slr_md'].sel(x=tarawa_long,y=tarawa_lat,method='nearest'))\n",
    "\n",
    "RSLR_2040_rcp45 = float(ds_RSLR_2040_rcp45['slr_md'].sel(x=tarawa_long,y=tarawa_lat,method='nearest'))\n",
    "RSLR_2055_rcp45 = float(ds_RSLR_2055_rcp45['slr_md'].sel(x=tarawa_long,y=tarawa_lat,method='nearest'))\n",
    "RSLR_2090_rcp45 = float(ds_RSLR_2090_rcp45['slr_md'].sel(x=tarawa_long,y=tarawa_lat,method='nearest'))\n",
    "\n",
    "RSLR_2040_rcp85 = float(ds_RSLR_2040_rcp85['slr_md'].sel(x=tarawa_long,y=tarawa_lat,method='nearest'))\n",
    "RSLR_2055_rcp85 = float(ds_RSLR_2055_rcp85['slr_md'].sel(x=tarawa_long,y=tarawa_lat,method='nearest'))\n",
    "RSLR_2090_rcp85 = float(ds_RSLR_2090_rcp85['slr_md'].sel(x=tarawa_long,y=tarawa_lat,method='nearest'))\n",
    "\n",
    "#### These values are relative to PI?? If so, I doubt Antonio's numbers are PI---so this needs to be adjusted for"
   ]
  },
  {
   "cell_type": "markdown",
   "metadata": {},
   "source": [
    "### Use RCP Scenarios to set evidence"
   ]
  },
  {
   "cell_type": "code",
   "execution_count": null,
   "metadata": {
    "ExecuteTime": {
     "end_time": "2021-06-10T02:19:49.445255Z",
     "start_time": "2021-06-10T02:18:06.335Z"
    }
   },
   "outputs": [],
   "source": [
    "# Get MSLs adjusted for regional sea level rise\n",
    "MSL_2040_rcp26 = MSL_training_data_preprocessed+RSLR_2040_rcp26\n",
    "MSL_2055_rcp26 = MSL_training_data_preprocessed+RSLR_2055_rcp26\n",
    "MSL_2090_rcp26 = MSL_training_data_preprocessed+RSLR_2090_rcp26\n",
    "\n",
    "MSL_2040_rcp45 = MSL_training_data_preprocessed+RSLR_2040_rcp45\n",
    "MSL_2055_rcp45 = MSL_training_data_preprocessed+RSLR_2055_rcp45\n",
    "MSL_2090_rcp45 = MSL_training_data_preprocessed+RSLR_2090_rcp45\n",
    "\n",
    "MSL_2040_rcp85 = MSL_training_data_preprocessed+RSLR_2040_rcp85\n",
    "MSL_2055_rcp85 = MSL_training_data_preprocessed+RSLR_2055_rcp85\n",
    "MSL_2090_rcp85 = MSL_training_data_preprocessed+RSLR_2090_rcp85"
   ]
  },
  {
   "cell_type": "code",
   "execution_count": null,
   "metadata": {
    "ExecuteTime": {
     "end_time": "2021-06-10T02:19:49.447254Z",
     "start_time": "2021-06-10T02:18:06.337Z"
    }
   },
   "outputs": [],
   "source": [
    "def test_model(evidence_array,model_dict):\n",
    "\n",
    "    # Adjust MSL for difference between antonio data and IPCC data\n",
    "    SLR_adjustment = 2*11/1000\n",
    "    evidence_array -= SLR_adjustment\n",
    "    \n",
    "    # Dicretise the data\n",
    "    MSL_discretised = descretiser(bin_edges,bin_names,evidence_array)\n",
    "    df_MSL = grouping_bins(MSL_discretised)\n",
    "    df_MSL = df_MSL.reindex(model_dict['variables']['MSL']['discretisation']['bin_names'])\n",
    "    df_MSL[df_MSL.isna()] = 0.001\n",
    "    df_MSL = df_MSL/np.nansum(df_MSL)\n",
    "    \n",
    "    # Create dict of evidence\n",
    "    MSL_evidence_dict = {\n",
    "        'MSL':list(df_MSL[0])\n",
    "    }\n",
    "\n",
    "    # Add evidence for MSL to the model dict\n",
    "    model_dict = BNModel().add_evidence_to_dict(model_dict,MSL_evidence_dict)\n",
    "\n",
    "    # Set evidence and get beliefs\n",
    "    model_dict = BNModel().update_evidence(model_dict)\n",
    "\n",
    "    # TWL posterior 2100\n",
    "    TWL_MSL_posterior_dict = model_dict['variables']['TWL_point_110']['resulting_probs'][0]\n",
    "    df_TWL_posterior = pd.DataFrame.from_dict(TWL_MSL_posterior_dict,orient='index')\n",
    "    \n",
    "    return(df_TWL_posterior,df_MSL)"
   ]
  },
  {
   "cell_type": "code",
   "execution_count": null,
   "metadata": {
    "ExecuteTime": {
     "end_time": "2021-06-10T02:19:49.448253Z",
     "start_time": "2021-06-10T02:18:06.339Z"
    }
   },
   "outputs": [],
   "source": [
    "IPCC_posteriors_dict = {}\n",
    "MSL_prior_dict = {}\n",
    "\n",
    "MSL_array_list = [MSL_2040_rcp26,MSL_2055_rcp26,MSL_2090_rcp26,MSL_2040_rcp45,MSL_2055_rcp45,MSL_2090_rcp45,MSL_2040_rcp85,MSL_2055_rcp85,MSL_2090_rcp85]\n",
    "\n",
    "for array, label in zip(MSL_array_list,\n",
    "                        ['RCP2.6, 2040','RCP2.6, 2055','RCP2.6, 2090','RCP4.5, 2040','RCP4.5, 2055','RCP4.5, 2090','RCP8.5, 2040','RCP8.5, 2055','RCP8.5, 2090']):\n",
    "    \n",
    "    df_TWL_posterior, df_MSL = test_model(array, lagoon_model_dict)\n",
    "    \n",
    "    IPCC_posteriors_dict.update({\n",
    "        label:df_TWL_posterior\n",
    "    })\n",
    "    \n",
    "    MSL_prior_dict.update({\n",
    "        label:df_MSL\n",
    "    })"
   ]
  },
  {
   "cell_type": "code",
   "execution_count": null,
   "metadata": {
    "ExecuteTime": {
     "end_time": "2021-06-10T02:19:49.450252Z",
     "start_time": "2021-06-10T02:18:06.341Z"
    }
   },
   "outputs": [],
   "source": [
    "\n",
    "# Set up the figure\n",
    "fig = plt.figure(figsize=(10,15))\n",
    "fig.subplots_adjust(hspace=0.5)\n",
    "ax1 = plt.subplot2grid((3,1),(0,0))\n",
    "ax2 = plt.subplot2grid((3,1),(1,0))\n",
    "ax3 = plt.subplot2grid((3,1),(2,0))\n",
    "\n",
    "# # Plot MSL data and prior distributions\n",
    "# ax1.plot(df_MSL_2021,c='k')\n",
    "# ax1.plot(df_MSL_2050,c='b')\n",
    "# ax1.plot(df_MSL_2100,c='r')\n",
    "for key,df_prior in MSL_prior_dict.items():\n",
    "    ax1.plot(df_prior)\n",
    "\n",
    "# # Plot posterior distributions compared to original data\n",
    "# output_2021, = ax2.plot(df_TWL_training,c='k')\n",
    "# output_2050, = ax2.plot(df_TWL_MSL_2050_posterior,c='b')\n",
    "# output_2100, = ax2.plot(df_TWL_MSL_2100_posterior,c='r')\n",
    "outputs = []\n",
    "\n",
    "for key,posterior_array in IPCC_posteriors_dict.items():\n",
    "    output, = ax2.plot(posterior_array)\n",
    "    outputs.append(output)\n",
    "\n",
    "# # Plot posterior distributions as a fraction of the original data\n",
    "# output_2050, = ax3.plot(df_TWL_MSL_2050,c='b')\n",
    "# output_2100, = ax3.plot(df_TWL_MSL_2100,c='r')\n",
    "# ax3_xlims = ax3.get_xlim()\n",
    "# ax3.plot(ax3_xlims,[1,1],c='0.5',ls='--')\n",
    "# ax3.set_xlim(ax3_xlims)\n",
    "\n",
    "# Format the graph\n",
    "ax1.set_ylabel('Probability')\n",
    "ax1.set_xlabel('Mean Sea Level')\n",
    "ax2.set_ylabel('Probability')\n",
    "ax2.set_xlabel('Total Water Level')\n",
    "ax3.set_ylabel('Probability/Probability')\n",
    "ax3.set_xlabel('Total Water Level')\n",
    "\n",
    "ax1.legend(outputs,IPCC_posteriors_dict.keys())\n"
   ]
  },
  {
   "cell_type": "markdown",
   "metadata": {},
   "source": [
    "# Mean wave height and period"
   ]
  },
  {
   "cell_type": "code",
   "execution_count": null,
   "metadata": {
    "ExecuteTime": {
     "end_time": "2021-06-10T02:19:49.451252Z",
     "start_time": "2021-06-10T02:18:06.343Z"
    }
   },
   "outputs": [],
   "source": [
    "Hs_mean = lagoon_model_dict['variables']['Hs_offshore']['training_data_preprocessed'][0]\n",
    "np.mean(Hs_mean)"
   ]
  },
  {
   "cell_type": "code",
   "execution_count": null,
   "metadata": {
    "ExecuteTime": {
     "end_time": "2021-06-10T02:19:49.452251Z",
     "start_time": "2021-06-10T02:18:06.345Z"
    }
   },
   "outputs": [],
   "source": [
    "Tm_mean = lagoon_model_dict['variables']['Tm_offshore']['training_data_preprocessed'][0]\n",
    "np.mean(Tm_mean)"
   ]
  },
  {
   "cell_type": "code",
   "execution_count": null,
   "metadata": {
    "ExecuteTime": {
     "end_time": "2021-06-10T02:19:49.454251Z",
     "start_time": "2021-06-10T02:18:06.347Z"
    }
   },
   "outputs": [],
   "source": [
    "lagoon_model_dict['variables']['Hs_offshore']"
   ]
  },
  {
   "cell_type": "code",
   "execution_count": null,
   "metadata": {},
   "outputs": [],
   "source": []
  }
 ],
 "metadata": {
  "hide_input": false,
  "kernelspec": {
   "display_name": "Python 3",
   "language": "python",
   "name": "python3"
  },
  "language_info": {
   "codemirror_mode": {
    "name": "ipython",
    "version": 3
   },
   "file_extension": ".py",
   "mimetype": "text/x-python",
   "name": "python",
   "nbconvert_exporter": "python",
   "pygments_lexer": "ipython3",
   "version": "3.8.5"
  },
  "toc": {
   "base_numbering": 1,
   "nav_menu": {},
   "number_sections": true,
   "sideBar": true,
   "skip_h1_title": false,
   "title_cell": "Table of Contents",
   "title_sidebar": "Contents",
   "toc_cell": false,
   "toc_position": {
    "height": "calc(100% - 180px)",
    "left": "10px",
    "top": "150px",
    "width": "350px"
   },
   "toc_section_display": true,
   "toc_window_display": true
  },
  "varInspector": {
   "cols": {
    "lenName": 16,
    "lenType": 16,
    "lenVar": 40
   },
   "kernels_config": {
    "python": {
     "delete_cmd_postfix": "",
     "delete_cmd_prefix": "del ",
     "library": "var_list.py",
     "varRefreshCmd": "print(var_dic_list())"
    },
    "r": {
     "delete_cmd_postfix": ") ",
     "delete_cmd_prefix": "rm(",
     "library": "var_list.r",
     "varRefreshCmd": "cat(var_dic_list()) "
    }
   },
   "types_to_exclude": [
    "module",
    "function",
    "builtin_function_or_method",
    "instance",
    "_Feature"
   ],
   "window_display": false
  }
 },
 "nbformat": 4,
 "nbformat_minor": 4
}
