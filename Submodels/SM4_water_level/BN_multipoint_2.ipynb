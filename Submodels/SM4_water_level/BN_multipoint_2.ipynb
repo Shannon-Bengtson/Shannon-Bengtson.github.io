{
 "cells": [
  {
   "cell_type": "markdown",
   "metadata": {},
   "source": [
    "# File Description"
   ]
  },
  {
   "cell_type": "markdown",
   "metadata": {},
   "source": [
    "This notebook contains the most up-to-date version of the pilot model for total water level on Tarawa, currently for only two locations (one lagoon side and one ocean side).\n",
    "\n",
    "Currently needs work:\n",
    "- Incorporating MEI into network\n",
    "- Adjusting the binning of the MSL distributions to account for future SLR\n",
    "- Adding SLR projections as evidence option"
   ]
  },
  {
   "cell_type": "markdown",
   "metadata": {},
   "source": [
    "<cite data-cite=\"2344856/I2LE4LVY\"></cite>\n",
    "\n",
    "\n",
    "<div class=\"cite2c-biblio\"></div>"
   ]
  },
  {
   "cell_type": "markdown",
   "metadata": {},
   "source": [
    "# File Setup"
   ]
  },
  {
   "cell_type": "code",
   "execution_count": 1,
   "metadata": {
    "ExecuteTime": {
     "end_time": "2021-06-10T02:18:06.245034Z",
     "start_time": "2021-06-10T02:18:06.200060Z"
    }
   },
   "outputs": [],
   "source": [
    "%load_ext autoreload\n",
    "%autoreload 2"
   ]
  },
  {
   "cell_type": "code",
   "execution_count": 2,
   "metadata": {
    "ExecuteTime": {
     "end_time": "2021-06-10T02:18:09.215577Z",
     "start_time": "2021-06-10T02:18:06.246033Z"
    }
   },
   "outputs": [
    {
     "name": "stdout",
     "output_type": "stream",
     "text": [
      "Enabling notebook extension jupyter-leaflet/extension...\r\n",
      "      - Validating: \u001b[32mOK\u001b[0m\r\n"
     ]
    }
   ],
   "source": [
    "import pandas as pd\n",
    "import numpy as np\n",
    "import matplotlib\n",
    "import matplotlib.pyplot as plt\n",
    "import itertools\n",
    "import os\n",
    "import json\n",
    "from datetime import datetime\n",
    "import pysmile\n",
    "import pysmile_license\n",
    "import sys\n",
    "import json\n",
    "sys.path.append('/src/python_classes')\n",
    "import rpy2\n",
    "# os.environ['R_HOME'] = 'C:\\ProgramData\\Anaconda3\\Lib\\R'\n",
    "# %load_ext rpy2.ipython\n",
    "!jupyter nbextension enable --py --sys-prefix ipyleaflet\n",
    "from ipywidgets import interact, interactive, fixed, interact_manual\n",
    "from ipyleaflet import *\n",
    "import ipywidgets as widgets\n",
    "from matplotlib.animation import FuncAnimation\n",
    "import geojson\n",
    "import folium\n",
    "from colormap import rgb2hex\n",
    "import rpy2\n",
    "os.environ['R_HOME'] = '/lib/R'\n",
    "%load_ext rpy2.ipython\n",
    "from folium.plugins import FloatImage\n",
    "\n",
    "from BNModel import BNModel\n",
    "\n",
    "from preprocessing_all_points import *\n",
    "from preprocessing_points_spatially import *"
   ]
  },
  {
   "cell_type": "code",
   "execution_count": 3,
   "metadata": {},
   "outputs": [],
   "source": [
    "y = [2,3]"
   ]
  },
  {
   "cell_type": "code",
   "execution_count": 4,
   "metadata": {
    "ExecuteTime": {
     "end_time": "2021-06-10T02:18:09.301509Z",
     "start_time": "2021-06-10T02:18:09.217559Z"
    }
   },
   "outputs": [],
   "source": [
    "# ### set location of file storage\n",
    "# folder = 'BN_antonio_data'\n",
    "# try:\n",
    "#     os.makedirs(folder)\n",
    "# except FileExistsError:\n",
    "#     pass"
   ]
  },
  {
   "cell_type": "markdown",
   "metadata": {},
   "source": [
    "# Data Prep"
   ]
  },
  {
   "cell_type": "markdown",
   "metadata": {},
   "source": [
    "## Preprocessing"
   ]
  },
  {
   "cell_type": "code",
   "execution_count": 5,
   "metadata": {
    "ExecuteTime": {
     "end_time": "2021-06-10T02:18:16.558430Z",
     "start_time": "2021-06-10T02:18:09.303508Z"
    }
   },
   "outputs": [],
   "source": [
    "# Import and preprocess data\n",
    "df_ocean,df_lagoon = preprocessing_points_spatially()\n",
    "df_lagoon,lagoon_data_dict = BN_Antonio_preprocessing_lagoon(df_lagoon)\n",
    "df_ocean,ocean_data_dict = BN_Antonio_preprocessing_ocean(df_ocean)"
   ]
  },
  {
   "cell_type": "markdown",
   "metadata": {},
   "source": [
    "## Create Variable Dictionary"
   ]
  },
  {
   "cell_type": "code",
   "execution_count": 6,
   "metadata": {
    "ExecuteTime": {
     "end_time": "2021-06-10T02:19:00.234568Z",
     "start_time": "2021-06-10T02:19:00.159611Z"
    },
    "code_folding": [],
    "scrolled": false
   },
   "outputs": [],
   "source": [
    "#### Don't include spaces in bin names. if no discretisation, just leave out that key\n",
    "lagoon_model_dict = {\n",
    "    'variables':{\n",
    "        'wind_u':{\n",
    "            'label':'Wind u vector (m/s)',\n",
    "            'discretisation':{\n",
    "                'n_bins':5,\n",
    "                'strategy':'kmeans',\n",
    "                'bin_names':['VeryLow','Low','Mid','High','VeryHigh']\n",
    "            },\n",
    "            'child_nodes':['TWL_less_Tide']\n",
    "        },\n",
    "        'wind_v':{\n",
    "            'label':r'Wind v vector (m/s)',\n",
    "            'discretisation':{\n",
    "                'n_bins':5,\n",
    "                'strategy':'uniform',\n",
    "                'bin_names':['VeryLow','Low','Mid','High','VeryHigh']\n",
    "            },\n",
    "            'child_nodes':['TWL_less_Tide']\n",
    "        },\n",
    "        'Hs_offshore':{\n",
    "            'label':'Offshore wave height (m)',\n",
    "            'discretisation':{\n",
    "                'n_bins':5,\n",
    "                'strategy':'kmeans',\n",
    "                'bin_names':['VeryLow','Low','Mid','HighMid','VeryHigh']\n",
    "            },\n",
    "            'child_nodes':['TWL_less_Tide']\n",
    "        },\n",
    "        'Tm_offshore':{\n",
    "            'label':'Offshore wave period (s)',\n",
    "            'discretisation':{\n",
    "                'n_bins':5,\n",
    "                'strategy':'kmeans',\n",
    "                'bin_names':['VeryLow','Low','Mid','High','VeryHigh']\n",
    "            },\n",
    "            'child_nodes':['TWL_less_Tide']\n",
    "        },\n",
    "        'Dir_offshore':{\n",
    "            'label':r'Offshore wave direction (degrees)',\n",
    "            'discretisation':{\n",
    "                'n_bins':8,\n",
    "                'strategy':'kmeans',\n",
    "                'bin_names':['NNE','ENE','ESE','SSE','SSW','WSW','WNW','NNW']\n",
    "            },\n",
    "            'child_nodes':['TWL_less_Tide']\n",
    "        },\n",
    "        'TWL':{\n",
    "            'label':'Total water level (m)',\n",
    "            'discretisation':{\n",
    "                'n_bins':7,\n",
    "                'strategy':'binned',\n",
    "                'bin_names':['VeryLow','Low','LowMid','Mid','MidHigh','High','VeryHigh'],\n",
    "                'bin_edges':np.arange(-1,3.0,0.5)\n",
    "            },\n",
    "            'child_nodes':[]\n",
    "        },\n",
    "        'TWL_less_Tide':{\n",
    "            'label':'Total water level less tide (m)',\n",
    "            'discretisation':{\n",
    "                'n_bins':5,\n",
    "                'strategy':'kmeans',\n",
    "                'bin_names':['VeryLow','Low','Mid','High','VeryHigh']\n",
    "            },\n",
    "            'child_nodes':['TWL']\n",
    "        },\n",
    "        'MSL':{\n",
    "            'label':'Mean sea level (m)',\n",
    "            'discretisation':{\n",
    "                'n_bins':5,\n",
    "                'strategy':'kmeans',\n",
    "                'bin_names':['VeryLow','Low','Mid','High','VeryHigh']\n",
    "            },\n",
    "            'child_nodes':['TWL_less_Tide']\n",
    "        },\n",
    "        'Tide':{\n",
    "            'label':'Tide (m)',\n",
    "            'discretisation':{\n",
    "                'n_bins':5,\n",
    "                'strategy':'kmeans',\n",
    "                'bin_names':['VeryLow','Low','Mid','High','VeryHigh']\n",
    "            },\n",
    "            'child_nodes':['TWL']\n",
    "        }\n",
    "    },\n",
    "    'training_frac':0.8,\n",
    "    'bootstrap_reps':1\n",
    "}"
   ]
  },
  {
   "cell_type": "code",
   "execution_count": 7,
   "metadata": {
    "ExecuteTime": {
     "end_time": "2021-06-10T02:19:00.324519Z",
     "start_time": "2021-06-10T02:19:00.237568Z"
    },
    "code_folding": []
   },
   "outputs": [],
   "source": [
    "ocean_model_dict = {\n",
    "   'variables':{\n",
    "       'Tm_offshore':{\n",
    "            'label':'Wave period offshore (?)',\n",
    "            'discretisation':{\n",
    "                'n_bins':5,\n",
    "                'strategy':'kmeans',\n",
    "                'bin_names':['VeryLow','Low','Mid','High','VeryHigh']\n",
    "            },\n",
    "            'child_nodes':['TWL_less_Tide']\n",
    "        },\n",
    "        'Hs_offshore':{\n",
    "            'label':'Wave height offshore (m)',\n",
    "            'discretisation':{\n",
    "                'n_bins':5,\n",
    "                'strategy':'kmeans',\n",
    "                'bin_names':['VeryLow','Low','Mid','High','VeryHigh']\n",
    "            },\n",
    "            'child_nodes':['TWL_less_Tide']\n",
    "        },\n",
    "        'Dir_offshore':{\n",
    "            'label':'Wave direction offshore (degrees)',\n",
    "            'discretisation':{\n",
    "                'n_bins':8,\n",
    "                'strategy':'kmeans',\n",
    "                'bin_names':['NNE','ENE','ESE','SSE','SSW','WSW','WNW','NNW']\n",
    "            },\n",
    "            'child_nodes':['TWL_less_Tide']\n",
    "        },\n",
    "        'MSL':{\n",
    "            'label':'Mean sea level (m)',\n",
    "            'discretisation':{\n",
    "                'n_bins':5,\n",
    "                'strategy':'kmeans',\n",
    "                'bin_names':['VeryLow','Low','Mid','High','VeryHigh']\n",
    "            },\n",
    "            'child_nodes':['TWL_less_Tide']\n",
    "        },\n",
    "        'Tide':{\n",
    "            'label':'Tide (m)',\n",
    "            'discretisation':{\n",
    "                'n_bins':5,\n",
    "                'strategy':'kmeans',\n",
    "                'bin_names':['VeryLow','Low','Mid','High','VeryHigh']\n",
    "            },\n",
    "            'child_nodes':['TWL']\n",
    "        },\n",
    "        'TWL':{\n",
    "            'label':'Total water level (m)',\n",
    "            'discretisation':{\n",
    "                'n_bins':7,\n",
    "                'strategy':'binned',\n",
    "                'bin_names':['VeryLow','Low','LowMid','Mid','MidHigh','High','VeryHigh'],\n",
    "                'bin_edges':np.arange(-1,3.0,0.5)\n",
    "            },\n",
    "            'child_nodes':[]\n",
    "        },\n",
    "        'TWL_less_Tide':{\n",
    "            'label':'Total water level less tide (m)',\n",
    "            'discretisation':{\n",
    "                'n_bins':5,\n",
    "                'strategy':'kmeans',\n",
    "                'bin_names':['VeryLow','Low','Mid','High','VeryHigh']\n",
    "            },\n",
    "            'child_nodes':['TWL']\n",
    "        },\n",
    "        'reef_width':{\n",
    "            'label':'Reef width (m)',\n",
    "            'discretisation':{\n",
    "                'n_bins':5,\n",
    "                'strategy':'kmeans',\n",
    "                'bin_names':['VeryLow','Low','Mid','High','VeryHigh']\n",
    "            },\n",
    "            'child_nodes':['TWL_less_Tide']\n",
    "        },\n",
    "        'reef_depth':{\n",
    "            'label':'Reef depth (m)',\n",
    "            'discretisation':{\n",
    "                'n_bins':5,\n",
    "                'strategy':'kmeans',\n",
    "                'bin_names':['VeryLow','Low','Mid','High','VeryHigh']\n",
    "            },\n",
    "            'child_nodes':['TWL_less_Tide']\n",
    "        },\n",
    "        'forereef_slope':{\n",
    "            'label':'Fore reef slope (degrees)',\n",
    "            'discretisation':{\n",
    "                'n_bins':5,\n",
    "                'strategy':'kmeans',\n",
    "                'bin_names':['VeryLow','Low','Mid','High','VeryHigh']\n",
    "            },\n",
    "            'child_nodes':['TWL_less_Tide']\n",
    "        },\n",
    "        'shore_dir':{\n",
    "            'label':'Shoreline direction (degrees)',\n",
    "            'discretisation':{\n",
    "                'n_bins':3,\n",
    "                'strategy':'kmeans',\n",
    "                'bin_names':['NE','S','NW']\n",
    "            },\n",
    "            'child_nodes':['TWL_less_Tide']\n",
    "        } \n",
    "   },\n",
    "    'training_frac':0.8,\n",
    "    'bootstrap_reps':1\n",
    "}"
   ]
  },
  {
   "cell_type": "markdown",
   "metadata": {},
   "source": [
    "## Bootstrapping the data"
   ]
  },
  {
   "cell_type": "code",
   "execution_count": 8,
   "metadata": {
    "ExecuteTime": {
     "end_time": "2021-06-10T02:19:00.754301Z",
     "start_time": "2021-06-10T02:19:00.326513Z"
    },
    "scrolled": true
   },
   "outputs": [],
   "source": [
    "# Bootstrap the data, and add it to the model_dict\n",
    "lagoon_model_dict = BNModel().bootstrap_data(lagoon_model_dict,lagoon_data_dict,df_lagoon)\n",
    "\n",
    "ocean_model_dict = BNModel().bootstrap_data(ocean_model_dict,ocean_data_dict,df_ocean)"
   ]
  },
  {
   "cell_type": "markdown",
   "metadata": {},
   "source": [
    "## Discretise the data"
   ]
  },
  {
   "cell_type": "code",
   "execution_count": 9,
   "metadata": {
    "ExecuteTime": {
     "end_time": "2021-06-10T02:19:46.021235Z",
     "start_time": "2021-06-10T02:19:00.755300Z"
    }
   },
   "outputs": [],
   "source": [
    "# Discretise the data\n",
    "lagoon_file_label = \"lagoon\"\n",
    "ocean_file_label = \"ocean\"\n",
    "\n",
    "lagoon_model_dict = BNModel().discretiser(lagoon_model_dict)\n",
    "ocean_model_dict = BNModel().discretiser(ocean_model_dict)"
   ]
  },
  {
   "cell_type": "code",
   "execution_count": 10,
   "metadata": {
    "ExecuteTime": {
     "end_time": "2021-06-10T02:19:46.096175Z",
     "start_time": "2021-06-10T02:19:46.022236Z"
    }
   },
   "outputs": [],
   "source": [
    "# lagoon_model_dict['variables']['MEI']"
   ]
  },
  {
   "cell_type": "code",
   "execution_count": 11,
   "metadata": {
    "ExecuteTime": {
     "end_time": "2021-06-10T02:19:49.387291Z",
     "start_time": "2021-06-10T02:19:46.102171Z"
    },
    "scrolled": false
   },
   "outputs": [
    {
     "data": {
      "image/png": "[encoded data removed]",
      "text/plain": [
       "<Figure size 720x1440 with 18 Axes>"
      ]
     },
     "metadata": {
      "needs_background": "light"
     },
     "output_type": "display_data"
    }
   ],
   "source": [
    "lagoon_disc_fig = BNModel().plot_discretiser(lagoon_model_dict)"
   ]
  },
  {
   "cell_type": "code",
   "execution_count": 12,
   "metadata": {
    "ExecuteTime": {
     "end_time": "2021-06-10T02:19:49.404279Z",
     "start_time": "2021-06-10T02:18:06.256Z"
    },
    "scrolled": false
   },
   "outputs": [
    {
     "data": {
      "image/png": "[encoded data removed]",
      "text/plain": [
       "<Figure size 720x1440 with 22 Axes>"
      ]
     },
     "metadata": {
      "needs_background": "light"
     },
     "output_type": "display_data"
    }
   ],
   "source": [
    "ocean_disc_fig = BNModel().plot_discretiser(ocean_model_dict)"
   ]
  },
  {
   "cell_type": "markdown",
   "metadata": {},
   "source": [
    "## Save the data"
   ]
  },
  {
   "cell_type": "code",
   "execution_count": 13,
   "metadata": {
    "ExecuteTime": {
     "end_time": "2021-06-10T02:20:58.711518Z",
     "start_time": "2021-06-10T02:20:53.985216Z"
    }
   },
   "outputs": [],
   "source": [
    "BNModel().save_dataset(lagoon_model_dict,lagoon_file_label)\n",
    "BNModel().save_dataset(ocean_model_dict,ocean_file_label)"
   ]
  },
  {
   "cell_type": "markdown",
   "metadata": {},
   "source": [
    "# Create BN Model"
   ]
  },
  {
   "cell_type": "code",
   "execution_count": 14,
   "metadata": {
    "ExecuteTime": {
     "end_time": "2021-06-10T02:21:05.864450Z",
     "start_time": "2021-06-10T02:21:05.152790Z"
    }
   },
   "outputs": [],
   "source": [
    "# Create the BN\n",
    "lagoon_model_dict = BNModel().create_SM(lagoon_model_dict,lagoon_file_label)"
   ]
  },
  {
   "cell_type": "code",
   "execution_count": 15,
   "metadata": {
    "ExecuteTime": {
     "end_time": "2021-06-10T02:21:05.864450Z",
     "start_time": "2021-06-10T02:21:05.152790Z"
    },
    "scrolled": true
   },
   "outputs": [],
   "source": [
    "ocean_model_dict = BNModel().create_SM(ocean_model_dict,ocean_file_label)"
   ]
  },
  {
   "cell_type": "markdown",
   "metadata": {},
   "source": [
    "## View Conditional Probability tables"
   ]
  },
  {
   "cell_type": "code",
   "execution_count": 16,
   "metadata": {
    "ExecuteTime": {
     "end_time": "2021-06-10T02:20:58.809434Z",
     "start_time": "2021-06-10T02:20:56.573Z"
    },
    "scrolled": false
   },
   "outputs": [
    {
     "data": {
      "text/html": [
       "<div>\n",
       "<style scoped>\n",
       "    .dataframe tbody tr th:only-of-type {\n",
       "        vertical-align: middle;\n",
       "    }\n",
       "\n",
       "    .dataframe tbody tr th {\n",
       "        vertical-align: top;\n",
       "    }\n",
       "\n",
       "    .dataframe thead tr th {\n",
       "        text-align: left;\n",
       "    }\n",
       "\n",
       "    .dataframe thead tr:last-of-type th {\n",
       "        text-align: right;\n",
       "    }\n",
       "</style>\n",
       "<table border=\"1\" class=\"dataframe\">\n",
       "  <thead>\n",
       "    <tr>\n",
       "      <th>TWL_less_Tide</th>\n",
       "      <th colspan=\"5\" halign=\"left\">VeryLow</th>\n",
       "      <th colspan=\"5\" halign=\"left\">Low</th>\n",
       "      <th>...</th>\n",
       "      <th colspan=\"5\" halign=\"left\">High</th>\n",
       "      <th colspan=\"5\" halign=\"left\">VeryHigh</th>\n",
       "    </tr>\n",
       "    <tr>\n",
       "      <th>Tide</th>\n",
       "      <th>VeryLow</th>\n",
       "      <th>Low</th>\n",
       "      <th>Mid</th>\n",
       "      <th>High</th>\n",
       "      <th>VeryHigh</th>\n",
       "      <th>VeryLow</th>\n",
       "      <th>Low</th>\n",
       "      <th>Mid</th>\n",
       "      <th>High</th>\n",
       "      <th>VeryHigh</th>\n",
       "      <th>...</th>\n",
       "      <th>VeryLow</th>\n",
       "      <th>Low</th>\n",
       "      <th>Mid</th>\n",
       "      <th>High</th>\n",
       "      <th>VeryHigh</th>\n",
       "      <th>VeryLow</th>\n",
       "      <th>Low</th>\n",
       "      <th>Mid</th>\n",
       "      <th>High</th>\n",
       "      <th>VeryHigh</th>\n",
       "    </tr>\n",
       "    <tr>\n",
       "      <th>TWL</th>\n",
       "      <th></th>\n",
       "      <th></th>\n",
       "      <th></th>\n",
       "      <th></th>\n",
       "      <th></th>\n",
       "      <th></th>\n",
       "      <th></th>\n",
       "      <th></th>\n",
       "      <th></th>\n",
       "      <th></th>\n",
       "      <th></th>\n",
       "      <th></th>\n",
       "      <th></th>\n",
       "      <th></th>\n",
       "      <th></th>\n",
       "      <th></th>\n",
       "      <th></th>\n",
       "      <th></th>\n",
       "      <th></th>\n",
       "      <th></th>\n",
       "      <th></th>\n",
       "    </tr>\n",
       "  </thead>\n",
       "  <tbody>\n",
       "    <tr>\n",
       "      <th>High</th>\n",
       "      <td>0.000000</td>\n",
       "      <td>0.000000</td>\n",
       "      <td>0.000000</td>\n",
       "      <td>0.011194</td>\n",
       "      <td>0.307692</td>\n",
       "      <td>0.000000</td>\n",
       "      <td>0.000000</td>\n",
       "      <td>0.000000</td>\n",
       "      <td>0.000000</td>\n",
       "      <td>0.013812</td>\n",
       "      <td>...</td>\n",
       "      <td>0.000000</td>\n",
       "      <td>0.000000</td>\n",
       "      <td>0.000000</td>\n",
       "      <td>0.000000</td>\n",
       "      <td>0.000000</td>\n",
       "      <td>0.0</td>\n",
       "      <td>0.000000</td>\n",
       "      <td>0.00000</td>\n",
       "      <td>0.000000</td>\n",
       "      <td>0.000000</td>\n",
       "    </tr>\n",
       "    <tr>\n",
       "      <th>Low</th>\n",
       "      <td>0.707071</td>\n",
       "      <td>0.008696</td>\n",
       "      <td>0.000000</td>\n",
       "      <td>0.000000</td>\n",
       "      <td>0.000000</td>\n",
       "      <td>0.848325</td>\n",
       "      <td>0.389755</td>\n",
       "      <td>0.000000</td>\n",
       "      <td>0.000000</td>\n",
       "      <td>0.000000</td>\n",
       "      <td>...</td>\n",
       "      <td>0.019106</td>\n",
       "      <td>0.965167</td>\n",
       "      <td>0.361982</td>\n",
       "      <td>0.000000</td>\n",
       "      <td>0.000000</td>\n",
       "      <td>0.0</td>\n",
       "      <td>0.790999</td>\n",
       "      <td>0.59759</td>\n",
       "      <td>0.000000</td>\n",
       "      <td>0.000000</td>\n",
       "    </tr>\n",
       "    <tr>\n",
       "      <th>LowMid</th>\n",
       "      <td>0.287879</td>\n",
       "      <td>0.886957</td>\n",
       "      <td>0.185771</td>\n",
       "      <td>0.000000</td>\n",
       "      <td>0.000000</td>\n",
       "      <td>0.000000</td>\n",
       "      <td>0.610245</td>\n",
       "      <td>0.790789</td>\n",
       "      <td>0.026667</td>\n",
       "      <td>0.000000</td>\n",
       "      <td>...</td>\n",
       "      <td>0.000000</td>\n",
       "      <td>0.000000</td>\n",
       "      <td>0.638018</td>\n",
       "      <td>0.806843</td>\n",
       "      <td>0.000000</td>\n",
       "      <td>0.0</td>\n",
       "      <td>0.000000</td>\n",
       "      <td>0.40241</td>\n",
       "      <td>0.964936</td>\n",
       "      <td>0.058707</td>\n",
       "    </tr>\n",
       "    <tr>\n",
       "      <th>Mid</th>\n",
       "      <td>0.000000</td>\n",
       "      <td>0.104348</td>\n",
       "      <td>0.770751</td>\n",
       "      <td>0.466418</td>\n",
       "      <td>0.000000</td>\n",
       "      <td>0.000000</td>\n",
       "      <td>0.000000</td>\n",
       "      <td>0.209211</td>\n",
       "      <td>0.956000</td>\n",
       "      <td>0.229282</td>\n",
       "      <td>...</td>\n",
       "      <td>0.000000</td>\n",
       "      <td>0.000000</td>\n",
       "      <td>0.000000</td>\n",
       "      <td>0.193157</td>\n",
       "      <td>0.919136</td>\n",
       "      <td>0.0</td>\n",
       "      <td>0.000000</td>\n",
       "      <td>0.00000</td>\n",
       "      <td>0.035064</td>\n",
       "      <td>0.913500</td>\n",
       "    </tr>\n",
       "    <tr>\n",
       "      <th>MidHigh</th>\n",
       "      <td>0.000000</td>\n",
       "      <td>0.000000</td>\n",
       "      <td>0.043478</td>\n",
       "      <td>0.522388</td>\n",
       "      <td>0.687500</td>\n",
       "      <td>0.000000</td>\n",
       "      <td>0.000000</td>\n",
       "      <td>0.000000</td>\n",
       "      <td>0.017333</td>\n",
       "      <td>0.756906</td>\n",
       "      <td>...</td>\n",
       "      <td>0.000000</td>\n",
       "      <td>0.000000</td>\n",
       "      <td>0.000000</td>\n",
       "      <td>0.000000</td>\n",
       "      <td>0.080864</td>\n",
       "      <td>0.0</td>\n",
       "      <td>0.000000</td>\n",
       "      <td>0.00000</td>\n",
       "      <td>0.000000</td>\n",
       "      <td>0.027794</td>\n",
       "    </tr>\n",
       "    <tr>\n",
       "      <th>VeryHigh</th>\n",
       "      <td>0.000000</td>\n",
       "      <td>0.000000</td>\n",
       "      <td>0.000000</td>\n",
       "      <td>0.000000</td>\n",
       "      <td>0.004808</td>\n",
       "      <td>0.000000</td>\n",
       "      <td>0.000000</td>\n",
       "      <td>0.000000</td>\n",
       "      <td>0.000000</td>\n",
       "      <td>0.000000</td>\n",
       "      <td>...</td>\n",
       "      <td>0.000000</td>\n",
       "      <td>0.000000</td>\n",
       "      <td>0.000000</td>\n",
       "      <td>0.000000</td>\n",
       "      <td>0.000000</td>\n",
       "      <td>0.0</td>\n",
       "      <td>0.000000</td>\n",
       "      <td>0.00000</td>\n",
       "      <td>0.000000</td>\n",
       "      <td>0.000000</td>\n",
       "    </tr>\n",
       "    <tr>\n",
       "      <th>VeryLow</th>\n",
       "      <td>0.005051</td>\n",
       "      <td>0.000000</td>\n",
       "      <td>0.000000</td>\n",
       "      <td>0.000000</td>\n",
       "      <td>0.000000</td>\n",
       "      <td>0.151675</td>\n",
       "      <td>0.000000</td>\n",
       "      <td>0.000000</td>\n",
       "      <td>0.000000</td>\n",
       "      <td>0.000000</td>\n",
       "      <td>...</td>\n",
       "      <td>0.980894</td>\n",
       "      <td>0.034833</td>\n",
       "      <td>0.000000</td>\n",
       "      <td>0.000000</td>\n",
       "      <td>0.000000</td>\n",
       "      <td>1.0</td>\n",
       "      <td>0.209001</td>\n",
       "      <td>0.00000</td>\n",
       "      <td>0.000000</td>\n",
       "      <td>0.000000</td>\n",
       "    </tr>\n",
       "  </tbody>\n",
       "</table>\n",
       "<p>7 rows × 25 columns</p>\n",
       "</div>"
      ],
      "text/plain": [
       "TWL_less_Tide   VeryLow                                               Low  \\\n",
       "Tide            VeryLow       Low       Mid      High  VeryHigh   VeryLow   \n",
       "TWL                                                                         \n",
       "High           0.000000  0.000000  0.000000  0.011194  0.307692  0.000000   \n",
       "Low            0.707071  0.008696  0.000000  0.000000  0.000000  0.848325   \n",
       "LowMid         0.287879  0.886957  0.185771  0.000000  0.000000  0.000000   \n",
       "Mid            0.000000  0.104348  0.770751  0.466418  0.000000  0.000000   \n",
       "MidHigh        0.000000  0.000000  0.043478  0.522388  0.687500  0.000000   \n",
       "VeryHigh       0.000000  0.000000  0.000000  0.000000  0.004808  0.000000   \n",
       "VeryLow        0.005051  0.000000  0.000000  0.000000  0.000000  0.151675   \n",
       "\n",
       "TWL_less_Tide                                          ...      High  \\\n",
       "Tide                Low       Mid      High  VeryHigh  ...   VeryLow   \n",
       "TWL                                                    ...             \n",
       "High           0.000000  0.000000  0.000000  0.013812  ...  0.000000   \n",
       "Low            0.389755  0.000000  0.000000  0.000000  ...  0.019106   \n",
       "LowMid         0.610245  0.790789  0.026667  0.000000  ...  0.000000   \n",
       "Mid            0.000000  0.209211  0.956000  0.229282  ...  0.000000   \n",
       "MidHigh        0.000000  0.000000  0.017333  0.756906  ...  0.000000   \n",
       "VeryHigh       0.000000  0.000000  0.000000  0.000000  ...  0.000000   \n",
       "VeryLow        0.000000  0.000000  0.000000  0.000000  ...  0.980894   \n",
       "\n",
       "TWL_less_Tide                                         VeryHigh            \\\n",
       "Tide                Low       Mid      High  VeryHigh  VeryLow       Low   \n",
       "TWL                                                                        \n",
       "High           0.000000  0.000000  0.000000  0.000000      0.0  0.000000   \n",
       "Low            0.965167  0.361982  0.000000  0.000000      0.0  0.790999   \n",
       "LowMid         0.000000  0.638018  0.806843  0.000000      0.0  0.000000   \n",
       "Mid            0.000000  0.000000  0.193157  0.919136      0.0  0.000000   \n",
       "MidHigh        0.000000  0.000000  0.000000  0.080864      0.0  0.000000   \n",
       "VeryHigh       0.000000  0.000000  0.000000  0.000000      0.0  0.000000   \n",
       "VeryLow        0.034833  0.000000  0.000000  0.000000      1.0  0.209001   \n",
       "\n",
       "TWL_less_Tide                               \n",
       "Tide               Mid      High  VeryHigh  \n",
       "TWL                                         \n",
       "High           0.00000  0.000000  0.000000  \n",
       "Low            0.59759  0.000000  0.000000  \n",
       "LowMid         0.40241  0.964936  0.058707  \n",
       "Mid            0.00000  0.035064  0.913500  \n",
       "MidHigh        0.00000  0.000000  0.027794  \n",
       "VeryHigh       0.00000  0.000000  0.000000  \n",
       "VeryLow        0.00000  0.000000  0.000000  \n",
       "\n",
       "[7 rows x 25 columns]"
      ]
     },
     "execution_count": 16,
     "metadata": {},
     "output_type": "execute_result"
    }
   ],
   "source": [
    "# Get conditional probs tables\n",
    "BNModel().get_conditional_prob_table(lagoon_model_dict,'TWL')"
   ]
  },
  {
   "cell_type": "code",
   "execution_count": 17,
   "metadata": {
    "ExecuteTime": {
     "end_time": "2021-06-10T02:20:58.814431Z",
     "start_time": "2021-06-10T02:20:56.725Z"
    }
   },
   "outputs": [],
   "source": [
    "# Get conditional probs tables\n",
    "df_CPT_MSL = BNModel().get_conditional_prob_table(ocean_model_dict,'TWL')"
   ]
  },
  {
   "cell_type": "code",
   "execution_count": 18,
   "metadata": {
    "ExecuteTime": {
     "end_time": "2021-06-10T02:20:58.822424Z",
     "start_time": "2021-06-10T02:20:56.885Z"
    }
   },
   "outputs": [
    {
     "data": {
      "text/plain": [
       "<matplotlib.collections.PolyCollection at 0x7f5c5655a250>"
      ]
     },
     "execution_count": 18,
     "metadata": {},
     "output_type": "execute_result"
    },
    {
     "data": {
      "image/png": "[encoded data removed]",
      "text/plain": [
       "<Figure size 432x288 with 1 Axes>"
      ]
     },
     "metadata": {
      "needs_background": "light"
     },
     "output_type": "display_data"
    }
   ],
   "source": [
    "df_CPT_MSL = df_CPT_MSL.loc[['VeryLow','Low','Mid','High','VeryHigh']]\n",
    "\n",
    "plt.pcolor(df_CPT_MSL)"
   ]
  },
  {
   "cell_type": "code",
   "execution_count": 19,
   "metadata": {
    "ExecuteTime": {
     "end_time": "2021-06-10T02:20:58.827422Z",
     "start_time": "2021-06-10T02:20:57.062Z"
    }
   },
   "outputs": [
    {
     "data": {
      "text/html": [
       "<div>\n",
       "<style scoped>\n",
       "    .dataframe tbody tr th:only-of-type {\n",
       "        vertical-align: middle;\n",
       "    }\n",
       "\n",
       "    .dataframe tbody tr th {\n",
       "        vertical-align: top;\n",
       "    }\n",
       "\n",
       "    .dataframe thead tr th {\n",
       "        text-align: left;\n",
       "    }\n",
       "\n",
       "    .dataframe thead tr:last-of-type th {\n",
       "        text-align: right;\n",
       "    }\n",
       "</style>\n",
       "<table border=\"1\" class=\"dataframe\">\n",
       "  <thead>\n",
       "    <tr>\n",
       "      <th>Tide</th>\n",
       "      <th colspan=\"5\" halign=\"left\">VeryLow</th>\n",
       "      <th colspan=\"5\" halign=\"left\">Low</th>\n",
       "      <th>...</th>\n",
       "      <th colspan=\"5\" halign=\"left\">High</th>\n",
       "      <th colspan=\"5\" halign=\"left\">VeryHigh</th>\n",
       "    </tr>\n",
       "    <tr>\n",
       "      <th>TWL_less_Tide</th>\n",
       "      <th>VeryLow</th>\n",
       "      <th>Low</th>\n",
       "      <th>Mid</th>\n",
       "      <th>High</th>\n",
       "      <th>VeryHigh</th>\n",
       "      <th>VeryLow</th>\n",
       "      <th>Low</th>\n",
       "      <th>Mid</th>\n",
       "      <th>High</th>\n",
       "      <th>VeryHigh</th>\n",
       "      <th>...</th>\n",
       "      <th>VeryLow</th>\n",
       "      <th>Low</th>\n",
       "      <th>Mid</th>\n",
       "      <th>High</th>\n",
       "      <th>VeryHigh</th>\n",
       "      <th>VeryLow</th>\n",
       "      <th>Low</th>\n",
       "      <th>Mid</th>\n",
       "      <th>High</th>\n",
       "      <th>VeryHigh</th>\n",
       "    </tr>\n",
       "    <tr>\n",
       "      <th>TWL</th>\n",
       "      <th></th>\n",
       "      <th></th>\n",
       "      <th></th>\n",
       "      <th></th>\n",
       "      <th></th>\n",
       "      <th></th>\n",
       "      <th></th>\n",
       "      <th></th>\n",
       "      <th></th>\n",
       "      <th></th>\n",
       "      <th></th>\n",
       "      <th></th>\n",
       "      <th></th>\n",
       "      <th></th>\n",
       "      <th></th>\n",
       "      <th></th>\n",
       "      <th></th>\n",
       "      <th></th>\n",
       "      <th></th>\n",
       "      <th></th>\n",
       "      <th></th>\n",
       "    </tr>\n",
       "  </thead>\n",
       "  <tbody>\n",
       "    <tr>\n",
       "      <th>VeryLow</th>\n",
       "      <td>0.000000</td>\n",
       "      <td>0.000000</td>\n",
       "      <td>0.003629</td>\n",
       "      <td>0.068986</td>\n",
       "      <td>0.326938</td>\n",
       "      <td>0.000000</td>\n",
       "      <td>0.000000</td>\n",
       "      <td>0.000000</td>\n",
       "      <td>0.000000</td>\n",
       "      <td>0.000254</td>\n",
       "      <td>...</td>\n",
       "      <td>0.000000</td>\n",
       "      <td>0.000000</td>\n",
       "      <td>0.000000</td>\n",
       "      <td>0.000000</td>\n",
       "      <td>0.000000</td>\n",
       "      <td>0.00000</td>\n",
       "      <td>0.000000</td>\n",
       "      <td>0.000000</td>\n",
       "      <td>0.000000</td>\n",
       "      <td>0.000000</td>\n",
       "    </tr>\n",
       "    <tr>\n",
       "      <th>Low</th>\n",
       "      <td>0.014388</td>\n",
       "      <td>0.237453</td>\n",
       "      <td>0.723281</td>\n",
       "      <td>0.930777</td>\n",
       "      <td>0.673062</td>\n",
       "      <td>0.000000</td>\n",
       "      <td>0.000000</td>\n",
       "      <td>0.000000</td>\n",
       "      <td>0.191375</td>\n",
       "      <td>0.628764</td>\n",
       "      <td>...</td>\n",
       "      <td>0.000000</td>\n",
       "      <td>0.000000</td>\n",
       "      <td>0.000000</td>\n",
       "      <td>0.000000</td>\n",
       "      <td>0.000000</td>\n",
       "      <td>0.00000</td>\n",
       "      <td>0.000000</td>\n",
       "      <td>0.000000</td>\n",
       "      <td>0.000000</td>\n",
       "      <td>0.000000</td>\n",
       "    </tr>\n",
       "    <tr>\n",
       "      <th>Mid</th>\n",
       "      <td>0.315747</td>\n",
       "      <td>0.000000</td>\n",
       "      <td>0.000000</td>\n",
       "      <td>0.000000</td>\n",
       "      <td>0.000000</td>\n",
       "      <td>0.850536</td>\n",
       "      <td>0.528986</td>\n",
       "      <td>0.034372</td>\n",
       "      <td>0.000000</td>\n",
       "      <td>0.000000</td>\n",
       "      <td>...</td>\n",
       "      <td>0.000000</td>\n",
       "      <td>0.032485</td>\n",
       "      <td>0.507029</td>\n",
       "      <td>0.948711</td>\n",
       "      <td>0.882723</td>\n",
       "      <td>0.00000</td>\n",
       "      <td>0.000000</td>\n",
       "      <td>0.000000</td>\n",
       "      <td>0.060714</td>\n",
       "      <td>0.494046</td>\n",
       "    </tr>\n",
       "    <tr>\n",
       "      <th>High</th>\n",
       "      <td>0.000000</td>\n",
       "      <td>0.000000</td>\n",
       "      <td>0.000000</td>\n",
       "      <td>0.000000</td>\n",
       "      <td>0.000000</td>\n",
       "      <td>0.001128</td>\n",
       "      <td>0.000000</td>\n",
       "      <td>0.000000</td>\n",
       "      <td>0.000000</td>\n",
       "      <td>0.000000</td>\n",
       "      <td>...</td>\n",
       "      <td>0.477807</td>\n",
       "      <td>0.010139</td>\n",
       "      <td>0.000000</td>\n",
       "      <td>0.000000</td>\n",
       "      <td>0.000000</td>\n",
       "      <td>0.71889</td>\n",
       "      <td>0.719978</td>\n",
       "      <td>0.210057</td>\n",
       "      <td>0.030893</td>\n",
       "      <td>0.000290</td>\n",
       "    </tr>\n",
       "    <tr>\n",
       "      <th>VeryHigh</th>\n",
       "      <td>0.000000</td>\n",
       "      <td>0.000000</td>\n",
       "      <td>0.000000</td>\n",
       "      <td>0.000000</td>\n",
       "      <td>0.000000</td>\n",
       "      <td>0.000000</td>\n",
       "      <td>0.000000</td>\n",
       "      <td>0.000000</td>\n",
       "      <td>0.000000</td>\n",
       "      <td>0.000000</td>\n",
       "      <td>...</td>\n",
       "      <td>0.017624</td>\n",
       "      <td>0.000000</td>\n",
       "      <td>0.000000</td>\n",
       "      <td>0.000000</td>\n",
       "      <td>0.000000</td>\n",
       "      <td>0.28111</td>\n",
       "      <td>0.011816</td>\n",
       "      <td>0.000000</td>\n",
       "      <td>0.000000</td>\n",
       "      <td>0.000000</td>\n",
       "    </tr>\n",
       "  </tbody>\n",
       "</table>\n",
       "<p>5 rows × 25 columns</p>\n",
       "</div>"
      ],
      "text/plain": [
       "Tide            VeryLow                                               Low  \\\n",
       "TWL_less_Tide   VeryLow       Low       Mid      High  VeryHigh   VeryLow   \n",
       "TWL                                                                         \n",
       "VeryLow        0.000000  0.000000  0.003629  0.068986  0.326938  0.000000   \n",
       "Low            0.014388  0.237453  0.723281  0.930777  0.673062  0.000000   \n",
       "Mid            0.315747  0.000000  0.000000  0.000000  0.000000  0.850536   \n",
       "High           0.000000  0.000000  0.000000  0.000000  0.000000  0.001128   \n",
       "VeryHigh       0.000000  0.000000  0.000000  0.000000  0.000000  0.000000   \n",
       "\n",
       "Tide                                                   ...      High  \\\n",
       "TWL_less_Tide       Low       Mid      High  VeryHigh  ...   VeryLow   \n",
       "TWL                                                    ...             \n",
       "VeryLow        0.000000  0.000000  0.000000  0.000254  ...  0.000000   \n",
       "Low            0.000000  0.000000  0.191375  0.628764  ...  0.000000   \n",
       "Mid            0.528986  0.034372  0.000000  0.000000  ...  0.000000   \n",
       "High           0.000000  0.000000  0.000000  0.000000  ...  0.477807   \n",
       "VeryHigh       0.000000  0.000000  0.000000  0.000000  ...  0.017624   \n",
       "\n",
       "Tide                                                  VeryHigh            \\\n",
       "TWL_less_Tide       Low       Mid      High  VeryHigh  VeryLow       Low   \n",
       "TWL                                                                        \n",
       "VeryLow        0.000000  0.000000  0.000000  0.000000  0.00000  0.000000   \n",
       "Low            0.000000  0.000000  0.000000  0.000000  0.00000  0.000000   \n",
       "Mid            0.032485  0.507029  0.948711  0.882723  0.00000  0.000000   \n",
       "High           0.010139  0.000000  0.000000  0.000000  0.71889  0.719978   \n",
       "VeryHigh       0.000000  0.000000  0.000000  0.000000  0.28111  0.011816   \n",
       "\n",
       "Tide                                         \n",
       "TWL_less_Tide       Mid      High  VeryHigh  \n",
       "TWL                                          \n",
       "VeryLow        0.000000  0.000000  0.000000  \n",
       "Low            0.000000  0.000000  0.000000  \n",
       "Mid            0.000000  0.060714  0.494046  \n",
       "High           0.210057  0.030893  0.000290  \n",
       "VeryHigh       0.000000  0.000000  0.000000  \n",
       "\n",
       "[5 rows x 25 columns]"
      ]
     },
     "execution_count": 19,
     "metadata": {},
     "output_type": "execute_result"
    }
   ],
   "source": [
    "df_CPT_MSL"
   ]
  },
  {
   "cell_type": "markdown",
   "metadata": {},
   "source": [
    "# Set Evidence"
   ]
  },
  {
   "cell_type": "code",
   "execution_count": 20,
   "metadata": {
    "ExecuteTime": {
     "end_time": "2021-06-10T02:20:58.833418Z",
     "start_time": "2021-06-10T02:20:57.381Z"
    }
   },
   "outputs": [],
   "source": [
    "lagoon_evidence_dict = {\n",
    "    'wind_u':[0.05,0.1,0.01,0.01,0.01],\n",
    "    'wind_v':[0.05,0.1,0.01,0.01,0.01,0.01]\n",
    "}\n",
    "\n",
    "ocean_evidence_dict = {\n",
    "    'MSL':[0.05,0.1,0.01,0.01,0.01],\n",
    "    'Tide':[0.05,0.1,0.01,0.01,0.01,0.01]\n",
    "}"
   ]
  },
  {
   "cell_type": "code",
   "execution_count": 21,
   "metadata": {
    "ExecuteTime": {
     "end_time": "2021-06-10T02:20:58.838415Z",
     "start_time": "2021-06-10T02:20:57.549Z"
    }
   },
   "outputs": [],
   "source": [
    "lagoon_model_dict = BNModel().add_evidence_to_dict(lagoon_model_dict,lagoon_evidence_dict)\n",
    "ocean_model_dict = BNModel().add_evidence_to_dict(ocean_model_dict,ocean_evidence_dict)"
   ]
  },
  {
   "cell_type": "markdown",
   "metadata": {},
   "source": [
    "# Update beliefs based on evidence"
   ]
  },
  {
   "cell_type": "code",
   "execution_count": 22,
   "metadata": {
    "ExecuteTime": {
     "end_time": "2021-06-10T02:20:58.843410Z",
     "start_time": "2021-06-10T02:20:57.946Z"
    }
   },
   "outputs": [],
   "source": [
    "# Set evidence and get beliefs\n",
    "lagoon_model_dict = BNModel().update_evidence(lagoon_model_dict)\n",
    "ocean_model_dict = BNModel().update_evidence(ocean_model_dict)"
   ]
  },
  {
   "cell_type": "markdown",
   "metadata": {},
   "source": [
    "# BN Visualisation"
   ]
  },
  {
   "cell_type": "code",
   "execution_count": 23,
   "metadata": {
    "ExecuteTime": {
     "end_time": "2021-06-10T02:20:58.849407Z",
     "start_time": "2021-06-10T02:20:58.285Z"
    },
    "scrolled": false
   },
   "outputs": [
    {
     "data": {
      "image/svg+xml": [
       "<?xml version=\"1.0\" encoding=\"UTF-8\" standalone=\"no\"?>\n",
       "<!DOCTYPE svg PUBLIC \"-//W3C//DTD SVG 1.1//EN\"\n",
       " \"http://www.w3.org/Graphics/SVG/1.1/DTD/svg11.dtd\">\n",
       "<!-- Generated by graphviz version 2.43.0 (0)\n",
       " -->\n",
       "<!-- Title: %3 Pages: 1 -->\n",
       "<svg width=\"1276pt\" height=\"252pt\"\n",
       " viewBox=\"0.00 0.00 1275.50 252.00\" xmlns=\"http://www.w3.org/2000/svg\" xmlns:xlink=\"http://www.w3.org/1999/xlink\">\n",
       "<g id=\"graph0\" class=\"graph\" transform=\"scale(1 1) rotate(0) translate(36 216)\">\n",
       "<title>%3</title>\n",
       "<polygon fill=\"white\" stroke=\"transparent\" points=\"-36,36 -36,-216 1239.5,-216 1239.5,36 -36,36\"/>\n",
       "<!-- 0 -->\n",
       "<g id=\"node1\" class=\"node\">\n",
       "<title>0</title>\n",
       "<polygon fill=\"none\" stroke=\"black\" points=\"157,-180 0,-180 0,-144 157,-144 157,-180\"/>\n",
       "<text text-anchor=\"middle\" x=\"78.5\" y=\"-158.3\" font-family=\"Times,serif\" font-size=\"14.00\">Wind u vector (m/s)</text>\n",
       "</g>\n",
       "<!-- 6 -->\n",
       "<g id=\"node7\" class=\"node\">\n",
       "<title>6</title>\n",
       "<polygon fill=\"none\" stroke=\"black\" points=\"669,-108 440,-108 440,-72 669,-72 669,-108\"/>\n",
       "<text text-anchor=\"middle\" x=\"554.5\" y=\"-86.3\" font-family=\"Times,serif\" font-size=\"14.00\">Total water level less tide (m)</text>\n",
       "</g>\n",
       "<!-- 0&#45;&gt;6 -->\n",
       "<g id=\"edge1\" class=\"edge\">\n",
       "<title>0&#45;&gt;6</title>\n",
       "<path fill=\"none\" stroke=\"black\" d=\"M157.14,-145.58C160.3,-145.04 163.43,-144.51 166.5,-144 254.13,-129.56 353.36,-116.06 429.54,-106.29\"/>\n",
       "<polygon fill=\"black\" stroke=\"black\" points=\"430.18,-109.74 439.65,-105 429.29,-102.8 430.18,-109.74\"/>\n",
       "</g>\n",
       "<!-- 1 -->\n",
       "<g id=\"node2\" class=\"node\">\n",
       "<title>1</title>\n",
       "<polygon fill=\"none\" stroke=\"black\" points=\"331.5,-180 175.5,-180 175.5,-144 331.5,-144 331.5,-180\"/>\n",
       "<text text-anchor=\"middle\" x=\"253.5\" y=\"-158.3\" font-family=\"Times,serif\" font-size=\"14.00\">Wind v vector (m/s)</text>\n",
       "</g>\n",
       "<!-- 1&#45;&gt;6 -->\n",
       "<g id=\"edge2\" class=\"edge\">\n",
       "<title>1&#45;&gt;6</title>\n",
       "<path fill=\"none\" stroke=\"black\" d=\"M326.75,-143.97C370.44,-133.8 426.05,-120.87 471.38,-110.33\"/>\n",
       "<polygon fill=\"black\" stroke=\"black\" points=\"472.24,-113.72 481.18,-108.05 470.65,-106.91 472.24,-113.72\"/>\n",
       "</g>\n",
       "<!-- 2 -->\n",
       "<g id=\"node3\" class=\"node\">\n",
       "<title>2</title>\n",
       "<polygon fill=\"none\" stroke=\"black\" points=\"547,-180 350,-180 350,-144 547,-144 547,-180\"/>\n",
       "<text text-anchor=\"middle\" x=\"448.5\" y=\"-158.3\" font-family=\"Times,serif\" font-size=\"14.00\">Offshore wave height (m)</text>\n",
       "</g>\n",
       "<!-- 2&#45;&gt;6 -->\n",
       "<g id=\"edge3\" class=\"edge\">\n",
       "<title>2&#45;&gt;6</title>\n",
       "<path fill=\"none\" stroke=\"black\" d=\"M474.43,-143.88C488.16,-134.81 505.21,-123.55 520.04,-113.76\"/>\n",
       "<polygon fill=\"black\" stroke=\"black\" points=\"522.05,-116.62 528.47,-108.19 518.2,-110.78 522.05,-116.62\"/>\n",
       "</g>\n",
       "<!-- 3 -->\n",
       "<g id=\"node4\" class=\"node\">\n",
       "<title>3</title>\n",
       "<polygon fill=\"none\" stroke=\"black\" points=\"756,-180 565,-180 565,-144 756,-144 756,-180\"/>\n",
       "<text text-anchor=\"middle\" x=\"660.5\" y=\"-158.3\" font-family=\"Times,serif\" font-size=\"14.00\">Offshore wave period (s)</text>\n",
       "</g>\n",
       "<!-- 3&#45;&gt;6 -->\n",
       "<g id=\"edge4\" class=\"edge\">\n",
       "<title>3&#45;&gt;6</title>\n",
       "<path fill=\"none\" stroke=\"black\" d=\"M634.57,-143.88C620.84,-134.81 603.79,-123.55 588.96,-113.76\"/>\n",
       "<polygon fill=\"black\" stroke=\"black\" points=\"590.8,-110.78 580.53,-108.19 586.95,-116.62 590.8,-110.78\"/>\n",
       "</g>\n",
       "<!-- 4 -->\n",
       "<g id=\"node5\" class=\"node\">\n",
       "<title>4</title>\n",
       "<polygon fill=\"none\" stroke=\"black\" points=\"1033,-180 774,-180 774,-144 1033,-144 1033,-180\"/>\n",
       "<text text-anchor=\"middle\" x=\"903.5\" y=\"-158.3\" font-family=\"Times,serif\" font-size=\"14.00\">Offshore wave direction (degrees)</text>\n",
       "</g>\n",
       "<!-- 4&#45;&gt;6 -->\n",
       "<g id=\"edge5\" class=\"edge\">\n",
       "<title>4&#45;&gt;6</title>\n",
       "<path fill=\"none\" stroke=\"black\" d=\"M818.57,-143.97C767.49,-133.72 702.35,-120.66 649.55,-110.07\"/>\n",
       "<polygon fill=\"black\" stroke=\"black\" points=\"650,-106.59 639.51,-108.05 648.62,-113.45 650,-106.59\"/>\n",
       "</g>\n",
       "<!-- 5 -->\n",
       "<g id=\"node6\" class=\"node\">\n",
       "<title>5</title>\n",
       "<polygon fill=\"none\" stroke=\"black\" points=\"721.5,-36 557.5,-36 557.5,0 721.5,0 721.5,-36\"/>\n",
       "<text text-anchor=\"middle\" x=\"639.5\" y=\"-14.3\" font-family=\"Times,serif\" font-size=\"14.00\">Total water level (m)</text>\n",
       "</g>\n",
       "<!-- 6&#45;&gt;5 -->\n",
       "<g id=\"edge6\" class=\"edge\">\n",
       "<title>6&#45;&gt;5</title>\n",
       "<path fill=\"none\" stroke=\"black\" d=\"M575.51,-71.7C586.22,-62.88 599.39,-52.03 611,-42.47\"/>\n",
       "<polygon fill=\"black\" stroke=\"black\" points=\"613.24,-45.16 618.73,-36.1 608.79,-39.76 613.24,-45.16\"/>\n",
       "</g>\n",
       "<!-- 7 -->\n",
       "<g id=\"node8\" class=\"node\">\n",
       "<title>7</title>\n",
       "<polygon fill=\"none\" stroke=\"black\" points=\"1203.5,-180 1051.5,-180 1051.5,-144 1203.5,-144 1203.5,-180\"/>\n",
       "<text text-anchor=\"middle\" x=\"1127.5\" y=\"-158.3\" font-family=\"Times,serif\" font-size=\"14.00\">Mean sea level (m)</text>\n",
       "</g>\n",
       "<!-- 7&#45;&gt;6 -->\n",
       "<g id=\"edge7\" class=\"edge\">\n",
       "<title>7&#45;&gt;6</title>\n",
       "<path fill=\"none\" stroke=\"black\" d=\"M1051.11,-145.35C1048.2,-144.87 1045.33,-144.42 1042.5,-144 885.01,-120.52 841.71,-126.77 679.67,-108.1\"/>\n",
       "<polygon fill=\"black\" stroke=\"black\" points=\"679.67,-104.58 669.33,-106.9 678.86,-111.53 679.67,-104.58\"/>\n",
       "</g>\n",
       "<!-- 8 -->\n",
       "<g id=\"node9\" class=\"node\">\n",
       "<title>8</title>\n",
       "<polygon fill=\"none\" stroke=\"black\" points=\"763.5,-108 687.5,-108 687.5,-72 763.5,-72 763.5,-108\"/>\n",
       "<text text-anchor=\"middle\" x=\"725.5\" y=\"-86.3\" font-family=\"Times,serif\" font-size=\"14.00\">Tide (m)</text>\n",
       "</g>\n",
       "<!-- 8&#45;&gt;5 -->\n",
       "<g id=\"edge8\" class=\"edge\">\n",
       "<title>8&#45;&gt;5</title>\n",
       "<path fill=\"none\" stroke=\"black\" d=\"M704.24,-71.7C693.41,-62.88 680.08,-52.03 668.34,-42.47\"/>\n",
       "<polygon fill=\"black\" stroke=\"black\" points=\"670.48,-39.7 660.51,-36.1 666.06,-45.13 670.48,-39.7\"/>\n",
       "</g>\n",
       "</g>\n",
       "</svg>\n"
      ],
      "text/plain": [
       "<graphviz.dot.Digraph at 0x7f5c4d139cd0>"
      ]
     },
     "execution_count": 23,
     "metadata": {},
     "output_type": "execute_result"
    }
   ],
   "source": [
    "\n",
    "# Set up graph\n",
    "graph_lagoon = BNModel().create_BN_graph()\n",
    "\n",
    "# Create nodes of the graph\n",
    "graph_lagoon,lagoon_model_dict = BNModel().create_nodes(graph_lagoon,lagoon_model_dict,0)\n",
    "\n",
    "# Create arcs between nodesb\n",
    "graph_lagoon = BNModel().create_arcs(graph_lagoon,lagoon_model_dict)\n",
    "\n",
    "# Save as dot file\n",
    "graph_lagoon.render(filename='graph_lagoon',format='png')\n",
    "\n",
    "# Plot the graph\n",
    "graph_lagoon\n"
   ]
  },
  {
   "cell_type": "code",
   "execution_count": 24,
   "metadata": {
    "ExecuteTime": {
     "end_time": "2021-06-10T02:20:59.261392Z",
     "start_time": "2021-06-10T02:20:59.150428Z"
    }
   },
   "outputs": [
    {
     "data": {
      "image/svg+xml": [
       "<?xml version=\"1.0\" encoding=\"UTF-8\" standalone=\"no\"?>\n",
       "<!DOCTYPE svg PUBLIC \"-//W3C//DTD SVG 1.1//EN\"\n",
       " \"http://www.w3.org/Graphics/SVG/1.1/DTD/svg11.dtd\">\n",
       "<!-- Generated by graphviz version 2.43.0 (0)\n",
       " -->\n",
       "<!-- Title: %3 Pages: 1 -->\n",
       "<svg width=\"1296pt\" height=\"197pt\"\n",
       " viewBox=\"0.00 0.00 1296.00 196.56\" xmlns=\"http://www.w3.org/2000/svg\" xmlns:xlink=\"http://www.w3.org/1999/xlink\">\n",
       "<g id=\"graph0\" class=\"graph\" transform=\"scale(1.28 1.28) rotate(0) translate(36 216)\">\n",
       "<title>%3</title>\n",
       "<polygon fill=\"white\" stroke=\"transparent\" points=\"-36,36 -36,-216 1625.5,-216 1625.5,36 -36,36\"/>\n",
       "<!-- 0 -->\n",
       "<g id=\"node1\" class=\"node\">\n",
       "<title>0</title>\n",
       "<polygon fill=\"none\" stroke=\"black\" points=\"190,-180 0,-180 0,-144 190,-144 190,-180\"/>\n",
       "<text text-anchor=\"middle\" x=\"95\" y=\"-158.3\" font-family=\"Times,serif\" font-size=\"14.00\">Wave period offshore (?)</text>\n",
       "</g>\n",
       "<!-- 6 -->\n",
       "<g id=\"node7\" class=\"node\">\n",
       "<title>6</title>\n",
       "<polygon fill=\"none\" stroke=\"black\" points=\"965.5,-108 736.5,-108 736.5,-72 965.5,-72 965.5,-108\"/>\n",
       "<text text-anchor=\"middle\" x=\"851\" y=\"-86.3\" font-family=\"Times,serif\" font-size=\"14.00\">Total water level less tide (m)</text>\n",
       "</g>\n",
       "<!-- 0&#45;&gt;6 -->\n",
       "<g id=\"edge1\" class=\"edge\">\n",
       "<title>0&#45;&gt;6</title>\n",
       "<path fill=\"none\" stroke=\"black\" d=\"M190.17,-145.13C193.15,-144.73 196.09,-144.35 199,-144 381.93,-121.65 594.92,-106.34 726.37,-98.12\"/>\n",
       "<polygon fill=\"black\" stroke=\"black\" points=\"726.71,-101.61 736.47,-97.5 726.27,-94.62 726.71,-101.61\"/>\n",
       "</g>\n",
       "<!-- 1 -->\n",
       "<g id=\"node2\" class=\"node\">\n",
       "<title>1</title>\n",
       "<polygon fill=\"none\" stroke=\"black\" points=\"404,-180 208,-180 208,-144 404,-144 404,-180\"/>\n",
       "<text text-anchor=\"middle\" x=\"306\" y=\"-158.3\" font-family=\"Times,serif\" font-size=\"14.00\">Wave height offshore (m)</text>\n",
       "</g>\n",
       "<!-- 1&#45;&gt;6 -->\n",
       "<g id=\"edge2\" class=\"edge\">\n",
       "<title>1&#45;&gt;6</title>\n",
       "<path fill=\"none\" stroke=\"black\" d=\"M404.23,-145.25C407.18,-144.82 410.11,-144.4 413,-144 518.55,-129.23 638.75,-114.86 726.5,-104.82\"/>\n",
       "<polygon fill=\"black\" stroke=\"black\" points=\"726.95,-108.29 736.49,-103.68 726.16,-101.33 726.95,-108.29\"/>\n",
       "</g>\n",
       "<!-- 2 -->\n",
       "<g id=\"node3\" class=\"node\">\n",
       "<title>2</title>\n",
       "<polygon fill=\"none\" stroke=\"black\" points=\"679.5,-180 422.5,-180 422.5,-144 679.5,-144 679.5,-180\"/>\n",
       "<text text-anchor=\"middle\" x=\"551\" y=\"-158.3\" font-family=\"Times,serif\" font-size=\"14.00\">Wave direction offshore (degrees)</text>\n",
       "</g>\n",
       "<!-- 2&#45;&gt;6 -->\n",
       "<g id=\"edge3\" class=\"edge\">\n",
       "<title>2&#45;&gt;6</title>\n",
       "<path fill=\"none\" stroke=\"black\" d=\"M624,-143.97C667.55,-133.8 722.98,-120.87 768.16,-110.33\"/>\n",
       "<polygon fill=\"black\" stroke=\"black\" points=\"768.99,-113.73 777.93,-108.05 767.39,-106.91 768.99,-113.73\"/>\n",
       "</g>\n",
       "<!-- 3 -->\n",
       "<g id=\"node4\" class=\"node\">\n",
       "<title>3</title>\n",
       "<polygon fill=\"none\" stroke=\"black\" points=\"850,-180 698,-180 698,-144 850,-144 850,-180\"/>\n",
       "<text text-anchor=\"middle\" x=\"774\" y=\"-158.3\" font-family=\"Times,serif\" font-size=\"14.00\">Mean sea level (m)</text>\n",
       "</g>\n",
       "<!-- 3&#45;&gt;6 -->\n",
       "<g id=\"edge4\" class=\"edge\">\n",
       "<title>3&#45;&gt;6</title>\n",
       "<path fill=\"none\" stroke=\"black\" d=\"M793.03,-143.7C802.54,-135.05 814.21,-124.45 824.57,-115.03\"/>\n",
       "<polygon fill=\"black\" stroke=\"black\" points=\"827.14,-117.42 832.19,-108.1 822.43,-112.24 827.14,-117.42\"/>\n",
       "</g>\n",
       "<!-- 4 -->\n",
       "<g id=\"node5\" class=\"node\">\n",
       "<title>4</title>\n",
       "<polygon fill=\"none\" stroke=\"black\" points=\"1060,-108 984,-108 984,-72 1060,-72 1060,-108\"/>\n",
       "<text text-anchor=\"middle\" x=\"1022\" y=\"-86.3\" font-family=\"Times,serif\" font-size=\"14.00\">Tide (m)</text>\n",
       "</g>\n",
       "<!-- 5 -->\n",
       "<g id=\"node6\" class=\"node\">\n",
       "<title>5</title>\n",
       "<polygon fill=\"none\" stroke=\"black\" points=\"1018,-36 854,-36 854,0 1018,0 1018,-36\"/>\n",
       "<text text-anchor=\"middle\" x=\"936\" y=\"-14.3\" font-family=\"Times,serif\" font-size=\"14.00\">Total water level (m)</text>\n",
       "</g>\n",
       "<!-- 4&#45;&gt;5 -->\n",
       "<g id=\"edge5\" class=\"edge\">\n",
       "<title>4&#45;&gt;5</title>\n",
       "<path fill=\"none\" stroke=\"black\" d=\"M1000.74,-71.7C989.91,-62.88 976.58,-52.03 964.84,-42.47\"/>\n",
       "<polygon fill=\"black\" stroke=\"black\" points=\"966.98,-39.7 957.01,-36.1 962.56,-45.13 966.98,-39.7\"/>\n",
       "</g>\n",
       "<!-- 6&#45;&gt;5 -->\n",
       "<g id=\"edge6\" class=\"edge\">\n",
       "<title>6&#45;&gt;5</title>\n",
       "<path fill=\"none\" stroke=\"black\" d=\"M872.01,-71.7C882.72,-62.88 895.89,-52.03 907.5,-42.47\"/>\n",
       "<polygon fill=\"black\" stroke=\"black\" points=\"909.74,-45.16 915.23,-36.1 905.29,-39.76 909.74,-45.16\"/>\n",
       "</g>\n",
       "<!-- 7 -->\n",
       "<g id=\"node8\" class=\"node\">\n",
       "<title>7</title>\n",
       "<polygon fill=\"none\" stroke=\"black\" points=\"990,-180 868,-180 868,-144 990,-144 990,-180\"/>\n",
       "<text text-anchor=\"middle\" x=\"929\" y=\"-158.3\" font-family=\"Times,serif\" font-size=\"14.00\">Reef width (m)</text>\n",
       "</g>\n",
       "<!-- 7&#45;&gt;6 -->\n",
       "<g id=\"edge7\" class=\"edge\">\n",
       "<title>7&#45;&gt;6</title>\n",
       "<path fill=\"none\" stroke=\"black\" d=\"M909.72,-143.7C900.08,-135.05 888.27,-124.45 877.77,-115.03\"/>\n",
       "<polygon fill=\"black\" stroke=\"black\" points=\"879.84,-112.18 870.06,-108.1 875.16,-117.39 879.84,-112.18\"/>\n",
       "</g>\n",
       "<!-- 8 -->\n",
       "<g id=\"node9\" class=\"node\">\n",
       "<title>8</title>\n",
       "<polygon fill=\"none\" stroke=\"black\" points=\"1131.5,-180 1008.5,-180 1008.5,-144 1131.5,-144 1131.5,-180\"/>\n",
       "<text text-anchor=\"middle\" x=\"1070\" y=\"-158.3\" font-family=\"Times,serif\" font-size=\"14.00\">Reef depth (m)</text>\n",
       "</g>\n",
       "<!-- 8&#45;&gt;6 -->\n",
       "<g id=\"edge8\" class=\"edge\">\n",
       "<title>8&#45;&gt;6</title>\n",
       "<path fill=\"none\" stroke=\"black\" d=\"M1016.71,-143.97C985.84,-134.1 946.8,-121.62 914.37,-111.25\"/>\n",
       "<polygon fill=\"black\" stroke=\"black\" points=\"915.12,-107.82 904.53,-108.11 912.99,-114.49 915.12,-107.82\"/>\n",
       "</g>\n",
       "<!-- 9 -->\n",
       "<g id=\"node10\" class=\"node\">\n",
       "<title>9</title>\n",
       "<polygon fill=\"none\" stroke=\"black\" points=\"1346,-180 1150,-180 1150,-144 1346,-144 1346,-180\"/>\n",
       "<text text-anchor=\"middle\" x=\"1248\" y=\"-158.3\" font-family=\"Times,serif\" font-size=\"14.00\">Fore reef slope (degrees)</text>\n",
       "</g>\n",
       "<!-- 9&#45;&gt;6 -->\n",
       "<g id=\"edge9\" class=\"edge\">\n",
       "<title>9&#45;&gt;6</title>\n",
       "<path fill=\"none\" stroke=\"black\" d=\"M1151.39,-143.97C1092.8,-133.63 1017.95,-120.44 957.63,-109.8\"/>\n",
       "<polygon fill=\"black\" stroke=\"black\" points=\"958.15,-106.34 947.7,-108.05 956.94,-113.23 958.15,-106.34\"/>\n",
       "</g>\n",
       "<!-- 10 -->\n",
       "<g id=\"node11\" class=\"node\">\n",
       "<title>10</title>\n",
       "<polygon fill=\"none\" stroke=\"black\" points=\"1589.5,-180 1364.5,-180 1364.5,-144 1589.5,-144 1589.5,-180\"/>\n",
       "<text text-anchor=\"middle\" x=\"1477\" y=\"-158.3\" font-family=\"Times,serif\" font-size=\"14.00\">Shoreline direction (degrees)</text>\n",
       "</g>\n",
       "<!-- 10&#45;&gt;6 -->\n",
       "<g id=\"edge10\" class=\"edge\">\n",
       "<title>10&#45;&gt;6</title>\n",
       "<path fill=\"none\" stroke=\"black\" d=\"M1364.35,-145.12C1361.2,-144.73 1358.08,-144.36 1355,-144 1189.71,-124.66 1145.2,-127.41 975.83,-108.07\"/>\n",
       "<polygon fill=\"black\" stroke=\"black\" points=\"976.16,-104.58 965.83,-106.91 975.36,-111.54 976.16,-104.58\"/>\n",
       "</g>\n",
       "</g>\n",
       "</svg>\n"
      ],
      "text/plain": [
       "<graphviz.dot.Digraph at 0x7f5c562fe700>"
      ]
     },
     "execution_count": 24,
     "metadata": {},
     "output_type": "execute_result"
    }
   ],
   "source": [
    "\n",
    "# Set up graph\n",
    "graph_ocean = BNModel().create_BN_graph()\n",
    "\n",
    "# Create nodes of the graph\n",
    "graph_ocean,ocean_model_dict = BNModel().create_nodes(graph_ocean,ocean_model_dict,0)\n",
    "\n",
    "# Create arcs between nodesb\n",
    "graph_ocean = BNModel().create_arcs(graph_ocean,ocean_model_dict)\n",
    "\n",
    "# Save as dot file\n",
    "graph_ocean.render(filename='graph_ocean',format='png')\n",
    "\n",
    "# Plot the graph\n",
    "graph_ocean"
   ]
  },
  {
   "cell_type": "markdown",
   "metadata": {},
   "source": [
    "# Model Validation"
   ]
  },
  {
   "cell_type": "code",
   "execution_count": 25,
   "metadata": {
    "ExecuteTime": {
     "end_time": "2021-06-10T02:19:49.419271Z",
     "start_time": "2021-06-10T02:18:06.285Z"
    }
   },
   "outputs": [],
   "source": [
    "# ### Research picking number of kfolds \n",
    "\n",
    "# lagoon_acc_dict = BNModel().get_accuracies(lagoon_model_dict,\"TWL\")\n",
    "\n",
    "# print(lagoon_acc_dict)\n",
    "\n",
    "# fig, ax = BNModel().confusion_matrix(lagoon_model_dict,\"TWL\",0)"
   ]
  },
  {
   "cell_type": "code",
   "execution_count": 26,
   "metadata": {
    "ExecuteTime": {
     "end_time": "2021-06-10T02:19:49.420270Z",
     "start_time": "2021-06-10T02:18:06.287Z"
    },
    "scrolled": false
   },
   "outputs": [],
   "source": [
    "\n",
    "# ocean_acc_dict = BNModel().get_accuracies(ocean_model_dict,\"TWL\")\n",
    "\n",
    "# print(ocean_acc_dict)\n",
    "\n",
    "# fig, ax = BNModel().confusion_matrix(ocean_model_dict,\"TWL\",0)"
   ]
  },
  {
   "cell_type": "markdown",
   "metadata": {
    "heading_collapsed": true
   },
   "source": [
    "# Sensitivity Analysis"
   ]
  },
  {
   "cell_type": "markdown",
   "metadata": {
    "hidden": true
   },
   "source": [
    "## Lagoon"
   ]
  },
  {
   "cell_type": "markdown",
   "metadata": {
    "hidden": true
   },
   "source": [
    "### Tide on TWL"
   ]
  },
  {
   "cell_type": "markdown",
   "metadata": {},
   "source": [
    "# MSL Priors based on Future Projections"
   ]
  },
  {
   "cell_type": "markdown",
   "metadata": {},
   "source": [
    "## Get the distribution of MSL data currently"
   ]
  },
  {
   "cell_type": "code",
   "execution_count": 27,
   "metadata": {
    "ExecuteTime": {
     "end_time": "2021-06-10T02:19:49.429266Z",
     "start_time": "2021-06-10T02:18:06.308Z"
    }
   },
   "outputs": [],
   "source": [
    "# def grouping_bins(data):\n",
    "#     grouped_dict = {}\n",
    "\n",
    "#     for bin_name in np.unique(data):\n",
    "#         grouped_dict.update({\n",
    "#             bin_name:len(data[data==bin_name])\n",
    "#         })\n",
    "        \n",
    "#     df_grouped = pd.DataFrame.from_dict(grouped_dict,orient='index')\n",
    "    \n",
    "#     return(df_grouped)"
   ]
  },
  {
   "cell_type": "code",
   "execution_count": 28,
   "metadata": {
    "ExecuteTime": {
     "end_time": "2021-06-10T02:19:49.430264Z",
     "start_time": "2021-06-10T02:18:06.309Z"
    }
   },
   "outputs": [],
   "source": [
    "# def descretiser(bin_edges,bin_names,data_array):\n",
    "    \n",
    "#     discretised_array = np.empty(len(data_array)).astype(str)\n",
    "    \n",
    "#     for lower, upper, bin_name in zip(\n",
    "#         bin_edges[:-1],\n",
    "#         bin_edges[1:],\n",
    "#         bin_names):\n",
    "        \n",
    "#         discretised_array[(data_array>lower)&(data_array<upper)] = bin_name\n",
    "\n",
    "#         # Now Include out of bounds values in the upper and lower bins\n",
    "#         discretised_array[data_array<np.min(bin_edges)] = bin_names[0]\n",
    "#         discretised_array[data_array>np.max(bin_edges)] = bin_names[-1]\n",
    "        \n",
    "#     return(discretised_array)\n",
    "                    "
   ]
  },
  {
   "cell_type": "code",
   "execution_count": 29,
   "metadata": {
    "ExecuteTime": {
     "end_time": "2021-06-10T02:19:49.431263Z",
     "start_time": "2021-06-10T02:18:06.311Z"
    }
   },
   "outputs": [],
   "source": [
    "# # Bin the MSL data\n",
    "# MSL_data = lagoon_model_dict['variables']['MSL']['training_data'][0]\n",
    "\n",
    "# # Grouping the bins \n",
    "# MSL_bins_grouped = grouping_bins(MSL_data)\n",
    "\n",
    "# # Put the bins in the right order\n",
    "# df_MSL_distribution = MSL_bins_grouped.reindex(lagoon_model_dict['variables']['MSL']['discretisation']['bin_names'])\n",
    "\n",
    "# # Plot the data\n",
    "# plt.plot(df_MSL_distribution)"
   ]
  },
  {
   "cell_type": "markdown",
   "metadata": {},
   "source": [
    "## Add the Global average for now"
   ]
  },
  {
   "cell_type": "code",
   "execution_count": 30,
   "metadata": {
    "ExecuteTime": {
     "end_time": "2021-06-10T02:19:49.432263Z",
     "start_time": "2021-06-10T02:18:06.313Z"
    }
   },
   "outputs": [],
   "source": [
    "# # Get the preprocessed data to add to\n",
    "# MSL_training_data_preprocessed = lagoon_model_dict['variables']['MSL']['training_data_preprocessed'][0]\n",
    "# MSL_testing_data_preprocessed = lagoon_model_dict['variables']['MSL']['testing_data_preprocessed'][0]\n",
    "\n",
    "# # Print some stats to get an idea of how adding SLR will affect the data\n",
    "# print(np.min(MSL_training_data_preprocessed))\n",
    "# print(np.max(MSL_training_data_preprocessed))\n",
    "# print(np.mean(MSL_training_data_preprocessed))\n",
    "# print(np.median(MSL_training_data_preprocessed))"
   ]
  },
  {
   "cell_type": "code",
   "execution_count": 31,
   "metadata": {
    "ExecuteTime": {
     "end_time": "2021-06-10T02:19:49.433262Z",
     "start_time": "2021-06-10T02:18:06.315Z"
    }
   },
   "outputs": [],
   "source": [
    "# # Based on a 2 mm/yr rate\n",
    "# mean_SLR_2050 = 2*29/1000\n",
    "# mean_SLR_2100 = 2*59/1000\n",
    "\n",
    "# # Get MSLs adjusted for regional sea level rise\n",
    "# MSL_2050 = MSL_training_data_preprocessed+mean_SLR_2050\n",
    "# MSL_2100 = MSL_training_data_preprocessed+mean_SLR_2100"
   ]
  },
  {
   "cell_type": "code",
   "execution_count": 32,
   "metadata": {
    "ExecuteTime": {
     "end_time": "2021-06-10T02:19:49.434261Z",
     "start_time": "2021-06-10T02:18:06.317Z"
    }
   },
   "outputs": [],
   "source": [
    "# # Using the bins from before, discretise the results\n",
    "# bin_edges = lagoon_model_dict['variables']['MSL']['bin_edges'][0]\n",
    "# bin_names = lagoon_model_dict['variables']['MSL']['discretisation']['bin_names']\n",
    "\n",
    "# # Normalise the data\n",
    "# df_MSL_2021 = df_MSL_distribution/np.nansum(df_MSL_distribution)\n",
    "\n",
    "# # Calculated discretised MSL for the scenarios\n",
    "# MSL_2050 = MSL_training_data_preprocessed+mean_SLR_2050\n",
    "# MSL_2050_discretised = descretiser(bin_edges,bin_names,MSL_2050)\n",
    "# df_MSL_2050 = grouping_bins(MSL_2050_discretised)\n",
    "# df_MSL_2050 = df_MSL_2050.reindex(lagoon_model_dict['variables']['MSL']['discretisation']['bin_names'])\n",
    "# df_MSL_2050[df_MSL_2050.isna()] = 0.001\n",
    "# df_MSL_2050 = df_MSL_2050/np.nansum(df_MSL_2050)\n",
    "\n",
    "# # Calculated discretised MSL for the scenarios\n",
    "# MSL_2100 = MSL_training_data_preprocessed+mean_SLR_2100\n",
    "# MSL_2100_discretised = descretiser(bin_edges,bin_names,MSL_2100)\n",
    "# df_MSL_2100 = grouping_bins(MSL_2100_discretised)\n",
    "# df_MSL_2100 = df_MSL_2100.reindex(lagoon_model_dict['variables']['MSL']['discretisation']['bin_names'])\n",
    "# df_MSL_2100[df_MSL_2100.isna()] = 0.001\n",
    "# df_MSL_2100 = df_MSL_2100/np.nansum(df_MSL_2100)\n"
   ]
  },
  {
   "cell_type": "markdown",
   "metadata": {},
   "source": [
    "### Set evidence of 2050"
   ]
  },
  {
   "cell_type": "code",
   "execution_count": 33,
   "metadata": {
    "ExecuteTime": {
     "end_time": "2021-06-10T02:19:49.435261Z",
     "start_time": "2021-06-10T02:18:06.319Z"
    }
   },
   "outputs": [],
   "source": [
    "# # Create dict of evidence\n",
    "# MSL_2050_evidence_dict = {\n",
    "#     'MSL':list(df_MSL_2050[0])\n",
    "# }\n",
    "\n",
    "# # Add evidence for MSL to the model dict\n",
    "# lagoon_model_dict = BNModel().add_evidence_to_dict(lagoon_model_dict,MSL_2050_evidence_dict)\n",
    "# ocean_model_dict = BNModel().add_evidence_to_dict(ocean_model_dict,MSL_2050_evidence_dict)\n",
    "\n",
    "# # Set evidence and get beliefs\n",
    "# lagoon_model_dict = BNModel().update_evidence(lagoon_model_dict)\n",
    "\n",
    "# # TWL posterior 2050\n",
    "# TWL_MSL_2050_posterior_dict = lagoon_model_dict['variables']['TWL_point_110']['resulting_probs'][0]\n",
    "# df_TWL_MSL_2050_posterior = pd.DataFrame.from_dict(TWL_MSL_2050_posterior_dict,orient='index')"
   ]
  },
  {
   "cell_type": "code",
   "execution_count": 34,
   "metadata": {
    "ExecuteTime": {
     "end_time": "2021-06-10T02:19:49.437260Z",
     "start_time": "2021-06-10T02:18:06.321Z"
    }
   },
   "outputs": [],
   "source": [
    "# # Create dict of evidence\n",
    "# MSL_2100_evidence_dict = {\n",
    "#     'MSL':list(df_MSL_2100[0])\n",
    "# }\n",
    "\n",
    "# # Add evidence for MSL to the model dict\n",
    "# lagoon_model_dict = BNModel().add_evidence_to_dict(lagoon_model_dict,MSL_2100_evidence_dict)\n",
    "# ocean_model_dict = BNModel().add_evidence_to_dict(ocean_model_dict,MSL_2100_evidence_dict)\n",
    "\n",
    "# # Set evidence and get beliefs\n",
    "# lagoon_model_dict = BNModel().update_evidence(lagoon_model_dict)\n",
    "\n",
    "# # TWL posterior 2100\n",
    "# TWL_MSL_2100_posterior_dict = lagoon_model_dict['variables']['TWL_point_110']['resulting_probs'][0]\n",
    "# df_TWL_MSL_2100_posterior = pd.DataFrame.from_dict(TWL_MSL_2100_posterior_dict,orient='index')"
   ]
  },
  {
   "cell_type": "code",
   "execution_count": 35,
   "metadata": {
    "ExecuteTime": {
     "end_time": "2021-06-10T02:19:49.438260Z",
     "start_time": "2021-06-10T02:18:06.323Z"
    },
    "scrolled": false
   },
   "outputs": [],
   "source": [
    "# # get the original data to compare it to\n",
    "# TWL_training_dict = lagoon_model_dict['variables']['TWL_point_110']['training_data'][0]\n",
    "# df_TWL_training = grouping_bins(TWL_training_dict)\n",
    "# df_TWL_training = df_TWL_training.reindex(lagoon_model_dict['variables']['MSL']['discretisation']['bin_names'])\n",
    "# df_TWL_training[df_TWL_training.isna()] = 0.001\n",
    "# df_TWL_training = df_TWL_training/np.nansum(df_TWL_training)\n",
    "\n",
    "# # Create an extra set of dfs for data as a fraction of original\n",
    "# TWL_MSL_2050 = [(ind,y/x) for ind,x,y in zip(df_TWL_training.index,df_TWL_training[0],df_TWL_MSL_2050_posterior[0])]\n",
    "# TWL_MSL_2100 = [(ind,y/x) for ind,x,y in zip(df_TWL_training.index,df_TWL_training[0],df_TWL_MSL_2100_posterior[0])]\n",
    "# df_TWL_MSL_2050 = pd.DataFrame(TWL_MSL_2050).set_index(0)\n",
    "# df_TWL_MSL_2100 = pd.DataFrame(TWL_MSL_2100).set_index(0)"
   ]
  },
  {
   "cell_type": "code",
   "execution_count": 36,
   "metadata": {
    "ExecuteTime": {
     "end_time": "2021-06-10T02:19:49.439259Z",
     "start_time": "2021-06-10T02:18:06.325Z"
    },
    "scrolled": false
   },
   "outputs": [],
   "source": [
    "\n",
    "# # Set up the figure\n",
    "# fig = plt.figure(figsize=(10,15))\n",
    "# fig.subplots_adjust(hspace=0.5)\n",
    "# ax1 = plt.subplot2grid((3,1),(0,0))\n",
    "# ax2 = plt.subplot2grid((3,1),(1,0))\n",
    "# ax3 = plt.subplot2grid((3,1),(2,0))\n",
    "\n",
    "# # Plot MSL data and prior distributions\n",
    "# ax1.plot(df_MSL_2021,c='k')\n",
    "# ax1.plot(df_MSL_2050,c='b')\n",
    "# ax1.plot(df_MSL_2100,c='r')\n",
    "\n",
    "# # Plot posterior distributions compared to original data\n",
    "# output_2021, = ax2.plot(df_TWL_training,c='k')\n",
    "# output_2050, = ax2.plot(df_TWL_MSL_2050_posterior,c='b')\n",
    "# output_2100, = ax2.plot(df_TWL_MSL_2100_posterior,c='r')\n",
    "\n",
    "# # Plot posterior distributions as a fraction of the original data\n",
    "# output_2050, = ax3.plot(df_TWL_MSL_2050,c='b')\n",
    "# output_2100, = ax3.plot(df_TWL_MSL_2100,c='r')\n",
    "# ax3_xlims = ax3.get_xlim()\n",
    "# ax3.plot(ax3_xlims,[1,1],c='0.5',ls='--')\n",
    "# ax3.set_xlim(ax3_xlims)\n",
    "\n",
    "# # Format the graph\n",
    "# ax1.set_ylabel('Probability')\n",
    "# ax1.set_xlabel('Mean Sea Level')\n",
    "# ax2.set_ylabel('Probability')\n",
    "# ax2.set_xlabel('Total Water Level')\n",
    "# ax3.set_ylabel('Probability/Probability')\n",
    "# ax3.set_xlabel('Total Water Level')\n",
    "\n",
    "# ax1.legend([output_2021,output_2050,output_2100],['Present','2050','2100'])\n"
   ]
  },
  {
   "cell_type": "markdown",
   "metadata": {},
   "source": [
    "# Load in some IPCC RSL Data"
   ]
  },
  {
   "cell_type": "code",
   "execution_count": 37,
   "metadata": {
    "ExecuteTime": {
     "end_time": "2021-06-10T02:19:49.440258Z",
     "start_time": "2021-06-10T02:18:06.327Z"
    }
   },
   "outputs": [],
   "source": [
    "# The IPCC data (Openheimer et al., 2019, IPCC Ch4) is relative to the 1983-2005\n",
    "# Antonio's data is 1993-2017\n",
    "\n",
    "# It's not clear to me right now if the IPCC data is relative to the 1983-2005 value globally averaged, \n",
    "# or if it varies regionally\n"
   ]
  },
  {
   "cell_type": "code",
   "execution_count": 38,
   "metadata": {
    "ExecuteTime": {
     "end_time": "2021-06-10T02:19:49.442259Z",
     "start_time": "2021-06-10T02:18:06.329Z"
    }
   },
   "outputs": [],
   "source": [
    "# import xarray as xr\n",
    "# tarawa_lat = 1.333\n",
    "# tarawa_long = 173"
   ]
  },
  {
   "cell_type": "code",
   "execution_count": 39,
   "metadata": {
    "ExecuteTime": {
     "end_time": "2021-06-10T02:19:49.443257Z",
     "start_time": "2021-06-10T02:18:06.331Z"
    }
   },
   "outputs": [],
   "source": [
    "# # Load the RSLD from IPCC, chapter\n",
    "# ds_RSLR_2040_rcp26 = xr.open_dataset (r'C:\\Users\\shannonb\\Documents\\Model_and_data\\Dataset\\Additional_data\\Sea_levels\\Data\\Chapter4_SM\\SM4.2\\rsl_26_2040.nc')\n",
    "# ds_RSLR_2040_rcp45 = xr.open_dataset (r'C:\\Users\\shannonb\\Documents\\Model_and_data\\Dataset\\Additional_data\\Sea_levels\\Data\\Chapter4_SM\\SM4.2\\rsl_45_2040.nc')\n",
    "# ds_RSLR_2040_rcp85 = xr.open_dataset (r'C:\\Users\\shannonb\\Documents\\Model_and_data\\Dataset\\Additional_data\\Sea_levels\\Data\\Chapter4_SM\\SM4.2\\rsl_85_2040.nc')\n",
    "\n",
    "# ds_RSLR_2055_rcp26 = xr.open_dataset (r'C:\\Users\\shannonb\\Documents\\Model_and_data\\Dataset\\Additional_data\\Sea_levels\\Data\\Chapter4_SM\\SM4.2\\rsl_26_2055.nc')\n",
    "# ds_RSLR_2055_rcp45 = xr.open_dataset (r'C:\\Users\\shannonb\\Documents\\Model_and_data\\Dataset\\Additional_data\\Sea_levels\\Data\\Chapter4_SM\\SM4.2\\rsl_45_2055.nc')\n",
    "# ds_RSLR_2055_rcp85 = xr.open_dataset (r'C:\\Users\\shannonb\\Documents\\Model_and_data\\Dataset\\Additional_data\\Sea_levels\\Data\\Chapter4_SM\\SM4.2\\rsl_85_2055.nc')\n",
    "\n",
    "# ds_RSLR_2090_rcp26 = xr.open_dataset (r'C:\\Users\\shannonb\\Documents\\Model_and_data\\Dataset\\Additional_data\\Sea_levels\\Data\\Chapter4_SM\\SM4.2\\rsl_26_2090.nc')\n",
    "# ds_RSLR_2090_rcp45 = xr.open_dataset (r'C:\\Users\\shannonb\\Documents\\Model_and_data\\Dataset\\Additional_data\\Sea_levels\\Data\\Chapter4_SM\\SM4.2\\rsl_45_2090.nc')\n",
    "# ds_RSLR_2090_rcp85 = xr.open_dataset (r'C:\\Users\\shannonb\\Documents\\Model_and_data\\Dataset\\Additional_data\\Sea_levels\\Data\\Chapter4_SM\\SM4.2\\rsl_85_2090.nc')\n"
   ]
  },
  {
   "cell_type": "code",
   "execution_count": 40,
   "metadata": {
    "ExecuteTime": {
     "end_time": "2021-06-10T02:19:49.444258Z",
     "start_time": "2021-06-10T02:18:06.333Z"
    }
   },
   "outputs": [],
   "source": [
    "# # Get the RSLR for Tarawa specifically\n",
    "# RSLR_2040_rcp26 = float(ds_RSLR_2040_rcp26['slr_md'].sel(x=tarawa_long,y=tarawa_lat,method='nearest'))\n",
    "# RSLR_2055_rcp26 = float(ds_RSLR_2055_rcp26['slr_md'].sel(x=tarawa_long,y=tarawa_lat,method='nearest'))\n",
    "# RSLR_2090_rcp26 = float(ds_RSLR_2090_rcp26['slr_md'].sel(x=tarawa_long,y=tarawa_lat,method='nearest'))\n",
    "\n",
    "# RSLR_2040_rcp45 = float(ds_RSLR_2040_rcp45['slr_md'].sel(x=tarawa_long,y=tarawa_lat,method='nearest'))\n",
    "# RSLR_2055_rcp45 = float(ds_RSLR_2055_rcp45['slr_md'].sel(x=tarawa_long,y=tarawa_lat,method='nearest'))\n",
    "# RSLR_2090_rcp45 = float(ds_RSLR_2090_rcp45['slr_md'].sel(x=tarawa_long,y=tarawa_lat,method='nearest'))\n",
    "\n",
    "# RSLR_2040_rcp85 = float(ds_RSLR_2040_rcp85['slr_md'].sel(x=tarawa_long,y=tarawa_lat,method='nearest'))\n",
    "# RSLR_2055_rcp85 = float(ds_RSLR_2055_rcp85['slr_md'].sel(x=tarawa_long,y=tarawa_lat,method='nearest'))\n",
    "# RSLR_2090_rcp85 = float(ds_RSLR_2090_rcp85['slr_md'].sel(x=tarawa_long,y=tarawa_lat,method='nearest'))\n",
    "\n",
    "# #### These values are relative to PI?? If so, I doubt Antonio's numbers are PI---so this needs to be adjusted for"
   ]
  },
  {
   "cell_type": "markdown",
   "metadata": {},
   "source": [
    "### Use RCP Scenarios to set evidence"
   ]
  },
  {
   "cell_type": "code",
   "execution_count": 41,
   "metadata": {
    "ExecuteTime": {
     "end_time": "2021-06-10T02:19:49.445255Z",
     "start_time": "2021-06-10T02:18:06.335Z"
    }
   },
   "outputs": [],
   "source": [
    "# # Get MSLs adjusted for regional sea level rise\n",
    "# MSL_2040_rcp26 = MSL_training_data_preprocessed+RSLR_2040_rcp26\n",
    "# MSL_2055_rcp26 = MSL_training_data_preprocessed+RSLR_2055_rcp26\n",
    "# MSL_2090_rcp26 = MSL_training_data_preprocessed+RSLR_2090_rcp26\n",
    "\n",
    "# MSL_2040_rcp45 = MSL_training_data_preprocessed+RSLR_2040_rcp45\n",
    "# MSL_2055_rcp45 = MSL_training_data_preprocessed+RSLR_2055_rcp45\n",
    "# MSL_2090_rcp45 = MSL_training_data_preprocessed+RSLR_2090_rcp45\n",
    "\n",
    "# MSL_2040_rcp85 = MSL_training_data_preprocessed+RSLR_2040_rcp85\n",
    "# MSL_2055_rcp85 = MSL_training_data_preprocessed+RSLR_2055_rcp85\n",
    "# MSL_2090_rcp85 = MSL_training_data_preprocessed+RSLR_2090_rcp85"
   ]
  },
  {
   "cell_type": "code",
   "execution_count": 42,
   "metadata": {
    "ExecuteTime": {
     "end_time": "2021-06-10T02:19:49.447254Z",
     "start_time": "2021-06-10T02:18:06.337Z"
    }
   },
   "outputs": [],
   "source": [
    "# def test_model(evidence_array,model_dict):\n",
    "\n",
    "#     # Adjust MSL for difference between antonio data and IPCC data\n",
    "#     SLR_adjustment = 2*11/1000\n",
    "#     evidence_array -= SLR_adjustment\n",
    "    \n",
    "#     # Dicretise the data\n",
    "#     MSL_discretised = descretiser(bin_edges,bin_names,evidence_array)\n",
    "#     df_MSL = grouping_bins(MSL_discretised)\n",
    "#     df_MSL = df_MSL.reindex(model_dict['variables']['MSL']['discretisation']['bin_names'])\n",
    "#     df_MSL[df_MSL.isna()] = 0.001\n",
    "#     df_MSL = df_MSL/np.nansum(df_MSL)\n",
    "    \n",
    "#     # Create dict of evidence\n",
    "#     MSL_evidence_dict = {\n",
    "#         'MSL':list(df_MSL[0])\n",
    "#     }\n",
    "\n",
    "#     # Add evidence for MSL to the model dict\n",
    "#     model_dict = BNModel().add_evidence_to_dict(model_dict,MSL_evidence_dict)\n",
    "\n",
    "#     # Set evidence and get beliefs\n",
    "#     model_dict = BNModel().update_evidence(model_dict)\n",
    "\n",
    "#     # TWL posterior 2100\n",
    "#     TWL_MSL_posterior_dict = model_dict['variables']['TWL_point_110']['resulting_probs'][0]\n",
    "#     df_TWL_posterior = pd.DataFrame.from_dict(TWL_MSL_posterior_dict,orient='index')\n",
    "    \n",
    "#     return(df_TWL_posterior,df_MSL)"
   ]
  },
  {
   "cell_type": "code",
   "execution_count": 43,
   "metadata": {
    "ExecuteTime": {
     "end_time": "2021-06-10T02:19:49.448253Z",
     "start_time": "2021-06-10T02:18:06.339Z"
    }
   },
   "outputs": [],
   "source": [
    "# IPCC_posteriors_dict = {}\n",
    "# MSL_prior_dict = {}\n",
    "\n",
    "# MSL_array_list = [MSL_2040_rcp26,MSL_2055_rcp26,MSL_2090_rcp26,MSL_2040_rcp45,MSL_2055_rcp45,MSL_2090_rcp45,MSL_2040_rcp85,MSL_2055_rcp85,MSL_2090_rcp85]\n",
    "\n",
    "# for array, label in zip(MSL_array_list,\n",
    "#                         ['RCP2.6, 2040','RCP2.6, 2055','RCP2.6, 2090','RCP4.5, 2040','RCP4.5, 2055','RCP4.5, 2090','RCP8.5, 2040','RCP8.5, 2055','RCP8.5, 2090']):\n",
    "    \n",
    "#     df_TWL_posterior, df_MSL = test_model(array, lagoon_model_dict)\n",
    "    \n",
    "#     IPCC_posteriors_dict.update({\n",
    "#         label:df_TWL_posterior\n",
    "#     })\n",
    "    \n",
    "#     MSL_prior_dict.update({\n",
    "#         label:df_MSL\n",
    "#     })"
   ]
  },
  {
   "cell_type": "code",
   "execution_count": 44,
   "metadata": {
    "ExecuteTime": {
     "end_time": "2021-06-10T02:19:49.450252Z",
     "start_time": "2021-06-10T02:18:06.341Z"
    }
   },
   "outputs": [],
   "source": [
    "\n",
    "# # Set up the figure\n",
    "# fig = plt.figure(figsize=(10,15))\n",
    "# fig.subplots_adjust(hspace=0.5)\n",
    "# ax1 = plt.subplot2grid((3,1),(0,0))\n",
    "# ax2 = plt.subplot2grid((3,1),(1,0))\n",
    "# ax3 = plt.subplot2grid((3,1),(2,0))\n",
    "\n",
    "# # # Plot MSL data and prior distributions\n",
    "# # ax1.plot(df_MSL_2021,c='k')\n",
    "# # ax1.plot(df_MSL_2050,c='b')\n",
    "# # ax1.plot(df_MSL_2100,c='r')\n",
    "# for key,df_prior in MSL_prior_dict.items():\n",
    "#     ax1.plot(df_prior)\n",
    "\n",
    "# # # Plot posterior distributions compared to original data\n",
    "# # output_2021, = ax2.plot(df_TWL_training,c='k')\n",
    "# # output_2050, = ax2.plot(df_TWL_MSL_2050_posterior,c='b')\n",
    "# # output_2100, = ax2.plot(df_TWL_MSL_2100_posterior,c='r')\n",
    "# outputs = []\n",
    "\n",
    "# for key,posterior_array in IPCC_posteriors_dict.items():\n",
    "#     output, = ax2.plot(posterior_array)\n",
    "#     outputs.append(output)\n",
    "\n",
    "# # # Plot posterior distributions as a fraction of the original data\n",
    "# # output_2050, = ax3.plot(df_TWL_MSL_2050,c='b')\n",
    "# # output_2100, = ax3.plot(df_TWL_MSL_2100,c='r')\n",
    "# # ax3_xlims = ax3.get_xlim()\n",
    "# # ax3.plot(ax3_xlims,[1,1],c='0.5',ls='--')\n",
    "# # ax3.set_xlim(ax3_xlims)\n",
    "\n",
    "# # Format the graph\n",
    "# ax1.set_ylabel('Probability')\n",
    "# ax1.set_xlabel('Mean Sea Level')\n",
    "# ax2.set_ylabel('Probability')\n",
    "# ax2.set_xlabel('Total Water Level')\n",
    "# ax3.set_ylabel('Probability/Probability')\n",
    "# ax3.set_xlabel('Total Water Level')\n",
    "\n",
    "# ax1.legend(outputs,IPCC_posteriors_dict.keys())\n"
   ]
  },
  {
   "cell_type": "markdown",
   "metadata": {},
   "source": [
    "# Interactive Plots"
   ]
  },
  {
   "cell_type": "code",
   "execution_count": 45,
   "metadata": {},
   "outputs": [],
   "source": [
    "# load in the reef and shoreline profile information\n",
    "df_ocean_profiles = pd.read_csv('/src/Dataset/D8_tarawa_inundation/Profiles_definition_outer_reef_xyxy_processed.txt')\n",
    "df_lagoon_profiles = pd.read_csv('/src/Dataset/D8_tarawa_inundation/Profiles_definition_inner_lagoon_xyxy.txt',delim_whitespace=True,header=None)\n",
    "df_lagoon_profiles.columns = ['reef_long','reef_lat','shore_long','shore_lat','reef_depth']\n",
    "\n"
   ]
  },
  {
   "cell_type": "code",
   "execution_count": 46,
   "metadata": {},
   "outputs": [],
   "source": [
    "def bin_locator(value,bin_edges):\n",
    "    '''\n",
    "    function used for determining the index of the appropriate bin for a numerical value.\n",
    "    '''\n",
    "    i=0\n",
    "    for edge_1,edge_2 in zip(bin_edges[:-1],bin_edges[1:]):\n",
    "        if (value>edge_1)&(value<=edge_2):\n",
    "            loc_bin = i\n",
    "        else:\n",
    "            i+=1\n",
    "            continue\n",
    "\n",
    "    if value<=bin_edges[0]:\n",
    "        loc_bin = 0\n",
    "\n",
    "    if value>=bin_edges[-1]:\n",
    "        loc_bin = len(bin_edges)-2\n",
    "\n",
    "    return(loc_bin)\n",
    "\n",
    "def model_location(model_dict,location_details,evidence_dict,variable_list):\n",
    "    \n",
    "    '''\n",
    "    function for adding the location information for one side model to the evidence dictionary\n",
    "    '''\n",
    "    \n",
    "    for variable in variable_list:\n",
    "\n",
    "        bin_edges = model_dict['variables'][variable]['bin_edges'][0]\n",
    "        value = location_details[variable]\n",
    "\n",
    "        var_bin = bin_locator(value,bin_edges)\n",
    "        \n",
    "        evidence_array = [0]*(len(bin_edges)-1)\n",
    "        evidence_array[var_bin] = 1\n",
    "        \n",
    "        evidence_dict.update({\n",
    "            variable:evidence_array\n",
    "        })\n",
    "\n",
    "    # Add evidence to model dict\n",
    "    model_location_dict = BNModel().add_evidence_to_dict(model_dict,evidence_dict)\n",
    "    \n",
    "    # Set evidence and get beliefs\n",
    "    model_location_dict = BNModel().update_evidence(model_location_dict)\n",
    "    \n",
    "    return(model_location_dict)\n",
    "\n",
    "def location_probabilities(evidence_dict,model_dict,variable_list,df_profiles):\n",
    "    '''\n",
    "    \n",
    "    Function for setting evidence and determing probabilties for twl at each point around the island based \n",
    "    on the reef characteristics at each location\n",
    "    \n",
    "    '''\n",
    "    \n",
    "    location_probabilities_dict = {}\n",
    "#     figure_dict = {}\n",
    "    \n",
    "    for index,row in df_profiles.iterrows():\n",
    "\n",
    "        model_location_dict = model_location(model_dict,row,evidence_dict,variable_list)\n",
    "        location_probabilities = model_location_dict['variables']['TWL']['resulting_probs'][0]\n",
    "\n",
    "        df_location_probabilities = pd.DataFrame.from_dict(location_probabilities,orient='index')\n",
    "        \n",
    "#         # Create figure for popup\n",
    "#         fig = plt.figure(figsize=(2,2))\n",
    "#         plt.bar(x=df_location_probabilities.index,height=df_location_probabilities[0])\n",
    "#         plt.savefig('{}_{}.png'.format(int(row.reef_long*1000),int(row.reef_lat*1000)))\n",
    "#         plt.close()\n",
    "        \n",
    "        largest_cat = df_location_probabilities.idxmax()[0]\n",
    "\n",
    "        location_probabilities_dict.update({\n",
    "            (row.reef_long,row.reef_lat):\\\n",
    "                model_dict['variables']['TWL']['discretisation']['bin_names'].index(largest_cat)\n",
    "        })\n",
    "        \n",
    "#         figure_dict.update({\n",
    "#             (row.reef_long,row.reef_lat):fig#html_graph\n",
    "#         })\n",
    "        \n",
    "    return(location_probabilities_dict)\n",
    "\n",
    "def data2geojson(df):\n",
    "    features = []\n",
    "    insert_features = lambda X: features.append(\n",
    "            geojson.Feature(geometry=geojson.Point((X[\"long\"],\n",
    "                                                    X[\"lat\"])),\n",
    "                            properties=dict(name=X[\"most_likely_twl\"])))\n",
    "    df.apply(insert_features, axis=1)\n",
    "        \n",
    "    return(geojson.FeatureCollection(features))\n",
    "\n",
    "# Load SLR Projections\n",
    "data_location = \"/src/Dataset/D7_MSL_projections/\"\n",
    "file_name = \"distributions_dict\"\n",
    "with open(\"{}{}.json\".format(data_location,file_name), 'r') as fp:\n",
    "    SL_proj_dict = json.load(fp)\n",
    "    \n",
    "def SLR_proj_extractor(SL_proj_dict,AIS_config,rcp,year):\n",
    "    '''\n",
    "    Function for getting SLR projections for a given Antarctic icesheet, rcp and year\n",
    "    Years start as 2020 and go up in lots of 10 until 2150 (2100 for dp16)\n",
    "    '''\n",
    "    SLR_prob_dict = SL_proj_dict[\"('{}', '{}', {})\".format(AIS_config,rcp,year)]\n",
    "    SLR_median_prob = np.max([float(x) for x in list(SLR_prob_dict.keys())])\n",
    "    SLR_median_MSL = float(SLR_prob_dict[str(SLR_median_prob)])/1000 #units is m\n",
    "\n",
    "    return(SLR_median_MSL)"
   ]
  },
  {
   "cell_type": "code",
   "execution_count": 47,
   "metadata": {
    "code_folding": [],
    "scrolled": false
   },
   "outputs": [
    {
     "data": {
      "application/vnd.jupyter.widget-view+json": {
       "model_id": "ecb86fd2c15b47d1b6b856ac2597d007",
       "version_major": 2,
       "version_minor": 0
      },
      "text/plain": [
       "interactive(children=(Dropdown(description='View type', options=('Map', 'Satellite'), value='Map'), Dropdown(d…"
      ]
     },
     "metadata": {},
     "output_type": "display_data"
    },
    {
     "data": {
      "text/plain": [
       "<function __main__.test_figure(view, tide_bin, wave_height_bin, wave_period_bin, wave_direction_bin, wind_u_bin, wind_v_bin, proj_time)>"
      ]
     },
     "execution_count": 47,
     "metadata": {},
     "output_type": "execute_result"
    }
   ],
   "source": [
    "def test_figure(\n",
    "    view,tide_bin,wave_height_bin,wave_period_bin,wave_direction_bin,wind_u_bin,wind_v_bin,proj_time\n",
    "    ):\n",
    "    \n",
    "    ########### get the MSL bin based on slider value\n",
    "    msl_proj = SLR_proj_extractor(SL_proj_dict,'k14','26','{}'.format(proj_time))\n",
    "    ocean_model_dict['variables']['MSL']['bin_edges'][0]\n",
    "    bin_count = bin_locator(msl_proj,ocean_model_dict['variables']['MSL']['bin_edges'][0])\n",
    "    msl_bin = ocean_model_dict['variables']['MSL']['discretisation']['bin_names'][bin_count]\n",
    "    \n",
    "    if view == 'Map':\n",
    "        map_osm = folium.Map(location=[1.448888, 172.991794],zoom_start=11)\n",
    "    elif view == 'Satellite':\n",
    "        token = \"pk.eyJ1Ijoic2hhbm5vbi1iZW5ndHNvbiIsImEiOiJja3F1Y2Q0dHEwMzYwMm9wYmtzYzk2bDZuIn0.5jGMyEiJdmXs1HL7x3ThPw\" # your mapbox token\n",
    "        tileurl = 'https://api.mapbox.com/v4/mapbox.satellite/{z}/{x}/{y}@2x.png?access_token=' + str(token)\n",
    "\n",
    "        map_osm = folium.Map(location=[1.448888, 172.991794], zoom_start=11, tiles=tileurl, attr='Mapbox')\n",
    "        \n",
    "    twl_bin_edges = [round(x,2) for x in ocean_model_dict['variables']['TWL']['bin_edges'][0]]\n",
    "    twl_bins = ocean_model_dict['variables']['TWL']['discretisation']['bin_names']\n",
    "\n",
    "    colours_rgb = matplotlib.pyplot.get_cmap('seismic')(np.arange(0,1+1/len(twl_bins),1/(len(twl_bins)-1)))\n",
    "    colour_hex_dict = {i:rgb2hex(int(255*colours_rgb[i][0]),int(255*colours_rgb[i][1]),int(255*(colours_rgb[i][2]))) for i in np.arange(0,len(twl_bins),1)}\n",
    "    \n",
    "    ################################################\n",
    "    \n",
    "    # Create an empty dictionary for the evidence and populate as you go\n",
    "    ocean_evidence_dict = {}\n",
    "    \n",
    "    for var_bin,var_name in zip([tide_bin,msl_bin,wave_height_bin,wave_period_bin,wave_direction_bin],\n",
    "                                ['Tide','MSL','Hs_offshore','Tm_offshore','Dir_offshore']):\n",
    "\n",
    "        ## Set in the evidence dict to be as indicated in the dropdown\n",
    "        bin_index = ocean_model_dict['variables'][var_name]['discretisation']['bin_names'].index(var_bin)\n",
    "        # Create a list of the tide evidence (all zero except as indicated by dropdown. Dropdown=1)\n",
    "        evidence = [0 for x in ocean_model_dict['variables'][var_name]['discretisation']['bin_names']]\n",
    "        evidence[bin_index] = 1\n",
    "        ocean_evidence_dict.update({\n",
    "            var_name:evidence\n",
    "        })\n",
    "    \n",
    "    # Create a list of variables that are location specific to set as evidence in the network\n",
    "    variable_list = ['reef_width','reef_depth','forereef_slope','shore_dir']\n",
    "    \n",
    "    # get the probability dictionary\n",
    "    location_probabilities_dict = location_probabilities(ocean_evidence_dict,ocean_model_dict,variable_list,df_ocean_profiles)\n",
    "    \n",
    "    # Create dataframe to plot\n",
    "    df_twl_locations = pd.DataFrame.from_dict(location_probabilities_dict,orient='index').rename(columns={0:'most_likely_twl'})\n",
    "    df_twl_locations['long'] = [long for long,lat in df_twl_locations.index]\n",
    "    df_twl_locations['lat'] = [lat for long,lat in df_twl_locations.index]\n",
    "    df_twl_locations.reset_index(drop=True,inplace=True)\n",
    "    \n",
    "    data_ocean = data2geojson(df_twl_locations)\n",
    "    \n",
    "    colors_hex_points_ocean = [colour_hex_dict[x] for x in df_twl_locations.most_likely_twl]\n",
    "    \n",
    "    #####################################################################\n",
    "    \n",
    "    # Create an empty dictionary for the evidence and populate as you go\n",
    "    lagoon_evidence_dict = {}\n",
    "    \n",
    "    for var_bin,var_name in zip([tide_bin,msl_bin,wave_height_bin,wave_period_bin,wave_direction_bin,wind_u_bin,wind_v_bin],\n",
    "                                ['Tide','MSL','Hs_offshore','Tm_offshore','Dir_offshore','wind_u','wind_v']):\n",
    "\n",
    "        ## Set in the evidence dict to be as indicated in the dropdown\n",
    "        bin_index = lagoon_model_dict['variables'][var_name]['discretisation']['bin_names'].index(var_bin)\n",
    "        # Create a list of the tide evidence (all zero except as indicated by dropdown. Dropdown=1)\n",
    "        evidence = [0 for x in lagoon_model_dict['variables'][var_name]['discretisation']['bin_names']]\n",
    "        evidence[bin_index] = 1\n",
    "        lagoon_evidence_dict.update({\n",
    "            var_name:evidence\n",
    "        })\n",
    "    \n",
    "    # Create a list of variables that are location specific to set as evidence in the network\n",
    "    variable_list = []\n",
    "    \n",
    "    # get the probability dictionary\n",
    "    location_probabilities_dict = location_probabilities(lagoon_evidence_dict,lagoon_model_dict,variable_list,df_lagoon_profiles)\n",
    "    \n",
    "    # Create dataframe to plot\n",
    "    df_twl_locations = pd.DataFrame.from_dict(location_probabilities_dict,orient='index').rename(columns={0:'most_likely_twl'})\n",
    "    df_twl_locations['long'] = [long for long,lat in df_twl_locations.index]\n",
    "    df_twl_locations['lat'] = [lat for long,lat in df_twl_locations.index]\n",
    "    df_twl_locations.reset_index(drop=True,inplace=True)\n",
    "    \n",
    "    data_lagoon = data2geojson(df_twl_locations)\n",
    "    \n",
    "    colors_hex_points_lagoon = [colour_hex_dict[x] for x in df_twl_locations.most_likely_twl]\n",
    "    \n",
    "    #####################################################################\n",
    "    \n",
    "    features_list = data_ocean['features']+data_lagoon['features']\n",
    "    \n",
    "    data = data_ocean\n",
    "    data.update({\n",
    "        'features':features_list\n",
    "    })\n",
    "    \n",
    "    colors_hex_points = colors_hex_points_ocean+colors_hex_points_lagoon\n",
    "    \n",
    "    #####################################################################\n",
    "\n",
    "    for feature,color in zip(features_list,colors_hex_points):\n",
    "        feature['properties'] = {'color':color,'weight':1,'markerColor':color,'fillOpacity':1,'fillColor':color}\n",
    "        long,lat = feature['geometry']['coordinates']\n",
    "        \n",
    "        marker = folium.CircleMarker([lat,long],color=color,\n",
    "                                    # popup='<img src={}_{}.png>'.format(int(long*1000),int(lat*1000)),\n",
    "                                   fill_color=color,fill=True,fill_opacity='1',radius=5)\n",
    "        marker.add_to(map_osm)\n",
    "        \n",
    "    twl_bin_edge_labels = ['{} to {} m'.format(\n",
    "        x,y) for x,y in zip(twl_bin_edges[:-1],twl_bin_edges[1:])]\n",
    "        \n",
    "    output_list = []\n",
    "    for rgb_color in colours_rgb:\n",
    "        output = plt.scatter([],[],color=rgb_color)\n",
    "        output_list.append(output)\n",
    "        \n",
    "    legend = plt.legend(output_list,twl_bin_edge_labels,title='Total water level anomaly',fontsize=10)\n",
    "    plt.setp(legend.get_title(),fontsize=12)\n",
    "    \n",
    "    plt.axis('off')\n",
    "    plt.savefig('legend.png')\n",
    "    \n",
    "    plt.close()\n",
    "    \n",
    "    url = (\n",
    "        \"legend.png\"\n",
    "    )    \n",
    "    \n",
    "    FloatImage(url, bottom=55, left=55).add_to(map_osm)\n",
    "    \n",
    "    map_osm.save('test.html')\n",
    "        \n",
    "    return(map_osm)\n",
    "    \n",
    "\n",
    "# compile the figure\n",
    "# lagoon_model_dict,ocean_model_dict = initialise_model_dictionaries()\n",
    "tide_bins = ocean_model_dict['variables']['Tide']['discretisation']['bin_names']\n",
    "wave_height_bins = ocean_model_dict['variables']['Hs_offshore']['discretisation']['bin_names']\n",
    "wave_period_bin = ocean_model_dict['variables']['Tm_offshore']['discretisation']['bin_names']\n",
    "wave_direction_bin = ocean_model_dict['variables']['Dir_offshore']['discretisation']['bin_names']\n",
    "wind_u_bin = lagoon_model_dict['variables']['wind_u']['discretisation']['bin_names']\n",
    "wind_v_bin = lagoon_model_dict['variables']['wind_u']['discretisation']['bin_names']\n",
    "# time = list(model_dicts_through_time_dict.keys())  \n",
    "\n",
    "\n",
    "# Create the plot with the widget\n",
    "map_osm = interact_manual(test_figure,\n",
    "                view = widgets.Dropdown(options=['Map','Satellite'],value='Map',description='View type',disabled=False),\n",
    "                tide_bin = widgets.Dropdown(options=tide_bins,value='Mid',description='Tide',disabled=False),\n",
    "                wave_height_bin = widgets.Dropdown(options=wave_height_bins,value='Mid',description='Wave height',disabled=False),\n",
    "                wave_period_bin = widgets.Dropdown(options=wave_period_bin,value='Mid',description='Wave period',disabled=False),\n",
    "                wave_direction_bin = widgets.Dropdown(options=wave_direction_bin,value='NNE',description='Wave direction',disabled=False),\n",
    "                wind_u_bin = widgets.Dropdown(options=wind_u_bin,value='Mid',description='Wind u',disabled=False),\n",
    "                wind_v_bin = widgets.Dropdown(options=wind_v_bin,value='Mid',description='Wind v',disabled=False),\n",
    "                proj_time = widgets.IntSlider(min=2020,max=2150,step=10,value=2020,description='SLR prediction')\n",
    "               )\n",
    "\n",
    "map_osm"
   ]
  },
  {
   "cell_type": "markdown",
   "metadata": {},
   "source": [
    "# Testing Code"
   ]
  },
  {
   "cell_type": "code",
   "execution_count": 48,
   "metadata": {},
   "outputs": [],
   "source": [
    "# def test_figure(\n",
    "#     view,tide_bin,wave_height_bin,wave_period_bin,wave_direction_bin,wind_u_bin,wind_v_bin,proj_time\n",
    "#     ):\n",
    "    \n",
    "#     ########### get the MSL bin based on slider value\n",
    "#     msl_proj = SLR_proj_extractor(SL_proj_dict,'k14','26','{}'.format(proj_time))\n",
    "#     ocean_model_dict['variables']['MSL']['bin_edges'][0]\n",
    "#     bin_count = bin_locator(msl_proj,ocean_model_dict['variables']['MSL']['bin_edges'][0])\n",
    "#     msl_bin = ocean_model_dict['variables']['MSL']['discretisation']['bin_names'][bin_count]\n",
    "    \n",
    "#     if view == 'Map':\n",
    "#         map_osm = folium.Map(location=[1.448888, 172.991794],zoom_start=11)\n",
    "#     elif view == 'Satellite':\n",
    "#         token = \"pk.eyJ1Ijoic2hhbm5vbi1iZW5ndHNvbiIsImEiOiJja3F1Y2Q0dHEwMzYwMm9wYmtzYzk2bDZuIn0.5jGMyEiJdmXs1HL7x3ThPw\" # your mapbox token\n",
    "#         tileurl = 'https://api.mapbox.com/v4/mapbox.satellite/{z}/{x}/{y}@2x.png?access_token=' + str(token)\n",
    "\n",
    "#         map_osm = folium.Map(location=[1.448888, 172.991794], zoom_start=11, tiles=tileurl, attr='Mapbox')\n",
    "        \n",
    "#     twl_bin_edges = [round(x,2) for x in ocean_model_dict['variables']['TWL']['bin_edges'][0]]\n",
    "#     twl_bins = ocean_model_dict['variables']['TWL']['discretisation']['bin_names']\n",
    "\n",
    "#     colours_rgb = matplotlib.pyplot.get_cmap('seismic')(np.arange(0,1+1/len(twl_bins),1/(len(twl_bins)-1)))\n",
    "#     colour_hex_dict = {i:rgb2hex(int(255*colours_rgb[i][0]),int(255*colours_rgb[i][1]),int(255*(colours_rgb[i][2]))) for i in np.arange(0,len(twl_bins),1)}\n",
    "    \n",
    "#     ################################################\n",
    "    \n",
    "#     # Create an empty dictionary for the evidence and populate as you go\n",
    "#     ocean_evidence_dict = {}\n",
    "    \n",
    "#     for var_bin,var_name in zip([tide_bin,msl_bin,wave_height_bin,wave_period_bin,wave_direction_bin],\n",
    "#                                 ['Tide','MSL','Hs_offshore','Tm_offshore','Dir_offshore']):\n",
    "\n",
    "#         ## Set in the evidence dict to be as indicated in the dropdown\n",
    "#         bin_index = ocean_model_dict['variables'][var_name]['discretisation']['bin_names'].index(var_bin)\n",
    "#         # Create a list of the tide evidence (all zero except as indicated by dropdown. Dropdown=1)\n",
    "#         evidence = [0 for x in ocean_model_dict['variables'][var_name]['discretisation']['bin_names']]\n",
    "#         evidence[bin_index] = 1\n",
    "#         ocean_evidence_dict.update({\n",
    "#             var_name:evidence\n",
    "#         })\n",
    "    \n",
    "#     # Create a list of variables that are location specific to set as evidence in the network\n",
    "#     variable_list = ['reef_width','reef_depth','forereef_slope','shore_dir']\n",
    "    \n",
    "#     # get the probability dictionary\n",
    "#     location_probabilities_dict = location_probabilities(ocean_evidence_dict,ocean_model_dict,variable_list,df_ocean_profiles)\n",
    "    \n",
    "#     # Get the actual probabilities\n",
    "#     lagoon_twls = [lagoon_model_dict['variables']['TWL']['discretisation']['bin_names'].index(twl)+1\\\n",
    "#          for twl in lagoon_model_dict['variables']['TWL']['testing_data'][0]]\n",
    "    \n",
    "#     print(len(lagoon_twls))\n",
    "#     print(len(location_probabilities_dict.keys()))\n",
    "    \n",
    "#     # Create dataframe to plot\n",
    "#     df_twl_locations =pd.DataFrame({'most_likely_twl':lagoon_twls})\n",
    "#     df_twl_locations['long'] = [long for long,lat in df_twl_locations.index]\n",
    "#     df_twl_locations['lat'] = [lat for long,lat in df_twl_locations.index]\n",
    "#     df_twl_locations.reset_index(drop=True,inplace=True)\n",
    "    \n",
    "#     data_ocean = data2geojson(df_twl_locations)\n",
    "    \n",
    "#     colors_hex_points_ocean = [colour_hex_dict[x] for x in df_twl_locations.most_likely_twl]\n",
    "    \n",
    "#     #####################################################################\n",
    "    \n",
    "#     # Create an empty dictionary for the evidence and populate as you go\n",
    "#     lagoon_evidence_dict = {}\n",
    "    \n",
    "#     for var_bin,var_name in zip([tide_bin,msl_bin,wave_height_bin,wave_period_bin,wave_direction_bin,wind_u_bin,wind_v_bin],\n",
    "#                                 ['Tide','MSL','Hs_offshore','Tm_offshore','Dir_offshore','wind_u','wind_v']):\n",
    "\n",
    "#         ## Set in the evidence dict to be as indicated in the dropdown\n",
    "#         bin_index = lagoon_model_dict['variables'][var_name]['discretisation']['bin_names'].index(var_bin)\n",
    "#         # Create a list of the tide evidence (all zero except as indicated by dropdown. Dropdown=1)\n",
    "#         evidence = [0 for x in lagoon_model_dict['variables'][var_name]['discretisation']['bin_names']]\n",
    "#         evidence[bin_index] = 1\n",
    "#         lagoon_evidence_dict.update({\n",
    "#             var_name:evidence\n",
    "#         })\n",
    "    \n",
    "#     # Create a list of variables that are location specific to set as evidence in the network\n",
    "#     variable_list = []\n",
    "    \n",
    "#     # get the probability dictionary\n",
    "#     location_probabilities_dict = location_probabilities(lagoon_evidence_dict,lagoon_model_dict,variable_list,df_lagoon_profiles)\n",
    "    \n",
    "#     # Create dataframe to plot\n",
    "#     df_twl_locations = pd.DataFrame.from_dict(location_probabilities_dict,orient='index').rename(columns={0:'most_likely_twl'})\n",
    "#     df_twl_locations['long'] = [long for long,lat in df_twl_locations.index]\n",
    "#     df_twl_locations['lat'] = [lat for long,lat in df_twl_locations.index]\n",
    "#     df_twl_locations.reset_index(drop=True,inplace=True)\n",
    "    \n",
    "#     data_lagoon = data2geojson(df_twl_locations)\n",
    "    \n",
    "#     colors_hex_points_lagoon = [colour_hex_dict[x] for x in df_twl_locations.most_likely_twl]\n",
    "    \n",
    "#     #####################################################################\n",
    "    \n",
    "#     features_list = data_ocean['features']+data_lagoon['features']\n",
    "    \n",
    "#     data = data_ocean\n",
    "#     data.update({\n",
    "#         'features':features_list\n",
    "#     })\n",
    "    \n",
    "#     colors_hex_points = colors_hex_points_ocean+colors_hex_points_lagoon\n",
    "    \n",
    "#     #####################################################################\n",
    "\n",
    "#     for feature,color in zip(features_list,colors_hex_points):\n",
    "#         feature['properties'] = {'color':color,'weight':1,'markerColor':color,'fillOpacity':1,'fillColor':color}\n",
    "#         long,lat = feature['geometry']['coordinates']\n",
    "        \n",
    "#         marker = folium.CircleMarker([lat,long],color=color,\n",
    "#                                     # popup='<img src={}_{}.png>'.format(int(long*1000),int(lat*1000)),\n",
    "#                                    fill_color=color,fill=True,fill_opacity='1',radius=5)\n",
    "#         marker.add_to(map_osm)\n",
    "        \n",
    "#     twl_bin_edge_labels = ['{} to {} m'.format(\n",
    "#         x,y) for x,y in zip(twl_bin_edges[:-1],twl_bin_edges[1:])]\n",
    "        \n",
    "#     output_list = []\n",
    "#     for rgb_color in colours_rgb:\n",
    "#         output = plt.scatter([],[],color=rgb_color)\n",
    "#         output_list.append(output)\n",
    "        \n",
    "#     legend = plt.legend(output_list,twl_bin_edge_labels,title='Total water level anomaly',fontsize=10)\n",
    "#     plt.setp(legend.get_title(),fontsize=12)\n",
    "    \n",
    "#     plt.axis('off')\n",
    "#     plt.savefig('legend.png')\n",
    "    \n",
    "#     plt.close()\n",
    "    \n",
    "#     url = (\n",
    "#         \"legend.png\"\n",
    "#     )    \n",
    "    \n",
    "#     FloatImage(url, bottom=55, left=55).add_to(map_osm)\n",
    "    \n",
    "#     map_osm.save('test.html')\n",
    "        \n",
    "#     return(map_osm)\n",
    "    \n",
    "\n",
    "# # compile the figure\n",
    "# # lagoon_model_dict,ocean_model_dict = initialise_model_dictionaries()\n",
    "# tide_bins = ocean_model_dict['variables']['Tide']['discretisation']['bin_names']\n",
    "# wave_height_bins = ocean_model_dict['variables']['Hs_offshore']['discretisation']['bin_names']\n",
    "# wave_period_bin = ocean_model_dict['variables']['Tm_offshore']['discretisation']['bin_names']\n",
    "# wave_direction_bin = ocean_model_dict['variables']['Dir_offshore']['discretisation']['bin_names']\n",
    "# wind_u_bin = lagoon_model_dict['variables']['wind_u']['discretisation']['bin_names']\n",
    "# wind_v_bin = lagoon_model_dict['variables']['wind_u']['discretisation']['bin_names']\n",
    "# # time = list(model_dicts_through_time_dict.keys())  \n",
    "\n",
    "\n",
    "# # Create the plot with the widget\n",
    "# map_osm = interact_manual(test_figure,\n",
    "#                 view = widgets.Dropdown(options=['Map','Satellite'],value='Map',description='View type',disabled=False),\n",
    "#                 tide_bin = widgets.Dropdown(options=tide_bins,value='Mid',description='Tide',disabled=False),\n",
    "#                 wave_height_bin = widgets.Dropdown(options=wave_height_bins,value='Mid',description='Wave height',disabled=False),\n",
    "#                 wave_period_bin = widgets.Dropdown(options=wave_period_bin,value='Mid',description='Wave period',disabled=False),\n",
    "#                 wave_direction_bin = widgets.Dropdown(options=wave_direction_bin,value='NNE',description='Wave direction',disabled=False),\n",
    "#                 wind_u_bin = widgets.Dropdown(options=wind_u_bin,value='Mid',description='Wind u',disabled=False),\n",
    "#                 wind_v_bin = widgets.Dropdown(options=wind_v_bin,value='Mid',description='Wind v',disabled=False),\n",
    "#                 proj_time = widgets.IntSlider(min=2020,max=2150,step=10,value=2020,description='SLR prediction')\n",
    "#                )\n",
    "\n",
    "# map_osm"
   ]
  },
  {
   "cell_type": "code",
   "execution_count": 49,
   "metadata": {},
   "outputs": [
    {
     "name": "stdout",
     "output_type": "stream",
     "text": [
      "30181\n"
     ]
    }
   ],
   "source": [
    "lagoon_twls = [lagoon_model_dict['variables']['TWL']['discretisation']['bin_names'].index(twl)+1\\\n",
    "     for twl in lagoon_model_dict['variables']['TWL']['testing_data'][0]]\n",
    "df = pd.DataFrame({'most_likely_twl':lagoon_twls})\n",
    "print(len(df))"
   ]
  },
  {
   "cell_type": "code",
   "execution_count": 50,
   "metadata": {},
   "outputs": [
    {
     "data": {
      "text/plain": [
       "array(['Mid', 'Low', 'MidHigh', ..., 'LowMid', 'LowMid', 'MidHigh'],\n",
       "      dtype='<U32')"
      ]
     },
     "execution_count": 50,
     "metadata": {},
     "output_type": "execute_result"
    }
   ],
   "source": [
    "lagoon_model_dict['variables']['TWL']['testing_data'][0]"
   ]
  },
  {
   "cell_type": "code",
   "execution_count": 51,
   "metadata": {},
   "outputs": [
    {
     "ename": "NameError",
     "evalue": "name 'bin_edges' is not defined",
     "output_type": "error",
     "traceback": [
      "\u001b[0;31m---------------------------------------------------------------------------\u001b[0m",
      "\u001b[0;31mNameError\u001b[0m                                 Traceback (most recent call last)",
      "\u001b[0;32m/tmp/ipykernel_522/4042744876.py\u001b[0m in \u001b[0;36m<module>\u001b[0;34m\u001b[0m\n\u001b[0;32m----> 1\u001b[0;31m \u001b[0mbin_edges\u001b[0m\u001b[0;34m\u001b[0m\u001b[0;34m\u001b[0m\u001b[0m\n\u001b[0m",
      "\u001b[0;31mNameError\u001b[0m: name 'bin_edges' is not defined"
     ]
    }
   ],
   "source": [
    "bin_edges"
   ]
  },
  {
   "cell_type": "code",
   "execution_count": null,
   "metadata": {},
   "outputs": [],
   "source": []
  },
  {
   "cell_type": "code",
   "execution_count": null,
   "metadata": {},
   "outputs": [],
   "source": [
    "def bin_locator(value,bin_edges):\n",
    "    '''\n",
    "    function used for determining the index of the appropriate bin for a numerical value.\n",
    "    '''\n",
    "    i=0\n",
    "    for edge_1,edge_2 in zip(bin_edges[:-1],bin_edges[1:]):\n",
    "        if (value>edge_1)&(value<=edge_2):\n",
    "            loc_bin = i\n",
    "        else:\n",
    "            i+=1\n",
    "            continue\n",
    "\n",
    "    if value<=bin_edges[0]:\n",
    "        loc_bin = 0\n",
    "\n",
    "    if value>=bin_edges[-1]:\n",
    "        loc_bin = len(bin_edges)-2\n",
    "\n",
    "    return(loc_bin)"
   ]
  },
  {
   "cell_type": "code",
   "execution_count": null,
   "metadata": {},
   "outputs": [],
   "source": []
  },
  {
   "cell_type": "code",
   "execution_count": null,
   "metadata": {},
   "outputs": [],
   "source": []
  },
  {
   "cell_type": "code",
   "execution_count": null,
   "metadata": {},
   "outputs": [],
   "source": []
  }
 ],
 "metadata": {
  "cite2c": {
   "citations": {
    "2344856/I2LE4LVY": {
     "DOI": "10.1029/2019PA003589",
     "author": [
      {
       "family": "Bengtson",
       "given": "Shannon A."
      },
      {
       "family": "Meissner",
       "given": "Katrin J."
      },
      {
       "family": "Menviel",
       "given": "Laurie"
      },
      {
       "family": "A. Sisson",
       "given": "Scott"
      },
      {
       "family": "Wilkin",
       "given": "John"
      }
     ],
     "container-title": "Paleoceanography and Paleoclimatology",
     "container-title-short": "Paleoceanography and Paleoclimatology",
     "id": "2344856/I2LE4LVY",
     "issued": {
      "day": 17,
      "month": 5,
      "year": 2019
     },
     "journalAbbreviation": "Paleoceanography and Paleoclimatology",
     "note": "Citation Key: bengtson2019evaluating",
     "page": "1022-1036",
     "page-first": "1022",
     "title": "Evaluating the extent of North Atlantic Deep Water and the mean Atlantic δ<sup>13</sup>C from statistical reconstructions",
     "type": "article-journal",
     "volume": "34"
    },
    "2344856/V5HIVSEQ": {
     "DOI": "10.1017/S0263593300020782",
     "URL": "https://www.cambridge.org/core/journals/earth-and-environmental-science-transactions-of-royal-society-of-edinburgh/article/an-alternative-astronomical-calibration-of-the-lower-pleistocene-timescale-based-on-odp-site-677/D02E93BFBF418256AD00642C8A98277C",
     "abstract": "Ocean Drilling Program (ODP) Site 677 provided excellent material for high resolution stable isotope analysis of both benthonic and planktonic foraminifera through the entire Pleistocene and upper Pliocene. The oxygen isotope record is readily correlated with the SPECMAP stack (Imbrie et al. 1984) and with the record from DSDP 607 (Ruddiman et al. 1986) but a significantly better match with orbital models is obtained by departing from the timescale proposed by these authors below Stage 16 (620 000 years). It is the stronger contribution from the precession signal in the record from ODP Site 677 that provides the basis for the revised timescale. Our proposed modification to the timescale would imply that the currently adopted radiometric dates for the Matuyama–Brunhes boundary, the Jaramillo and Olduvai Subchrons and the Gauss–Matuyama boundary underestimate their true astronomical ages by between 5 and 7%.",
     "accessed": {
      "day": 19,
      "month": 5,
      "year": 2020
     },
     "author": [
      {
       "family": "Shackleton",
       "given": "N. J."
      },
      {
       "family": "Berger",
       "given": "A."
      },
      {
       "family": "Peltier",
       "given": "W. R."
      }
     ],
     "container-title": "Earth and Environmental Science Transactions of The Royal Society of Edinburgh",
     "id": "2344856/V5HIVSEQ",
     "issue": "4",
     "issued": {
      "year": 1990
     },
     "language": "en",
     "note": "citation key: shackleton1990alternative",
     "page": "251-261",
     "page-first": "251",
     "title": "An alternative astronomical calibration of the lower Pleistocene timescale based on ODP Site 677",
     "type": "article-journal",
     "volume": "81"
    }
   }
  },
  "hide_input": false,
  "kernelspec": {
   "display_name": "Python 3 (ipykernel)",
   "language": "python",
   "name": "python3"
  },
  "language_info": {
   "codemirror_mode": {
    "name": "ipython",
    "version": 3
   },
   "file_extension": ".py",
   "mimetype": "text/x-python",
   "name": "python",
   "nbconvert_exporter": "python",
   "pygments_lexer": "ipython3",
   "version": "3.8.5"
  },
  "toc": {
   "base_numbering": 1,
   "nav_menu": {},
   "number_sections": true,
   "sideBar": true,
   "skip_h1_title": false,
   "title_cell": "Table of Contents",
   "title_sidebar": "Contents",
   "toc_cell": false,
   "toc_position": {
    "height": "calc(100% - 180px)",
    "left": "10px",
    "top": "150px",
    "width": "260px"
   },
   "toc_section_display": true,
   "toc_window_display": true
  },
  "varInspector": {
   "cols": {
    "lenName": 16,
    "lenType": 16,
    "lenVar": 40
   },
   "kernels_config": {
    "python": {
     "delete_cmd_postfix": "",
     "delete_cmd_prefix": "del ",
     "library": "var_list.py",
     "varRefreshCmd": "print(var_dic_list())"
    },
    "r": {
     "delete_cmd_postfix": ") ",
     "delete_cmd_prefix": "rm(",
     "library": "var_list.r",
     "varRefreshCmd": "cat(var_dic_list()) "
    }
   },
   "position": {
    "height": "744px",
    "left": "1262px",
    "right": "20px",
    "top": "135px",
    "width": "279px"
   },
   "types_to_exclude": [
    "module",
    "function",
    "builtin_function_or_method",
    "instance",
    "_Feature"
   ],
   "window_display": false
  }
 },
 "nbformat": 4,
 "nbformat_minor": 4
}
