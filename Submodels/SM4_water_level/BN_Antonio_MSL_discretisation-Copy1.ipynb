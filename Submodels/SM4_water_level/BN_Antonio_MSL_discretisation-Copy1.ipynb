{
 "cells": [
  {
   "cell_type": "markdown",
   "metadata": {},
   "source": [
    "# File Description"
   ]
  },
  {
   "cell_type": "markdown",
   "metadata": {},
   "source": [
    "This notebook is for determining the best way to discretise the MSL data from Antonio"
   ]
  },
  {
   "cell_type": "markdown",
   "metadata": {
    "heading_collapsed": true
   },
   "source": [
    "# File Setup"
   ]
  },
  {
   "cell_type": "markdown",
   "metadata": {
    "hidden": true
   },
   "source": [
    "##\n",
    "How does the order of magnitude vary betwene the lagoon and the ocean?\n",
    "which is most sensitive to waves? How would that interact with topography?"
   ]
  },
  {
   "cell_type": "code",
   "execution_count": 1,
   "metadata": {
    "hidden": true
   },
   "outputs": [],
   "source": [
    "%load_ext autoreload\n",
    "%autoreload 2"
   ]
  },
  {
   "cell_type": "code",
   "execution_count": 2,
   "metadata": {
    "hidden": true
   },
   "outputs": [
    {
     "name": "stderr",
     "output_type": "stream",
     "text": [
      "C:\\ProgramData\\Anaconda3\\lib\\site-packages\\rpy2\\robjects\\packages.py:367: UserWarning: The symbol 'quartz' is not in this R namespace/package.\n",
      "  \"The symbol '%s' is not in this R namespace/package.\" % name\n"
     ]
    }
   ],
   "source": [
    "import pandas as pd\n",
    "import numpy as np\n",
    "import matplotlib\n",
    "import matplotlib.pyplot as plt\n",
    "import itertools\n",
    "import os\n",
    "import json\n",
    "from datetime import datetime\n",
    "import pysmile\n",
    "import sys\n",
    "import json\n",
    "sys.path.append('C:\\\\Users\\\\shannonb\\\\Documents\\\\Model_and_data\\\\python_classes')\n",
    "import rpy2\n",
    "os.environ['R_HOME'] = 'C:\\ProgramData\\Anaconda3\\Lib\\R'\n",
    "%load_ext rpy2.ipython\n",
    "\n",
    "from BNModel import BNModel\n",
    "\n",
    "from BN_Antonio_preprocessing import *\n"
   ]
  },
  {
   "cell_type": "code",
   "execution_count": 3,
   "metadata": {
    "hidden": true
   },
   "outputs": [],
   "source": [
    "### set location of file storage\n",
    "folder = 'BN_antonio_data'\n",
    "try:\n",
    "    os.makedirs(folder)\n",
    "except FileExistsError:\n",
    "    pass"
   ]
  },
  {
   "cell_type": "markdown",
   "metadata": {},
   "source": [
    "# Data Prep"
   ]
  },
  {
   "cell_type": "code",
   "execution_count": 4,
   "metadata": {},
   "outputs": [],
   "source": [
    "# Import and preprocess data\n",
    "df_lagoon,lagoon_data_dict = BN_Antonio_preprocessing_lagoon()\n",
    "df_ocean,ocean_data_dict = BN_Antonio_preprocessing_ocean()"
   ]
  },
  {
   "cell_type": "code",
   "execution_count": 5,
   "metadata": {
    "hidden": true
   },
   "outputs": [],
   "source": [
    "### HOW TO INCLUDE TEMPORAL ASPECT ??"
   ]
  },
  {
   "cell_type": "code",
   "execution_count": 6,
   "metadata": {},
   "outputs": [],
   "source": [
    "# Load SLR Projections\n",
    "\n",
    "data_location = \"C:\\\\Users\\\\shannonb\\\\Documents\\\\Model_and_data\\\\Dataset\\\\D7_MSL_projections\\\\\"\n",
    "file_name = \"distributions_dict\"\n",
    "\n",
    "with open(\"{}{}.json\".format(data_location,file_name), 'r') as fp:\n",
    "    SL_proj_dict = json.load(fp)\n",
    "    \n",
    "    \n"
   ]
  },
  {
   "cell_type": "markdown",
   "metadata": {
    "heading_collapsed": true
   },
   "source": [
    "## Create Variable Dictionary"
   ]
  },
  {
   "cell_type": "code",
   "execution_count": 7,
   "metadata": {
    "hidden": true,
    "scrolled": false
   },
   "outputs": [],
   "source": [
    "#### Don't include spaces in bin names. if no discretisation, just leave out that key\n",
    "lagoon_model_dict = {\n",
    "    'variables':{\n",
    "        'Wind':{\n",
    "            'label':'Wind Speed (m/s)',\n",
    "            'discretisation':{\n",
    "                'n_bins':7,\n",
    "                'strategy':'kmeans',\n",
    "                'bin_names':['VeryLow','Low','LowMid','Mid','HighMid','High','VeryHigh']\n",
    "            },\n",
    "            'child_nodes':['MSL']\n",
    "        },\n",
    "        'WindDir':{\n",
    "            'label':r'Wind Direction (degrees)',\n",
    "            'discretisation':{\n",
    "                'n_bins':8,\n",
    "                'strategy':'uniform',\n",
    "                'bin_names':['WNW','NNW','NNE','ENE','ESE','SSE','SSW','WSW']\n",
    "            },\n",
    "            'child_nodes':['MSL']\n",
    "        },\n",
    "        'Hs_offshore':{\n",
    "            'label':'Offshore wave height (m)',\n",
    "            'discretisation':{\n",
    "                'n_bins':7,\n",
    "                'strategy':'kmeans',\n",
    "                'bin_names':['VeryLow','Low','LowMid','Mid','HighMid','High','VeryHigh']\n",
    "            },\n",
    "            'child_nodes':['MSL']\n",
    "        },\n",
    "        'Tm_offshore':{\n",
    "            'label':'Offshore wave period (s)',\n",
    "            'discretisation':{\n",
    "                'n_bins':7,\n",
    "                'strategy':'kmeans',\n",
    "                'bin_names':['VeryLow','Low','LowMid','Mid','HighMid','High','VeryHigh']\n",
    "            },\n",
    "            'child_nodes':['MSL']\n",
    "        },\n",
    "        'Dir_offshore':{\n",
    "            'label':r'Offshore wave direction (degrees)',\n",
    "            'discretisation':{\n",
    "                'n_bins':8,\n",
    "                'strategy':'kmeans',\n",
    "                'bin_names':['NNE','ENE','ESE','SSE','SSW','WSW','WNW','NNW']\n",
    "            },\n",
    "            'child_nodes':['MSL']\n",
    "        },\n",
    "        'TWL_point_110':{\n",
    "            'label':'Total water level at point 110 (m)',\n",
    "            'discretisation':{\n",
    "                'n_bins':7,\n",
    "                'strategy':'kmeans',\n",
    "                'bin_names':['VeryLow','Low','LowMid','Mid','HighMid','High','VeryHigh']\n",
    "            },\n",
    "            'child_nodes':[]\n",
    "        },\n",
    "        'TWL_point_110_less_Tide':{\n",
    "            'label':'Total water level at point 110 less tide (m)',\n",
    "            'discretisation':{\n",
    "                'n_bins':7,\n",
    "                'strategy':'kmeans',\n",
    "                'bin_names':['VeryLow','Low','LowMid','Mid','HighMid','High','VeryHigh']\n",
    "            },\n",
    "            'child_nodes':['TWL_point_110']\n",
    "        },\n",
    "        'Hs_point_110':{\n",
    "            'label':'Wave height at point 110 (m)',\n",
    "            'discretisation':{\n",
    "                'n_bins':7,\n",
    "                'strategy':'kmeans',\n",
    "                'bin_names':['VeryLow','Low','LowMid','Mid','HighMid','High','VeryHigh']\n",
    "            },\n",
    "            'child_nodes':['TWL_point_110_less_Tide']\n",
    "        },\n",
    "        'MSL':{\n",
    "            'label':'Mean sea level (m)',\n",
    "            'discretisation':{\n",
    "                'n_bins':7,\n",
    "                'strategy':'kmeans',\n",
    "                'bin_names':['VeryLow','Low','LowMid','Mid','HighMid','High','VeryHigh']\n",
    "            },\n",
    "            'child_nodes':['TWL_point_110_less_Tide']\n",
    "        },\n",
    "        'MEI':{\n",
    "            'label':'Multivariate ENSO index',\n",
    "            'discretisation':{\n",
    "                'n_bins':3,\n",
    "                'strategy':'kmeans',\n",
    "                'bin_names':['LaNiña','none','ElNiño'],\n",
    "                'bin_edges':[-3.0,-0.5,0.5,3.0]\n",
    "            },\n",
    "            'child_nodes':['MSL']\n",
    "        },\n",
    "        'Tide':{\n",
    "            'label':'Tide (m)',\n",
    "            'discretisation':{\n",
    "                'n_bins':7,\n",
    "                'strategy':'kmeans',\n",
    "                'bin_names':['VeryLow','Low','LowMid','Mid','HighMid','High','VeryHigh']\n",
    "            },\n",
    "            'child_nodes':['TWL_point_110']\n",
    "        }\n",
    "    },\n",
    "    'training_frac':0.8,\n",
    "    'bootstrap_reps':3\n",
    "}"
   ]
  },
  {
   "cell_type": "code",
   "execution_count": 8,
   "metadata": {
    "hidden": true
   },
   "outputs": [],
   "source": [
    "ocean_model_dict = {\n",
    "   'variables':{\n",
    "       'Tm_point_218':{\n",
    "            'label':'Wave period at point 218 (s)',\n",
    "            'discretisation':{\n",
    "                'n_bins':7,\n",
    "                'strategy':'kmeans',\n",
    "                'bin_names':['VeryLow','Low','LowMid','Mid','HighMid','High','VeryHigh']\n",
    "            },\n",
    "            'child_nodes':['TWL_point_218_less_Tide']\n",
    "        },\n",
    "        'Hs_point_218':{\n",
    "            'label':'Wave height at point 218 (m)',\n",
    "            'discretisation':{\n",
    "                'n_bins':7,\n",
    "                'strategy':'kmeans',\n",
    "                'bin_names':['VeryLow','Low','LowMid','Mid','HighMid','High','VeryHigh']\n",
    "            },\n",
    "            'child_nodes':['TWL_point_218_less_Tide']\n",
    "        },\n",
    "        'MSL':{\n",
    "            'label':'Mean sea level (m)',\n",
    "            'discretisation':{\n",
    "                'n_bins':7,\n",
    "                'strategy':'kmeans',\n",
    "                'bin_names':['VeryLow','Low','LowMid','Mid','HighMid','High','VeryHigh']\n",
    "            },\n",
    "            'child_nodes':['TWL_point_218_less_Tide']\n",
    "        },\n",
    "        'MEI':{\n",
    "            'label':'Multivariate ENSO index',\n",
    "            'discretisation':{\n",
    "                'n_bins':3,\n",
    "                'strategy':'kmeans',\n",
    "                'bin_names':['LaNiña','none','ElNiño'],\n",
    "                'bin_edges':[-3.0,-0.5,0.5,3.0]\n",
    "            },\n",
    "            'child_nodes':['MSL']\n",
    "        },\n",
    "        'Tide':{\n",
    "            'label':'Tide (m)',\n",
    "            'discretisation':{\n",
    "                'n_bins':7,\n",
    "                'strategy':'kmeans',\n",
    "                'bin_names':['VeryLow','Low','LowMid','Mid','HighMid','High','VeryHigh']\n",
    "            },\n",
    "            'child_nodes':['TWL_point_218']\n",
    "        },\n",
    "        'TWL_point_218':{\n",
    "            'label':'Total water level at point 218 (m)',\n",
    "            'discretisation':{\n",
    "                'n_bins':7,\n",
    "                'strategy':'kmeans',\n",
    "                'bin_names':['VeryLow','Low','LowMid','Mid','HighMid','High','VeryHigh']\n",
    "            },\n",
    "            'child_nodes':[]\n",
    "        },\n",
    "        'TWL_point_218_less_Tide':{\n",
    "            'label':'Total water level at point 218 less tide (m)',\n",
    "            'discretisation':{\n",
    "                'n_bins':7,\n",
    "                'strategy':'kmeans',\n",
    "                'bin_names':['VeryLow','Low','LowMid','Mid','HighMid','High','VeryHigh']\n",
    "            },\n",
    "            'child_nodes':['TWL_point_218']\n",
    "        }\n",
    "   },\n",
    "    'training_frac':0.8,\n",
    "    'bootstrap_reps':3\n",
    "}"
   ]
  },
  {
   "cell_type": "markdown",
   "metadata": {
    "heading_collapsed": true
   },
   "source": [
    "## Bootstrapping the data"
   ]
  },
  {
   "cell_type": "code",
   "execution_count": 9,
   "metadata": {
    "hidden": true,
    "scrolled": true
   },
   "outputs": [],
   "source": [
    "# Bootstrap the data, and add it to the model_dict\n",
    "lagoon_model_dict = BNModel().bootstrap_data(lagoon_model_dict,lagoon_data_dict,df_lagoon)\n",
    "\n",
    "ocean_model_dict = BNModel().bootstrap_data(ocean_model_dict,ocean_data_dict,df_ocean)"
   ]
  },
  {
   "cell_type": "markdown",
   "metadata": {
    "heading_collapsed": true
   },
   "source": [
    "## Discretise the data"
   ]
  },
  {
   "cell_type": "code",
   "execution_count": 10,
   "metadata": {
    "hidden": true
   },
   "outputs": [],
   "source": [
    "# Discretise the data\n",
    "lagoon_file_label = \"lagoon\"\n",
    "ocean_file_label = \"ocean\"\n",
    "\n",
    "lagoon_model_dict = BNModel().discretiser(lagoon_model_dict)\n",
    "ocean_model_dict = BNModel().discretiser(ocean_model_dict)"
   ]
  },
  {
   "cell_type": "code",
   "execution_count": 11,
   "metadata": {
    "hidden": true,
    "scrolled": false
   },
   "outputs": [
    {
     "data": {
      "image/png": "[encoded data removed]",
      "text/plain": [
       "<Figure size 720x1440 with 22 Axes>"
      ]
     },
     "metadata": {
      "needs_background": "light"
     },
     "output_type": "display_data"
    }
   ],
   "source": [
    "lagoon_disc_fig = BNModel().plot_discretiser(lagoon_model_dict)"
   ]
  },
  {
   "cell_type": "code",
   "execution_count": 12,
   "metadata": {
    "hidden": true,
    "scrolled": false
   },
   "outputs": [
    {
     "data": {
      "image/png": "[encoded data removed]",
      "text/plain": [
       "<Figure size 720x1440 with 14 Axes>"
      ]
     },
     "metadata": {
      "needs_background": "light"
     },
     "output_type": "display_data"
    }
   ],
   "source": [
    "ocean_disc_fig = BNModel().plot_discretiser(ocean_model_dict)"
   ]
  },
  {
   "cell_type": "markdown",
   "metadata": {
    "heading_collapsed": true
   },
   "source": [
    "## Save the data"
   ]
  },
  {
   "cell_type": "code",
   "execution_count": 13,
   "metadata": {
    "hidden": true
   },
   "outputs": [],
   "source": [
    "BNModel().save_dataset(lagoon_model_dict,lagoon_file_label)\n",
    "BNModel().save_dataset(ocean_model_dict,ocean_file_label)"
   ]
  },
  {
   "cell_type": "markdown",
   "metadata": {
    "heading_collapsed": true
   },
   "source": [
    "# Create BN Model"
   ]
  },
  {
   "cell_type": "code",
   "execution_count": 14,
   "metadata": {
    "hidden": true,
    "scrolled": true
   },
   "outputs": [],
   "source": [
    "# Create the BN\n",
    "lagoon_model_dict = BNModel().create_SM(lagoon_model_dict,lagoon_file_label)\n",
    "ocean_model_dict = BNModel().create_SM(ocean_model_dict,ocean_file_label)"
   ]
  },
  {
   "cell_type": "markdown",
   "metadata": {
    "hidden": true
   },
   "source": [
    "## View Conditional Probability tables"
   ]
  },
  {
   "cell_type": "code",
   "execution_count": 15,
   "metadata": {
    "hidden": true,
    "scrolled": false
   },
   "outputs": [
    {
     "data": {
      "text/html": [
       "<div>\n",
       "<style scoped>\n",
       "    .dataframe tbody tr th:only-of-type {\n",
       "        vertical-align: middle;\n",
       "    }\n",
       "\n",
       "    .dataframe tbody tr th {\n",
       "        vertical-align: top;\n",
       "    }\n",
       "\n",
       "    .dataframe thead tr th {\n",
       "        text-align: left;\n",
       "    }\n",
       "\n",
       "    .dataframe thead tr:last-of-type th {\n",
       "        text-align: right;\n",
       "    }\n",
       "</style>\n",
       "<table border=\"1\" class=\"dataframe\">\n",
       "  <thead>\n",
       "    <tr>\n",
       "      <th>TWL_point_110_less_Tide</th>\n",
       "      <th colspan=\"7\" halign=\"left\">VeryLow</th>\n",
       "      <th colspan=\"3\" halign=\"left\">Low</th>\n",
       "      <th>...</th>\n",
       "      <th colspan=\"3\" halign=\"left\">High</th>\n",
       "      <th colspan=\"7\" halign=\"left\">VeryHigh</th>\n",
       "    </tr>\n",
       "    <tr>\n",
       "      <th>Tide</th>\n",
       "      <th>VeryLow</th>\n",
       "      <th>Low</th>\n",
       "      <th>LowMid</th>\n",
       "      <th>Mid</th>\n",
       "      <th>HighMid</th>\n",
       "      <th>High</th>\n",
       "      <th>VeryHigh</th>\n",
       "      <th>VeryLow</th>\n",
       "      <th>Low</th>\n",
       "      <th>LowMid</th>\n",
       "      <th>...</th>\n",
       "      <th>HighMid</th>\n",
       "      <th>High</th>\n",
       "      <th>VeryHigh</th>\n",
       "      <th>VeryLow</th>\n",
       "      <th>Low</th>\n",
       "      <th>LowMid</th>\n",
       "      <th>Mid</th>\n",
       "      <th>HighMid</th>\n",
       "      <th>High</th>\n",
       "      <th>VeryHigh</th>\n",
       "    </tr>\n",
       "    <tr>\n",
       "      <th>TWL_point_110</th>\n",
       "      <th></th>\n",
       "      <th></th>\n",
       "      <th></th>\n",
       "      <th></th>\n",
       "      <th></th>\n",
       "      <th></th>\n",
       "      <th></th>\n",
       "      <th></th>\n",
       "      <th></th>\n",
       "      <th></th>\n",
       "      <th></th>\n",
       "      <th></th>\n",
       "      <th></th>\n",
       "      <th></th>\n",
       "      <th></th>\n",
       "      <th></th>\n",
       "      <th></th>\n",
       "      <th></th>\n",
       "      <th></th>\n",
       "      <th></th>\n",
       "      <th></th>\n",
       "    </tr>\n",
       "  </thead>\n",
       "  <tbody>\n",
       "    <tr>\n",
       "      <th>High</th>\n",
       "      <td>0.00000</td>\n",
       "      <td>0.000000</td>\n",
       "      <td>0.000000</td>\n",
       "      <td>0.000715</td>\n",
       "      <td>0.596529</td>\n",
       "      <td>0.525068</td>\n",
       "      <td>0.0</td>\n",
       "      <td>0.000000</td>\n",
       "      <td>0.000000</td>\n",
       "      <td>0.000000</td>\n",
       "      <td>...</td>\n",
       "      <td>0.0000</td>\n",
       "      <td>0.72164</td>\n",
       "      <td>0.3145</td>\n",
       "      <td>0.0</td>\n",
       "      <td>0.000000</td>\n",
       "      <td>0.00000</td>\n",
       "      <td>0.000000</td>\n",
       "      <td>0.000000</td>\n",
       "      <td>0.445758</td>\n",
       "      <td>0.572275</td>\n",
       "    </tr>\n",
       "    <tr>\n",
       "      <th>HighMid</th>\n",
       "      <td>0.00000</td>\n",
       "      <td>0.000000</td>\n",
       "      <td>0.000000</td>\n",
       "      <td>0.629021</td>\n",
       "      <td>0.403471</td>\n",
       "      <td>0.000000</td>\n",
       "      <td>0.0</td>\n",
       "      <td>0.000000</td>\n",
       "      <td>0.000000</td>\n",
       "      <td>0.000000</td>\n",
       "      <td>...</td>\n",
       "      <td>0.7793</td>\n",
       "      <td>0.27836</td>\n",
       "      <td>0.0000</td>\n",
       "      <td>0.0</td>\n",
       "      <td>0.000000</td>\n",
       "      <td>0.00000</td>\n",
       "      <td>0.000000</td>\n",
       "      <td>0.483004</td>\n",
       "      <td>0.554242</td>\n",
       "      <td>0.000000</td>\n",
       "    </tr>\n",
       "    <tr>\n",
       "      <th>Low</th>\n",
       "      <td>0.62069</td>\n",
       "      <td>0.330626</td>\n",
       "      <td>0.000000</td>\n",
       "      <td>0.000000</td>\n",
       "      <td>0.000000</td>\n",
       "      <td>0.000000</td>\n",
       "      <td>0.0</td>\n",
       "      <td>0.425033</td>\n",
       "      <td>0.546057</td>\n",
       "      <td>0.000000</td>\n",
       "      <td>...</td>\n",
       "      <td>0.0000</td>\n",
       "      <td>0.00000</td>\n",
       "      <td>0.0000</td>\n",
       "      <td>0.0</td>\n",
       "      <td>0.625996</td>\n",
       "      <td>0.48152</td>\n",
       "      <td>0.000000</td>\n",
       "      <td>0.000000</td>\n",
       "      <td>0.000000</td>\n",
       "      <td>0.000000</td>\n",
       "    </tr>\n",
       "    <tr>\n",
       "      <th>LowMid</th>\n",
       "      <td>0.00000</td>\n",
       "      <td>0.667750</td>\n",
       "      <td>0.359178</td>\n",
       "      <td>0.000000</td>\n",
       "      <td>0.000000</td>\n",
       "      <td>0.000000</td>\n",
       "      <td>0.0</td>\n",
       "      <td>0.000000</td>\n",
       "      <td>0.453943</td>\n",
       "      <td>0.614544</td>\n",
       "      <td>...</td>\n",
       "      <td>0.0000</td>\n",
       "      <td>0.00000</td>\n",
       "      <td>0.0000</td>\n",
       "      <td>0.0</td>\n",
       "      <td>0.000000</td>\n",
       "      <td>0.51848</td>\n",
       "      <td>0.475057</td>\n",
       "      <td>0.000000</td>\n",
       "      <td>0.000000</td>\n",
       "      <td>0.000000</td>\n",
       "    </tr>\n",
       "    <tr>\n",
       "      <th>Mid</th>\n",
       "      <td>0.00000</td>\n",
       "      <td>0.001625</td>\n",
       "      <td>0.640822</td>\n",
       "      <td>0.370264</td>\n",
       "      <td>0.000000</td>\n",
       "      <td>0.000000</td>\n",
       "      <td>0.0</td>\n",
       "      <td>0.000000</td>\n",
       "      <td>0.000000</td>\n",
       "      <td>0.385456</td>\n",
       "      <td>...</td>\n",
       "      <td>0.2207</td>\n",
       "      <td>0.00000</td>\n",
       "      <td>0.0000</td>\n",
       "      <td>0.0</td>\n",
       "      <td>0.000000</td>\n",
       "      <td>0.00000</td>\n",
       "      <td>0.524943</td>\n",
       "      <td>0.516996</td>\n",
       "      <td>0.000000</td>\n",
       "      <td>0.000000</td>\n",
       "    </tr>\n",
       "    <tr>\n",
       "      <th>VeryHigh</th>\n",
       "      <td>0.00000</td>\n",
       "      <td>0.000000</td>\n",
       "      <td>0.000000</td>\n",
       "      <td>0.000000</td>\n",
       "      <td>0.000000</td>\n",
       "      <td>0.474932</td>\n",
       "      <td>1.0</td>\n",
       "      <td>0.000000</td>\n",
       "      <td>0.000000</td>\n",
       "      <td>0.000000</td>\n",
       "      <td>...</td>\n",
       "      <td>0.0000</td>\n",
       "      <td>0.00000</td>\n",
       "      <td>0.6855</td>\n",
       "      <td>0.0</td>\n",
       "      <td>0.000000</td>\n",
       "      <td>0.00000</td>\n",
       "      <td>0.000000</td>\n",
       "      <td>0.000000</td>\n",
       "      <td>0.000000</td>\n",
       "      <td>0.427725</td>\n",
       "    </tr>\n",
       "    <tr>\n",
       "      <th>VeryLow</th>\n",
       "      <td>0.37931</td>\n",
       "      <td>0.000000</td>\n",
       "      <td>0.000000</td>\n",
       "      <td>0.000000</td>\n",
       "      <td>0.000000</td>\n",
       "      <td>0.000000</td>\n",
       "      <td>0.0</td>\n",
       "      <td>0.574967</td>\n",
       "      <td>0.000000</td>\n",
       "      <td>0.000000</td>\n",
       "      <td>...</td>\n",
       "      <td>0.0000</td>\n",
       "      <td>0.00000</td>\n",
       "      <td>0.0000</td>\n",
       "      <td>1.0</td>\n",
       "      <td>0.374004</td>\n",
       "      <td>0.00000</td>\n",
       "      <td>0.000000</td>\n",
       "      <td>0.000000</td>\n",
       "      <td>0.000000</td>\n",
       "      <td>0.000000</td>\n",
       "    </tr>\n",
       "  </tbody>\n",
       "</table>\n",
       "<p>7 rows × 49 columns</p>\n",
       "</div>"
      ],
      "text/plain": [
       "TWL_point_110_less_Tide  VeryLow                                          \\\n",
       "Tide                     VeryLow       Low    LowMid       Mid   HighMid   \n",
       "TWL_point_110                                                              \n",
       "High                     0.00000  0.000000  0.000000  0.000715  0.596529   \n",
       "HighMid                  0.00000  0.000000  0.000000  0.629021  0.403471   \n",
       "Low                      0.62069  0.330626  0.000000  0.000000  0.000000   \n",
       "LowMid                   0.00000  0.667750  0.359178  0.000000  0.000000   \n",
       "Mid                      0.00000  0.001625  0.640822  0.370264  0.000000   \n",
       "VeryHigh                 0.00000  0.000000  0.000000  0.000000  0.000000   \n",
       "VeryLow                  0.37931  0.000000  0.000000  0.000000  0.000000   \n",
       "\n",
       "TWL_point_110_less_Tide                          Low                      ...  \\\n",
       "Tide                         High VeryHigh   VeryLow       Low    LowMid  ...   \n",
       "TWL_point_110                                                             ...   \n",
       "High                     0.525068      0.0  0.000000  0.000000  0.000000  ...   \n",
       "HighMid                  0.000000      0.0  0.000000  0.000000  0.000000  ...   \n",
       "Low                      0.000000      0.0  0.425033  0.546057  0.000000  ...   \n",
       "LowMid                   0.000000      0.0  0.000000  0.453943  0.614544  ...   \n",
       "Mid                      0.000000      0.0  0.000000  0.000000  0.385456  ...   \n",
       "VeryHigh                 0.474932      1.0  0.000000  0.000000  0.000000  ...   \n",
       "VeryLow                  0.000000      0.0  0.574967  0.000000  0.000000  ...   \n",
       "\n",
       "TWL_point_110_less_Tide    High                   VeryHigh                     \\\n",
       "Tide                    HighMid     High VeryHigh  VeryLow       Low   LowMid   \n",
       "TWL_point_110                                                                   \n",
       "High                     0.0000  0.72164   0.3145      0.0  0.000000  0.00000   \n",
       "HighMid                  0.7793  0.27836   0.0000      0.0  0.000000  0.00000   \n",
       "Low                      0.0000  0.00000   0.0000      0.0  0.625996  0.48152   \n",
       "LowMid                   0.0000  0.00000   0.0000      0.0  0.000000  0.51848   \n",
       "Mid                      0.2207  0.00000   0.0000      0.0  0.000000  0.00000   \n",
       "VeryHigh                 0.0000  0.00000   0.6855      0.0  0.000000  0.00000   \n",
       "VeryLow                  0.0000  0.00000   0.0000      1.0  0.374004  0.00000   \n",
       "\n",
       "TWL_point_110_less_Tide                                          \n",
       "Tide                          Mid   HighMid      High  VeryHigh  \n",
       "TWL_point_110                                                    \n",
       "High                     0.000000  0.000000  0.445758  0.572275  \n",
       "HighMid                  0.000000  0.483004  0.554242  0.000000  \n",
       "Low                      0.000000  0.000000  0.000000  0.000000  \n",
       "LowMid                   0.475057  0.000000  0.000000  0.000000  \n",
       "Mid                      0.524943  0.516996  0.000000  0.000000  \n",
       "VeryHigh                 0.000000  0.000000  0.000000  0.427725  \n",
       "VeryLow                  0.000000  0.000000  0.000000  0.000000  \n",
       "\n",
       "[7 rows x 49 columns]"
      ]
     },
     "execution_count": 15,
     "metadata": {},
     "output_type": "execute_result"
    }
   ],
   "source": [
    "# Get conditional probs tables\n",
    "BNModel().get_conditional_prob_table(lagoon_model_dict,'TWL_point_110')"
   ]
  },
  {
   "cell_type": "code",
   "execution_count": 16,
   "metadata": {
    "hidden": true
   },
   "outputs": [],
   "source": [
    "# Get conditional probs tables\n",
    "df_CPT_MSL = BNModel().get_conditional_prob_table(ocean_model_dict,'MSL')"
   ]
  },
  {
   "cell_type": "code",
   "execution_count": 19,
   "metadata": {},
   "outputs": [
    {
     "data": {
      "text/plain": [
       "<matplotlib.collections.PolyCollection at 0x1df02528cc8>"
      ]
     },
     "execution_count": 19,
     "metadata": {},
     "output_type": "execute_result"
    },
    {
     "data": {
      "image/png": "[encoded data removed]",
      "text/plain": [
       "<Figure size 432x288 with 1 Axes>"
      ]
     },
     "metadata": {
      "needs_background": "light"
     },
     "output_type": "display_data"
    }
   ],
   "source": [
    "df_CPT_MSL = df_CPT_MSL[['LaNiña','none','ElNiño']]\n",
    "df_CPT_MSL = df_CPT_MSL.loc[['VeryLow','Low','LowMid','Mid','HighMid','High','VeryHigh']]\n",
    "\n",
    "plt.pcolor(df_CPT_MSL)"
   ]
  },
  {
   "cell_type": "code",
   "execution_count": 20,
   "metadata": {},
   "outputs": [
    {
     "data": {
      "text/html": [
       "<div>\n",
       "<style scoped>\n",
       "    .dataframe tbody tr th:only-of-type {\n",
       "        vertical-align: middle;\n",
       "    }\n",
       "\n",
       "    .dataframe tbody tr th {\n",
       "        vertical-align: top;\n",
       "    }\n",
       "\n",
       "    .dataframe thead th {\n",
       "        text-align: right;\n",
       "    }\n",
       "</style>\n",
       "<table border=\"1\" class=\"dataframe\">\n",
       "  <thead>\n",
       "    <tr style=\"text-align: right;\">\n",
       "      <th>MSL</th>\n",
       "      <th>VeryLow</th>\n",
       "      <th>Low</th>\n",
       "      <th>LowMid</th>\n",
       "      <th>Mid</th>\n",
       "      <th>HighMid</th>\n",
       "      <th>High</th>\n",
       "      <th>VeryHigh</th>\n",
       "    </tr>\n",
       "    <tr>\n",
       "      <th>MEI</th>\n",
       "      <th></th>\n",
       "      <th></th>\n",
       "      <th></th>\n",
       "      <th></th>\n",
       "      <th></th>\n",
       "      <th></th>\n",
       "      <th></th>\n",
       "    </tr>\n",
       "  </thead>\n",
       "  <tbody>\n",
       "    <tr>\n",
       "      <th>LaNiña</th>\n",
       "      <td>0.049811</td>\n",
       "      <td>0.128866</td>\n",
       "      <td>0.318426</td>\n",
       "      <td>0.280025</td>\n",
       "      <td>0.165571</td>\n",
       "      <td>0.046733</td>\n",
       "      <td>0.010569</td>\n",
       "    </tr>\n",
       "    <tr>\n",
       "      <th>none</th>\n",
       "      <td>0.005023</td>\n",
       "      <td>0.061437</td>\n",
       "      <td>0.169479</td>\n",
       "      <td>0.241449</td>\n",
       "      <td>0.238911</td>\n",
       "      <td>0.212558</td>\n",
       "      <td>0.071142</td>\n",
       "    </tr>\n",
       "    <tr>\n",
       "      <th>ElNiño</th>\n",
       "      <td>0.144935</td>\n",
       "      <td>0.058766</td>\n",
       "      <td>0.121918</td>\n",
       "      <td>0.160288</td>\n",
       "      <td>0.217214</td>\n",
       "      <td>0.197247</td>\n",
       "      <td>0.099632</td>\n",
       "    </tr>\n",
       "  </tbody>\n",
       "</table>\n",
       "</div>"
      ],
      "text/plain": [
       "MSL      VeryLow       Low    LowMid       Mid   HighMid      High  VeryHigh\n",
       "MEI                                                                         \n",
       "LaNiña  0.049811  0.128866  0.318426  0.280025  0.165571  0.046733  0.010569\n",
       "none    0.005023  0.061437  0.169479  0.241449  0.238911  0.212558  0.071142\n",
       "ElNiño  0.144935  0.058766  0.121918  0.160288  0.217214  0.197247  0.099632"
      ]
     },
     "execution_count": 20,
     "metadata": {},
     "output_type": "execute_result"
    }
   ],
   "source": [
    "df_CPT_MSL.T"
   ]
  },
  {
   "cell_type": "code",
   "execution_count": 50,
   "metadata": {},
   "outputs": [
    {
     "name": "stdout",
     "output_type": "stream",
     "text": [
      "            LaNiña      none    ElNiño\n",
      "MSL                                   \n",
      "VeryLow   0.249342  0.025146  0.725513\n",
      "Low       0.517390  0.246668  0.235942\n",
      "LowMid    0.522162  0.277915  0.199924\n",
      "Mid       0.410737  0.354155  0.235109\n",
      "HighMid   0.266321  0.384290  0.349389\n",
      "High      0.102364  0.465587  0.432049\n",
      "VeryHigh  0.058280  0.392307  0.549412\n"
     ]
    },
    {
     "data": {
      "text/plain": [
       "<matplotlib.collections.PolyCollection at 0x1dea6164348>"
      ]
     },
     "execution_count": 50,
     "metadata": {},
     "output_type": "execute_result"
    },
    {
     "data": {
      "image/png": "[encoded data removed]",
      "text/plain": [
       "<Figure size 432x288 with 1 Axes>"
      ]
     },
     "metadata": {
      "needs_background": "light"
     },
     "output_type": "display_data"
    }
   ],
   "source": [
    "\n",
    "atest_dict = {}\n",
    "\n",
    "for index,row in df_CPT_MSL.T.iterrows():\n",
    "    atest_dict.update({index:(row/np.sum(df_CPT_MSL.T))})\n",
    "    \n",
    "#     print(row)\n",
    "print(pd.DataFrame(atest_dict))\n",
    "\n",
    "plt.pcolor(pd.DataFrame(atest_dict).T)"
   ]
  },
  {
   "cell_type": "markdown",
   "metadata": {
    "heading_collapsed": true
   },
   "source": [
    "# Set Evidence"
   ]
  },
  {
   "cell_type": "code",
   "execution_count": null,
   "metadata": {
    "hidden": true
   },
   "outputs": [],
   "source": [
    "lagoon_evidence_dict = {\n",
    "    'Wind':[0.05,0.8,0.05,0.1,0.01,0.01,0.01],\n",
    "    'WindDir':[0.05,0.8,0.05,0.1,0.01,0.01,0.01,0.01]\n",
    "}\n",
    "\n",
    "ocean_evidence_dict = {\n",
    "    'Tide':[0.05,0.8,0.05,0.1,0.01,0.01,0.01],\n",
    "    'MSL':[0.05,0.8,0.05,0.1,0.01,0.01,0.01]\n",
    "}"
   ]
  },
  {
   "cell_type": "code",
   "execution_count": null,
   "metadata": {
    "hidden": true
   },
   "outputs": [],
   "source": [
    "lagoon_model_dict = BNModel().add_evidence_to_dict(lagoon_model_dict,lagoon_evidence_dict)\n",
    "ocean_model_dict = BNModel().add_evidence_to_dict(ocean_model_dict,ocean_evidence_dict)"
   ]
  },
  {
   "cell_type": "markdown",
   "metadata": {
    "heading_collapsed": true
   },
   "source": [
    "# Update beliefs based on evidence"
   ]
  },
  {
   "cell_type": "code",
   "execution_count": null,
   "metadata": {
    "hidden": true
   },
   "outputs": [],
   "source": [
    "# Set evidence and get beliefs\n",
    "lagoon_model_dict = BNModel().update_evidence(lagoon_model_dict)\n",
    "ocean_model_dict = BNModel().update_evidence(ocean_model_dict)"
   ]
  },
  {
   "cell_type": "markdown",
   "metadata": {
    "heading_collapsed": true
   },
   "source": [
    "# BN Visualisation"
   ]
  },
  {
   "cell_type": "code",
   "execution_count": null,
   "metadata": {
    "hidden": true,
    "scrolled": false
   },
   "outputs": [],
   "source": [
    "\n",
    "# Set up graph\n",
    "graph_lagoon = BNModel().create_BN_graph()\n",
    "\n",
    "# Create nodes of the graph\n",
    "graph_lagoon,lagoon_model_dict = BNModel().create_nodes(graph_lagoon,lagoon_model_dict,1)\n",
    "\n",
    "# Create arcs between nodesb\n",
    "graph_lagoon = BNModel().create_arcs(graph_lagoon,lagoon_model_dict)\n",
    "\n",
    "# Save as dot file\n",
    "graph_lagoon.render(filename='graph_lagoon',format='png')\n",
    "\n",
    "# Plot the graph\n",
    "graph_lagoon\n"
   ]
  },
  {
   "cell_type": "code",
   "execution_count": null,
   "metadata": {
    "hidden": true
   },
   "outputs": [],
   "source": [
    "\n",
    "# Set up graph\n",
    "graph_ocean = BNModel().create_BN_graph()\n",
    "\n",
    "# Create nodes of the graph\n",
    "graph_ocean,ocean_model_dict = BNModel().create_nodes(graph_ocean,ocean_model_dict,1)\n",
    "\n",
    "# Create arcs between nodesb\n",
    "graph_ocean = BNModel().create_arcs(graph_ocean,ocean_model_dict)\n",
    "\n",
    "# Save as dot file\n",
    "graph_ocean.render(filename='graph_ocean',format='png')\n",
    "\n",
    "# Plot the graph\n",
    "graph_ocean"
   ]
  },
  {
   "cell_type": "markdown",
   "metadata": {
    "heading_collapsed": true
   },
   "source": [
    "# Model Validation"
   ]
  },
  {
   "cell_type": "code",
   "execution_count": null,
   "metadata": {
    "hidden": true
   },
   "outputs": [],
   "source": [
    "### Research picking number of kfolds \n",
    "\n",
    "lagoon_acc_dict = BNModel().get_accuracies(lagoon_model_dict,\"TWL_point_110\")\n",
    "\n",
    "print(lagoon_acc_dict)\n",
    "\n",
    "fig, ax = BNModel().confusion_matrix(lagoon_model_dict,\"TWL_point_110\",1)"
   ]
  },
  {
   "cell_type": "code",
   "execution_count": null,
   "metadata": {
    "hidden": true,
    "scrolled": false
   },
   "outputs": [],
   "source": [
    "\n",
    "ocean_acc_dict = BNModel().get_accuracies(ocean_model_dict,\"TWL_point_218\")\n",
    "\n",
    "print(ocean_acc_dict)\n",
    "\n",
    "fig, ax = BNModel().confusion_matrix(ocean_model_dict,\"TWL_point_218\",1)"
   ]
  },
  {
   "cell_type": "markdown",
   "metadata": {},
   "source": [
    "# Sensitivity Analysis"
   ]
  },
  {
   "cell_type": "markdown",
   "metadata": {},
   "source": [
    "## Lagoon"
   ]
  },
  {
   "cell_type": "markdown",
   "metadata": {},
   "source": [
    "### Tide on TWL"
   ]
  },
  {
   "cell_type": "code",
   "execution_count": null,
   "metadata": {},
   "outputs": [],
   "source": [
    "df_tide_VL_post = BNModel().univariant_sensitivity(lagoon_model_dict,'Tide','VeryLow','TWL_point_110')\n",
    "df_tide_VL_post\n",
    "\n"
   ]
  },
  {
   "cell_type": "code",
   "execution_count": null,
   "metadata": {},
   "outputs": [],
   "source": [
    "df_tide_L_post = BNModel().univariant_sensitivity(lagoon_model_dict,'Tide','Low','TWL_point_110')\n",
    "df_tide_L_post"
   ]
  },
  {
   "cell_type": "code",
   "execution_count": null,
   "metadata": {},
   "outputs": [],
   "source": [
    "df_tide_H_post = BNModel().univariant_sensitivity(lagoon_model_dict,'Tide','High','TWL_point_110')\n",
    "df_tide_H_post"
   ]
  },
  {
   "cell_type": "code",
   "execution_count": null,
   "metadata": {},
   "outputs": [],
   "source": [
    "df_tide_VH_post = BNModel().univariant_sensitivity(lagoon_model_dict,'Tide','VeryHigh','TWL_point_110')\n",
    "df_tide_VH_post"
   ]
  },
  {
   "cell_type": "markdown",
   "metadata": {},
   "source": [
    "### MSL on TWL less tide"
   ]
  },
  {
   "cell_type": "code",
   "execution_count": null,
   "metadata": {},
   "outputs": [],
   "source": [
    "df_MSL_VL_post = BNModel().univariant_sensitivity(lagoon_model_dict,'MSL','VeryLow','TWL_point_110')\n",
    "df_MSL_VL_post"
   ]
  },
  {
   "cell_type": "code",
   "execution_count": null,
   "metadata": {},
   "outputs": [],
   "source": [
    "df_MSL_H_post = BNModel().univariant_sensitivity(lagoon_model_dict,'MSL','High','TWL_point_110')\n",
    "df_MSL_H_post"
   ]
  },
  {
   "cell_type": "code",
   "execution_count": null,
   "metadata": {
    "scrolled": false
   },
   "outputs": [],
   "source": [
    "# df_MSL_VH_post = BNModel().univariant_sensitivity(lagoon_model_dict,0,'MSL','VeryHigh','TWL_point_110_less')\n",
    "# df_MSL_VH_post"
   ]
  },
  {
   "cell_type": "markdown",
   "metadata": {},
   "source": [
    "### Hs_offshore on TWL less tide"
   ]
  },
  {
   "cell_type": "code",
   "execution_count": null,
   "metadata": {},
   "outputs": [],
   "source": [
    "# df_Wind_VL_post = BNModel().univariant_sensitivity(lagoon_model_dict,0,'Wind','VeryLow','TWL_point_110_less_tide')\n",
    "# df_Wind_VL_post"
   ]
  },
  {
   "cell_type": "markdown",
   "metadata": {},
   "source": [
    "# MSL Priors based on Future Projections"
   ]
  },
  {
   "cell_type": "markdown",
   "metadata": {},
   "source": [
    "## Get the distribution of MSL data currently"
   ]
  },
  {
   "cell_type": "code",
   "execution_count": null,
   "metadata": {},
   "outputs": [],
   "source": [
    "def grouping_bins(data):\n",
    "    grouped_dict = {}\n",
    "\n",
    "    for bin_name in np.unique(data):\n",
    "        grouped_dict.update({\n",
    "            bin_name:len(data[data==bin_name])\n",
    "        })\n",
    "        \n",
    "    df_grouped = pd.DataFrame.from_dict(grouped_dict,orient='index')\n",
    "    \n",
    "    return(df_grouped)"
   ]
  },
  {
   "cell_type": "code",
   "execution_count": null,
   "metadata": {},
   "outputs": [],
   "source": [
    "def descretiser(bin_edges,bin_names,data_array):\n",
    "    \n",
    "    discretised_array = np.empty(len(data_array)).astype(str)\n",
    "    \n",
    "    for lower, upper, bin_name in zip(\n",
    "        bin_edges[:-1],\n",
    "        bin_edges[1:],\n",
    "        bin_names):\n",
    "        \n",
    "        discretised_array[(data_array>lower)&(data_array<upper)] = bin_name\n",
    "\n",
    "        # Now Include out of bounds values in the upper and lower bins\n",
    "        discretised_array[data_array<np.min(bin_edges)] = bin_names[0]\n",
    "        discretised_array[data_array>np.max(bin_edges)] = bin_names[-1]\n",
    "        \n",
    "    return(discretised_array)\n",
    "                    "
   ]
  },
  {
   "cell_type": "code",
   "execution_count": null,
   "metadata": {},
   "outputs": [],
   "source": [
    "# Bin the MSL data\n",
    "MSL_data = lagoon_model_dict['variables']['MSL']['training_data'][0]\n",
    "\n",
    "# Grouping the bins \n",
    "MSL_bins_grouped = grouping_bins(MSL_data)\n",
    "\n",
    "# Put the bins in the right order\n",
    "df_MSL_distribution = MSL_bins_grouped.reindex(lagoon_model_dict['variables']['MSL']['discretisation']['bin_names'])\n",
    "\n",
    "# Plot the data\n",
    "plt.plot(df_MSL_distribution)"
   ]
  },
  {
   "cell_type": "markdown",
   "metadata": {},
   "source": [
    "## Add the Global average for now"
   ]
  },
  {
   "cell_type": "code",
   "execution_count": null,
   "metadata": {},
   "outputs": [],
   "source": [
    "# Get the preprocessed data to add to\n",
    "MSL_training_data_preprocessed = lagoon_model_dict['variables']['MSL']['training_data_preprocessed'][0]\n",
    "MSL_testing_data_preprocessed = lagoon_model_dict['variables']['MSL']['testing_data_preprocessed'][0]\n",
    "\n",
    "# Print some stats to get an idea of how adding SLR will affect the data\n",
    "print(np.min(MSL_training_data_preprocessed))\n",
    "print(np.max(MSL_training_data_preprocessed))\n",
    "print(np.mean(MSL_training_data_preprocessed))\n",
    "print(np.median(MSL_training_data_preprocessed))"
   ]
  },
  {
   "cell_type": "code",
   "execution_count": null,
   "metadata": {},
   "outputs": [],
   "source": [
    "# Based on a 2 mm/yr rate\n",
    "mean_SLR_2050 = 2*29/1000\n",
    "mean_SLR_2100 = 2*59/1000\n",
    "\n",
    "# Get MSLs adjusted for regional sea level rise\n",
    "MSL_2050 = MSL_training_data_preprocessed+mean_SLR_2050\n",
    "MSL_2100 = MSL_training_data_preprocessed+mean_SLR_2100"
   ]
  },
  {
   "cell_type": "code",
   "execution_count": null,
   "metadata": {},
   "outputs": [],
   "source": [
    "# Using the bins from before, discretise the results\n",
    "bin_edges = lagoon_model_dict['variables']['MSL']['bin_edges'][0]\n",
    "bin_names = lagoon_model_dict['variables']['MSL']['discretisation']['bin_names']\n",
    "\n",
    "# Normalise the data\n",
    "df_MSL_2021 = df_MSL_distribution/np.nansum(df_MSL_distribution)\n",
    "\n",
    "# Calculated discretised MSL for the scenarios\n",
    "MSL_2050 = MSL_training_data_preprocessed+mean_SLR_2050\n",
    "MSL_2050_discretised = descretiser(bin_edges,bin_names,MSL_2050)\n",
    "df_MSL_2050 = grouping_bins(MSL_2050_discretised)\n",
    "df_MSL_2050 = df_MSL_2050.reindex(lagoon_model_dict['variables']['MSL']['discretisation']['bin_names'])\n",
    "df_MSL_2050[df_MSL_2050.isna()] = 0.001\n",
    "df_MSL_2050 = df_MSL_2050/np.nansum(df_MSL_2050)\n",
    "\n",
    "# Calculated discretised MSL for the scenarios\n",
    "MSL_2100 = MSL_training_data_preprocessed+mean_SLR_2100\n",
    "MSL_2100_discretised = descretiser(bin_edges,bin_names,MSL_2100)\n",
    "df_MSL_2100 = grouping_bins(MSL_2100_discretised)\n",
    "df_MSL_2100 = df_MSL_2100.reindex(lagoon_model_dict['variables']['MSL']['discretisation']['bin_names'])\n",
    "df_MSL_2100[df_MSL_2100.isna()] = 0.001\n",
    "df_MSL_2100 = df_MSL_2100/np.nansum(df_MSL_2100)\n"
   ]
  },
  {
   "cell_type": "markdown",
   "metadata": {},
   "source": [
    "### Set evidence of 2050"
   ]
  },
  {
   "cell_type": "code",
   "execution_count": null,
   "metadata": {},
   "outputs": [],
   "source": [
    "# Create dict of evidence\n",
    "MSL_2050_evidence_dict = {\n",
    "    'MSL':list(df_MSL_2050[0])\n",
    "}\n",
    "\n",
    "# Add evidence for MSL to the model dict\n",
    "lagoon_model_dict = BNModel().add_evidence_to_dict(lagoon_model_dict,MSL_2050_evidence_dict)\n",
    "ocean_model_dict = BNModel().add_evidence_to_dict(ocean_model_dict,MSL_2050_evidence_dict)\n",
    "\n",
    "# Set evidence and get beliefs\n",
    "lagoon_model_dict = BNModel().update_evidence(lagoon_model_dict)\n",
    "\n",
    "# TWL posterior 2050\n",
    "TWL_MSL_2050_posterior_dict = lagoon_model_dict['variables']['TWL_point_110']['resulting_probs'][0]\n",
    "df_TWL_MSL_2050_posterior = pd.DataFrame.from_dict(TWL_MSL_2050_posterior_dict,orient='index')"
   ]
  },
  {
   "cell_type": "code",
   "execution_count": null,
   "metadata": {},
   "outputs": [],
   "source": [
    "# Create dict of evidence\n",
    "MSL_2100_evidence_dict = {\n",
    "    'MSL':list(df_MSL_2100[0])\n",
    "}\n",
    "\n",
    "# Add evidence for MSL to the model dict\n",
    "lagoon_model_dict = BNModel().add_evidence_to_dict(lagoon_model_dict,MSL_2100_evidence_dict)\n",
    "ocean_model_dict = BNModel().add_evidence_to_dict(ocean_model_dict,MSL_2100_evidence_dict)\n",
    "\n",
    "# Set evidence and get beliefs\n",
    "lagoon_model_dict = BNModel().update_evidence(lagoon_model_dict)\n",
    "\n",
    "# TWL posterior 2100\n",
    "TWL_MSL_2100_posterior_dict = lagoon_model_dict['variables']['TWL_point_110']['resulting_probs'][0]\n",
    "df_TWL_MSL_2100_posterior = pd.DataFrame.from_dict(TWL_MSL_2100_posterior_dict,orient='index')"
   ]
  },
  {
   "cell_type": "code",
   "execution_count": null,
   "metadata": {
    "scrolled": false
   },
   "outputs": [],
   "source": [
    "# get the original data to compare it to\n",
    "TWL_training_dict = lagoon_model_dict['variables']['TWL_point_110']['training_data'][0]\n",
    "df_TWL_training = grouping_bins(TWL_training_dict)\n",
    "df_TWL_training = df_TWL_training.reindex(lagoon_model_dict['variables']['MSL']['discretisation']['bin_names'])\n",
    "df_TWL_training[df_TWL_training.isna()] = 0.001\n",
    "df_TWL_training = df_TWL_training/np.nansum(df_TWL_training)\n",
    "\n",
    "# Create an extra set of dfs for data as a fraction of original\n",
    "TWL_MSL_2050 = [(ind,y/x) for ind,x,y in zip(df_TWL_training.index,df_TWL_training[0],df_TWL_MSL_2050_posterior[0])]\n",
    "TWL_MSL_2100 = [(ind,y/x) for ind,x,y in zip(df_TWL_training.index,df_TWL_training[0],df_TWL_MSL_2100_posterior[0])]\n",
    "df_TWL_MSL_2050 = pd.DataFrame(TWL_MSL_2050).set_index(0)\n",
    "df_TWL_MSL_2100 = pd.DataFrame(TWL_MSL_2100).set_index(0)"
   ]
  },
  {
   "cell_type": "code",
   "execution_count": null,
   "metadata": {
    "scrolled": false
   },
   "outputs": [],
   "source": [
    "\n",
    "# Set up the figure\n",
    "fig = plt.figure(figsize=(10,15))\n",
    "fig.subplots_adjust(hspace=0.5)\n",
    "ax1 = plt.subplot2grid((3,1),(0,0))\n",
    "ax2 = plt.subplot2grid((3,1),(1,0))\n",
    "ax3 = plt.subplot2grid((3,1),(2,0))\n",
    "\n",
    "# Plot MSL data and prior distributions\n",
    "ax1.plot(df_MSL_2021,c='k')\n",
    "ax1.plot(df_MSL_2050,c='b')\n",
    "ax1.plot(df_MSL_2100,c='r')\n",
    "\n",
    "# Plot posterior distributions compared to original data\n",
    "output_2021, = ax2.plot(df_TWL_training,c='k')\n",
    "output_2050, = ax2.plot(df_TWL_MSL_2050_posterior,c='b')\n",
    "output_2100, = ax2.plot(df_TWL_MSL_2100_posterior,c='r')\n",
    "\n",
    "# Plot posterior distributions as a fraction of the original data\n",
    "output_2050, = ax3.plot(df_TWL_MSL_2050,c='b')\n",
    "output_2100, = ax3.plot(df_TWL_MSL_2100,c='r')\n",
    "ax3_xlims = ax3.get_xlim()\n",
    "ax3.plot(ax3_xlims,[1,1],c='0.5',ls='--')\n",
    "ax3.set_xlim(ax3_xlims)\n",
    "\n",
    "# Format the graph\n",
    "ax1.set_ylabel('Probability')\n",
    "ax1.set_xlabel('Mean Sea Level')\n",
    "ax2.set_ylabel('Probability')\n",
    "ax2.set_xlabel('Total Water Level')\n",
    "ax3.set_ylabel('Probability/Probability')\n",
    "ax3.set_xlabel('Total Water Level')\n",
    "\n",
    "ax1.legend([output_2021,output_2050,output_2100],['Present','2050','2100'])\n"
   ]
  },
  {
   "cell_type": "markdown",
   "metadata": {},
   "source": [
    "# Load in some IPCC RSL Data"
   ]
  },
  {
   "cell_type": "code",
   "execution_count": null,
   "metadata": {},
   "outputs": [],
   "source": [
    "# The IPCC data (Openheimer et al., 2019, IPCC Ch4) is relative to the 1983-2005\n",
    "# Antonio's data is 1993-2017\n",
    "\n",
    "# It's not clear to me right now if the IPCC data is relative to the 1983-2005 value globally averaged, \n",
    "# or if it varies regionally\n"
   ]
  },
  {
   "cell_type": "code",
   "execution_count": null,
   "metadata": {},
   "outputs": [],
   "source": [
    "import xarray as xr\n",
    "tarawa_lat = 1.333\n",
    "tarawa_long = 173"
   ]
  },
  {
   "cell_type": "code",
   "execution_count": null,
   "metadata": {},
   "outputs": [],
   "source": [
    "# Load the RSLD from IPCC, chapter\n",
    "ds_RSLR_2040_rcp26 = xr.open_dataset (r'C:\\Users\\shannonb\\Documents\\Model_and_data\\Dataset\\Additional_data\\Sea_levels\\Data\\Chapter4_SM\\SM4.2\\rsl_26_2040.nc')\n",
    "ds_RSLR_2040_rcp45 = xr.open_dataset (r'C:\\Users\\shannonb\\Documents\\Model_and_data\\Dataset\\Additional_data\\Sea_levels\\Data\\Chapter4_SM\\SM4.2\\rsl_45_2040.nc')\n",
    "ds_RSLR_2040_rcp85 = xr.open_dataset (r'C:\\Users\\shannonb\\Documents\\Model_and_data\\Dataset\\Additional_data\\Sea_levels\\Data\\Chapter4_SM\\SM4.2\\rsl_85_2040.nc')\n",
    "\n",
    "ds_RSLR_2055_rcp26 = xr.open_dataset (r'C:\\Users\\shannonb\\Documents\\Model_and_data\\Dataset\\Additional_data\\Sea_levels\\Data\\Chapter4_SM\\SM4.2\\rsl_26_2055.nc')\n",
    "ds_RSLR_2055_rcp45 = xr.open_dataset (r'C:\\Users\\shannonb\\Documents\\Model_and_data\\Dataset\\Additional_data\\Sea_levels\\Data\\Chapter4_SM\\SM4.2\\rsl_45_2055.nc')\n",
    "ds_RSLR_2055_rcp85 = xr.open_dataset (r'C:\\Users\\shannonb\\Documents\\Model_and_data\\Dataset\\Additional_data\\Sea_levels\\Data\\Chapter4_SM\\SM4.2\\rsl_85_2055.nc')\n",
    "\n",
    "ds_RSLR_2090_rcp26 = xr.open_dataset (r'C:\\Users\\shannonb\\Documents\\Model_and_data\\Dataset\\Additional_data\\Sea_levels\\Data\\Chapter4_SM\\SM4.2\\rsl_26_2090.nc')\n",
    "ds_RSLR_2090_rcp45 = xr.open_dataset (r'C:\\Users\\shannonb\\Documents\\Model_and_data\\Dataset\\Additional_data\\Sea_levels\\Data\\Chapter4_SM\\SM4.2\\rsl_45_2090.nc')\n",
    "ds_RSLR_2090_rcp85 = xr.open_dataset (r'C:\\Users\\shannonb\\Documents\\Model_and_data\\Dataset\\Additional_data\\Sea_levels\\Data\\Chapter4_SM\\SM4.2\\rsl_85_2090.nc')\n"
   ]
  },
  {
   "cell_type": "code",
   "execution_count": null,
   "metadata": {},
   "outputs": [],
   "source": [
    "# Get the RSLR for Tarawa specifically\n",
    "RSLR_2040_rcp26 = float(ds_RSLR_2040_rcp26['slr_md'].sel(x=tarawa_long,y=tarawa_lat,method='nearest'))\n",
    "RSLR_2055_rcp26 = float(ds_RSLR_2055_rcp26['slr_md'].sel(x=tarawa_long,y=tarawa_lat,method='nearest'))\n",
    "RSLR_2090_rcp26 = float(ds_RSLR_2090_rcp26['slr_md'].sel(x=tarawa_long,y=tarawa_lat,method='nearest'))\n",
    "\n",
    "RSLR_2040_rcp45 = float(ds_RSLR_2040_rcp45['slr_md'].sel(x=tarawa_long,y=tarawa_lat,method='nearest'))\n",
    "RSLR_2055_rcp45 = float(ds_RSLR_2055_rcp45['slr_md'].sel(x=tarawa_long,y=tarawa_lat,method='nearest'))\n",
    "RSLR_2090_rcp45 = float(ds_RSLR_2090_rcp45['slr_md'].sel(x=tarawa_long,y=tarawa_lat,method='nearest'))\n",
    "\n",
    "RSLR_2040_rcp85 = float(ds_RSLR_2040_rcp85['slr_md'].sel(x=tarawa_long,y=tarawa_lat,method='nearest'))\n",
    "RSLR_2055_rcp85 = float(ds_RSLR_2055_rcp85['slr_md'].sel(x=tarawa_long,y=tarawa_lat,method='nearest'))\n",
    "RSLR_2090_rcp85 = float(ds_RSLR_2090_rcp85['slr_md'].sel(x=tarawa_long,y=tarawa_lat,method='nearest'))\n",
    "\n",
    "#### These values are relative to PI?? If so, I doubt Antonio's numbers are PI---so this needs to be adjusted for"
   ]
  },
  {
   "cell_type": "markdown",
   "metadata": {},
   "source": [
    "### Use RCP Scenarios to set evidence"
   ]
  },
  {
   "cell_type": "code",
   "execution_count": null,
   "metadata": {},
   "outputs": [],
   "source": [
    "# Get MSLs adjusted for regional sea level rise\n",
    "MSL_2040_rcp26 = MSL_training_data_preprocessed+RSLR_2040_rcp26\n",
    "MSL_2055_rcp26 = MSL_training_data_preprocessed+RSLR_2055_rcp26\n",
    "MSL_2090_rcp26 = MSL_training_data_preprocessed+RSLR_2090_rcp26\n",
    "\n",
    "MSL_2040_rcp45 = MSL_training_data_preprocessed+RSLR_2040_rcp45\n",
    "MSL_2055_rcp45 = MSL_training_data_preprocessed+RSLR_2055_rcp45\n",
    "MSL_2090_rcp45 = MSL_training_data_preprocessed+RSLR_2090_rcp45\n",
    "\n",
    "MSL_2040_rcp85 = MSL_training_data_preprocessed+RSLR_2040_rcp85\n",
    "MSL_2055_rcp85 = MSL_training_data_preprocessed+RSLR_2055_rcp85\n",
    "MSL_2090_rcp85 = MSL_training_data_preprocessed+RSLR_2090_rcp85"
   ]
  },
  {
   "cell_type": "code",
   "execution_count": null,
   "metadata": {},
   "outputs": [],
   "source": [
    "def test_model(evidence_array,model_dict):\n",
    "\n",
    "    # Adjust MSL for difference between antonio data and IPCC data\n",
    "    SLR_adjustment = 2*11/1000\n",
    "    evidence_array -= SLR_adjustment\n",
    "    \n",
    "    # Dicretise the data\n",
    "    MSL_discretised = descretiser(bin_edges,bin_names,evidence_array)\n",
    "    df_MSL = grouping_bins(MSL_discretised)\n",
    "    df_MSL = df_MSL.reindex(model_dict['variables']['MSL']['discretisation']['bin_names'])\n",
    "    df_MSL[df_MSL.isna()] = 0.001\n",
    "    df_MSL = df_MSL/np.nansum(df_MSL)\n",
    "    \n",
    "    # Create dict of evidence\n",
    "    MSL_evidence_dict = {\n",
    "        'MSL':list(df_MSL[0])\n",
    "    }\n",
    "\n",
    "    # Add evidence for MSL to the model dict\n",
    "    model_dict = BNModel().add_evidence_to_dict(model_dict,MSL_evidence_dict)\n",
    "\n",
    "    # Set evidence and get beliefs\n",
    "    model_dict = BNModel().update_evidence(model_dict)\n",
    "\n",
    "    # TWL posterior 2100\n",
    "    TWL_MSL_posterior_dict = model_dict['variables']['TWL_point_110']['resulting_probs'][0]\n",
    "    df_TWL_posterior = pd.DataFrame.from_dict(TWL_MSL_posterior_dict,orient='index')\n",
    "    \n",
    "    return(df_TWL_posterior,df_MSL)"
   ]
  },
  {
   "cell_type": "code",
   "execution_count": null,
   "metadata": {},
   "outputs": [],
   "source": [
    "IPCC_posteriors_dict = {}\n",
    "MSL_prior_dict = {}\n",
    "\n",
    "MSL_array_list = [MSL_2040_rcp26,MSL_2055_rcp26,MSL_2090_rcp26,MSL_2040_rcp45,MSL_2055_rcp45,MSL_2090_rcp45,MSL_2040_rcp85,MSL_2055_rcp85,MSL_2090_rcp85]\n",
    "\n",
    "for array, label in zip(MSL_array_list,\n",
    "                        ['RCP2.6, 2040','RCP2.6, 2055','RCP2.6, 2090','RCP4.5, 2040','RCP4.5, 2055','RCP4.5, 2090','RCP8.5, 2040','RCP8.5, 2055','RCP8.5, 2090']):\n",
    "    \n",
    "    df_TWL_posterior, df_MSL = test_model(array, lagoon_model_dict)\n",
    "    \n",
    "    IPCC_posteriors_dict.update({\n",
    "        label:df_TWL_posterior\n",
    "    })\n",
    "    \n",
    "    MSL_prior_dict.update({\n",
    "        label:df_MSL\n",
    "    })"
   ]
  },
  {
   "cell_type": "code",
   "execution_count": null,
   "metadata": {},
   "outputs": [],
   "source": [
    "\n",
    "# Set up the figure\n",
    "fig = plt.figure(figsize=(10,15))\n",
    "fig.subplots_adjust(hspace=0.5)\n",
    "ax1 = plt.subplot2grid((3,1),(0,0))\n",
    "ax2 = plt.subplot2grid((3,1),(1,0))\n",
    "ax3 = plt.subplot2grid((3,1),(2,0))\n",
    "\n",
    "# # Plot MSL data and prior distributions\n",
    "# ax1.plot(df_MSL_2021,c='k')\n",
    "# ax1.plot(df_MSL_2050,c='b')\n",
    "# ax1.plot(df_MSL_2100,c='r')\n",
    "for key,df_prior in MSL_prior_dict.items():\n",
    "    ax1.plot(df_prior)\n",
    "\n",
    "# # Plot posterior distributions compared to original data\n",
    "# output_2021, = ax2.plot(df_TWL_training,c='k')\n",
    "# output_2050, = ax2.plot(df_TWL_MSL_2050_posterior,c='b')\n",
    "# output_2100, = ax2.plot(df_TWL_MSL_2100_posterior,c='r')\n",
    "outputs = []\n",
    "\n",
    "for key,posterior_array in IPCC_posteriors_dict.items():\n",
    "    output, = ax2.plot(posterior_array)\n",
    "    outputs.append(output)\n",
    "\n",
    "# # Plot posterior distributions as a fraction of the original data\n",
    "# output_2050, = ax3.plot(df_TWL_MSL_2050,c='b')\n",
    "# output_2100, = ax3.plot(df_TWL_MSL_2100,c='r')\n",
    "# ax3_xlims = ax3.get_xlim()\n",
    "# ax3.plot(ax3_xlims,[1,1],c='0.5',ls='--')\n",
    "# ax3.set_xlim(ax3_xlims)\n",
    "\n",
    "# Format the graph\n",
    "ax1.set_ylabel('Probability')\n",
    "ax1.set_xlabel('Mean Sea Level')\n",
    "ax2.set_ylabel('Probability')\n",
    "ax2.set_xlabel('Total Water Level')\n",
    "ax3.set_ylabel('Probability/Probability')\n",
    "ax3.set_xlabel('Total Water Level')\n",
    "\n",
    "ax1.legend(outputs,IPCC_posteriors_dict.keys())\n"
   ]
  },
  {
   "cell_type": "markdown",
   "metadata": {},
   "source": [
    "# Mean wave height and period"
   ]
  },
  {
   "cell_type": "code",
   "execution_count": null,
   "metadata": {},
   "outputs": [],
   "source": [
    "Hs_mean = lagoon_model_dict['variables']['Hs_offshore']['training_data_preprocessed'][0]\n",
    "np.mean(Hs_mean)"
   ]
  },
  {
   "cell_type": "code",
   "execution_count": null,
   "metadata": {},
   "outputs": [],
   "source": [
    "Tm_mean = lagoon_model_dict['variables']['Tm_offshore']['training_data_preprocessed'][0]\n",
    "np.mean(Tm_mean)"
   ]
  },
  {
   "cell_type": "code",
   "execution_count": null,
   "metadata": {},
   "outputs": [],
   "source": [
    "lagoon_model_dict['variables']['Hs_offshore']"
   ]
  },
  {
   "cell_type": "code",
   "execution_count": null,
   "metadata": {},
   "outputs": [],
   "source": []
  }
 ],
 "metadata": {
  "hide_input": false,
  "kernelspec": {
   "display_name": "Python 3",
   "language": "python",
   "name": "python3"
  },
  "language_info": {
   "codemirror_mode": {
    "name": "ipython",
    "version": 3
   },
   "file_extension": ".py",
   "mimetype": "text/x-python",
   "name": "python",
   "nbconvert_exporter": "python",
   "pygments_lexer": "ipython3",
   "version": "3.7.6"
  },
  "toc": {
   "base_numbering": 1,
   "nav_menu": {},
   "number_sections": true,
   "sideBar": true,
   "skip_h1_title": false,
   "title_cell": "Table of Contents",
   "title_sidebar": "Contents",
   "toc_cell": false,
   "toc_position": {
    "height": "calc(100% - 180px)",
    "left": "10px",
    "top": "150px",
    "width": "165px"
   },
   "toc_section_display": true,
   "toc_window_display": true
  }
 },
 "nbformat": 4,
 "nbformat_minor": 4
}
