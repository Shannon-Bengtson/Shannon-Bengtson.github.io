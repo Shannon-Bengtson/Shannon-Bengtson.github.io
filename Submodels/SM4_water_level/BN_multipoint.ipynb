{
 "cells": [
  {
   "cell_type": "markdown",
   "metadata": {},
   "source": [
    "# File Description"
   ]
  },
  {
   "cell_type": "markdown",
   "metadata": {},
   "source": [
    "This notebook contains the most up-to-date version of the pilot model for total water level on Tarawa, currently for only two locations (one lagoon side and one ocean side).\n",
    "\n",
    "Currently needs work:\n",
    "- Incorporating MEI into network\n",
    "- Adjusting the binning of the MSL distributions to account for future SLR\n",
    "- Adding SLR projections as evidence option"
   ]
  },
  {
   "cell_type": "markdown",
   "metadata": {
    "heading_collapsed": true
   },
   "source": [
    "# File Setup"
   ]
  },
  {
   "cell_type": "markdown",
   "metadata": {
    "hidden": true
   },
   "source": [
    "##\n",
    "How does the order of magnitude vary betwene the lagoon and the ocean?\n",
    "which is most sensitive to waves? How would that interact with topography?"
   ]
  },
  {
   "cell_type": "code",
   "execution_count": 1,
   "metadata": {
    "ExecuteTime": {
     "end_time": "2021-06-10T02:18:06.245034Z",
     "start_time": "2021-06-10T02:18:06.200060Z"
    },
    "hidden": true
   },
   "outputs": [],
   "source": [
    "%load_ext autoreload\n",
    "%autoreload 2"
   ]
  },
  {
   "cell_type": "code",
   "execution_count": 43,
   "metadata": {
    "ExecuteTime": {
     "end_time": "2021-06-10T02:18:09.215577Z",
     "start_time": "2021-06-10T02:18:06.246033Z"
    },
    "hidden": true
   },
   "outputs": [],
   "source": [
    "import pandas as pd\n",
    "import numpy as np\n",
    "import matplotlib\n",
    "import matplotlib.pyplot as plt\n",
    "import itertools\n",
    "import os\n",
    "import json\n",
    "from datetime import datetime\n",
    "import pysmile\n",
    "import pysmile_license\n",
    "import sys\n",
    "import json\n",
    "sys.path.append('/src/python_classes')\n",
    "import rpy2\n",
    "# os.environ['R_HOME'] = 'C:\\ProgramData\\Anaconda3\\Lib\\R'\n",
    "# %load_ext rpy2.ipython\n",
    "\n",
    "from BNModel import BNModel\n",
    "\n",
    "from preprocessing_all_points import *\n",
    "from preprocessing_points_spatially import *"
   ]
  },
  {
   "cell_type": "code",
   "execution_count": 3,
   "metadata": {
    "ExecuteTime": {
     "end_time": "2021-06-10T02:18:09.301509Z",
     "start_time": "2021-06-10T02:18:09.217559Z"
    },
    "hidden": true
   },
   "outputs": [],
   "source": [
    "# ### set location of file storage\n",
    "# folder = 'BN_antonio_data'\n",
    "# try:\n",
    "#     os.makedirs(folder)\n",
    "# except FileExistsError:\n",
    "#     pass"
   ]
  },
  {
   "cell_type": "markdown",
   "metadata": {},
   "source": [
    "# Data Prep"
   ]
  },
  {
   "cell_type": "markdown",
   "metadata": {
    "heading_collapsed": true
   },
   "source": [
    "## Preprocessing"
   ]
  },
  {
   "cell_type": "code",
   "execution_count": 45,
   "metadata": {
    "ExecuteTime": {
     "end_time": "2021-06-10T02:18:16.558430Z",
     "start_time": "2021-06-10T02:18:09.303508Z"
    },
    "hidden": true
   },
   "outputs": [],
   "source": [
    "# Import and preprocess data\n",
    "df_ocean,df_lagoon = preprocessing_points_spatially()\n",
    "df_lagoon,lagoon_data_dict = BN_Antonio_preprocessing_lagoon(df_lagoon)\n",
    "df_ocean,ocean_data_dict = BN_Antonio_preprocessing_ocean(df_ocean)"
   ]
  },
  {
   "cell_type": "markdown",
   "metadata": {},
   "source": [
    "## Create Variable Dictionary"
   ]
  },
  {
   "cell_type": "code",
   "execution_count": 5,
   "metadata": {
    "ExecuteTime": {
     "end_time": "2021-06-10T02:19:00.234568Z",
     "start_time": "2021-06-10T02:19:00.159611Z"
    },
    "scrolled": false
   },
   "outputs": [],
   "source": [
    "#### Don't include spaces in bin names. if no discretisation, just leave out that key\n",
    "lagoon_model_dict = {\n",
    "    'variables':{\n",
    "        'Wind_u':{\n",
    "            'label':'Wind u vector (m/s)',\n",
    "            'discretisation':{\n",
    "                'n_bins':5,\n",
    "                'strategy':'kmeans',\n",
    "                'bin_names':['VeryLow','Low','Mid','High','VeryHigh']\n",
    "            },\n",
    "            'child_nodes':['TWL_less_Tide']\n",
    "        },\n",
    "        'Wind_v':{\n",
    "            'label':r'Wind v vector (m/s)',\n",
    "            'discretisation':{\n",
    "                'n_bins':5,\n",
    "                'strategy':'uniform',\n",
    "                'bin_names':['VeryLow','Low','Mid','High','VeryHigh']\n",
    "            },\n",
    "            'child_nodes':['TWL_less_Tide']\n",
    "        },\n",
    "        'Hs_offshore':{\n",
    "            'label':'Offshore wave height (m)',\n",
    "            'discretisation':{\n",
    "                'n_bins':5,\n",
    "                'strategy':'kmeans',\n",
    "                'bin_names':['VeryLow','Low','Mid','HighMid','VeryHigh']\n",
    "            },\n",
    "            'child_nodes':['TWL_less_Tide']\n",
    "        },\n",
    "        'Tm_offshore':{\n",
    "            'label':'Offshore wave period (s)',\n",
    "            'discretisation':{\n",
    "                'n_bins':5,\n",
    "                'strategy':'kmeans',\n",
    "                'bin_names':['VeryLow','Low','Mid','High','VeryHigh']\n",
    "            },\n",
    "            'child_nodes':['TWL_less_Tide']\n",
    "        },\n",
    "        'Dir_offshore':{\n",
    "            'label':r'Offshore wave direction (degrees)',\n",
    "            'discretisation':{\n",
    "                'n_bins':8,\n",
    "                'strategy':'kmeans',\n",
    "                'bin_names':['NNE','ENE','ESE','SSE','SSW','WSW','WNW','NNW']\n",
    "            },\n",
    "            'child_nodes':['TWL_less_Tide']\n",
    "        },\n",
    "        'TWL':{\n",
    "            'label':'Total water level (m)',\n",
    "            'discretisation':{\n",
    "                'n_bins':5,\n",
    "                'strategy':'kmeans',\n",
    "                'bin_names':['VeryLow','Low','Mid','High','VeryHigh']\n",
    "            },\n",
    "            'child_nodes':[]\n",
    "        },\n",
    "        'TWL_less_Tide':{\n",
    "            'label':'Total water level less tide (m)',\n",
    "            'discretisation':{\n",
    "                'n_bins':5,\n",
    "                'strategy':'kmeans',\n",
    "                'bin_names':['VeryLow','Low','Mid','High','VeryHigh']\n",
    "            },\n",
    "            'child_nodes':['TWL']\n",
    "        },\n",
    "        'MSL':{\n",
    "            'label':'Mean sea level (m)',\n",
    "            'discretisation':{\n",
    "                'n_bins':5,\n",
    "                'strategy':'kmeans',\n",
    "                'bin_names':['VeryLow','Low','Mid','High','VeryHigh']\n",
    "            },\n",
    "            'child_nodes':['TWL_less_Tide']\n",
    "        },\n",
    "        'Tide':{\n",
    "            'label':'Tide (m)',\n",
    "            'discretisation':{\n",
    "                'n_bins':5,\n",
    "                'strategy':'kmeans',\n",
    "                'bin_names':['VeryLow','Low','Mid','High','VeryHigh']\n",
    "            },\n",
    "            'child_nodes':['TWL']\n",
    "        }\n",
    "    },\n",
    "    'training_frac':0.8,\n",
    "    'bootstrap_reps':1\n",
    "}"
   ]
  },
  {
   "cell_type": "code",
   "execution_count": 6,
   "metadata": {
    "ExecuteTime": {
     "end_time": "2021-06-10T02:19:00.324519Z",
     "start_time": "2021-06-10T02:19:00.237568Z"
    }
   },
   "outputs": [],
   "source": [
    "ocean_model_dict = {\n",
    "   'variables':{\n",
    "       'Tm_offshore':{\n",
    "            'label':'Wave period offshore (?)',\n",
    "            'discretisation':{\n",
    "                'n_bins':5,\n",
    "                'strategy':'kmeans',\n",
    "                'bin_names':['VeryLow','Low','Mid','High','VeryHigh']\n",
    "            },\n",
    "            'child_nodes':['TWL_less_Tide']\n",
    "        },\n",
    "        'Hs_offshore':{\n",
    "            'label':'Wave height offshore (m)',\n",
    "            'discretisation':{\n",
    "                'n_bins':5,\n",
    "                'strategy':'kmeans',\n",
    "                'bin_names':['VeryLow','Low','Mid','High','VeryHigh']\n",
    "            },\n",
    "            'child_nodes':['TWL_less_Tide']\n",
    "        },\n",
    "        'Dir_offshore':{\n",
    "            'label':'Wave direction offshore (degrees)',\n",
    "            'discretisation':{\n",
    "                'n_bins':8,\n",
    "                'strategy':'kmeans',\n",
    "                'bin_names':['NNE','ENE','ESE','SSE','SSW','WSW','WNW','NNW']\n",
    "            },\n",
    "            'child_nodes':['TWL_less_Tide']\n",
    "        },\n",
    "        'MSL':{\n",
    "            'label':'Mean sea level (m)',\n",
    "            'discretisation':{\n",
    "                'n_bins':5,\n",
    "                'strategy':'kmeans',\n",
    "                'bin_names':['VeryLow','Low','Mid','High','VeryHigh']\n",
    "            },\n",
    "            'child_nodes':['TWL_less_Tide']\n",
    "        },\n",
    "        'Tide':{\n",
    "            'label':'Tide (m)',\n",
    "            'discretisation':{\n",
    "                'n_bins':5,\n",
    "                'strategy':'kmeans',\n",
    "                'bin_names':['VeryLow','Low','Mid','High','VeryHigh']\n",
    "            },\n",
    "            'child_nodes':['TWL']\n",
    "        },\n",
    "        'TWL':{\n",
    "            'label':'Total water level (m)',\n",
    "            'discretisation':{\n",
    "                'n_bins':5,\n",
    "                'strategy':'kmeans',\n",
    "                'bin_names':['VeryLow','Low','Mid','High','VeryHigh']\n",
    "            },\n",
    "            'child_nodes':[]\n",
    "        },\n",
    "        'TWL_less_Tide':{\n",
    "            'label':'Total water level less tide (m)',\n",
    "            'discretisation':{\n",
    "                'n_bins':5,\n",
    "                'strategy':'kmeans',\n",
    "                'bin_names':['VeryLow','Low','Mid','High','VeryHigh']\n",
    "            },\n",
    "            'child_nodes':['TWL']\n",
    "        },\n",
    "        'reef_width':{\n",
    "            'label':'Reef width (m)',\n",
    "            'discretisation':{\n",
    "                'n_bins':5,\n",
    "                'strategy':'kmeans',\n",
    "                'bin_names':['VeryLow','Low','Mid','High','VeryHigh']\n",
    "            },\n",
    "            'child_nodes':['TWL_less_Tide']\n",
    "        },\n",
    "        'reef_depth':{\n",
    "            'label':'Reef depth (m)',\n",
    "            'discretisation':{\n",
    "                'n_bins':5,\n",
    "                'strategy':'kmeans',\n",
    "                'bin_names':['VeryLow','Low','Mid','High','VeryHigh']\n",
    "            },\n",
    "            'child_nodes':['TWL_less_Tide']\n",
    "        },\n",
    "        'forereef_slope':{\n",
    "            'label':'Fore reef slope (degrees)',\n",
    "            'discretisation':{\n",
    "                'n_bins':5,\n",
    "                'strategy':'kmeans',\n",
    "                'bin_names':['VeryLow','Low','Mid','High','VeryHigh']\n",
    "            },\n",
    "            'child_nodes':['TWL_less_Tide']\n",
    "        } \n",
    "   },\n",
    "    'training_frac':0.8,\n",
    "    'bootstrap_reps':1\n",
    "}"
   ]
  },
  {
   "cell_type": "markdown",
   "metadata": {
    "heading_collapsed": true
   },
   "source": [
    "## Bootstrapping the data"
   ]
  },
  {
   "cell_type": "code",
   "execution_count": 7,
   "metadata": {
    "ExecuteTime": {
     "end_time": "2021-06-10T02:19:00.754301Z",
     "start_time": "2021-06-10T02:19:00.326513Z"
    },
    "hidden": true,
    "scrolled": true
   },
   "outputs": [],
   "source": [
    "# Bootstrap the data, and add it to the model_dict\n",
    "lagoon_model_dict = BNModel().bootstrap_data(lagoon_model_dict,lagoon_data_dict,df_lagoon)\n",
    "\n",
    "ocean_model_dict = BNModel().bootstrap_data(ocean_model_dict,ocean_data_dict,df_ocean)"
   ]
  },
  {
   "cell_type": "markdown",
   "metadata": {},
   "source": [
    "## Discretise the data"
   ]
  },
  {
   "cell_type": "code",
   "execution_count": 8,
   "metadata": {
    "ExecuteTime": {
     "end_time": "2021-06-10T02:19:46.021235Z",
     "start_time": "2021-06-10T02:19:00.755300Z"
    }
   },
   "outputs": [],
   "source": [
    "# Discretise the data\n",
    "lagoon_file_label = \"lagoon\"\n",
    "ocean_file_label = \"ocean\"\n",
    "\n",
    "lagoon_model_dict = BNModel().discretiser(lagoon_model_dict)\n",
    "ocean_model_dict = BNModel().discretiser(ocean_model_dict)"
   ]
  },
  {
   "cell_type": "code",
   "execution_count": 9,
   "metadata": {
    "ExecuteTime": {
     "end_time": "2021-06-10T02:19:46.096175Z",
     "start_time": "2021-06-10T02:19:46.022236Z"
    }
   },
   "outputs": [],
   "source": [
    "# lagoon_model_dict['variables']['MEI']"
   ]
  },
  {
   "cell_type": "code",
   "execution_count": 10,
   "metadata": {
    "ExecuteTime": {
     "end_time": "2021-06-10T02:19:49.387291Z",
     "start_time": "2021-06-10T02:19:46.102171Z"
    },
    "scrolled": false
   },
   "outputs": [
    {
     "data": {
      "image/png": "[encoded data removed]",
      "text/plain": [
       "<Figure size 720x1440 with 18 Axes>"
      ]
     },
     "metadata": {
      "needs_background": "light"
     },
     "output_type": "display_data"
    }
   ],
   "source": [
    "lagoon_disc_fig = BNModel().plot_discretiser(lagoon_model_dict)"
   ]
  },
  {
   "cell_type": "code",
   "execution_count": 11,
   "metadata": {
    "ExecuteTime": {
     "end_time": "2021-06-10T02:19:49.404279Z",
     "start_time": "2021-06-10T02:18:06.256Z"
    },
    "scrolled": false
   },
   "outputs": [
    {
     "data": {
      "image/png": "[encoded data removed]",
      "text/plain": [
       "<Figure size 720x1440 with 20 Axes>"
      ]
     },
     "metadata": {
      "needs_background": "light"
     },
     "output_type": "display_data"
    }
   ],
   "source": [
    "ocean_disc_fig = BNModel().plot_discretiser(ocean_model_dict)"
   ]
  },
  {
   "cell_type": "markdown",
   "metadata": {},
   "source": [
    "## Save the data"
   ]
  },
  {
   "cell_type": "code",
   "execution_count": 12,
   "metadata": {
    "ExecuteTime": {
     "end_time": "2021-06-10T02:20:58.711518Z",
     "start_time": "2021-06-10T02:20:53.985216Z"
    }
   },
   "outputs": [],
   "source": [
    "BNModel().save_dataset(lagoon_model_dict,lagoon_file_label)\n",
    "BNModel().save_dataset(ocean_model_dict,ocean_file_label)"
   ]
  },
  {
   "cell_type": "markdown",
   "metadata": {},
   "source": [
    "# Create BN Model"
   ]
  },
  {
   "cell_type": "code",
   "execution_count": 13,
   "metadata": {
    "ExecuteTime": {
     "end_time": "2021-06-10T02:21:05.864450Z",
     "start_time": "2021-06-10T02:21:05.152790Z"
    }
   },
   "outputs": [],
   "source": [
    "# Create the BN\n",
    "lagoon_model_dict = BNModel().create_SM(lagoon_model_dict,lagoon_file_label)"
   ]
  },
  {
   "cell_type": "code",
   "execution_count": 14,
   "metadata": {
    "ExecuteTime": {
     "end_time": "2021-06-10T02:21:05.864450Z",
     "start_time": "2021-06-10T02:21:05.152790Z"
    },
    "scrolled": true
   },
   "outputs": [],
   "source": [
    "ocean_model_dict = BNModel().create_SM(ocean_model_dict,ocean_file_label)"
   ]
  },
  {
   "cell_type": "markdown",
   "metadata": {},
   "source": [
    "## View Conditional Probability tables"
   ]
  },
  {
   "cell_type": "code",
   "execution_count": 15,
   "metadata": {
    "ExecuteTime": {
     "end_time": "2021-06-10T02:20:58.809434Z",
     "start_time": "2021-06-10T02:20:56.573Z"
    },
    "scrolled": false
   },
   "outputs": [
    {
     "data": {
      "text/html": [
       "<div>\n",
       "<style scoped>\n",
       "    .dataframe tbody tr th:only-of-type {\n",
       "        vertical-align: middle;\n",
       "    }\n",
       "\n",
       "    .dataframe tbody tr th {\n",
       "        vertical-align: top;\n",
       "    }\n",
       "\n",
       "    .dataframe thead tr th {\n",
       "        text-align: left;\n",
       "    }\n",
       "\n",
       "    .dataframe thead tr:last-of-type th {\n",
       "        text-align: right;\n",
       "    }\n",
       "</style>\n",
       "<table border=\"1\" class=\"dataframe\">\n",
       "  <thead>\n",
       "    <tr>\n",
       "      <th>TWL_less_Tide</th>\n",
       "      <th colspan=\"5\" halign=\"left\">VeryLow</th>\n",
       "      <th colspan=\"5\" halign=\"left\">Low</th>\n",
       "      <th>...</th>\n",
       "      <th colspan=\"5\" halign=\"left\">High</th>\n",
       "      <th colspan=\"5\" halign=\"left\">VeryHigh</th>\n",
       "    </tr>\n",
       "    <tr>\n",
       "      <th>Tide</th>\n",
       "      <th>VeryLow</th>\n",
       "      <th>Low</th>\n",
       "      <th>Mid</th>\n",
       "      <th>High</th>\n",
       "      <th>VeryHigh</th>\n",
       "      <th>VeryLow</th>\n",
       "      <th>Low</th>\n",
       "      <th>Mid</th>\n",
       "      <th>High</th>\n",
       "      <th>VeryHigh</th>\n",
       "      <th>...</th>\n",
       "      <th>VeryLow</th>\n",
       "      <th>Low</th>\n",
       "      <th>Mid</th>\n",
       "      <th>High</th>\n",
       "      <th>VeryHigh</th>\n",
       "      <th>VeryLow</th>\n",
       "      <th>Low</th>\n",
       "      <th>Mid</th>\n",
       "      <th>High</th>\n",
       "      <th>VeryHigh</th>\n",
       "    </tr>\n",
       "    <tr>\n",
       "      <th>TWL</th>\n",
       "      <th></th>\n",
       "      <th></th>\n",
       "      <th></th>\n",
       "      <th></th>\n",
       "      <th></th>\n",
       "      <th></th>\n",
       "      <th></th>\n",
       "      <th></th>\n",
       "      <th></th>\n",
       "      <th></th>\n",
       "      <th></th>\n",
       "      <th></th>\n",
       "      <th></th>\n",
       "      <th></th>\n",
       "      <th></th>\n",
       "      <th></th>\n",
       "      <th></th>\n",
       "      <th></th>\n",
       "      <th></th>\n",
       "      <th></th>\n",
       "      <th></th>\n",
       "    </tr>\n",
       "  </thead>\n",
       "  <tbody>\n",
       "    <tr>\n",
       "      <th>High</th>\n",
       "      <td>0.041284</td>\n",
       "      <td>0.578125</td>\n",
       "      <td>0.516129</td>\n",
       "      <td>0.0</td>\n",
       "      <td>0.0</td>\n",
       "      <td>0.000000</td>\n",
       "      <td>0.042118</td>\n",
       "      <td>0.814536</td>\n",
       "      <td>0.213178</td>\n",
       "      <td>0.0</td>\n",
       "      <td>...</td>\n",
       "      <td>0.000000</td>\n",
       "      <td>0.000000</td>\n",
       "      <td>0.000075</td>\n",
       "      <td>0.866636</td>\n",
       "      <td>0.181576</td>\n",
       "      <td>0.0</td>\n",
       "      <td>0.000000</td>\n",
       "      <td>0.000000</td>\n",
       "      <td>0.630646</td>\n",
       "      <td>0.411466</td>\n",
       "    </tr>\n",
       "    <tr>\n",
       "      <th>Low</th>\n",
       "      <td>0.495413</td>\n",
       "      <td>0.000000</td>\n",
       "      <td>0.000000</td>\n",
       "      <td>0.0</td>\n",
       "      <td>0.0</td>\n",
       "      <td>0.758416</td>\n",
       "      <td>0.154031</td>\n",
       "      <td>0.000000</td>\n",
       "      <td>0.000000</td>\n",
       "      <td>0.0</td>\n",
       "      <td>...</td>\n",
       "      <td>0.012543</td>\n",
       "      <td>0.957419</td>\n",
       "      <td>0.084145</td>\n",
       "      <td>0.000000</td>\n",
       "      <td>0.000000</td>\n",
       "      <td>0.0</td>\n",
       "      <td>0.778476</td>\n",
       "      <td>0.312629</td>\n",
       "      <td>0.000000</td>\n",
       "      <td>0.000000</td>\n",
       "    </tr>\n",
       "    <tr>\n",
       "      <th>Mid</th>\n",
       "      <td>0.449541</td>\n",
       "      <td>0.378906</td>\n",
       "      <td>0.000000</td>\n",
       "      <td>0.0</td>\n",
       "      <td>0.0</td>\n",
       "      <td>0.035644</td>\n",
       "      <td>0.803851</td>\n",
       "      <td>0.159148</td>\n",
       "      <td>0.000000</td>\n",
       "      <td>0.0</td>\n",
       "      <td>...</td>\n",
       "      <td>0.000000</td>\n",
       "      <td>0.002339</td>\n",
       "      <td>0.915780</td>\n",
       "      <td>0.133364</td>\n",
       "      <td>0.000000</td>\n",
       "      <td>0.0</td>\n",
       "      <td>0.000000</td>\n",
       "      <td>0.687371</td>\n",
       "      <td>0.369354</td>\n",
       "      <td>0.000000</td>\n",
       "    </tr>\n",
       "    <tr>\n",
       "      <th>VeryHigh</th>\n",
       "      <td>0.000000</td>\n",
       "      <td>0.042969</td>\n",
       "      <td>0.483871</td>\n",
       "      <td>1.0</td>\n",
       "      <td>1.0</td>\n",
       "      <td>0.000000</td>\n",
       "      <td>0.000000</td>\n",
       "      <td>0.026316</td>\n",
       "      <td>0.786822</td>\n",
       "      <td>1.0</td>\n",
       "      <td>...</td>\n",
       "      <td>0.000000</td>\n",
       "      <td>0.000000</td>\n",
       "      <td>0.000000</td>\n",
       "      <td>0.000000</td>\n",
       "      <td>0.818424</td>\n",
       "      <td>0.0</td>\n",
       "      <td>0.000000</td>\n",
       "      <td>0.000000</td>\n",
       "      <td>0.000000</td>\n",
       "      <td>0.588534</td>\n",
       "    </tr>\n",
       "    <tr>\n",
       "      <th>VeryLow</th>\n",
       "      <td>0.013761</td>\n",
       "      <td>0.000000</td>\n",
       "      <td>0.000000</td>\n",
       "      <td>0.0</td>\n",
       "      <td>0.0</td>\n",
       "      <td>0.205941</td>\n",
       "      <td>0.000000</td>\n",
       "      <td>0.000000</td>\n",
       "      <td>0.000000</td>\n",
       "      <td>0.0</td>\n",
       "      <td>...</td>\n",
       "      <td>0.987457</td>\n",
       "      <td>0.040242</td>\n",
       "      <td>0.000000</td>\n",
       "      <td>0.000000</td>\n",
       "      <td>0.000000</td>\n",
       "      <td>1.0</td>\n",
       "      <td>0.221524</td>\n",
       "      <td>0.000000</td>\n",
       "      <td>0.000000</td>\n",
       "      <td>0.000000</td>\n",
       "    </tr>\n",
       "  </tbody>\n",
       "</table>\n",
       "<p>5 rows × 25 columns</p>\n",
       "</div>"
      ],
      "text/plain": [
       "TWL_less_Tide   VeryLow                                         Low            \\\n",
       "Tide            VeryLow       Low       Mid High VeryHigh   VeryLow       Low   \n",
       "TWL                                                                             \n",
       "High           0.041284  0.578125  0.516129  0.0      0.0  0.000000  0.042118   \n",
       "Low            0.495413  0.000000  0.000000  0.0      0.0  0.758416  0.154031   \n",
       "Mid            0.449541  0.378906  0.000000  0.0      0.0  0.035644  0.803851   \n",
       "VeryHigh       0.000000  0.042969  0.483871  1.0      1.0  0.000000  0.000000   \n",
       "VeryLow        0.013761  0.000000  0.000000  0.0      0.0  0.205941  0.000000   \n",
       "\n",
       "TWL_less_Tide                               ...      High                      \\\n",
       "Tide                Mid      High VeryHigh  ...   VeryLow       Low       Mid   \n",
       "TWL                                         ...                                 \n",
       "High           0.814536  0.213178      0.0  ...  0.000000  0.000000  0.000075   \n",
       "Low            0.000000  0.000000      0.0  ...  0.012543  0.957419  0.084145   \n",
       "Mid            0.159148  0.000000      0.0  ...  0.000000  0.002339  0.915780   \n",
       "VeryHigh       0.026316  0.786822      1.0  ...  0.000000  0.000000  0.000000   \n",
       "VeryLow        0.000000  0.000000      0.0  ...  0.987457  0.040242  0.000000   \n",
       "\n",
       "TWL_less_Tide                     VeryHigh                                \\\n",
       "Tide               High  VeryHigh  VeryLow       Low       Mid      High   \n",
       "TWL                                                                        \n",
       "High           0.866636  0.181576      0.0  0.000000  0.000000  0.630646   \n",
       "Low            0.000000  0.000000      0.0  0.778476  0.312629  0.000000   \n",
       "Mid            0.133364  0.000000      0.0  0.000000  0.687371  0.369354   \n",
       "VeryHigh       0.000000  0.818424      0.0  0.000000  0.000000  0.000000   \n",
       "VeryLow        0.000000  0.000000      1.0  0.221524  0.000000  0.000000   \n",
       "\n",
       "TWL_less_Tide            \n",
       "Tide           VeryHigh  \n",
       "TWL                      \n",
       "High           0.411466  \n",
       "Low            0.000000  \n",
       "Mid            0.000000  \n",
       "VeryHigh       0.588534  \n",
       "VeryLow        0.000000  \n",
       "\n",
       "[5 rows x 25 columns]"
      ]
     },
     "execution_count": 15,
     "metadata": {},
     "output_type": "execute_result"
    }
   ],
   "source": [
    "# Get conditional probs tables\n",
    "BNModel().get_conditional_prob_table(lagoon_model_dict,'TWL')"
   ]
  },
  {
   "cell_type": "code",
   "execution_count": 16,
   "metadata": {
    "ExecuteTime": {
     "end_time": "2021-06-10T02:20:58.814431Z",
     "start_time": "2021-06-10T02:20:56.725Z"
    }
   },
   "outputs": [],
   "source": [
    "# Get conditional probs tables\n",
    "df_CPT_MSL = BNModel().get_conditional_prob_table(ocean_model_dict,'TWL')"
   ]
  },
  {
   "cell_type": "code",
   "execution_count": 17,
   "metadata": {
    "ExecuteTime": {
     "end_time": "2021-06-10T02:20:58.822424Z",
     "start_time": "2021-06-10T02:20:56.885Z"
    }
   },
   "outputs": [
    {
     "data": {
      "text/plain": [
       "<matplotlib.collections.PolyCollection at 0x7f8312816b50>"
      ]
     },
     "execution_count": 17,
     "metadata": {},
     "output_type": "execute_result"
    },
    {
     "data": {
      "image/png": "[encoded data removed]",
      "text/plain": [
       "<Figure size 432x288 with 1 Axes>"
      ]
     },
     "metadata": {
      "needs_background": "light"
     },
     "output_type": "display_data"
    }
   ],
   "source": [
    "df_CPT_MSL = df_CPT_MSL.loc[['VeryLow','Low','Mid','High','VeryHigh']]\n",
    "\n",
    "plt.pcolor(df_CPT_MSL)"
   ]
  },
  {
   "cell_type": "code",
   "execution_count": 18,
   "metadata": {
    "ExecuteTime": {
     "end_time": "2021-06-10T02:20:58.827422Z",
     "start_time": "2021-06-10T02:20:57.062Z"
    }
   },
   "outputs": [
    {
     "data": {
      "text/html": [
       "<div>\n",
       "<style scoped>\n",
       "    .dataframe tbody tr th:only-of-type {\n",
       "        vertical-align: middle;\n",
       "    }\n",
       "\n",
       "    .dataframe tbody tr th {\n",
       "        vertical-align: top;\n",
       "    }\n",
       "\n",
       "    .dataframe thead tr th {\n",
       "        text-align: left;\n",
       "    }\n",
       "\n",
       "    .dataframe thead tr:last-of-type th {\n",
       "        text-align: right;\n",
       "    }\n",
       "</style>\n",
       "<table border=\"1\" class=\"dataframe\">\n",
       "  <thead>\n",
       "    <tr>\n",
       "      <th>Tide</th>\n",
       "      <th colspan=\"5\" halign=\"left\">VeryLow</th>\n",
       "      <th colspan=\"5\" halign=\"left\">Low</th>\n",
       "      <th>...</th>\n",
       "      <th colspan=\"5\" halign=\"left\">High</th>\n",
       "      <th colspan=\"5\" halign=\"left\">VeryHigh</th>\n",
       "    </tr>\n",
       "    <tr>\n",
       "      <th>TWL_less_Tide</th>\n",
       "      <th>VeryLow</th>\n",
       "      <th>Low</th>\n",
       "      <th>Mid</th>\n",
       "      <th>High</th>\n",
       "      <th>VeryHigh</th>\n",
       "      <th>VeryLow</th>\n",
       "      <th>Low</th>\n",
       "      <th>Mid</th>\n",
       "      <th>High</th>\n",
       "      <th>VeryHigh</th>\n",
       "      <th>...</th>\n",
       "      <th>VeryLow</th>\n",
       "      <th>Low</th>\n",
       "      <th>Mid</th>\n",
       "      <th>High</th>\n",
       "      <th>VeryHigh</th>\n",
       "      <th>VeryLow</th>\n",
       "      <th>Low</th>\n",
       "      <th>Mid</th>\n",
       "      <th>High</th>\n",
       "      <th>VeryHigh</th>\n",
       "    </tr>\n",
       "    <tr>\n",
       "      <th>TWL</th>\n",
       "      <th></th>\n",
       "      <th></th>\n",
       "      <th></th>\n",
       "      <th></th>\n",
       "      <th></th>\n",
       "      <th></th>\n",
       "      <th></th>\n",
       "      <th></th>\n",
       "      <th></th>\n",
       "      <th></th>\n",
       "      <th></th>\n",
       "      <th></th>\n",
       "      <th></th>\n",
       "      <th></th>\n",
       "      <th></th>\n",
       "      <th></th>\n",
       "      <th></th>\n",
       "      <th></th>\n",
       "      <th></th>\n",
       "      <th></th>\n",
       "      <th></th>\n",
       "    </tr>\n",
       "  </thead>\n",
       "  <tbody>\n",
       "    <tr>\n",
       "      <th>VeryLow</th>\n",
       "      <td>0.000856</td>\n",
       "      <td>0.191734</td>\n",
       "      <td>0.658031</td>\n",
       "      <td>0.991998</td>\n",
       "      <td>1.0</td>\n",
       "      <td>0.000000</td>\n",
       "      <td>0.000000</td>\n",
       "      <td>0.000000</td>\n",
       "      <td>0.1431</td>\n",
       "      <td>0.574225</td>\n",
       "      <td>...</td>\n",
       "      <td>0.000000</td>\n",
       "      <td>0.000000</td>\n",
       "      <td>0.000000</td>\n",
       "      <td>0.00000</td>\n",
       "      <td>0.000000</td>\n",
       "      <td>0.0</td>\n",
       "      <td>0.0</td>\n",
       "      <td>0.000000</td>\n",
       "      <td>0.000000</td>\n",
       "      <td>0.000000</td>\n",
       "    </tr>\n",
       "    <tr>\n",
       "      <th>Low</th>\n",
       "      <td>0.452911</td>\n",
       "      <td>0.794202</td>\n",
       "      <td>0.341969</td>\n",
       "      <td>0.008002</td>\n",
       "      <td>0.0</td>\n",
       "      <td>0.000000</td>\n",
       "      <td>0.230464</td>\n",
       "      <td>0.815276</td>\n",
       "      <td>0.8569</td>\n",
       "      <td>0.425775</td>\n",
       "      <td>...</td>\n",
       "      <td>0.000000</td>\n",
       "      <td>0.000000</td>\n",
       "      <td>0.000000</td>\n",
       "      <td>0.00000</td>\n",
       "      <td>0.027964</td>\n",
       "      <td>0.0</td>\n",
       "      <td>0.0</td>\n",
       "      <td>0.000000</td>\n",
       "      <td>0.000000</td>\n",
       "      <td>0.000000</td>\n",
       "    </tr>\n",
       "    <tr>\n",
       "      <th>Mid</th>\n",
       "      <td>0.515411</td>\n",
       "      <td>0.014064</td>\n",
       "      <td>0.000000</td>\n",
       "      <td>0.000000</td>\n",
       "      <td>0.0</td>\n",
       "      <td>0.554633</td>\n",
       "      <td>0.767775</td>\n",
       "      <td>0.184724</td>\n",
       "      <td>0.0000</td>\n",
       "      <td>0.000000</td>\n",
       "      <td>...</td>\n",
       "      <td>0.000000</td>\n",
       "      <td>0.000000</td>\n",
       "      <td>0.078846</td>\n",
       "      <td>0.56428</td>\n",
       "      <td>0.890329</td>\n",
       "      <td>0.0</td>\n",
       "      <td>0.0</td>\n",
       "      <td>0.000000</td>\n",
       "      <td>0.000000</td>\n",
       "      <td>0.072722</td>\n",
       "    </tr>\n",
       "    <tr>\n",
       "      <th>High</th>\n",
       "      <td>0.030822</td>\n",
       "      <td>0.000000</td>\n",
       "      <td>0.000000</td>\n",
       "      <td>0.000000</td>\n",
       "      <td>0.0</td>\n",
       "      <td>0.435144</td>\n",
       "      <td>0.001761</td>\n",
       "      <td>0.000000</td>\n",
       "      <td>0.0000</td>\n",
       "      <td>0.000000</td>\n",
       "      <td>...</td>\n",
       "      <td>0.055699</td>\n",
       "      <td>0.657229</td>\n",
       "      <td>0.917979</td>\n",
       "      <td>0.43572</td>\n",
       "      <td>0.081707</td>\n",
       "      <td>0.0</td>\n",
       "      <td>0.0</td>\n",
       "      <td>0.262932</td>\n",
       "      <td>0.741168</td>\n",
       "      <td>0.864586</td>\n",
       "    </tr>\n",
       "    <tr>\n",
       "      <th>VeryHigh</th>\n",
       "      <td>0.000000</td>\n",
       "      <td>0.000000</td>\n",
       "      <td>0.000000</td>\n",
       "      <td>0.000000</td>\n",
       "      <td>0.0</td>\n",
       "      <td>0.010224</td>\n",
       "      <td>0.000000</td>\n",
       "      <td>0.000000</td>\n",
       "      <td>0.0000</td>\n",
       "      <td>0.000000</td>\n",
       "      <td>...</td>\n",
       "      <td>0.944301</td>\n",
       "      <td>0.342771</td>\n",
       "      <td>0.003175</td>\n",
       "      <td>0.00000</td>\n",
       "      <td>0.000000</td>\n",
       "      <td>1.0</td>\n",
       "      <td>1.0</td>\n",
       "      <td>0.737068</td>\n",
       "      <td>0.258832</td>\n",
       "      <td>0.062692</td>\n",
       "    </tr>\n",
       "  </tbody>\n",
       "</table>\n",
       "<p>5 rows × 25 columns</p>\n",
       "</div>"
      ],
      "text/plain": [
       "Tide            VeryLow                                              Low  \\\n",
       "TWL_less_Tide   VeryLow       Low       Mid      High VeryHigh   VeryLow   \n",
       "TWL                                                                        \n",
       "VeryLow        0.000856  0.191734  0.658031  0.991998      1.0  0.000000   \n",
       "Low            0.452911  0.794202  0.341969  0.008002      0.0  0.000000   \n",
       "Mid            0.515411  0.014064  0.000000  0.000000      0.0  0.554633   \n",
       "High           0.030822  0.000000  0.000000  0.000000      0.0  0.435144   \n",
       "VeryHigh       0.000000  0.000000  0.000000  0.000000      0.0  0.010224   \n",
       "\n",
       "Tide                                                 ...      High            \\\n",
       "TWL_less_Tide       Low       Mid    High  VeryHigh  ...   VeryLow       Low   \n",
       "TWL                                                  ...                       \n",
       "VeryLow        0.000000  0.000000  0.1431  0.574225  ...  0.000000  0.000000   \n",
       "Low            0.230464  0.815276  0.8569  0.425775  ...  0.000000  0.000000   \n",
       "Mid            0.767775  0.184724  0.0000  0.000000  ...  0.000000  0.000000   \n",
       "High           0.001761  0.000000  0.0000  0.000000  ...  0.055699  0.657229   \n",
       "VeryHigh       0.000000  0.000000  0.0000  0.000000  ...  0.944301  0.342771   \n",
       "\n",
       "Tide                                       VeryHigh                           \\\n",
       "TWL_less_Tide       Mid     High  VeryHigh  VeryLow  Low       Mid      High   \n",
       "TWL                                                                            \n",
       "VeryLow        0.000000  0.00000  0.000000      0.0  0.0  0.000000  0.000000   \n",
       "Low            0.000000  0.00000  0.027964      0.0  0.0  0.000000  0.000000   \n",
       "Mid            0.078846  0.56428  0.890329      0.0  0.0  0.000000  0.000000   \n",
       "High           0.917979  0.43572  0.081707      0.0  0.0  0.262932  0.741168   \n",
       "VeryHigh       0.003175  0.00000  0.000000      1.0  1.0  0.737068  0.258832   \n",
       "\n",
       "Tide                     \n",
       "TWL_less_Tide  VeryHigh  \n",
       "TWL                      \n",
       "VeryLow        0.000000  \n",
       "Low            0.000000  \n",
       "Mid            0.072722  \n",
       "High           0.864586  \n",
       "VeryHigh       0.062692  \n",
       "\n",
       "[5 rows x 25 columns]"
      ]
     },
     "execution_count": 18,
     "metadata": {},
     "output_type": "execute_result"
    }
   ],
   "source": [
    "df_CPT_MSL"
   ]
  },
  {
   "cell_type": "markdown",
   "metadata": {},
   "source": [
    "# Set Evidence"
   ]
  },
  {
   "cell_type": "code",
   "execution_count": 16,
   "metadata": {
    "ExecuteTime": {
     "end_time": "2021-06-10T02:20:58.833418Z",
     "start_time": "2021-06-10T02:20:57.381Z"
    }
   },
   "outputs": [],
   "source": [
    "lagoon_evidence_dict = {\n",
    "    'Wind_u':[0.05,0.1,0.01,0.01,0.01],\n",
    "    'Wind_v':[0.05,0.1,0.01,0.01,0.01,0.01]\n",
    "}\n",
    "\n",
    "ocean_evidence_dict = {\n",
    "    'MSL':[0.05,0.1,0.01,0.01,0.01],\n",
    "    'Tide':[0.05,0.1,0.01,0.01,0.01,0.01]\n",
    "}"
   ]
  },
  {
   "cell_type": "code",
   "execution_count": 17,
   "metadata": {
    "ExecuteTime": {
     "end_time": "2021-06-10T02:20:58.838415Z",
     "start_time": "2021-06-10T02:20:57.549Z"
    }
   },
   "outputs": [],
   "source": [
    "lagoon_model_dict = BNModel().add_evidence_to_dict(lagoon_model_dict,lagoon_evidence_dict)\n",
    "ocean_model_dict = BNModel().add_evidence_to_dict(ocean_model_dict,ocean_evidence_dict)"
   ]
  },
  {
   "cell_type": "markdown",
   "metadata": {},
   "source": [
    "# Update beliefs based on evidence"
   ]
  },
  {
   "cell_type": "code",
   "execution_count": 18,
   "metadata": {
    "ExecuteTime": {
     "end_time": "2021-06-10T02:20:58.843410Z",
     "start_time": "2021-06-10T02:20:57.946Z"
    }
   },
   "outputs": [],
   "source": [
    "# Set evidence and get beliefs\n",
    "lagoon_model_dict = BNModel().update_evidence(lagoon_model_dict)\n",
    "ocean_model_dict = BNModel().update_evidence(ocean_model_dict)"
   ]
  },
  {
   "cell_type": "markdown",
   "metadata": {},
   "source": [
    "# BN Visualisation"
   ]
  },
  {
   "cell_type": "code",
   "execution_count": 19,
   "metadata": {
    "ExecuteTime": {
     "end_time": "2021-06-10T02:20:58.849407Z",
     "start_time": "2021-06-10T02:20:58.285Z"
    },
    "scrolled": false
   },
   "outputs": [
    {
     "data": {
      "image/svg+xml": [
       "<?xml version=\"1.0\" encoding=\"UTF-8\" standalone=\"no\"?>\n",
       "<!DOCTYPE svg PUBLIC \"-//W3C//DTD SVG 1.1//EN\"\n",
       " \"http://www.w3.org/Graphics/SVG/1.1/DTD/svg11.dtd\">\n",
       "<!-- Generated by graphviz version 2.43.0 (0)\n",
       " -->\n",
       "<!-- Title: %3 Pages: 1 -->\n",
       "<svg width=\"1276pt\" height=\"252pt\"\n",
       " viewBox=\"0.00 0.00 1275.50 252.00\" xmlns=\"http://www.w3.org/2000/svg\" xmlns:xlink=\"http://www.w3.org/1999/xlink\">\n",
       "<g id=\"graph0\" class=\"graph\" transform=\"scale(1 1) rotate(0) translate(36 216)\">\n",
       "<title>%3</title>\n",
       "<polygon fill=\"white\" stroke=\"transparent\" points=\"-36,36 -36,-216 1239.5,-216 1239.5,36 -36,36\"/>\n",
       "<!-- 0 -->\n",
       "<g id=\"node1\" class=\"node\">\n",
       "<title>0</title>\n",
       "<polygon fill=\"none\" stroke=\"black\" points=\"157,-180 0,-180 0,-144 157,-144 157,-180\"/>\n",
       "<text text-anchor=\"middle\" x=\"78.5\" y=\"-158.3\" font-family=\"Times,serif\" font-size=\"14.00\">Wind u vector (m/s)</text>\n",
       "</g>\n",
       "<!-- 6 -->\n",
       "<g id=\"node7\" class=\"node\">\n",
       "<title>6</title>\n",
       "<polygon fill=\"none\" stroke=\"black\" points=\"669,-108 440,-108 440,-72 669,-72 669,-108\"/>\n",
       "<text text-anchor=\"middle\" x=\"554.5\" y=\"-86.3\" font-family=\"Times,serif\" font-size=\"14.00\">Total water level less tide (m)</text>\n",
       "</g>\n",
       "<!-- 0&#45;&gt;6 -->\n",
       "<g id=\"edge1\" class=\"edge\">\n",
       "<title>0&#45;&gt;6</title>\n",
       "<path fill=\"none\" stroke=\"black\" d=\"M157.14,-145.58C160.3,-145.04 163.43,-144.51 166.5,-144 254.13,-129.56 353.36,-116.06 429.54,-106.29\"/>\n",
       "<polygon fill=\"black\" stroke=\"black\" points=\"430.18,-109.74 439.65,-105 429.29,-102.8 430.18,-109.74\"/>\n",
       "</g>\n",
       "<!-- 1 -->\n",
       "<g id=\"node2\" class=\"node\">\n",
       "<title>1</title>\n",
       "<polygon fill=\"none\" stroke=\"black\" points=\"331.5,-180 175.5,-180 175.5,-144 331.5,-144 331.5,-180\"/>\n",
       "<text text-anchor=\"middle\" x=\"253.5\" y=\"-158.3\" font-family=\"Times,serif\" font-size=\"14.00\">Wind v vector (m/s)</text>\n",
       "</g>\n",
       "<!-- 1&#45;&gt;6 -->\n",
       "<g id=\"edge2\" class=\"edge\">\n",
       "<title>1&#45;&gt;6</title>\n",
       "<path fill=\"none\" stroke=\"black\" d=\"M326.75,-143.97C370.44,-133.8 426.05,-120.87 471.38,-110.33\"/>\n",
       "<polygon fill=\"black\" stroke=\"black\" points=\"472.24,-113.72 481.18,-108.05 470.65,-106.91 472.24,-113.72\"/>\n",
       "</g>\n",
       "<!-- 2 -->\n",
       "<g id=\"node3\" class=\"node\">\n",
       "<title>2</title>\n",
       "<polygon fill=\"none\" stroke=\"black\" points=\"547,-180 350,-180 350,-144 547,-144 547,-180\"/>\n",
       "<text text-anchor=\"middle\" x=\"448.5\" y=\"-158.3\" font-family=\"Times,serif\" font-size=\"14.00\">Offshore wave height (m)</text>\n",
       "</g>\n",
       "<!-- 2&#45;&gt;6 -->\n",
       "<g id=\"edge3\" class=\"edge\">\n",
       "<title>2&#45;&gt;6</title>\n",
       "<path fill=\"none\" stroke=\"black\" d=\"M474.43,-143.88C488.16,-134.81 505.21,-123.55 520.04,-113.76\"/>\n",
       "<polygon fill=\"black\" stroke=\"black\" points=\"522.05,-116.62 528.47,-108.19 518.2,-110.78 522.05,-116.62\"/>\n",
       "</g>\n",
       "<!-- 3 -->\n",
       "<g id=\"node4\" class=\"node\">\n",
       "<title>3</title>\n",
       "<polygon fill=\"none\" stroke=\"black\" points=\"756,-180 565,-180 565,-144 756,-144 756,-180\"/>\n",
       "<text text-anchor=\"middle\" x=\"660.5\" y=\"-158.3\" font-family=\"Times,serif\" font-size=\"14.00\">Offshore wave period (s)</text>\n",
       "</g>\n",
       "<!-- 3&#45;&gt;6 -->\n",
       "<g id=\"edge4\" class=\"edge\">\n",
       "<title>3&#45;&gt;6</title>\n",
       "<path fill=\"none\" stroke=\"black\" d=\"M634.57,-143.88C620.84,-134.81 603.79,-123.55 588.96,-113.76\"/>\n",
       "<polygon fill=\"black\" stroke=\"black\" points=\"590.8,-110.78 580.53,-108.19 586.95,-116.62 590.8,-110.78\"/>\n",
       "</g>\n",
       "<!-- 4 -->\n",
       "<g id=\"node5\" class=\"node\">\n",
       "<title>4</title>\n",
       "<polygon fill=\"none\" stroke=\"black\" points=\"1033,-180 774,-180 774,-144 1033,-144 1033,-180\"/>\n",
       "<text text-anchor=\"middle\" x=\"903.5\" y=\"-158.3\" font-family=\"Times,serif\" font-size=\"14.00\">Offshore wave direction (degrees)</text>\n",
       "</g>\n",
       "<!-- 4&#45;&gt;6 -->\n",
       "<g id=\"edge5\" class=\"edge\">\n",
       "<title>4&#45;&gt;6</title>\n",
       "<path fill=\"none\" stroke=\"black\" d=\"M818.57,-143.97C767.49,-133.72 702.35,-120.66 649.55,-110.07\"/>\n",
       "<polygon fill=\"black\" stroke=\"black\" points=\"650,-106.59 639.51,-108.05 648.62,-113.45 650,-106.59\"/>\n",
       "</g>\n",
       "<!-- 5 -->\n",
       "<g id=\"node6\" class=\"node\">\n",
       "<title>5</title>\n",
       "<polygon fill=\"none\" stroke=\"black\" points=\"721.5,-36 557.5,-36 557.5,0 721.5,0 721.5,-36\"/>\n",
       "<text text-anchor=\"middle\" x=\"639.5\" y=\"-14.3\" font-family=\"Times,serif\" font-size=\"14.00\">Total water level (m)</text>\n",
       "</g>\n",
       "<!-- 6&#45;&gt;5 -->\n",
       "<g id=\"edge6\" class=\"edge\">\n",
       "<title>6&#45;&gt;5</title>\n",
       "<path fill=\"none\" stroke=\"black\" d=\"M575.51,-71.7C586.22,-62.88 599.39,-52.03 611,-42.47\"/>\n",
       "<polygon fill=\"black\" stroke=\"black\" points=\"613.24,-45.16 618.73,-36.1 608.79,-39.76 613.24,-45.16\"/>\n",
       "</g>\n",
       "<!-- 7 -->\n",
       "<g id=\"node8\" class=\"node\">\n",
       "<title>7</title>\n",
       "<polygon fill=\"none\" stroke=\"black\" points=\"1203.5,-180 1051.5,-180 1051.5,-144 1203.5,-144 1203.5,-180\"/>\n",
       "<text text-anchor=\"middle\" x=\"1127.5\" y=\"-158.3\" font-family=\"Times,serif\" font-size=\"14.00\">Mean sea level (m)</text>\n",
       "</g>\n",
       "<!-- 7&#45;&gt;6 -->\n",
       "<g id=\"edge7\" class=\"edge\">\n",
       "<title>7&#45;&gt;6</title>\n",
       "<path fill=\"none\" stroke=\"black\" d=\"M1051.11,-145.35C1048.2,-144.87 1045.33,-144.42 1042.5,-144 885.01,-120.52 841.71,-126.77 679.67,-108.1\"/>\n",
       "<polygon fill=\"black\" stroke=\"black\" points=\"679.67,-104.58 669.33,-106.9 678.86,-111.53 679.67,-104.58\"/>\n",
       "</g>\n",
       "<!-- 8 -->\n",
       "<g id=\"node9\" class=\"node\">\n",
       "<title>8</title>\n",
       "<polygon fill=\"none\" stroke=\"black\" points=\"763.5,-108 687.5,-108 687.5,-72 763.5,-72 763.5,-108\"/>\n",
       "<text text-anchor=\"middle\" x=\"725.5\" y=\"-86.3\" font-family=\"Times,serif\" font-size=\"14.00\">Tide (m)</text>\n",
       "</g>\n",
       "<!-- 8&#45;&gt;5 -->\n",
       "<g id=\"edge8\" class=\"edge\">\n",
       "<title>8&#45;&gt;5</title>\n",
       "<path fill=\"none\" stroke=\"black\" d=\"M704.24,-71.7C693.41,-62.88 680.08,-52.03 668.34,-42.47\"/>\n",
       "<polygon fill=\"black\" stroke=\"black\" points=\"670.48,-39.7 660.51,-36.1 666.06,-45.13 670.48,-39.7\"/>\n",
       "</g>\n",
       "</g>\n",
       "</svg>\n"
      ],
      "text/plain": [
       "<graphviz.dot.Digraph at 0x7f2018d78fa0>"
      ]
     },
     "execution_count": 19,
     "metadata": {},
     "output_type": "execute_result"
    }
   ],
   "source": [
    "\n",
    "# Set up graph\n",
    "graph_lagoon = BNModel().create_BN_graph()\n",
    "\n",
    "# Create nodes of the graph\n",
    "graph_lagoon,lagoon_model_dict = BNModel().create_nodes(graph_lagoon,lagoon_model_dict,0)\n",
    "\n",
    "# Create arcs between nodesb\n",
    "graph_lagoon = BNModel().create_arcs(graph_lagoon,lagoon_model_dict)\n",
    "\n",
    "# Save as dot file\n",
    "graph_lagoon.render(filename='graph_lagoon',format='png')\n",
    "\n",
    "# Plot the graph\n",
    "graph_lagoon\n"
   ]
  },
  {
   "cell_type": "code",
   "execution_count": 20,
   "metadata": {
    "ExecuteTime": {
     "end_time": "2021-06-10T02:20:59.261392Z",
     "start_time": "2021-06-10T02:20:59.150428Z"
    }
   },
   "outputs": [
    {
     "data": {
      "image/svg+xml": [
       "<?xml version=\"1.0\" encoding=\"UTF-8\" standalone=\"no\"?>\n",
       "<!DOCTYPE svg PUBLIC \"-//W3C//DTD SVG 1.1//EN\"\n",
       " \"http://www.w3.org/Graphics/SVG/1.1/DTD/svg11.dtd\">\n",
       "<!-- Generated by graphviz version 2.43.0 (0)\n",
       " -->\n",
       "<!-- Title: %3 Pages: 1 -->\n",
       "<svg width=\"1296pt\" height=\"230pt\"\n",
       " viewBox=\"0.00 0.00 1296.00 230.32\" xmlns=\"http://www.w3.org/2000/svg\" xmlns:xlink=\"http://www.w3.org/1999/xlink\">\n",
       "<g id=\"graph0\" class=\"graph\" transform=\"scale(1.09 1.09) rotate(0) translate(36 216)\">\n",
       "<title>%3</title>\n",
       "<polygon fill=\"white\" stroke=\"transparent\" points=\"-36,36 -36,-216 1382,-216 1382,36 -36,36\"/>\n",
       "<!-- 0 -->\n",
       "<g id=\"node1\" class=\"node\">\n",
       "<title>0</title>\n",
       "<polygon fill=\"none\" stroke=\"black\" points=\"190,-180 0,-180 0,-144 190,-144 190,-180\"/>\n",
       "<text text-anchor=\"middle\" x=\"95\" y=\"-158.3\" font-family=\"Times,serif\" font-size=\"14.00\">Wave period offshore (?)</text>\n",
       "</g>\n",
       "<!-- 6 -->\n",
       "<g id=\"node7\" class=\"node\">\n",
       "<title>6</title>\n",
       "<polygon fill=\"none\" stroke=\"black\" points=\"888.5,-108 659.5,-108 659.5,-72 888.5,-72 888.5,-108\"/>\n",
       "<text text-anchor=\"middle\" x=\"774\" y=\"-86.3\" font-family=\"Times,serif\" font-size=\"14.00\">Total water level less tide (m)</text>\n",
       "</g>\n",
       "<!-- 0&#45;&gt;6 -->\n",
       "<g id=\"edge1\" class=\"edge\">\n",
       "<title>0&#45;&gt;6</title>\n",
       "<path fill=\"none\" stroke=\"black\" d=\"M190.18,-145.17C193.15,-144.76 196.1,-144.37 199,-144 353.72,-124.25 532.77,-108.93 649.42,-99.95\"/>\n",
       "<polygon fill=\"black\" stroke=\"black\" points=\"649.76,-103.43 659.46,-99.18 649.22,-96.45 649.76,-103.43\"/>\n",
       "</g>\n",
       "<!-- 1 -->\n",
       "<g id=\"node2\" class=\"node\">\n",
       "<title>1</title>\n",
       "<polygon fill=\"none\" stroke=\"black\" points=\"404,-180 208,-180 208,-144 404,-144 404,-180\"/>\n",
       "<text text-anchor=\"middle\" x=\"306\" y=\"-158.3\" font-family=\"Times,serif\" font-size=\"14.00\">Wave height offshore (m)</text>\n",
       "</g>\n",
       "<!-- 1&#45;&gt;6 -->\n",
       "<g id=\"edge2\" class=\"edge\">\n",
       "<title>1&#45;&gt;6</title>\n",
       "<path fill=\"none\" stroke=\"black\" d=\"M404.24,-145.35C407.19,-144.89 410.12,-144.44 413,-144 491.48,-132 579.65,-119.05 649.2,-108.95\"/>\n",
       "<polygon fill=\"black\" stroke=\"black\" points=\"649.93,-112.38 659.33,-107.48 648.93,-105.46 649.93,-112.38\"/>\n",
       "</g>\n",
       "<!-- 2 -->\n",
       "<g id=\"node3\" class=\"node\">\n",
       "<title>2</title>\n",
       "<polygon fill=\"none\" stroke=\"black\" points=\"679.5,-180 422.5,-180 422.5,-144 679.5,-144 679.5,-180\"/>\n",
       "<text text-anchor=\"middle\" x=\"551\" y=\"-158.3\" font-family=\"Times,serif\" font-size=\"14.00\">Wave direction offshore (degrees)</text>\n",
       "</g>\n",
       "<!-- 2&#45;&gt;6 -->\n",
       "<g id=\"edge3\" class=\"edge\">\n",
       "<title>2&#45;&gt;6</title>\n",
       "<path fill=\"none\" stroke=\"black\" d=\"M605.27,-143.97C636.83,-134.06 676.79,-121.51 709.9,-111.12\"/>\n",
       "<polygon fill=\"black\" stroke=\"black\" points=\"711,-114.45 719.49,-108.11 708.9,-107.77 711,-114.45\"/>\n",
       "</g>\n",
       "<!-- 3 -->\n",
       "<g id=\"node4\" class=\"node\">\n",
       "<title>3</title>\n",
       "<polygon fill=\"none\" stroke=\"black\" points=\"850,-180 698,-180 698,-144 850,-144 850,-180\"/>\n",
       "<text text-anchor=\"middle\" x=\"774\" y=\"-158.3\" font-family=\"Times,serif\" font-size=\"14.00\">Mean sea level (m)</text>\n",
       "</g>\n",
       "<!-- 3&#45;&gt;6 -->\n",
       "<g id=\"edge4\" class=\"edge\">\n",
       "<title>3&#45;&gt;6</title>\n",
       "<path fill=\"none\" stroke=\"black\" d=\"M774,-143.7C774,-135.98 774,-126.71 774,-118.11\"/>\n",
       "<polygon fill=\"black\" stroke=\"black\" points=\"777.5,-118.1 774,-108.1 770.5,-118.1 777.5,-118.1\"/>\n",
       "</g>\n",
       "<!-- 4 -->\n",
       "<g id=\"node5\" class=\"node\">\n",
       "<title>4</title>\n",
       "<polygon fill=\"none\" stroke=\"black\" points=\"983,-108 907,-108 907,-72 983,-72 983,-108\"/>\n",
       "<text text-anchor=\"middle\" x=\"945\" y=\"-86.3\" font-family=\"Times,serif\" font-size=\"14.00\">Tide (m)</text>\n",
       "</g>\n",
       "<!-- 5 -->\n",
       "<g id=\"node6\" class=\"node\">\n",
       "<title>5</title>\n",
       "<polygon fill=\"none\" stroke=\"black\" points=\"941,-36 777,-36 777,0 941,0 941,-36\"/>\n",
       "<text text-anchor=\"middle\" x=\"859\" y=\"-14.3\" font-family=\"Times,serif\" font-size=\"14.00\">Total water level (m)</text>\n",
       "</g>\n",
       "<!-- 4&#45;&gt;5 -->\n",
       "<g id=\"edge5\" class=\"edge\">\n",
       "<title>4&#45;&gt;5</title>\n",
       "<path fill=\"none\" stroke=\"black\" d=\"M923.74,-71.7C912.91,-62.88 899.58,-52.03 887.84,-42.47\"/>\n",
       "<polygon fill=\"black\" stroke=\"black\" points=\"889.98,-39.7 880.01,-36.1 885.56,-45.13 889.98,-39.7\"/>\n",
       "</g>\n",
       "<!-- 6&#45;&gt;5 -->\n",
       "<g id=\"edge6\" class=\"edge\">\n",
       "<title>6&#45;&gt;5</title>\n",
       "<path fill=\"none\" stroke=\"black\" d=\"M795.01,-71.7C805.72,-62.88 818.89,-52.03 830.5,-42.47\"/>\n",
       "<polygon fill=\"black\" stroke=\"black\" points=\"832.74,-45.16 838.23,-36.1 828.29,-39.76 832.74,-45.16\"/>\n",
       "</g>\n",
       "<!-- 7 -->\n",
       "<g id=\"node8\" class=\"node\">\n",
       "<title>7</title>\n",
       "<polygon fill=\"none\" stroke=\"black\" points=\"990,-180 868,-180 868,-144 990,-144 990,-180\"/>\n",
       "<text text-anchor=\"middle\" x=\"929\" y=\"-158.3\" font-family=\"Times,serif\" font-size=\"14.00\">Reef width (m)</text>\n",
       "</g>\n",
       "<!-- 7&#45;&gt;6 -->\n",
       "<g id=\"edge7\" class=\"edge\">\n",
       "<title>7&#45;&gt;6</title>\n",
       "<path fill=\"none\" stroke=\"black\" d=\"M891.08,-143.88C869.99,-134.35 843.54,-122.41 821.13,-112.28\"/>\n",
       "<polygon fill=\"black\" stroke=\"black\" points=\"822.35,-108.99 811.79,-108.07 819.47,-115.37 822.35,-108.99\"/>\n",
       "</g>\n",
       "<!-- 8 -->\n",
       "<g id=\"node9\" class=\"node\">\n",
       "<title>8</title>\n",
       "<polygon fill=\"none\" stroke=\"black\" points=\"1131.5,-180 1008.5,-180 1008.5,-144 1131.5,-144 1131.5,-180\"/>\n",
       "<text text-anchor=\"middle\" x=\"1070\" y=\"-158.3\" font-family=\"Times,serif\" font-size=\"14.00\">Reef depth (m)</text>\n",
       "</g>\n",
       "<!-- 8&#45;&gt;6 -->\n",
       "<g id=\"edge8\" class=\"edge\">\n",
       "<title>8&#45;&gt;6</title>\n",
       "<path fill=\"none\" stroke=\"black\" d=\"M1008.43,-146.24C1005.24,-145.48 1002.08,-144.73 999,-144 951.82,-132.79 899.05,-120.36 856.48,-110.35\"/>\n",
       "<polygon fill=\"black\" stroke=\"black\" points=\"857.26,-106.94 846.72,-108.06 855.65,-113.75 857.26,-106.94\"/>\n",
       "</g>\n",
       "<!-- 9 -->\n",
       "<g id=\"node10\" class=\"node\">\n",
       "<title>9</title>\n",
       "<polygon fill=\"none\" stroke=\"black\" points=\"1346,-180 1150,-180 1150,-144 1346,-144 1346,-180\"/>\n",
       "<text text-anchor=\"middle\" x=\"1248\" y=\"-158.3\" font-family=\"Times,serif\" font-size=\"14.00\">Fore reef slope (degrees)</text>\n",
       "</g>\n",
       "<!-- 9&#45;&gt;6 -->\n",
       "<g id=\"edge9\" class=\"edge\">\n",
       "<title>9&#45;&gt;6</title>\n",
       "<path fill=\"none\" stroke=\"black\" d=\"M1149.76,-145.34C1146.81,-144.88 1143.88,-144.44 1141,-144 1060.47,-131.79 969.89,-118.7 898.87,-108.59\"/>\n",
       "<polygon fill=\"black\" stroke=\"black\" points=\"898.93,-105.06 888.54,-107.12 897.94,-111.99 898.93,-105.06\"/>\n",
       "</g>\n",
       "</g>\n",
       "</svg>\n"
      ],
      "text/plain": [
       "<graphviz.dot.Digraph at 0x7f2018d78a30>"
      ]
     },
     "execution_count": 20,
     "metadata": {},
     "output_type": "execute_result"
    }
   ],
   "source": [
    "\n",
    "# Set up graph\n",
    "graph_ocean = BNModel().create_BN_graph()\n",
    "\n",
    "# Create nodes of the graph\n",
    "graph_ocean,ocean_model_dict = BNModel().create_nodes(graph_ocean,ocean_model_dict,0)\n",
    "\n",
    "# Create arcs between nodesb\n",
    "graph_ocean = BNModel().create_arcs(graph_ocean,ocean_model_dict)\n",
    "\n",
    "# Save as dot file\n",
    "graph_ocean.render(filename='graph_ocean',format='png')\n",
    "\n",
    "# Plot the graph\n",
    "graph_ocean"
   ]
  },
  {
   "cell_type": "markdown",
   "metadata": {},
   "source": [
    "# Model Validation"
   ]
  },
  {
   "cell_type": "code",
   "execution_count": 21,
   "metadata": {
    "ExecuteTime": {
     "end_time": "2021-06-10T02:19:49.419271Z",
     "start_time": "2021-06-10T02:18:06.285Z"
    }
   },
   "outputs": [
    {
     "name": "stdout",
     "output_type": "stream",
     "text": [
      "{(0, 'VeryLow'): 0.8931344503473642, (0, 'Low'): 0.8479642905451102, (0, 'Mid'): 0.8191077320327069, (0, 'High'): 0.8484753713838936, (0, 'VeryHigh'): 0.9577850877192983}\n"
     ]
    },
    {
     "data": {
      "image/png": "[encoded data removed]",
      "text/plain": [
       "<Figure size 720x720 with 2 Axes>"
      ]
     },
     "metadata": {
      "needs_background": "light"
     },
     "output_type": "display_data"
    }
   ],
   "source": [
    "### Research picking number of kfolds \n",
    "\n",
    "lagoon_acc_dict = BNModel().get_accuracies(lagoon_model_dict,\"TWL\")\n",
    "\n",
    "print(lagoon_acc_dict)\n",
    "\n",
    "fig, ax = BNModel().confusion_matrix(lagoon_model_dict,\"TWL\",0)"
   ]
  },
  {
   "cell_type": "code",
   "execution_count": 25,
   "metadata": {},
   "outputs": [
    {
     "data": {
      "text/plain": [
       "array(['High', 'Low', 'Mid', 'VeryHigh', 'VeryLow'], dtype='<U32')"
      ]
     },
     "execution_count": 25,
     "metadata": {},
     "output_type": "execute_result"
    }
   ],
   "source": [
    "np.unique(lagoon_model_dict['variables']['Wind_u']['testing_data'][0])"
   ]
  },
  {
   "cell_type": "code",
   "execution_count": 51,
   "metadata": {},
   "outputs": [
    {
     "data": {
      "text/plain": [
       "array(['High', 'Low', 'Mid', 'VeryHigh', 'VeryLow'], dtype='<U32')"
      ]
     },
     "execution_count": 51,
     "metadata": {},
     "output_type": "execute_result"
    }
   ],
   "source": [
    "np.unique(ocean_model_dict['variables']['Tide']['testing_data'][0])"
   ]
  },
  {
   "cell_type": "code",
   "execution_count": 27,
   "metadata": {},
   "outputs": [
    {
     "name": "stdout",
     "output_type": "stream",
     "text": [
      "-13.955062866210938\n",
      "11.38702392578125\n",
      "-0.2527384196053528\n",
      "-0.200164794921875\n"
     ]
    }
   ],
   "source": [
    "print(np.min(lagoon_model_dict['variables']['Wind_v']['testing_data_preprocessed'][0]))\n",
    "print(np.max(lagoon_model_dict['variables']['Wind_v']['testing_data_preprocessed'][0]))\n",
    "print(np.mean(lagoon_model_dict['variables']['Wind_v']['testing_data_preprocessed'][0]))\n",
    "print(np.median(lagoon_model_dict['variables']['Wind_v']['testing_data_preprocessed'][0]))"
   ]
  },
  {
   "cell_type": "code",
   "execution_count": 28,
   "metadata": {},
   "outputs": [
    {
     "data": {
      "text/plain": [
       "{'label': 'Wind v vector (m/s)',\n",
       " 'discretisation': {'n_bins': 5,\n",
       "  'strategy': 'uniform',\n",
       "  'bin_names': ['VeryLow', 'Low', 'Mid', 'High', 'VeryHigh']},\n",
       " 'child_nodes': ['TWL_less_Tide'],\n",
       " 'training_data_preprocessed': {0: array([-1.18292236, -0.33476257,  0.5897522 , ...,  1.3394165 ,\n",
       "         -2.57757568, -4.48239136])},\n",
       " 'testing_data_preprocessed': {0: array([-3.05592346, -0.8621521 ,  1.46348572, ...,  4.49684143,\n",
       "         -1.3145752 ,  1.79043579])},\n",
       " 'training_data': {0: array(['Mid', 'Mid', 'Mid', ..., 'High', 'Mid', 'Low'], dtype='<U21')},\n",
       " 'testing_data': {0: array(['Mid', 'Mid', 'High', ..., 'High', 'Mid', 'High'], dtype='<U32')},\n",
       " 'bin_edges': {0: array([-14.06361389,  -8.97348633,  -3.88335876,   1.2067688 ,\n",
       "           6.29689636,  11.38702393])},\n",
       " 'id': 1,\n",
       " 'evidence': [0.05, 0.1, 0.01, 0.01, 0.01, 0.01],\n",
       " 'resulting_probs': {0: {'VeryLow': 0.000997611125790674,\n",
       "   'Low': 0.3868574171039078,\n",
       "   'Mid': 0.44481053477348836,\n",
       "   'High': 0.16654174058875232,\n",
       "   'VeryHigh': 0.0007926964080606977}},\n",
       " 'figure': 'Wind_v_key5_graph.jpeg'}"
      ]
     },
     "execution_count": 28,
     "metadata": {},
     "output_type": "execute_result"
    }
   ],
   "source": [
    "lagoon_model_dict['variables']['Wind_v']"
   ]
  },
  {
   "cell_type": "code",
   "execution_count": 22,
   "metadata": {
    "ExecuteTime": {
     "end_time": "2021-06-10T02:19:49.420270Z",
     "start_time": "2021-06-10T02:18:06.287Z"
    },
    "scrolled": false
   },
   "outputs": [
    {
     "name": "stdout",
     "output_type": "stream",
     "text": [
      "{(0, 'VeryLow'): 0.893251742308346, (0, 'Low'): 0.7026996498362137, (0, 'Mid'): 0.8420252572497662, (0, 'High'): 0.7267433396418692, (0, 'VeryHigh'): 0.7175521183591123}\n"
     ]
    },
    {
     "data": {
      "image/png": "[encoded data removed]",
      "text/plain": [
       "<Figure size 720x720 with 2 Axes>"
      ]
     },
     "metadata": {
      "needs_background": "light"
     },
     "output_type": "display_data"
    }
   ],
   "source": [
    "\n",
    "ocean_acc_dict = BNModel().get_accuracies(ocean_model_dict,\"TWL\")\n",
    "\n",
    "print(ocean_acc_dict)\n",
    "\n",
    "fig, ax = BNModel().confusion_matrix(ocean_model_dict,\"TWL\",0)"
   ]
  },
  {
   "cell_type": "code",
   "execution_count": 30,
   "metadata": {},
   "outputs": [
    {
     "data": {
      "text/plain": [
       "array([{0: array(['VeryHigh', 'VeryHigh', 'VeryHigh', ..., 'Low', 'Low', 'Low'],\n",
       "             dtype='<U32')}                                                     ],\n",
       "      dtype=object)"
      ]
     },
     "execution_count": 30,
     "metadata": {},
     "output_type": "execute_result"
    }
   ],
   "source": [
    "np.unique(ocean_model_dict['variables']['reef_width']['testing_data'])\n"
   ]
  },
  {
   "cell_type": "code",
   "execution_count": 31,
   "metadata": {},
   "outputs": [
    {
     "data": {
      "text/plain": [
       "<pysmile.learning.DataSet at 0x7f379af718f0>"
      ]
     },
     "execution_count": 31,
     "metadata": {},
     "output_type": "execute_result"
    }
   ],
   "source": [
    "pysmile_dict = ocean_model_dict['model'][0]\n",
    "net = pysmile_dict['net']\n",
    "ds_testing = pysmile_dict['ds_testing']\n",
    "\n",
    "ds_testing"
   ]
  },
  {
   "cell_type": "code",
   "execution_count": 32,
   "metadata": {},
   "outputs": [
    {
     "data": {
      "text/plain": [
       "[<pysmile.learning.DataMatch at 0x7f37f049caf0>,\n",
       " <pysmile.learning.DataMatch at 0x7f37f049e0f0>,\n",
       " <pysmile.learning.DataMatch at 0x7f37f049e030>,\n",
       " <pysmile.learning.DataMatch at 0x7f37f049e130>,\n",
       " <pysmile.learning.DataMatch at 0x7f37f049e170>,\n",
       " <pysmile.learning.DataMatch at 0x7f37f049e1b0>,\n",
       " <pysmile.learning.DataMatch at 0x7f37f049e1f0>,\n",
       " <pysmile.learning.DataMatch at 0x7f37f049e230>,\n",
       " <pysmile.learning.DataMatch at 0x7f37f049e270>,\n",
       " <pysmile.learning.DataMatch at 0x7f37f049e2b0>]"
      ]
     },
     "execution_count": 32,
     "metadata": {},
     "output_type": "execute_result"
    }
   ],
   "source": [
    "ds_testing.match_network(net)"
   ]
  },
  {
   "cell_type": "code",
   "execution_count": 33,
   "metadata": {},
   "outputs": [
    {
     "data": {
      "text/plain": [
       "array([1815.7035 , 1815.7035 , 1815.7035 , ...,  495.52852,  495.52852,\n",
       "        495.52852])"
      ]
     },
     "execution_count": 33,
     "metadata": {},
     "output_type": "execute_result"
    }
   ],
   "source": [
    "ocean_model_dict['variables']['reef_width']['testing_data_preprocessed'][0]"
   ]
  },
  {
   "cell_type": "markdown",
   "metadata": {
    "heading_collapsed": true
   },
   "source": [
    "# Sensitivity Analysis"
   ]
  },
  {
   "cell_type": "markdown",
   "metadata": {
    "hidden": true
   },
   "source": [
    "## Lagoon"
   ]
  },
  {
   "cell_type": "markdown",
   "metadata": {
    "hidden": true
   },
   "source": [
    "### Tide on TWL"
   ]
  },
  {
   "cell_type": "code",
   "execution_count": 53,
   "metadata": {
    "ExecuteTime": {
     "end_time": "2021-06-10T02:19:49.421270Z",
     "start_time": "2021-06-10T02:18:06.291Z"
    },
    "hidden": true
   },
   "outputs": [
    {
     "data": {
      "image/png": "[encoded data removed]",
      "text/plain": [
       "<Figure size 720x720 with 2 Axes>"
      ]
     },
     "metadata": {
      "needs_background": "light"
     },
     "output_type": "display_data"
    },
    {
     "data": {
      "text/plain": [
       "({0:       0.4       0.8       1.0       2.0       5.0       100.0\n",
       "  0  0.738659  0.469607  0.394858  0.231723  0.159437  0.144581\n",
       "  1  0.204804  0.391275  0.407729  0.331767  0.253497  0.234718\n",
       "  2  0.049518  0.106937  0.147107  0.238150  0.238051  0.232989\n",
       "  3  0.006825  0.029372  0.043860  0.142028  0.211510  0.225378\n",
       "  4  0.000194  0.002810  0.006445  0.056332  0.137506  0.162333},\n",
       " <Figure size 720x720 with 2 Axes>)"
      ]
     },
     "execution_count": 53,
     "metadata": {},
     "output_type": "execute_result"
    }
   ],
   "source": [
    "df_tide_VL_post = BNModel().univariant_sensitivity(lagoon_model_dict,'Tide','VeryLow','TWL')\n",
    "df_tide_VL_post\n",
    "\n"
   ]
  },
  {
   "cell_type": "code",
   "execution_count": null,
   "metadata": {
    "ExecuteTime": {
     "end_time": "2021-06-10T02:19:49.422270Z",
     "start_time": "2021-06-10T02:18:06.293Z"
    },
    "hidden": true
   },
   "outputs": [],
   "source": [
    "df_tide_L_post = BNModel().univariant_sensitivity(lagoon_model_dict,'Tide','Low','TWL_point_110')\n",
    "df_tide_L_post"
   ]
  },
  {
   "cell_type": "code",
   "execution_count": null,
   "metadata": {
    "ExecuteTime": {
     "end_time": "2021-06-10T02:19:49.423270Z",
     "start_time": "2021-06-10T02:18:06.295Z"
    },
    "hidden": true
   },
   "outputs": [],
   "source": [
    "df_tide_H_post = BNModel().univariant_sensitivity(lagoon_model_dict,'Tide','High','TWL_point_110')\n",
    "df_tide_H_post"
   ]
  },
  {
   "cell_type": "code",
   "execution_count": null,
   "metadata": {
    "ExecuteTime": {
     "end_time": "2021-06-10T02:19:49.424269Z",
     "start_time": "2021-06-10T02:18:06.297Z"
    },
    "hidden": true
   },
   "outputs": [],
   "source": [
    "df_tide_VH_post = BNModel().univariant_sensitivity(lagoon_model_dict,'Tide','VeryHigh','TWL_point_110')\n",
    "df_tide_VH_post"
   ]
  },
  {
   "cell_type": "markdown",
   "metadata": {
    "hidden": true
   },
   "source": [
    "### MSL on TWL less tide"
   ]
  },
  {
   "cell_type": "code",
   "execution_count": null,
   "metadata": {
    "ExecuteTime": {
     "end_time": "2021-06-10T02:19:49.425267Z",
     "start_time": "2021-06-10T02:18:06.299Z"
    },
    "hidden": true
   },
   "outputs": [],
   "source": [
    "df_MSL_VL_post = BNModel().univariant_sensitivity(lagoon_model_dict,'MSL','VeryLow','TWL_point_110')\n",
    "df_MSL_VL_post"
   ]
  },
  {
   "cell_type": "code",
   "execution_count": null,
   "metadata": {
    "ExecuteTime": {
     "end_time": "2021-06-10T02:19:49.426268Z",
     "start_time": "2021-06-10T02:18:06.301Z"
    },
    "hidden": true
   },
   "outputs": [],
   "source": [
    "df_MSL_H_post = BNModel().univariant_sensitivity(lagoon_model_dict,'MSL','High','TWL_point_110')\n",
    "df_MSL_H_post"
   ]
  },
  {
   "cell_type": "code",
   "execution_count": null,
   "metadata": {
    "ExecuteTime": {
     "end_time": "2021-06-10T02:19:49.427266Z",
     "start_time": "2021-06-10T02:18:06.303Z"
    },
    "hidden": true,
    "scrolled": false
   },
   "outputs": [],
   "source": [
    "# df_MSL_VH_post = BNModel().univariant_sensitivity(lagoon_model_dict,0,'MSL','VeryHigh','TWL_point_110_less')\n",
    "# df_MSL_VH_post"
   ]
  },
  {
   "cell_type": "markdown",
   "metadata": {
    "hidden": true
   },
   "source": [
    "### Hs_offshore on TWL less tide"
   ]
  },
  {
   "cell_type": "code",
   "execution_count": null,
   "metadata": {
    "ExecuteTime": {
     "end_time": "2021-06-10T02:19:49.428264Z",
     "start_time": "2021-06-10T02:18:06.305Z"
    },
    "hidden": true
   },
   "outputs": [],
   "source": [
    "# df_Wind_VL_post = BNModel().univariant_sensitivity(lagoon_model_dict,0,'Wind','VeryLow','TWL_point_110_less_tide')\n",
    "# df_Wind_VL_post"
   ]
  },
  {
   "cell_type": "markdown",
   "metadata": {},
   "source": [
    "# MSL Priors based on Future Projections"
   ]
  },
  {
   "cell_type": "markdown",
   "metadata": {},
   "source": [
    "## Get the distribution of MSL data currently"
   ]
  },
  {
   "cell_type": "code",
   "execution_count": 229,
   "metadata": {
    "ExecuteTime": {
     "end_time": "2021-06-10T02:19:49.429266Z",
     "start_time": "2021-06-10T02:18:06.308Z"
    }
   },
   "outputs": [],
   "source": [
    "def grouping_bins(data):\n",
    "    grouped_dict = {}\n",
    "\n",
    "    for bin_name in np.unique(data):\n",
    "        grouped_dict.update({\n",
    "            bin_name:len(data[data==bin_name])\n",
    "        })\n",
    "        \n",
    "    df_grouped = pd.DataFrame.from_dict(grouped_dict,orient='index')\n",
    "    \n",
    "    return(df_grouped)"
   ]
  },
  {
   "cell_type": "code",
   "execution_count": 230,
   "metadata": {
    "ExecuteTime": {
     "end_time": "2021-06-10T02:19:49.430264Z",
     "start_time": "2021-06-10T02:18:06.309Z"
    }
   },
   "outputs": [],
   "source": [
    "def descretiser(bin_edges,bin_names,data_array):\n",
    "    \n",
    "    discretised_array = np.empty(len(data_array)).astype(str)\n",
    "    \n",
    "    for lower, upper, bin_name in zip(\n",
    "        bin_edges[:-1],\n",
    "        bin_edges[1:],\n",
    "        bin_names):\n",
    "        \n",
    "        discretised_array[(data_array>lower)&(data_array<upper)] = bin_name\n",
    "\n",
    "        # Now Include out of bounds values in the upper and lower bins\n",
    "        discretised_array[data_array<np.min(bin_edges)] = bin_names[0]\n",
    "        discretised_array[data_array>np.max(bin_edges)] = bin_names[-1]\n",
    "        \n",
    "    return(discretised_array)\n",
    "                    "
   ]
  },
  {
   "cell_type": "code",
   "execution_count": 231,
   "metadata": {
    "ExecuteTime": {
     "end_time": "2021-06-10T02:19:49.431263Z",
     "start_time": "2021-06-10T02:18:06.311Z"
    }
   },
   "outputs": [
    {
     "data": {
      "text/plain": [
       "[<matplotlib.lines.Line2D at 0x7f334208c9d0>]"
      ]
     },
     "execution_count": 231,
     "metadata": {},
     "output_type": "execute_result"
    },
    {
     "data": {
      "image/png": "[encoded data removed]",
      "text/plain": [
       "<Figure size 432x288 with 1 Axes>"
      ]
     },
     "metadata": {
      "needs_background": "light"
     },
     "output_type": "display_data"
    }
   ],
   "source": [
    "# Bin the MSL data\n",
    "MSL_data = lagoon_model_dict['variables']['MSL']['training_data'][0]\n",
    "\n",
    "# Grouping the bins \n",
    "MSL_bins_grouped = grouping_bins(MSL_data)\n",
    "\n",
    "# Put the bins in the right order\n",
    "df_MSL_distribution = MSL_bins_grouped.reindex(lagoon_model_dict['variables']['MSL']['discretisation']['bin_names'])\n",
    "\n",
    "# Plot the data\n",
    "plt.plot(df_MSL_distribution)"
   ]
  },
  {
   "cell_type": "markdown",
   "metadata": {},
   "source": [
    "## Add the Global average for now"
   ]
  },
  {
   "cell_type": "code",
   "execution_count": 232,
   "metadata": {
    "ExecuteTime": {
     "end_time": "2021-06-10T02:19:49.432263Z",
     "start_time": "2021-06-10T02:18:06.313Z"
    }
   },
   "outputs": [
    {
     "name": "stdout",
     "output_type": "stream",
     "text": [
      "-0.2273485683881827\n",
      "0.2075872808110124\n",
      "-0.0007373993679964208\n",
      "-0.0010175677919509\n"
     ]
    }
   ],
   "source": [
    "# Get the preprocessed data to add to\n",
    "MSL_training_data_preprocessed = lagoon_model_dict['variables']['MSL']['training_data_preprocessed'][0]\n",
    "MSL_testing_data_preprocessed = lagoon_model_dict['variables']['MSL']['testing_data_preprocessed'][0]\n",
    "\n",
    "# Print some stats to get an idea of how adding SLR will affect the data\n",
    "print(np.min(MSL_training_data_preprocessed))\n",
    "print(np.max(MSL_training_data_preprocessed))\n",
    "print(np.mean(MSL_training_data_preprocessed))\n",
    "print(np.median(MSL_training_data_preprocessed))"
   ]
  },
  {
   "cell_type": "code",
   "execution_count": 233,
   "metadata": {
    "ExecuteTime": {
     "end_time": "2021-06-10T02:19:49.433262Z",
     "start_time": "2021-06-10T02:18:06.315Z"
    }
   },
   "outputs": [],
   "source": [
    "# Based on a 2 mm/yr rate\n",
    "mean_SLR_2050 = 2*29/1000\n",
    "mean_SLR_2100 = 2*59/1000\n",
    "\n",
    "# Get MSLs adjusted for regional sea level rise\n",
    "MSL_2050 = MSL_training_data_preprocessed+mean_SLR_2050\n",
    "MSL_2100 = MSL_training_data_preprocessed+mean_SLR_2100"
   ]
  },
  {
   "cell_type": "code",
   "execution_count": 234,
   "metadata": {
    "ExecuteTime": {
     "end_time": "2021-06-10T02:19:49.434261Z",
     "start_time": "2021-06-10T02:18:06.317Z"
    }
   },
   "outputs": [],
   "source": [
    "# Using the bins from before, discretise the results\n",
    "bin_edges = lagoon_model_dict['variables']['MSL']['bin_edges'][0]\n",
    "bin_names = lagoon_model_dict['variables']['MSL']['discretisation']['bin_names']\n",
    "\n",
    "# Normalise the data\n",
    "df_MSL_2021 = df_MSL_distribution/np.nansum(df_MSL_distribution)\n",
    "\n",
    "# Calculated discretised MSL for the scenarios\n",
    "MSL_2050 = MSL_training_data_preprocessed+mean_SLR_2050\n",
    "MSL_2050_discretised = descretiser(bin_edges,bin_names,MSL_2050)\n",
    "df_MSL_2050 = grouping_bins(MSL_2050_discretised)\n",
    "df_MSL_2050 = df_MSL_2050.reindex(lagoon_model_dict['variables']['MSL']['discretisation']['bin_names'])\n",
    "df_MSL_2050[df_MSL_2050.isna()] = 0.001\n",
    "df_MSL_2050 = df_MSL_2050/np.nansum(df_MSL_2050)\n",
    "\n",
    "# Calculated discretised MSL for the scenarios\n",
    "MSL_2100 = MSL_training_data_preprocessed+mean_SLR_2100\n",
    "MSL_2100_discretised = descretiser(bin_edges,bin_names,MSL_2100)\n",
    "df_MSL_2100 = grouping_bins(MSL_2100_discretised)\n",
    "df_MSL_2100 = df_MSL_2100.reindex(lagoon_model_dict['variables']['MSL']['discretisation']['bin_names'])\n",
    "df_MSL_2100[df_MSL_2100.isna()] = 0.001\n",
    "df_MSL_2100 = df_MSL_2100/np.nansum(df_MSL_2100)\n"
   ]
  },
  {
   "cell_type": "markdown",
   "metadata": {},
   "source": [
    "### Set evidence of 2050"
   ]
  },
  {
   "cell_type": "code",
   "execution_count": 235,
   "metadata": {
    "ExecuteTime": {
     "end_time": "2021-06-10T02:19:49.435261Z",
     "start_time": "2021-06-10T02:18:06.319Z"
    }
   },
   "outputs": [
    {
     "ename": "KeyError",
     "evalue": "'TWL_point_110'",
     "output_type": "error",
     "traceback": [
      "\u001b[0;31m---------------------------------------------------------------------------\u001b[0m",
      "\u001b[0;31mKeyError\u001b[0m                                  Traceback (most recent call last)",
      "\u001b[0;32m<ipython-input-235-6d351520e4b0>\u001b[0m in \u001b[0;36m<module>\u001b[0;34m\u001b[0m\n\u001b[1;32m     12\u001b[0m \u001b[0;34m\u001b[0m\u001b[0m\n\u001b[1;32m     13\u001b[0m \u001b[0;31m# TWL posterior 2050\u001b[0m\u001b[0;34m\u001b[0m\u001b[0;34m\u001b[0m\u001b[0;34m\u001b[0m\u001b[0m\n\u001b[0;32m---> 14\u001b[0;31m \u001b[0mTWL_MSL_2050_posterior_dict\u001b[0m \u001b[0;34m=\u001b[0m \u001b[0mlagoon_model_dict\u001b[0m\u001b[0;34m[\u001b[0m\u001b[0;34m'variables'\u001b[0m\u001b[0;34m]\u001b[0m\u001b[0;34m[\u001b[0m\u001b[0;34m'TWL_point_110'\u001b[0m\u001b[0;34m]\u001b[0m\u001b[0;34m[\u001b[0m\u001b[0;34m'resulting_probs'\u001b[0m\u001b[0;34m]\u001b[0m\u001b[0;34m[\u001b[0m\u001b[0;36m0\u001b[0m\u001b[0;34m]\u001b[0m\u001b[0;34m\u001b[0m\u001b[0;34m\u001b[0m\u001b[0m\n\u001b[0m\u001b[1;32m     15\u001b[0m \u001b[0mdf_TWL_MSL_2050_posterior\u001b[0m \u001b[0;34m=\u001b[0m \u001b[0mpd\u001b[0m\u001b[0;34m.\u001b[0m\u001b[0mDataFrame\u001b[0m\u001b[0;34m.\u001b[0m\u001b[0mfrom_dict\u001b[0m\u001b[0;34m(\u001b[0m\u001b[0mTWL_MSL_2050_posterior_dict\u001b[0m\u001b[0;34m,\u001b[0m\u001b[0morient\u001b[0m\u001b[0;34m=\u001b[0m\u001b[0;34m'index'\u001b[0m\u001b[0;34m)\u001b[0m\u001b[0;34m\u001b[0m\u001b[0;34m\u001b[0m\u001b[0m\n",
      "\u001b[0;31mKeyError\u001b[0m: 'TWL_point_110'"
     ]
    }
   ],
   "source": [
    "# Create dict of evidence\n",
    "MSL_2050_evidence_dict = {\n",
    "    'MSL':list(df_MSL_2050[0])\n",
    "}\n",
    "\n",
    "# Add evidence for MSL to the model dict\n",
    "lagoon_model_dict = BNModel().add_evidence_to_dict(lagoon_model_dict,MSL_2050_evidence_dict)\n",
    "ocean_model_dict = BNModel().add_evidence_to_dict(ocean_model_dict,MSL_2050_evidence_dict)\n",
    "\n",
    "# Set evidence and get beliefs\n",
    "lagoon_model_dict = BNModel().update_evidence(lagoon_model_dict)\n",
    "\n",
    "# TWL posterior 2050\n",
    "TWL_MSL_2050_posterior_dict = lagoon_model_dict['variables']['TWL_point_110']['resulting_probs'][0]\n",
    "df_TWL_MSL_2050_posterior = pd.DataFrame.from_dict(TWL_MSL_2050_posterior_dict,orient='index')"
   ]
  },
  {
   "cell_type": "code",
   "execution_count": null,
   "metadata": {
    "ExecuteTime": {
     "end_time": "2021-06-10T02:19:49.437260Z",
     "start_time": "2021-06-10T02:18:06.321Z"
    }
   },
   "outputs": [],
   "source": [
    "# Create dict of evidence\n",
    "MSL_2100_evidence_dict = {\n",
    "    'MSL':list(df_MSL_2100[0])\n",
    "}\n",
    "\n",
    "# Add evidence for MSL to the model dict\n",
    "lagoon_model_dict = BNModel().add_evidence_to_dict(lagoon_model_dict,MSL_2100_evidence_dict)\n",
    "ocean_model_dict = BNModel().add_evidence_to_dict(ocean_model_dict,MSL_2100_evidence_dict)\n",
    "\n",
    "# Set evidence and get beliefs\n",
    "lagoon_model_dict = BNModel().update_evidence(lagoon_model_dict)\n",
    "\n",
    "# TWL posterior 2100\n",
    "TWL_MSL_2100_posterior_dict = lagoon_model_dict['variables']['TWL_point_110']['resulting_probs'][0]\n",
    "df_TWL_MSL_2100_posterior = pd.DataFrame.from_dict(TWL_MSL_2100_posterior_dict,orient='index')"
   ]
  },
  {
   "cell_type": "code",
   "execution_count": null,
   "metadata": {
    "ExecuteTime": {
     "end_time": "2021-06-10T02:19:49.438260Z",
     "start_time": "2021-06-10T02:18:06.323Z"
    },
    "scrolled": false
   },
   "outputs": [],
   "source": [
    "# get the original data to compare it to\n",
    "TWL_training_dict = lagoon_model_dict['variables']['TWL_point_110']['training_data'][0]\n",
    "df_TWL_training = grouping_bins(TWL_training_dict)\n",
    "df_TWL_training = df_TWL_training.reindex(lagoon_model_dict['variables']['MSL']['discretisation']['bin_names'])\n",
    "df_TWL_training[df_TWL_training.isna()] = 0.001\n",
    "df_TWL_training = df_TWL_training/np.nansum(df_TWL_training)\n",
    "\n",
    "# Create an extra set of dfs for data as a fraction of original\n",
    "TWL_MSL_2050 = [(ind,y/x) for ind,x,y in zip(df_TWL_training.index,df_TWL_training[0],df_TWL_MSL_2050_posterior[0])]\n",
    "TWL_MSL_2100 = [(ind,y/x) for ind,x,y in zip(df_TWL_training.index,df_TWL_training[0],df_TWL_MSL_2100_posterior[0])]\n",
    "df_TWL_MSL_2050 = pd.DataFrame(TWL_MSL_2050).set_index(0)\n",
    "df_TWL_MSL_2100 = pd.DataFrame(TWL_MSL_2100).set_index(0)"
   ]
  },
  {
   "cell_type": "code",
   "execution_count": null,
   "metadata": {
    "ExecuteTime": {
     "end_time": "2021-06-10T02:19:49.439259Z",
     "start_time": "2021-06-10T02:18:06.325Z"
    },
    "scrolled": false
   },
   "outputs": [],
   "source": [
    "\n",
    "# Set up the figure\n",
    "fig = plt.figure(figsize=(10,15))\n",
    "fig.subplots_adjust(hspace=0.5)\n",
    "ax1 = plt.subplot2grid((3,1),(0,0))\n",
    "ax2 = plt.subplot2grid((3,1),(1,0))\n",
    "ax3 = plt.subplot2grid((3,1),(2,0))\n",
    "\n",
    "# Plot MSL data and prior distributions\n",
    "ax1.plot(df_MSL_2021,c='k')\n",
    "ax1.plot(df_MSL_2050,c='b')\n",
    "ax1.plot(df_MSL_2100,c='r')\n",
    "\n",
    "# Plot posterior distributions compared to original data\n",
    "output_2021, = ax2.plot(df_TWL_training,c='k')\n",
    "output_2050, = ax2.plot(df_TWL_MSL_2050_posterior,c='b')\n",
    "output_2100, = ax2.plot(df_TWL_MSL_2100_posterior,c='r')\n",
    "\n",
    "# Plot posterior distributions as a fraction of the original data\n",
    "output_2050, = ax3.plot(df_TWL_MSL_2050,c='b')\n",
    "output_2100, = ax3.plot(df_TWL_MSL_2100,c='r')\n",
    "ax3_xlims = ax3.get_xlim()\n",
    "ax3.plot(ax3_xlims,[1,1],c='0.5',ls='--')\n",
    "ax3.set_xlim(ax3_xlims)\n",
    "\n",
    "# Format the graph\n",
    "ax1.set_ylabel('Probability')\n",
    "ax1.set_xlabel('Mean Sea Level')\n",
    "ax2.set_ylabel('Probability')\n",
    "ax2.set_xlabel('Total Water Level')\n",
    "ax3.set_ylabel('Probability/Probability')\n",
    "ax3.set_xlabel('Total Water Level')\n",
    "\n",
    "ax1.legend([output_2021,output_2050,output_2100],['Present','2050','2100'])\n"
   ]
  },
  {
   "cell_type": "markdown",
   "metadata": {},
   "source": [
    "# Load in some IPCC RSL Data"
   ]
  },
  {
   "cell_type": "code",
   "execution_count": null,
   "metadata": {
    "ExecuteTime": {
     "end_time": "2021-06-10T02:19:49.440258Z",
     "start_time": "2021-06-10T02:18:06.327Z"
    }
   },
   "outputs": [],
   "source": [
    "# The IPCC data (Openheimer et al., 2019, IPCC Ch4) is relative to the 1983-2005\n",
    "# Antonio's data is 1993-2017\n",
    "\n",
    "# It's not clear to me right now if the IPCC data is relative to the 1983-2005 value globally averaged, \n",
    "# or if it varies regionally\n"
   ]
  },
  {
   "cell_type": "code",
   "execution_count": null,
   "metadata": {
    "ExecuteTime": {
     "end_time": "2021-06-10T02:19:49.442259Z",
     "start_time": "2021-06-10T02:18:06.329Z"
    }
   },
   "outputs": [],
   "source": [
    "import xarray as xr\n",
    "tarawa_lat = 1.333\n",
    "tarawa_long = 173"
   ]
  },
  {
   "cell_type": "code",
   "execution_count": null,
   "metadata": {
    "ExecuteTime": {
     "end_time": "2021-06-10T02:19:49.443257Z",
     "start_time": "2021-06-10T02:18:06.331Z"
    }
   },
   "outputs": [],
   "source": [
    "# Load the RSLD from IPCC, chapter\n",
    "ds_RSLR_2040_rcp26 = xr.open_dataset (r'C:\\Users\\shannonb\\Documents\\Model_and_data\\Dataset\\Additional_data\\Sea_levels\\Data\\Chapter4_SM\\SM4.2\\rsl_26_2040.nc')\n",
    "ds_RSLR_2040_rcp45 = xr.open_dataset (r'C:\\Users\\shannonb\\Documents\\Model_and_data\\Dataset\\Additional_data\\Sea_levels\\Data\\Chapter4_SM\\SM4.2\\rsl_45_2040.nc')\n",
    "ds_RSLR_2040_rcp85 = xr.open_dataset (r'C:\\Users\\shannonb\\Documents\\Model_and_data\\Dataset\\Additional_data\\Sea_levels\\Data\\Chapter4_SM\\SM4.2\\rsl_85_2040.nc')\n",
    "\n",
    "ds_RSLR_2055_rcp26 = xr.open_dataset (r'C:\\Users\\shannonb\\Documents\\Model_and_data\\Dataset\\Additional_data\\Sea_levels\\Data\\Chapter4_SM\\SM4.2\\rsl_26_2055.nc')\n",
    "ds_RSLR_2055_rcp45 = xr.open_dataset (r'C:\\Users\\shannonb\\Documents\\Model_and_data\\Dataset\\Additional_data\\Sea_levels\\Data\\Chapter4_SM\\SM4.2\\rsl_45_2055.nc')\n",
    "ds_RSLR_2055_rcp85 = xr.open_dataset (r'C:\\Users\\shannonb\\Documents\\Model_and_data\\Dataset\\Additional_data\\Sea_levels\\Data\\Chapter4_SM\\SM4.2\\rsl_85_2055.nc')\n",
    "\n",
    "ds_RSLR_2090_rcp26 = xr.open_dataset (r'C:\\Users\\shannonb\\Documents\\Model_and_data\\Dataset\\Additional_data\\Sea_levels\\Data\\Chapter4_SM\\SM4.2\\rsl_26_2090.nc')\n",
    "ds_RSLR_2090_rcp45 = xr.open_dataset (r'C:\\Users\\shannonb\\Documents\\Model_and_data\\Dataset\\Additional_data\\Sea_levels\\Data\\Chapter4_SM\\SM4.2\\rsl_45_2090.nc')\n",
    "ds_RSLR_2090_rcp85 = xr.open_dataset (r'C:\\Users\\shannonb\\Documents\\Model_and_data\\Dataset\\Additional_data\\Sea_levels\\Data\\Chapter4_SM\\SM4.2\\rsl_85_2090.nc')\n"
   ]
  },
  {
   "cell_type": "code",
   "execution_count": null,
   "metadata": {
    "ExecuteTime": {
     "end_time": "2021-06-10T02:19:49.444258Z",
     "start_time": "2021-06-10T02:18:06.333Z"
    }
   },
   "outputs": [],
   "source": [
    "# Get the RSLR for Tarawa specifically\n",
    "RSLR_2040_rcp26 = float(ds_RSLR_2040_rcp26['slr_md'].sel(x=tarawa_long,y=tarawa_lat,method='nearest'))\n",
    "RSLR_2055_rcp26 = float(ds_RSLR_2055_rcp26['slr_md'].sel(x=tarawa_long,y=tarawa_lat,method='nearest'))\n",
    "RSLR_2090_rcp26 = float(ds_RSLR_2090_rcp26['slr_md'].sel(x=tarawa_long,y=tarawa_lat,method='nearest'))\n",
    "\n",
    "RSLR_2040_rcp45 = float(ds_RSLR_2040_rcp45['slr_md'].sel(x=tarawa_long,y=tarawa_lat,method='nearest'))\n",
    "RSLR_2055_rcp45 = float(ds_RSLR_2055_rcp45['slr_md'].sel(x=tarawa_long,y=tarawa_lat,method='nearest'))\n",
    "RSLR_2090_rcp45 = float(ds_RSLR_2090_rcp45['slr_md'].sel(x=tarawa_long,y=tarawa_lat,method='nearest'))\n",
    "\n",
    "RSLR_2040_rcp85 = float(ds_RSLR_2040_rcp85['slr_md'].sel(x=tarawa_long,y=tarawa_lat,method='nearest'))\n",
    "RSLR_2055_rcp85 = float(ds_RSLR_2055_rcp85['slr_md'].sel(x=tarawa_long,y=tarawa_lat,method='nearest'))\n",
    "RSLR_2090_rcp85 = float(ds_RSLR_2090_rcp85['slr_md'].sel(x=tarawa_long,y=tarawa_lat,method='nearest'))\n",
    "\n",
    "#### These values are relative to PI?? If so, I doubt Antonio's numbers are PI---so this needs to be adjusted for"
   ]
  },
  {
   "cell_type": "markdown",
   "metadata": {},
   "source": [
    "### Use RCP Scenarios to set evidence"
   ]
  },
  {
   "cell_type": "code",
   "execution_count": null,
   "metadata": {
    "ExecuteTime": {
     "end_time": "2021-06-10T02:19:49.445255Z",
     "start_time": "2021-06-10T02:18:06.335Z"
    }
   },
   "outputs": [],
   "source": [
    "# Get MSLs adjusted for regional sea level rise\n",
    "MSL_2040_rcp26 = MSL_training_data_preprocessed+RSLR_2040_rcp26\n",
    "MSL_2055_rcp26 = MSL_training_data_preprocessed+RSLR_2055_rcp26\n",
    "MSL_2090_rcp26 = MSL_training_data_preprocessed+RSLR_2090_rcp26\n",
    "\n",
    "MSL_2040_rcp45 = MSL_training_data_preprocessed+RSLR_2040_rcp45\n",
    "MSL_2055_rcp45 = MSL_training_data_preprocessed+RSLR_2055_rcp45\n",
    "MSL_2090_rcp45 = MSL_training_data_preprocessed+RSLR_2090_rcp45\n",
    "\n",
    "MSL_2040_rcp85 = MSL_training_data_preprocessed+RSLR_2040_rcp85\n",
    "MSL_2055_rcp85 = MSL_training_data_preprocessed+RSLR_2055_rcp85\n",
    "MSL_2090_rcp85 = MSL_training_data_preprocessed+RSLR_2090_rcp85"
   ]
  },
  {
   "cell_type": "code",
   "execution_count": null,
   "metadata": {
    "ExecuteTime": {
     "end_time": "2021-06-10T02:19:49.447254Z",
     "start_time": "2021-06-10T02:18:06.337Z"
    }
   },
   "outputs": [],
   "source": [
    "def test_model(evidence_array,model_dict):\n",
    "\n",
    "    # Adjust MSL for difference between antonio data and IPCC data\n",
    "    SLR_adjustment = 2*11/1000\n",
    "    evidence_array -= SLR_adjustment\n",
    "    \n",
    "    # Dicretise the data\n",
    "    MSL_discretised = descretiser(bin_edges,bin_names,evidence_array)\n",
    "    df_MSL = grouping_bins(MSL_discretised)\n",
    "    df_MSL = df_MSL.reindex(model_dict['variables']['MSL']['discretisation']['bin_names'])\n",
    "    df_MSL[df_MSL.isna()] = 0.001\n",
    "    df_MSL = df_MSL/np.nansum(df_MSL)\n",
    "    \n",
    "    # Create dict of evidence\n",
    "    MSL_evidence_dict = {\n",
    "        'MSL':list(df_MSL[0])\n",
    "    }\n",
    "\n",
    "    # Add evidence for MSL to the model dict\n",
    "    model_dict = BNModel().add_evidence_to_dict(model_dict,MSL_evidence_dict)\n",
    "\n",
    "    # Set evidence and get beliefs\n",
    "    model_dict = BNModel().update_evidence(model_dict)\n",
    "\n",
    "    # TWL posterior 2100\n",
    "    TWL_MSL_posterior_dict = model_dict['variables']['TWL_point_110']['resulting_probs'][0]\n",
    "    df_TWL_posterior = pd.DataFrame.from_dict(TWL_MSL_posterior_dict,orient='index')\n",
    "    \n",
    "    return(df_TWL_posterior,df_MSL)"
   ]
  },
  {
   "cell_type": "code",
   "execution_count": null,
   "metadata": {
    "ExecuteTime": {
     "end_time": "2021-06-10T02:19:49.448253Z",
     "start_time": "2021-06-10T02:18:06.339Z"
    }
   },
   "outputs": [],
   "source": [
    "IPCC_posteriors_dict = {}\n",
    "MSL_prior_dict = {}\n",
    "\n",
    "MSL_array_list = [MSL_2040_rcp26,MSL_2055_rcp26,MSL_2090_rcp26,MSL_2040_rcp45,MSL_2055_rcp45,MSL_2090_rcp45,MSL_2040_rcp85,MSL_2055_rcp85,MSL_2090_rcp85]\n",
    "\n",
    "for array, label in zip(MSL_array_list,\n",
    "                        ['RCP2.6, 2040','RCP2.6, 2055','RCP2.6, 2090','RCP4.5, 2040','RCP4.5, 2055','RCP4.5, 2090','RCP8.5, 2040','RCP8.5, 2055','RCP8.5, 2090']):\n",
    "    \n",
    "    df_TWL_posterior, df_MSL = test_model(array, lagoon_model_dict)\n",
    "    \n",
    "    IPCC_posteriors_dict.update({\n",
    "        label:df_TWL_posterior\n",
    "    })\n",
    "    \n",
    "    MSL_prior_dict.update({\n",
    "        label:df_MSL\n",
    "    })"
   ]
  },
  {
   "cell_type": "code",
   "execution_count": null,
   "metadata": {
    "ExecuteTime": {
     "end_time": "2021-06-10T02:19:49.450252Z",
     "start_time": "2021-06-10T02:18:06.341Z"
    }
   },
   "outputs": [],
   "source": [
    "\n",
    "# Set up the figure\n",
    "fig = plt.figure(figsize=(10,15))\n",
    "fig.subplots_adjust(hspace=0.5)\n",
    "ax1 = plt.subplot2grid((3,1),(0,0))\n",
    "ax2 = plt.subplot2grid((3,1),(1,0))\n",
    "ax3 = plt.subplot2grid((3,1),(2,0))\n",
    "\n",
    "# # Plot MSL data and prior distributions\n",
    "# ax1.plot(df_MSL_2021,c='k')\n",
    "# ax1.plot(df_MSL_2050,c='b')\n",
    "# ax1.plot(df_MSL_2100,c='r')\n",
    "for key,df_prior in MSL_prior_dict.items():\n",
    "    ax1.plot(df_prior)\n",
    "\n",
    "# # Plot posterior distributions compared to original data\n",
    "# output_2021, = ax2.plot(df_TWL_training,c='k')\n",
    "# output_2050, = ax2.plot(df_TWL_MSL_2050_posterior,c='b')\n",
    "# output_2100, = ax2.plot(df_TWL_MSL_2100_posterior,c='r')\n",
    "outputs = []\n",
    "\n",
    "for key,posterior_array in IPCC_posteriors_dict.items():\n",
    "    output, = ax2.plot(posterior_array)\n",
    "    outputs.append(output)\n",
    "\n",
    "# # Plot posterior distributions as a fraction of the original data\n",
    "# output_2050, = ax3.plot(df_TWL_MSL_2050,c='b')\n",
    "# output_2100, = ax3.plot(df_TWL_MSL_2100,c='r')\n",
    "# ax3_xlims = ax3.get_xlim()\n",
    "# ax3.plot(ax3_xlims,[1,1],c='0.5',ls='--')\n",
    "# ax3.set_xlim(ax3_xlims)\n",
    "\n",
    "# Format the graph\n",
    "ax1.set_ylabel('Probability')\n",
    "ax1.set_xlabel('Mean Sea Level')\n",
    "ax2.set_ylabel('Probability')\n",
    "ax2.set_xlabel('Total Water Level')\n",
    "ax3.set_ylabel('Probability/Probability')\n",
    "ax3.set_xlabel('Total Water Level')\n",
    "\n",
    "ax1.legend(outputs,IPCC_posteriors_dict.keys())\n"
   ]
  },
  {
   "cell_type": "markdown",
   "metadata": {},
   "source": [
    "# Mean wave height and period"
   ]
  },
  {
   "cell_type": "code",
   "execution_count": null,
   "metadata": {
    "ExecuteTime": {
     "end_time": "2021-06-10T02:19:49.451252Z",
     "start_time": "2021-06-10T02:18:06.343Z"
    }
   },
   "outputs": [],
   "source": [
    "Hs_mean = lagoon_model_dict['variables']['Hs_offshore']['training_data_preprocessed'][0]\n",
    "np.mean(Hs_mean)"
   ]
  },
  {
   "cell_type": "code",
   "execution_count": null,
   "metadata": {
    "ExecuteTime": {
     "end_time": "2021-06-10T02:19:49.452251Z",
     "start_time": "2021-06-10T02:18:06.345Z"
    }
   },
   "outputs": [],
   "source": [
    "Tm_mean = lagoon_model_dict['variables']['Tm_offshore']['training_data_preprocessed'][0]\n",
    "np.mean(Tm_mean)"
   ]
  },
  {
   "cell_type": "code",
   "execution_count": null,
   "metadata": {
    "ExecuteTime": {
     "end_time": "2021-06-10T02:19:49.454251Z",
     "start_time": "2021-06-10T02:18:06.347Z"
    }
   },
   "outputs": [],
   "source": [
    "lagoon_model_dict['variables']['Hs_offshore']"
   ]
  },
  {
   "cell_type": "markdown",
   "metadata": {},
   "source": [
    "# Interactive Plots"
   ]
  },
  {
   "cell_type": "code",
   "execution_count": 38,
   "metadata": {},
   "outputs": [
    {
     "name": "stdout",
     "output_type": "stream",
     "text": [
      "Enabling notebook extension jupyter-leaflet/extension...\r\n",
      "      - Validating: \u001b[32mOK\u001b[0m\r\n"
     ]
    }
   ],
   "source": [
    "!jupyter nbextension enable --py --sys-prefix ipyleaflet\n",
    "from ipywidgets import interact, interactive, fixed, interact_manual\n",
    "from ipyleaflet import *\n",
    "import ipywidgets as widgets\n",
    "from matplotlib.animation import FuncAnimation\n",
    "import geojson\n",
    "import folium\n",
    "from colormap import rgb2hex"
   ]
  },
  {
   "cell_type": "code",
   "execution_count": 39,
   "metadata": {},
   "outputs": [],
   "source": [
    "df_ocean_profiles = pd.read_csv('/src/Dataset/D8_tarawa_inundation/Profiles_definition_outer_reef_xyxy.txt',delim_whitespace=True,header=None)\n",
    "df_lagoon_profiles = pd.read_csv('/src/Dataset/D8_tarawa_inundation/Profiles_definition_inner_lagoon_xyxy.txt',delim_whitespace=True,header=None)\n",
    "\n",
    "\n",
    "df_lagoon_profiles.columns = ['reef_long','reef_lat','shore_long','shore_lat','reef_depth']\n",
    "df_ocean_profiles.columns = ['reef_long','reef_lat','shore_long','shore_lat','reef_width','reef_depth','forereef_slope']"
   ]
  },
  {
   "cell_type": "code",
   "execution_count": 40,
   "metadata": {},
   "outputs": [],
   "source": [
    "def bin_locator(value,bin_edges):\n",
    "    '''\n",
    "    function used for determining the index of the appropriate bin for a numerical value.\n",
    "    '''\n",
    "    i=0\n",
    "    for edge_1,edge_2 in zip(bin_edges[:-1],bin_edges[1:]):\n",
    "        if (value>edge_1)&(value<=edge_2):\n",
    "            loc_bin = i\n",
    "        else:\n",
    "            i+=1\n",
    "            continue\n",
    "\n",
    "    if value<=bin_edges[0]:\n",
    "        loc_bin = 0\n",
    "\n",
    "    if value>=bin_edges[-1]:\n",
    "        loc_bin = len(bin_edges)-2\n",
    "\n",
    "    return(loc_bin)\n",
    "\n",
    "def ocean_model_location(ocean_model_dict,location_details,ocean_evidence_dict):\n",
    "    \n",
    "    '''\n",
    "    function for adding the location information for the ocean side model to the evidence dictionary\n",
    "    '''\n",
    "    \n",
    "    reef_width_bin_edges = ocean_model_dict['variables']['reef_width']['bin_edges'][0]\n",
    "    reef_width = location_details['reef_width']\n",
    "\n",
    "    reef_width_bin = bin_locator(reef_width,reef_width_bin_edges)\n",
    "\n",
    "    reef_depth_bin_edges = ocean_model_dict['variables']['reef_depth']['bin_edges'][0]\n",
    "    reef_depth = location_details['reef_depth']\n",
    "\n",
    "    reef_depth_bin = bin_locator(reef_depth,reef_depth_bin_edges)\n",
    "\n",
    "    forereef_slope_bin_edges = ocean_model_dict['variables']['forereef_slope']['bin_edges'][0]\n",
    "    forereef_slope = location_details['forereef_slope']\n",
    "\n",
    "    forereef_slope_bin = bin_locator(forereef_slope,forereef_slope_bin_edges)\n",
    "\n",
    "    reef_width_evidence = [0]*(len(reef_width_bin_edges)-1)\n",
    "    reef_width_evidence[reef_width_bin] = 1\n",
    "\n",
    "    reef_depth_evidence = [0]*(len(reef_depth_bin_edges)-1)\n",
    "    reef_depth_evidence[reef_depth_bin] = 1\n",
    "\n",
    "    forereef_slope_evidence = [0]*(len(forereef_slope_bin_edges)-1)\n",
    "    forereef_slope_evidence[forereef_slope_bin] = 1\n",
    "\n",
    "    ocean_evidence_dict.update({\n",
    "        'reef_width':reef_width_evidence,\n",
    "        'reef_depth':reef_depth_evidence,\n",
    "        'forereef_slope':forereef_slope_evidence\n",
    "    })\n",
    "\n",
    "    # Add evidence to model dict\n",
    "    ocean_model_location_dict = BNModel().add_evidence_to_dict(ocean_model_dict,ocean_evidence_dict)\n",
    "    \n",
    "    # Set evidence and get beliefs\n",
    "    ocean_model_location_dict = BNModel().update_evidence(ocean_model_location_dict)\n",
    "    \n",
    "    return(ocean_model_location_dict)\n",
    "\n",
    "def location_probabilities(ocean_evidence_dict):\n",
    "    '''\n",
    "    \n",
    "    Function for setting evidence and determing probabilties for twl at each point around the island based \n",
    "    on the reef characteristics at each location\n",
    "    \n",
    "    '''\n",
    "    \n",
    "    location_probabilities_dict = {}\n",
    "    \n",
    "    for index,row in df_ocean_profiles.iterrows():\n",
    "        ocean_model_location_dict = ocean_model_location(ocean_model_dict,row,ocean_evidence_dict)\n",
    "        location_probabilities = ocean_model_location_dict['variables']['TWL']['resulting_probs'][0]\n",
    "\n",
    "        largest_cat = pd.DataFrame.from_dict(location_probabilities,orient='index').idxmax()[0]\n",
    "\n",
    "        location_probabilities_dict.update({\n",
    "            (row.reef_long,row.reef_lat):\\\n",
    "                ocean_model_dict['variables']['TWL']['discretisation']['bin_names'].index(largest_cat)\n",
    "        })\n",
    "        \n",
    "    return(location_probabilities_dict)\n",
    "\n",
    "def data2geojson(df):\n",
    "    features = []\n",
    "    insert_features = lambda X: features.append(\n",
    "            geojson.Feature(geometry=geojson.Point((X[\"long\"],\n",
    "                                                    X[\"lat\"])),\n",
    "                            properties=dict(name=X[\"most_likely_twl\"])))\n",
    "    df.apply(insert_features, axis=1)\n",
    "        \n",
    "    return(geojson.FeatureCollection(features))"
   ]
  },
  {
   "cell_type": "code",
   "execution_count": 41,
   "metadata": {
    "scrolled": false
   },
   "outputs": [
    {
     "data": {
      "application/vnd.jupyter.widget-view+json": {
       "model_id": "fc9f147a7ae441f0a98a4a27324f2340",
       "version_major": 2,
       "version_minor": 0
      },
      "text/plain": [
       "interactive(children=(Dropdown(description='Tide', index=2, options=('VeryLow', 'Low', 'Mid', 'High', 'VeryHig…"
      ]
     },
     "metadata": {},
     "output_type": "display_data"
    },
    {
     "data": {
      "text/plain": [
       "<function __main__.test_figure(tide_bin, msl_bin, wave_height_bin)>"
      ]
     },
     "execution_count": 41,
     "metadata": {},
     "output_type": "execute_result"
    }
   ],
   "source": [
    "def test_figure(tide_bin,msl_bin,wave_height_bin):\n",
    "    \n",
    "    # Create an empty dictionary for the evidence and populate as you go\n",
    "    ocean_evidence_dict = {}\n",
    "    \n",
    "    ## Set Tide in the evidence dict to be as indicated in the dropdown\n",
    "    tide_bin_index = ocean_model_dict['variables']['Tide']['discretisation']['bin_names'].index(tide_bin)\n",
    "    # Create a list of the tide evidence (all zero except as indicated by dropdown. Dropdown=1)\n",
    "    tide_evidence = [0 for x in ocean_model_dict['variables']['Tide']['discretisation']['bin_names']]\n",
    "    tide_evidence[tide_bin_index] = 1\n",
    "    ocean_evidence_dict.update({\n",
    "        'Tide':tide_evidence\n",
    "    })\n",
    "    \n",
    "    ## Set msl in the evidence dict to be as indicated in the dropdown\n",
    "    msl_bin_index = ocean_model_dict['variables']['MSL']['discretisation']['bin_names'].index(msl_bin)\n",
    "    # Create a list of the tide evidence (all zero except as indicated by dropdown. Dropdown=1)\n",
    "    msl_evidence = [0 for x in ocean_model_dict['variables']['MSL']['discretisation']['bin_names']]\n",
    "    msl_evidence[msl_bin_index] = 1\n",
    "    ocean_evidence_dict.update({\n",
    "        'MSL':msl_evidence\n",
    "    })\n",
    "    \n",
    "    ## Set Tide in the evidence dict to be as indicated in the dropdown\n",
    "    wave_height_bin_index = ocean_model_dict['variables']['Hs_offshore']['discretisation']['bin_names'].index(wave_height_bin)\n",
    "    # Create a list of the tide evidence (all zero except as indicated by dropdown. Dropdown=1)\n",
    "    wave_height_evidence = [0 for x in ocean_model_dict['variables']['Hs_offshore']['discretisation']['bin_names']]\n",
    "    wave_height_evidence[wave_height_bin_index] = 1\n",
    "    ocean_evidence_dict.update({\n",
    "        'Hs_offshore':wave_height_evidence\n",
    "    })\n",
    "    \n",
    "#     ## Set Tide in the evidence dict to be as indicated in the dropdown\n",
    "#     tide_bin_index = ocean_model_dict['variables']['Tide']['discretisation']['bin_names'].index(tide_bin)\n",
    "#     # Create a list of the tide evidence (all zero except as indicated by dropdown. Dropdown=1)\n",
    "#     tide_evidence = [0 for x in ocean_model_dict['variables']['Tide']['discretisation']['bin_names']]\n",
    "#     tide_evidence[tide_bin_index] = 1\n",
    "#     ocean_evidence_dict.update({\n",
    "#         'Tide':tide_evidence\n",
    "#     })\n",
    "    \n",
    "    # get the probability dictionary\n",
    "    location_probabilities_dict = location_probabilities(ocean_evidence_dict)\n",
    "    # Create dataframe to plot\n",
    "    df_twl_locations = pd.DataFrame.from_dict(location_probabilities_dict,orient='index').rename(columns={0:'most_likely_twl'})\n",
    "    df_twl_locations['long'] = [long for long,lat in df_twl_locations.index]\n",
    "    df_twl_locations['lat'] = [lat for long,lat in df_twl_locations.index]\n",
    "    df_twl_locations.reset_index(drop=True,inplace=True)\n",
    "    twl_bin_edges = [round(x,2) for x in ocean_model_dict['variables']['TWL']['bin_edges'][0]]\n",
    "    twl_bins = ocean_model_dict['variables']['TWL']['discretisation']['bin_names']\n",
    "    \n",
    "    map_osm = folium.Map(location=[1.448888, 172.991794],zoom_start=11)\n",
    "\n",
    "    colours_rgb = matplotlib.pyplot.get_cmap('seismic')(np.arange(0,1+1/len(twl_bins),1/(len(twl_bins)-1)))\n",
    "    colour_hex_dict = {i:rgb2hex(int(255*colours_rgb[i][0]),int(255*colours_rgb[i][1]),int(255*(colours_rgb[i][2]))) for i in np.arange(0,len(twl_bins),1)}\n",
    "    \n",
    "    data = data2geojson(df_twl_locations)\n",
    "\n",
    "    colors_hex_points = [colour_hex_dict[x] for x in df_twl_locations.most_likely_twl]\n",
    "\n",
    "    for feature,color in zip(data['features'],colors_hex_points):\n",
    "        feature['properties'] = {'color':color,'weight':1,'markerColor':color,'fillOpacity':1,'fillColor':color}\n",
    "        long,lat = feature['geometry']['coordinates']\n",
    "        \n",
    "        marker = folium.CircleMarker([lat,long],color=color, # , popup='Timberline Lodge'\n",
    "                                   fill_color=color,fill=True,fill_opacity='1',radius=5)\n",
    "        marker.add_to(map_osm)\n",
    "        \n",
    "    twl_bin_edge_labels = ['{}: {} to {} m'.format(\n",
    "        bin_name,x,y) for bin_name,x,y in zip(twl_bins,twl_bin_edges[:-1],twl_bin_edges[1:])]\n",
    "        \n",
    "    output_list = []\n",
    "    for rgb_color in colours_rgb:\n",
    "        output = plt.scatter([],[],color=rgb_color)\n",
    "        output_list.append(output)\n",
    "        \n",
    "    plt.legend(output_list,twl_bin_edge_labels,title='Total water level anomaly')\n",
    "    plt.axis('off')\n",
    "    \n",
    "    map_osm.save('test.html')\n",
    "        \n",
    "    return(map_osm)\n",
    "    \n",
    "\n",
    "# Define the bins for the dropdown\n",
    "tide_bins = ocean_model_dict['variables']['Tide']['discretisation']['bin_names']\n",
    "msl_bins = ocean_model_dict['variables']['MSL']['discretisation']['bin_names']\n",
    "wave_height_bins = ocean_model_dict['variables']['Hs_offshore']['discretisation']['bin_names']\n",
    "\n",
    "# Create the plot with the widget\n",
    "map_osm = interact_manual(test_figure,\n",
    "                tide_bin = widgets.Dropdown(options=tide_bins,value='Mid',description='Tide',disabled=False),\n",
    "                msl_bin = widgets.Dropdown(options=msl_bins,value='Mid',description='MSL',disabled=False),\n",
    "                wave_height_bin = widgets.Dropdown(options=wave_height_bins,value='Mid',description='Wave height',disabled=False)\n",
    "               )\n",
    "\n",
    "map_osm"
   ]
  },
  {
   "cell_type": "markdown",
   "metadata": {},
   "source": [
    "# Testing Code"
   ]
  },
  {
   "cell_type": "code",
   "execution_count": 42,
   "metadata": {},
   "outputs": [
    {
     "data": {
      "text/html": [
       "<div>\n",
       "<style scoped>\n",
       "    .dataframe tbody tr th:only-of-type {\n",
       "        vertical-align: middle;\n",
       "    }\n",
       "\n",
       "    .dataframe tbody tr th {\n",
       "        vertical-align: top;\n",
       "    }\n",
       "\n",
       "    .dataframe thead th {\n",
       "        text-align: right;\n",
       "    }\n",
       "</style>\n",
       "<table border=\"1\" class=\"dataframe\">\n",
       "  <thead>\n",
       "    <tr style=\"text-align: right;\">\n",
       "      <th></th>\n",
       "      <th>TWL</th>\n",
       "      <th>Tide</th>\n",
       "      <th>MSL</th>\n",
       "      <th>wind_u</th>\n",
       "      <th>wind_v</th>\n",
       "      <th>long</th>\n",
       "      <th>lat</th>\n",
       "      <th>Hs_offshore</th>\n",
       "      <th>Tm_offshore</th>\n",
       "      <th>Dir_offshore</th>\n",
       "      <th>reef_width</th>\n",
       "      <th>reef_depth</th>\n",
       "      <th>forereef_slope</th>\n",
       "      <th>TWL_less_Tide</th>\n",
       "    </tr>\n",
       "  </thead>\n",
       "  <tbody>\n",
       "    <tr>\n",
       "      <th>0</th>\n",
       "      <td>-0.003878</td>\n",
       "      <td>-0.489179</td>\n",
       "      <td>0.077363</td>\n",
       "      <td>0.724319</td>\n",
       "      <td>1.845566</td>\n",
       "      <td>172.92001</td>\n",
       "      <td>1.359241</td>\n",
       "      <td>1.997889</td>\n",
       "      <td>12.130004</td>\n",
       "      <td>39.839233</td>\n",
       "      <td>1815.70350</td>\n",
       "      <td>2.532653</td>\n",
       "      <td>0.018279</td>\n",
       "      <td>-0.485301</td>\n",
       "    </tr>\n",
       "    <tr>\n",
       "      <th>1</th>\n",
       "      <td>-0.459240</td>\n",
       "      <td>-0.627458</td>\n",
       "      <td>-0.158340</td>\n",
       "      <td>-4.919907</td>\n",
       "      <td>-1.378174</td>\n",
       "      <td>172.92001</td>\n",
       "      <td>1.359241</td>\n",
       "      <td>1.231434</td>\n",
       "      <td>5.760602</td>\n",
       "      <td>55.918564</td>\n",
       "      <td>1815.70350</td>\n",
       "      <td>2.532653</td>\n",
       "      <td>0.018279</td>\n",
       "      <td>-0.168218</td>\n",
       "    </tr>\n",
       "    <tr>\n",
       "      <th>2</th>\n",
       "      <td>0.298174</td>\n",
       "      <td>-0.044354</td>\n",
       "      <td>-0.004419</td>\n",
       "      <td>-3.321045</td>\n",
       "      <td>0.507874</td>\n",
       "      <td>172.92001</td>\n",
       "      <td>1.359241</td>\n",
       "      <td>1.635806</td>\n",
       "      <td>8.167212</td>\n",
       "      <td>59.223343</td>\n",
       "      <td>1815.70350</td>\n",
       "      <td>2.532653</td>\n",
       "      <td>0.018279</td>\n",
       "      <td>-0.342528</td>\n",
       "    </tr>\n",
       "    <tr>\n",
       "      <th>3</th>\n",
       "      <td>0.145323</td>\n",
       "      <td>-0.158879</td>\n",
       "      <td>-0.014415</td>\n",
       "      <td>-3.546463</td>\n",
       "      <td>1.469955</td>\n",
       "      <td>172.92001</td>\n",
       "      <td>1.359241</td>\n",
       "      <td>1.206625</td>\n",
       "      <td>5.085305</td>\n",
       "      <td>53.540924</td>\n",
       "      <td>1815.70350</td>\n",
       "      <td>2.532653</td>\n",
       "      <td>0.018279</td>\n",
       "      <td>-0.304203</td>\n",
       "    </tr>\n",
       "    <tr>\n",
       "      <th>4</th>\n",
       "      <td>0.978581</td>\n",
       "      <td>0.679516</td>\n",
       "      <td>0.001992</td>\n",
       "      <td>-4.321671</td>\n",
       "      <td>1.901627</td>\n",
       "      <td>172.92001</td>\n",
       "      <td>1.359241</td>\n",
       "      <td>1.783289</td>\n",
       "      <td>6.070200</td>\n",
       "      <td>37.366241</td>\n",
       "      <td>1815.70350</td>\n",
       "      <td>2.532653</td>\n",
       "      <td>0.018279</td>\n",
       "      <td>-0.299066</td>\n",
       "    </tr>\n",
       "    <tr>\n",
       "      <th>...</th>\n",
       "      <td>...</td>\n",
       "      <td>...</td>\n",
       "      <td>...</td>\n",
       "      <td>...</td>\n",
       "      <td>...</td>\n",
       "      <td>...</td>\n",
       "      <td>...</td>\n",
       "      <td>...</td>\n",
       "      <td>...</td>\n",
       "      <td>...</td>\n",
       "      <td>...</td>\n",
       "      <td>...</td>\n",
       "      <td>...</td>\n",
       "      <td>...</td>\n",
       "    </tr>\n",
       "    <tr>\n",
       "      <th>175899</th>\n",
       "      <td>-0.062203</td>\n",
       "      <td>-0.580713</td>\n",
       "      <td>0.123654</td>\n",
       "      <td>-6.787476</td>\n",
       "      <td>-1.321213</td>\n",
       "      <td>173.05073</td>\n",
       "      <td>1.357409</td>\n",
       "      <td>0.338373</td>\n",
       "      <td>1.590390</td>\n",
       "      <td>62.994675</td>\n",
       "      <td>495.52852</td>\n",
       "      <td>1.348382</td>\n",
       "      <td>0.127972</td>\n",
       "      <td>-0.518509</td>\n",
       "    </tr>\n",
       "    <tr>\n",
       "      <th>175900</th>\n",
       "      <td>0.423979</td>\n",
       "      <td>0.060231</td>\n",
       "      <td>0.071673</td>\n",
       "      <td>0.787109</td>\n",
       "      <td>-2.430847</td>\n",
       "      <td>173.05073</td>\n",
       "      <td>1.357409</td>\n",
       "      <td>0.174570</td>\n",
       "      <td>1.603255</td>\n",
       "      <td>311.097595</td>\n",
       "      <td>495.52852</td>\n",
       "      <td>1.348382</td>\n",
       "      <td>0.127972</td>\n",
       "      <td>-0.363748</td>\n",
       "    </tr>\n",
       "    <tr>\n",
       "      <th>175901</th>\n",
       "      <td>0.375429</td>\n",
       "      <td>0.066490</td>\n",
       "      <td>0.001026</td>\n",
       "      <td>-1.563248</td>\n",
       "      <td>2.084686</td>\n",
       "      <td>173.05073</td>\n",
       "      <td>1.357409</td>\n",
       "      <td>0.166400</td>\n",
       "      <td>1.015431</td>\n",
       "      <td>91.216080</td>\n",
       "      <td>495.52852</td>\n",
       "      <td>1.348382</td>\n",
       "      <td>0.127972</td>\n",
       "      <td>-0.308939</td>\n",
       "    </tr>\n",
       "    <tr>\n",
       "      <th>175902</th>\n",
       "      <td>0.945194</td>\n",
       "      <td>0.500272</td>\n",
       "      <td>-0.016428</td>\n",
       "      <td>-8.150970</td>\n",
       "      <td>2.118027</td>\n",
       "      <td>173.05073</td>\n",
       "      <td>1.357409</td>\n",
       "      <td>0.457096</td>\n",
       "      <td>1.761401</td>\n",
       "      <td>76.284973</td>\n",
       "      <td>495.52852</td>\n",
       "      <td>1.348382</td>\n",
       "      <td>0.127972</td>\n",
       "      <td>-0.444922</td>\n",
       "    </tr>\n",
       "    <tr>\n",
       "      <th>175903</th>\n",
       "      <td>-0.367681</td>\n",
       "      <td>-0.738053</td>\n",
       "      <td>-0.026519</td>\n",
       "      <td>-6.079117</td>\n",
       "      <td>-2.675797</td>\n",
       "      <td>173.05073</td>\n",
       "      <td>1.357409</td>\n",
       "      <td>0.373470</td>\n",
       "      <td>1.655361</td>\n",
       "      <td>51.919312</td>\n",
       "      <td>495.52852</td>\n",
       "      <td>1.348382</td>\n",
       "      <td>0.127972</td>\n",
       "      <td>-0.370372</td>\n",
       "    </tr>\n",
       "  </tbody>\n",
       "</table>\n",
       "<p>175904 rows × 14 columns</p>\n",
       "</div>"
      ],
      "text/plain": [
       "             TWL      Tide       MSL    wind_u    wind_v       long       lat  \\\n",
       "0      -0.003878 -0.489179  0.077363  0.724319  1.845566  172.92001  1.359241   \n",
       "1      -0.459240 -0.627458 -0.158340 -4.919907 -1.378174  172.92001  1.359241   \n",
       "2       0.298174 -0.044354 -0.004419 -3.321045  0.507874  172.92001  1.359241   \n",
       "3       0.145323 -0.158879 -0.014415 -3.546463  1.469955  172.92001  1.359241   \n",
       "4       0.978581  0.679516  0.001992 -4.321671  1.901627  172.92001  1.359241   \n",
       "...          ...       ...       ...       ...       ...        ...       ...   \n",
       "175899 -0.062203 -0.580713  0.123654 -6.787476 -1.321213  173.05073  1.357409   \n",
       "175900  0.423979  0.060231  0.071673  0.787109 -2.430847  173.05073  1.357409   \n",
       "175901  0.375429  0.066490  0.001026 -1.563248  2.084686  173.05073  1.357409   \n",
       "175902  0.945194  0.500272 -0.016428 -8.150970  2.118027  173.05073  1.357409   \n",
       "175903 -0.367681 -0.738053 -0.026519 -6.079117 -2.675797  173.05073  1.357409   \n",
       "\n",
       "        Hs_offshore  Tm_offshore  Dir_offshore  reef_width  reef_depth  \\\n",
       "0          1.997889    12.130004     39.839233  1815.70350    2.532653   \n",
       "1          1.231434     5.760602     55.918564  1815.70350    2.532653   \n",
       "2          1.635806     8.167212     59.223343  1815.70350    2.532653   \n",
       "3          1.206625     5.085305     53.540924  1815.70350    2.532653   \n",
       "4          1.783289     6.070200     37.366241  1815.70350    2.532653   \n",
       "...             ...          ...           ...         ...         ...   \n",
       "175899     0.338373     1.590390     62.994675   495.52852    1.348382   \n",
       "175900     0.174570     1.603255    311.097595   495.52852    1.348382   \n",
       "175901     0.166400     1.015431     91.216080   495.52852    1.348382   \n",
       "175902     0.457096     1.761401     76.284973   495.52852    1.348382   \n",
       "175903     0.373470     1.655361     51.919312   495.52852    1.348382   \n",
       "\n",
       "        forereef_slope  TWL_less_Tide  \n",
       "0             0.018279      -0.485301  \n",
       "1             0.018279      -0.168218  \n",
       "2             0.018279      -0.342528  \n",
       "3             0.018279      -0.304203  \n",
       "4             0.018279      -0.299066  \n",
       "...                ...            ...  \n",
       "175899        0.127972      -0.518509  \n",
       "175900        0.127972      -0.363748  \n",
       "175901        0.127972      -0.308939  \n",
       "175902        0.127972      -0.444922  \n",
       "175903        0.127972      -0.370372  \n",
       "\n",
       "[175904 rows x 14 columns]"
      ]
     },
     "execution_count": 42,
     "metadata": {},
     "output_type": "execute_result"
    }
   ],
   "source": [
    "df_ocean\n"
   ]
  },
  {
   "cell_type": "code",
   "execution_count": 96,
   "metadata": {},
   "outputs": [],
   "source": []
  },
  {
   "cell_type": "code",
   "execution_count": 97,
   "metadata": {},
   "outputs": [
    {
     "data": {
      "text/plain": [
       "['VeryLow: -1.02 to -0.02 m',\n",
       " 'Low: -0.02 to 0.41 m',\n",
       " 'Mid: 0.41 to 0.82 m',\n",
       " 'High: 0.82 to 1.28 m',\n",
       " 'VeryHigh: 1.28 to 2.69 m']"
      ]
     },
     "execution_count": 97,
     "metadata": {},
     "output_type": "execute_result"
    }
   ],
   "source": [
    "twl_bin_edge_labels"
   ]
  },
  {
   "cell_type": "code",
   "execution_count": 61,
   "metadata": {},
   "outputs": [
    {
     "ename": "TypeError",
     "evalue": "%X format: an integer is required, not numpy.float64",
     "output_type": "error",
     "traceback": [
      "\u001b[0;31m---------------------------------------------------------------------------\u001b[0m",
      "\u001b[0;31mTypeError\u001b[0m                                 Traceback (most recent call last)",
      "\u001b[0;32m<ipython-input-61-04971c115e99>\u001b[0m in \u001b[0;36m<module>\u001b[0;34m\u001b[0m\n\u001b[0;32m----> 1\u001b[0;31m \u001b[0mrgb2hex\u001b[0m\u001b[0;34m(\u001b[0m\u001b[0mcolours\u001b[0m\u001b[0;34m[\u001b[0m\u001b[0mi\u001b[0m\u001b[0;34m]\u001b[0m\u001b[0;34m[\u001b[0m\u001b[0;36m0\u001b[0m\u001b[0;34m]\u001b[0m\u001b[0;34m,\u001b[0m\u001b[0mcolours\u001b[0m\u001b[0;34m[\u001b[0m\u001b[0mi\u001b[0m\u001b[0;34m]\u001b[0m\u001b[0;34m[\u001b[0m\u001b[0;36m1\u001b[0m\u001b[0;34m]\u001b[0m\u001b[0;34m,\u001b[0m\u001b[0mcolours\u001b[0m\u001b[0;34m[\u001b[0m\u001b[0mi\u001b[0m\u001b[0;34m]\u001b[0m\u001b[0;34m[\u001b[0m\u001b[0;36m2\u001b[0m\u001b[0;34m]\u001b[0m\u001b[0;34m)\u001b[0m\u001b[0;34m\u001b[0m\u001b[0;34m\u001b[0m\u001b[0m\n\u001b[0m",
      "\u001b[0;32m/usr/local/lib/python3.8/dist-packages/colormap/colors.py\u001b[0m in \u001b[0;36mrgb2hex\u001b[0;34m(r, g, b, normalised)\u001b[0m\n\u001b[1;32m    125\u001b[0m     \u001b[0mcheck_range\u001b[0m\u001b[0;34m(\u001b[0m\u001b[0mg\u001b[0m\u001b[0;34m,\u001b[0m \u001b[0;36m0\u001b[0m\u001b[0;34m,\u001b[0m \u001b[0;36m255\u001b[0m\u001b[0;34m)\u001b[0m\u001b[0;34m\u001b[0m\u001b[0;34m\u001b[0m\u001b[0m\n\u001b[1;32m    126\u001b[0m     \u001b[0mcheck_range\u001b[0m\u001b[0;34m(\u001b[0m\u001b[0mb\u001b[0m\u001b[0;34m,\u001b[0m \u001b[0;36m0\u001b[0m\u001b[0;34m,\u001b[0m \u001b[0;36m255\u001b[0m\u001b[0;34m)\u001b[0m\u001b[0;34m\u001b[0m\u001b[0;34m\u001b[0m\u001b[0m\n\u001b[0;32m--> 127\u001b[0;31m     \u001b[0;32mreturn\u001b[0m \u001b[0;34m'#%02X%02X%02X'\u001b[0m \u001b[0;34m%\u001b[0m \u001b[0;34m(\u001b[0m\u001b[0mr\u001b[0m\u001b[0;34m,\u001b[0m \u001b[0mg\u001b[0m\u001b[0;34m,\u001b[0m \u001b[0mb\u001b[0m\u001b[0;34m)\u001b[0m\u001b[0;34m\u001b[0m\u001b[0;34m\u001b[0m\u001b[0m\n\u001b[0m\u001b[1;32m    128\u001b[0m \u001b[0;34m\u001b[0m\u001b[0m\n\u001b[1;32m    129\u001b[0m \u001b[0;34m\u001b[0m\u001b[0m\n",
      "\u001b[0;31mTypeError\u001b[0m: %X format: an integer is required, not numpy.float64"
     ]
    }
   ],
   "source": [
    "rgb2hex(int(255*colours[i][0],colours[i][1],colours[i][2])"
   ]
  },
  {
   "cell_type": "code",
   "execution_count": 62,
   "metadata": {},
   "outputs": [
    {
     "data": {
      "text/plain": [
       "102"
      ]
     },
     "execution_count": 62,
     "metadata": {},
     "output_type": "execute_result"
    }
   ],
   "source": [
    "int(0.4*255)"
   ]
  },
  {
   "cell_type": "code",
   "execution_count": 288,
   "metadata": {},
   "outputs": [],
   "source": []
  },
  {
   "cell_type": "code",
   "execution_count": 297,
   "metadata": {},
   "outputs": [
    {
     "ename": "NameError",
     "evalue": "name 'colour_dict' is not defined",
     "output_type": "error",
     "traceback": [
      "\u001b[0;31m---------------------------------------------------------------------------\u001b[0m",
      "\u001b[0;31mNameError\u001b[0m                                 Traceback (most recent call last)",
      "\u001b[0;32m<ipython-input-297-4d4e1714810b>\u001b[0m in \u001b[0;36m<module>\u001b[0;34m\u001b[0m\n\u001b[0;32m----> 1\u001b[0;31m \u001b[0;34m[\u001b[0m\u001b[0mcolour_dict\u001b[0m\u001b[0;34m[\u001b[0m\u001b[0mx\u001b[0m\u001b[0;34m]\u001b[0m \u001b[0;32mfor\u001b[0m \u001b[0mx\u001b[0m \u001b[0;32min\u001b[0m \u001b[0mdf_twl_locations\u001b[0m\u001b[0;34m.\u001b[0m\u001b[0mmost_likely_twl\u001b[0m\u001b[0;34m]\u001b[0m\u001b[0;34m\u001b[0m\u001b[0;34m\u001b[0m\u001b[0m\n\u001b[0m\u001b[1;32m      2\u001b[0m \u001b[0;34m\u001b[0m\u001b[0m\n",
      "\u001b[0;32m<ipython-input-297-4d4e1714810b>\u001b[0m in \u001b[0;36m<listcomp>\u001b[0;34m(.0)\u001b[0m\n\u001b[0;32m----> 1\u001b[0;31m \u001b[0;34m[\u001b[0m\u001b[0mcolour_dict\u001b[0m\u001b[0;34m[\u001b[0m\u001b[0mx\u001b[0m\u001b[0;34m]\u001b[0m \u001b[0;32mfor\u001b[0m \u001b[0mx\u001b[0m \u001b[0;32min\u001b[0m \u001b[0mdf_twl_locations\u001b[0m\u001b[0;34m.\u001b[0m\u001b[0mmost_likely_twl\u001b[0m\u001b[0;34m]\u001b[0m\u001b[0;34m\u001b[0m\u001b[0;34m\u001b[0m\u001b[0m\n\u001b[0m\u001b[1;32m      2\u001b[0m \u001b[0;34m\u001b[0m\u001b[0m\n",
      "\u001b[0;31mNameError\u001b[0m: name 'colour_dict' is not defined"
     ]
    }
   ],
   "source": [
    "\n",
    "\n"
   ]
  },
  {
   "cell_type": "code",
   "execution_count": 292,
   "metadata": {
    "scrolled": false
   },
   "outputs": [
    {
     "data": {
      "text/plain": [
       "['VeryLow', 'Low', 'Mid', 'High', 'VeryHigh']"
      ]
     },
     "execution_count": 292,
     "metadata": {},
     "output_type": "execute_result"
    }
   ],
   "source": [
    "twl_bins"
   ]
  },
  {
   "cell_type": "code",
   "execution_count": 287,
   "metadata": {},
   "outputs": [
    {
     "data": {
      "text/plain": [
       "array([0.  , 0.25, 0.5 , 0.75, 1.  ])"
      ]
     },
     "execution_count": 287,
     "metadata": {},
     "output_type": "execute_result"
    }
   ],
   "source": []
  },
  {
   "cell_type": "code",
   "execution_count": 280,
   "metadata": {},
   "outputs": [
    {
     "data": {
      "text/plain": [
       "1.0"
      ]
     },
     "execution_count": 280,
     "metadata": {},
     "output_type": "execute_result"
    }
   ],
   "source": [
    "10/10"
   ]
  },
  {
   "cell_type": "code",
   "execution_count": null,
   "metadata": {},
   "outputs": [],
   "source": []
  }
 ],
 "metadata": {
  "hide_input": false,
  "kernelspec": {
   "display_name": "Python 3",
   "language": "python",
   "name": "python3"
  },
  "language_info": {
   "codemirror_mode": {
    "name": "ipython",
    "version": 3
   },
   "file_extension": ".py",
   "mimetype": "text/x-python",
   "name": "python",
   "nbconvert_exporter": "python",
   "pygments_lexer": "ipython3",
   "version": "3.8.5"
  },
  "toc": {
   "base_numbering": 1,
   "nav_menu": {},
   "number_sections": true,
   "sideBar": true,
   "skip_h1_title": false,
   "title_cell": "Table of Contents",
   "title_sidebar": "Contents",
   "toc_cell": false,
   "toc_position": {
    "height": "calc(100% - 180px)",
    "left": "10px",
    "top": "150px",
    "width": "350px"
   },
   "toc_section_display": true,
   "toc_window_display": true
  },
  "varInspector": {
   "cols": {
    "lenName": 16,
    "lenType": 16,
    "lenVar": 40
   },
   "kernels_config": {
    "python": {
     "delete_cmd_postfix": "",
     "delete_cmd_prefix": "del ",
     "library": "var_list.py",
     "varRefreshCmd": "print(var_dic_list())"
    },
    "r": {
     "delete_cmd_postfix": ") ",
     "delete_cmd_prefix": "rm(",
     "library": "var_list.r",
     "varRefreshCmd": "cat(var_dic_list()) "
    }
   },
   "types_to_exclude": [
    "module",
    "function",
    "builtin_function_or_method",
    "instance",
    "_Feature"
   ],
   "window_display": false
  }
 },
 "nbformat": 4,
 "nbformat_minor": 4
}
