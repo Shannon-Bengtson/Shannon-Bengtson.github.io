{
 "cells": [
  {
   "cell_type": "markdown",
   "metadata": {},
   "source": [
    "# File Description"
   ]
  },
  {
   "cell_type": "markdown",
   "metadata": {},
   "source": [
    "The purpose of this file is to test some visualisations of the data of bathymetry of Tarawa. The data comes from www.pacgeo.org\n",
    "There are two groups of data: Ocean side and Lagoon side.\n",
    "    \n",
    "The details on the webpage and the metadata are pretty vague. Not sure at this stage what the coordinate system is.\n",
    "\n",
    "The data was download as zipped shapefiles from:\n",
    "    -http://www.pacgeo.org/layers/geonode:ki_tarawa_ocean_side_mbes_bathy_20m_grid\n",
    "    -http://www.pacgeo.org/layers/geonode:ki_tarawa_mbes_bathy_lagoon_20m_grid\n",
    "            \n",
    "Both are on a 20m grid"
   ]
  },
  {
   "cell_type": "code",
   "execution_count": null,
   "metadata": {},
   "outputs": [],
   "source": [
    "import sys\n",
    "!{sys.executable} - m pip install wand"
   ]
  },
  {
   "cell_type": "code",
   "execution_count": 1,
   "metadata": {},
   "outputs": [
    {
     "ename": "ModuleNotFoundError",
     "evalue": "No module named 'wand'",
     "output_type": "error",
     "traceback": [
      "\u001b[1;31m---------------------------------------------------------------------------\u001b[0m",
      "\u001b[1;31mModuleNotFoundError\u001b[0m                       Traceback (most recent call last)",
      "\u001b[1;32m<ipython-input-1-cb9ea2726fcf>\u001b[0m in \u001b[0;36m<module>\u001b[1;34m\u001b[0m\n\u001b[0;32m      1\u001b[0m \u001b[1;31m# Map of Bathymetry:\u001b[0m\u001b[1;33m\u001b[0m\u001b[1;33m\u001b[0m\u001b[1;33m\u001b[0m\u001b[0m\n\u001b[1;32m----> 2\u001b[1;33m \u001b[1;32mfrom\u001b[0m \u001b[0mwand\u001b[0m\u001b[1;33m.\u001b[0m\u001b[0mimage\u001b[0m \u001b[1;32mimport\u001b[0m \u001b[0mImage\u001b[0m \u001b[1;32mas\u001b[0m \u001b[0mWImage\u001b[0m\u001b[1;33m\u001b[0m\u001b[1;33m\u001b[0m\u001b[0m\n\u001b[0m\u001b[0;32m      3\u001b[0m \u001b[0mimg\u001b[0m \u001b[1;33m=\u001b[0m \u001b[0mWImage\u001b[0m\u001b[1;33m(\u001b[0m\u001b[0mfilename\u001b[0m\u001b[1;33m=\u001b[0m\u001b[1;34m'140_ki_tarawa_bathy_1_to_100_000_p59Jd3Q.pdf'\u001b[0m\u001b[1;33m)\u001b[0m\u001b[1;33m\u001b[0m\u001b[1;33m\u001b[0m\u001b[0m\n\u001b[0;32m      4\u001b[0m \u001b[0mimg\u001b[0m\u001b[1;33m\u001b[0m\u001b[1;33m\u001b[0m\u001b[0m\n",
      "\u001b[1;31mModuleNotFoundError\u001b[0m: No module named 'wand'"
     ]
    }
   ],
   "source": [
    "# Map of Bathymetry:\n",
    "from wand.image import Image as WImage\n",
    "img = WImage(filename='140_ki_tarawa_bathy_1_to_100_000_p59Jd3Q.pdf')\n",
    "img"
   ]
  },
  {
   "cell_type": "markdown",
   "metadata": {},
   "source": [
    "# File Setup"
   ]
  },
  {
   "cell_type": "code",
   "execution_count": null,
   "metadata": {},
   "outputs": [],
   "source": [
    "import shapefile\n",
    "import matplotlib\n",
    "import matplotlib.pyplot as plt\n",
    "import pandas as pd\n",
    "import numpy as np\n",
    "import cartopy\n",
    "import cartopy.crs as ccrs\n",
    "from cartopy.io.shapereader import Reader\n",
    "from cartopy.feature import ShapelyFeature\n",
    "import geopandas as gpd\n",
    "import sklearn\n",
    "import scipy.interpolate\n",
    "import rpy2\n",
    "import os\n",
    "os.environ['R_HOME'] = 'C:\\ProgramData\\Anaconda3\\Lib\\R'\n",
    "\n",
    "from matplotlib.ticker import MultipleLocator\n",
    "from mpl_toolkits.axes_grid1.inset_locator import inset_axes\n",
    "import math\n",
    "\n",
    "%load_ext rpy2.ipython\n",
    "# from notebook.services.config import ConfigManager\n",
    "# cm = ConfigManager().update('notebook', {'limit_output': 10})"
   ]
  },
  {
   "cell_type": "markdown",
   "metadata": {},
   "source": [
    "# Data Import"
   ]
  },
  {
   "cell_type": "code",
   "execution_count": null,
   "metadata": {},
   "outputs": [],
   "source": [
    "# Load the data using geopandas\n",
    "\n",
    "folder_loc = r'C:\\Users\\shannonb\\Documents\\Model_and_data\\Dataset\\D1_bathymetry\\Model_and_data\\Dataset\\D1_bathymetry'\n",
    "\n",
    "gdf_lagoon = gpd.read_file('{}\\ki_tarawa_mbes_bathy_lagoon_20m_grid.shp'.format(folder_loc))\n",
    "gdf_ocean = gpd.read_file('{}\\ki_tarawa_ocean_side_mbes_bathy_20m_grid.shp'.format(folder_loc))\n",
    "\n",
    "# convert the geopandas to pandas\n",
    "df_lagoon = pd.DataFrame(gdf_lagoon)\n",
    "df_ocean = pd.DataFrame(gdf_ocean)\n",
    "\n",
    "# # Sample the data to make it faster....\n",
    "# df_ocean = df_ocean.sample(1000)\n",
    "# df_lagoon = df_lagoon.sample(1000)\n",
    "\n",
    "# Convert the data to float\n",
    "df_ocean = df_ocean[['X','Y','A']].astype({'X':float,'Y':float,'A':float})\n",
    "df_lagoon = df_lagoon[['X','Y','A']].astype({'X':float,'Y':float,'A':float})\n",
    "\n",
    "# Combine the dataframes\n",
    "df_bath = df_ocean.append(df_lagoon)"
   ]
  },
  {
   "cell_type": "code",
   "execution_count": null,
   "metadata": {},
   "outputs": [],
   "source": [
    "df_bath = df_ocean"
   ]
  },
  {
   "cell_type": "code",
   "execution_count": null,
   "metadata": {},
   "outputs": [],
   "source": [
    "df_test = df_bath.copy()\n",
    "\n",
    "grid_size = 50\n",
    "\n",
    "# Group into grid\n",
    "df_test['X'] = (round(df_test.X/grid_size))*grid_size\n",
    "df_test['Y'] = (round(df_test.Y/grid_size))*grid_size\n",
    "\n",
    "# Make depth positive\n",
    "df_test['A'] = -df_test['A']\n",
    "\n",
    "# Convert to km\n",
    "df_test['X'] = df_test['X']/1000.0\n",
    "df_test['Y'] = df_test['Y']/1000.0\n",
    "\n",
    "# Chop off part that's not the tarawa atoll\n",
    "df_test = df_test[df_test.Y<185]\n",
    "\n",
    "# Make log scale\n",
    "exp = 0.5\n",
    "df_test['A'] = [x**exp for x in df_test['A']]\n",
    "\n",
    "df_pivot = df_test.pivot_table(index='Y',columns='X')['A']\n",
    "# test_array = np.array(df_test)"
   ]
  },
  {
   "cell_type": "code",
   "execution_count": null,
   "metadata": {
    "scrolled": false
   },
   "outputs": [],
   "source": [
    "cmap='coolwarm'\n",
    "\n",
    "font = {'family' : 'DejaVu Sans',\n",
    "        'weight' : 'normal',\n",
    "        'size'   : 15}\n",
    "matplotlib.rc('font', **font)\n",
    "\n",
    "fig = plt.figure(figsize=(15,15))\n",
    "\n",
    "ax = plt.subplot2grid((1,1),(0,0))\n",
    "\n",
    "X,Y = np.meshgrid(list(df_pivot.columns),list(df_pivot.index))\n",
    "\n",
    "output = ax.contourf(X,Y,df_pivot,cmap=cmap,levels=100)\n",
    "\n",
    "ax.set_ylabel('Latitude (km)')\n",
    "ax.set_xlabel('Longitude (km)')\n",
    "ax.set_title('Tarawa Atoll Bathymetry')\n",
    "\n",
    "ax.xaxis.set_minor_locator(MultipleLocator(1))\n",
    "ax.yaxis.set_minor_locator(MultipleLocator(1))\n",
    "\n",
    "ax.set_xlim(np.min(ax.get_xlim())-2.5,np.max(ax.get_xlim())+2.5)\n",
    "ax.set_ylim(np.min(ax.get_ylim())-2.5,np.max(ax.get_ylim())+2.5)\n",
    "\n",
    "ax.tick_params(axis='x', which='minor', bottom=False)\n",
    "\n",
    "ax.grid(True,which='both',axis='both')\n",
    "\n",
    "cax = inset_axes(ax,\n",
    "                    width=\"5%\",  # width = 50% of parent_bbox width\n",
    "                    height=\"50%\",  # height : 5%\n",
    "                    loc='upper right',\n",
    "                    borderpad=4)\n",
    "\n",
    "cbar = fig.colorbar(output,cax=cax)\n",
    "cax.set_title('Depth (m)')\n",
    "y_ticks =  cax.get_yticks()\n",
    "# cbar.set_ticklabels([round(y**(1/exp)) for y in y_ticks])\n",
    "\n",
    "levels = [1500,1250,1000,750,500,400,300,200,100,50,25,10,5]\n",
    "levels_exp = [x**(exp) for x in levels]\n",
    "cbar.set_ticks(levels_exp)\n",
    "cbar.set_ticklabels(levels)\n",
    "\n",
    "plt.show()\n"
   ]
  },
  {
   "cell_type": "markdown",
   "metadata": {},
   "source": [
    "# Making Some transects"
   ]
  },
  {
   "cell_type": "markdown",
   "metadata": {},
   "source": [
    "## Data for checking the transects"
   ]
  },
  {
   "cell_type": "code",
   "execution_count": null,
   "metadata": {
    "scrolled": false
   },
   "outputs": [],
   "source": [
    "\n",
    "\n",
    "df_pivot_filtered = df_pivot.loc[:,(df_pivot.columns<717.5)&(df_pivot.columns>716.5)]\n",
    "df_pivot_filtered = df_pivot_filtered[(df_pivot_filtered.index<146.5)&(df_pivot_filtered.index>143.5)]\n",
    "df_pivot_filtered\n"
   ]
  },
  {
   "cell_type": "markdown",
   "metadata": {},
   "source": [
    "## Test Point"
   ]
  },
  {
   "cell_type": "code",
   "execution_count": null,
   "metadata": {},
   "outputs": [],
   "source": [
    "import statsmodels.api as sm\n",
    "from scipy import interpolate\n",
    "from numpy import diff\n",
    "# from kneed import KneeLocator\n",
    "# x = np.arange(741,744,(744-741)/100.0)\n",
    "# y = np.arange(153,154,(148-147)/100.0)#[147]*len(x)\n",
    "\n",
    "def moving_average(a, n) :\n",
    "    ret = np.cumsum(a, dtype=float)\n",
    "    ret[n:] = ret[n:] - ret[:-n]\n",
    "    return(ret[n - 1:] / n)\n",
    "\n",
    "def transect_determination(df_bathymetry,n):\n",
    "    '''\n",
    "    inputs:\n",
    "        - n is period of moving average\n",
    "    '''\n",
    "    \n",
    "    # Set location for x and y transect temporarily\n",
    "#     x = [721]*50\n",
    "#     y = np.arange(146,143,(143-146)/50)\n",
    "    x = np.arange(712,708,(712-708)/100.0)\n",
    "    y = np.arange(153,154,(154-152)/100.0) # [147]*len(x)\n",
    "#     x = np.arange(718,717.0,-(718-717)/100.0)\n",
    "#     y = np.arange(147,143.0,-(147-143)/100.0)\n",
    "\n",
    "    # Get the coordinates and depths of the island\n",
    "    points = np.array(df_bathymetry[['X','Y']])\n",
    "    values = np.array(df_bathymetry['A'])\n",
    "\n",
    "    # Calculate the depth along the transect coordinates x and y\n",
    "    transect_depth = interpolate.griddata(points,values,(x,y),method='cubic')\n",
    "    \n",
    "    # Create a transect dataframe with coordinates and depths\n",
    "    df_transect = pd.DataFrame({'long':x,'lat':y,'depth':transect_depth})\n",
    "    df_transect.dropna(inplace=True)\n",
    "    \n",
    "    # Set latitude and longtidue to be the first value in the transect #### REPLACE WITH SHORE VALUE WHEN I HAVE IT\n",
    "    zero_point_long = df_transect.loc[0].long\n",
    "    zero_point_lat = df_transect.loc[0].lat\n",
    "    \n",
    "    # Calculate distance from zero point (future: shore)\n",
    "    df_transect['distance'] = np.sqrt((df_transect.long-zero_point_long)**2+\\\n",
    "                                        (df_transect.lat-zero_point_lat)**2)\n",
    "    \n",
    "    # Make sure transect is in order of distance\n",
    "    df_transect.sort_values('distance',inplace=True)\n",
    "    \n",
    "    # Put a moving average through the depth\n",
    "    depth_moving_avg = list(moving_average(list(df_transect.depth),n))\n",
    "    length_of_nan = [np.nan]*int((n-1)/2)\n",
    "\n",
    "    # Add to df_transect\n",
    "    df_transect['depth_moving_avg'] = length_of_nan+depth_moving_avg+length_of_nan\n",
    "    df_transect.dropna(inplace=True,axis=0)\n",
    "    \n",
    "    return(df_transect)\n",
    "    \n",
    "def determine_crest_location(df_transect):\n",
    "    '''\n",
    "    '''\n",
    "    \n",
    "    # Find the second derivative\n",
    "    depth_dash = diff(df_transect.depth_moving_avg)/diff(df_transect.distance)\n",
    "    distance_average = [np.mean([x1,x2]) for x1,x2 in zip(df_transect.distance[1:],df_transect.distance[:-1])]\n",
    "    \n",
    "    df_dash = pd.DataFrame({\n",
    "                'distance_average':distance_average,\n",
    "                'depth_dash':depth_dash\n",
    "            })\n",
    "    \n",
    "    df_dash.dropna(inplace=True,axis=0)\n",
    "    \n",
    "    # Find the double derivative\n",
    "    depth_dashdash = np.diff(df_dash.depth_dash)/np.diff(df_dash.distance_average)\n",
    "    distance_average_average = [np.mean([x1,x2]) for x1,x2 in zip(df_dash.distance_average[1:],df_dash.distance_average[:-1])]\n",
    "    df_dashdash = pd.DataFrame({\n",
    "                'distance_average_average':[abs(x) for x in distance_average_average],\n",
    "                'depth_dashdash':depth_dashdash\n",
    "            })\n",
    "        \n",
    "    # The elbow should be at the maximum in the double derivative\n",
    "    df_crest_loc_deriv = df_dashdash[df_dashdash.depth_dashdash==np.max(df_dashdash.depth_dashdash)]\n",
    "    \n",
    "    # Get the distance from shore\n",
    "    crest_dist_shore = df_crest_loc_deriv.reset_index().loc[0,'distance_average_average']\n",
    "    \n",
    "    # Get the location of the crest not in the derivative df    \n",
    "    df_crest_loc = df_transect[\\\n",
    "               abs(df_transect.distance-crest_dist_shore)==np.min(abs(df_transect.distance-crest_dist_shore))]\n",
    "    \n",
    "    return(df_dashdash,df_crest_loc)\n",
    "\n",
    "def beta_calculation(df_transect,df_crest_loc):\n",
    "    '''\n",
    "    \n",
    "    '''\n",
    "    \n",
    "    # Divide the transect into reef flat and fore reef\n",
    "    df_fore_reef = df_transect.loc[[x for x in df_transect.index if x>df_crest_loc.index[0]]]\n",
    "    df_reef_flat = df_transect.loc[[x for x in df_transect.index if x<df_crest_loc.index[0]]]\n",
    "\n",
    "    # Fit a linear regression of reef flat\n",
    "    reef_flat_distance = sm.add_constant(list(df_reef_flat.distance)) # create a var for this algorithm for distance\n",
    "    lin_reg_reef_flat = sm.OLS(list(df_reef_flat.depth),reef_flat_distance).fit()\n",
    "    lin_reg_reef_flat_pred = lin_reg_reef_flat.predict(reef_flat_distance)\n",
    "    \n",
    "    # Fit linear regression to fore reef\n",
    "    fore_reef_distance = sm.add_constant(list(df_fore_reef.distance)) # create a var for this algorithm for distance\n",
    "    lin_reg_fore_reef = sm.OLS(list(df_fore_reef.depth),fore_reef_distance).fit()\n",
    "    lin_reg_fore_reef_pred = lin_reg_fore_reef.predict(fore_reef_distance)\n",
    "    \n",
    "    # Create dataframes of linear regression results\n",
    "    df_reef_flat_regression= pd.DataFrame({'distance':list(df_reef_flat.distance),'regression':lin_reg_reef_flat_pred})\n",
    "    df_fore_reef_regression = pd.DataFrame({'distance':list(df_fore_reef.distance),'regression':lin_reg_fore_reef_pred})\n",
    "    \n",
    "    # Calculate beta using linear regression slopes\n",
    "    m_reef_flat = lin_reg_reef_flat.params[1]\n",
    "    m_fore_reef = lin_reg_fore_reef.params[1]\n",
    "    tan_beta = (m_fore_reef-m_reef_flat)/(1+m_fore_reef*m_reef_flat)\n",
    "    beta = math.atan(tan_beta)\n",
    "    \n",
    "    return(df_reef_flat_regression,df_fore_reef_regression,beta)"
   ]
  },
  {
   "cell_type": "code",
   "execution_count": null,
   "metadata": {
    "scrolled": false
   },
   "outputs": [],
   "source": [
    "fig = plt.figure(figsize=(10,10))\n",
    "\n",
    "ax1 = plt.subplot2grid((2,1),(0,0))\n",
    "ax2 = plt.subplot2grid((2,1),(1,0))\n",
    "\n",
    "df_transect = transect_determination(df_test,21)\n",
    "\n",
    "ax1.plot(df_transect.distance,df_transect.depth_moving_avg)\n",
    "ax1.set_ylabel('Depth (m)')\n",
    "ax1.set_xlabel('Distance (km)')\n",
    "ax1.invert_yaxis()\n",
    "\n",
    "df_dashdash,df_crest_loc = determine_crest_location(df_transect)\n",
    "\n",
    "ax2.plot(df_dashdash.distance_average_average,df_dashdash.depth_dashdash)\n",
    "ax1.scatter(df_crest_loc.distance,df_crest_loc.depth_moving_avg)\n",
    "\n",
    "df_reef_flat_regression,df_fore_reef_regression,beta = beta_calculation(df_transect,df_crest_loc)\n",
    "\n",
    "ax1.plot(df_reef_flat_regression.distance,df_reef_flat_regression.regression)\n",
    "ax1.plot(df_fore_reef_regression.distance,df_fore_reef_regression.regression)\n",
    "\n",
    "plt.show()\n",
    "\n",
    "\n",
    "##############################################"
   ]
  },
  {
   "cell_type": "markdown",
   "metadata": {},
   "source": [
    "## Get Island Core"
   ]
  },
  {
   "cell_type": "code",
   "execution_count": null,
   "metadata": {},
   "outputs": [],
   "source": [
    "df_island_and_lagoon = df_pivot.copy()\n",
    "\n",
    "df_island_and_lagoon[~df_island_and_lagoon.isna()] = 0\n",
    "df_island_and_lagoon[df_island_and_lagoon.isna()] = 1\n",
    "df_island_and_lagoon[df_island_and_lagoon==0] = np.nan\n",
    "\n"
   ]
  },
  {
   "cell_type": "code",
   "execution_count": null,
   "metadata": {},
   "outputs": [],
   "source": [
    "cmap='coolwarm'\n",
    "\n",
    "font = {'family' : 'DejaVu Sans',\n",
    "        'weight' : 'normal',\n",
    "        'size'   : 15}\n",
    "matplotlib.rc('font', **font)\n",
    "\n",
    "fig = plt.figure(figsize=(15,15))\n",
    "\n",
    "ax = plt.subplot2grid((1,1),(0,0))\n",
    "\n",
    "X,Y = np.meshgrid(list(df_island_and_lagoon.columns),list(df_island_and_lagoon.index))\n",
    "\n",
    "output = ax.contourf(X,Y,df_island_and_lagoon,cmap=cmap,levels=100)\n",
    "\n",
    "ax.set_ylabel('Latitude (km)')\n",
    "ax.set_xlabel('Longitude (km)')\n",
    "ax.set_title('Tarawa Atoll Bathymetry')\n",
    "\n",
    "ax.xaxis.set_minor_locator(MultipleLocator(1))\n",
    "ax.yaxis.set_minor_locator(MultipleLocator(1))\n",
    "\n",
    "ax.set_xlim(np.min(ax.get_xlim())-2.5,np.max(ax.get_xlim())+2.5)\n",
    "ax.set_ylim(np.min(ax.get_ylim())-2.5,np.max(ax.get_ylim())+2.5)\n",
    "\n",
    "ax.tick_params(axis='x', which='minor', bottom=False)\n",
    "\n",
    "ax.grid(True,which='both',axis='both')\n",
    "\n",
    "cax = inset_axes(ax,\n",
    "                    width=\"5%\",  # width = 50% of parent_bbox width\n",
    "                    height=\"50%\",  # height : 5%\n",
    "                    loc='upper right',\n",
    "                    borderpad=4)\n",
    "\n",
    "cbar = fig.colorbar(output,cax=cax)\n",
    "cax.set_title('Depth (m)')\n",
    "y_ticks =  cax.get_yticks()\n",
    "# cbar.set_ticklabels([round(y**(1/exp)) for y in y_ticks])\n",
    "\n",
    "levels = [1500,1250,1000,750,500,400,300,200,100,50,25,10,5]\n",
    "levels_exp = [x**(exp) for x in levels]\n",
    "cbar.set_ticks(levels_exp)\n",
    "cbar.set_ticklabels(levels)\n",
    "\n",
    "plt.show()\n"
   ]
  },
  {
   "cell_type": "markdown",
   "metadata": {},
   "source": [
    "# Just trying some grouping..."
   ]
  },
  {
   "cell_type": "code",
   "execution_count": null,
   "metadata": {},
   "outputs": [],
   "source": [
    "plt.scatter(df_test.X,df_test.Y,c=df_test.A)"
   ]
  },
  {
   "cell_type": "code",
   "execution_count": null,
   "metadata": {
    "scrolled": false
   },
   "outputs": [],
   "source": [
    "%%R -i df_test\n",
    "\n",
    "plot(x=df_test$X,y=df_test$Y, pch=20)\n",
    "\n",
    "##  Now get the polygons\n",
    "ConvexHull = chull(df_test$X, df_test$Y)\n",
    "polygon(df_test[ConvexHull,], \n",
    "    border=rainbow(4)[1], col=rainbow(4, alpha=0.1)[1])"
   ]
  },
  {
   "cell_type": "code",
   "execution_count": null,
   "metadata": {},
   "outputs": [],
   "source": [
    "points = np.array(df_test[['X','Y']])\n",
    "\n",
    "hull = scipy.spatial.ConvexHull(points)\n",
    "\n",
    "for simplex in hull.simplices:\n",
    "    plt.plot(points[simplex, 0], points[simplex, 1], 'k-')\n"
   ]
  },
  {
   "cell_type": "code",
   "execution_count": null,
   "metadata": {
    "scrolled": true
   },
   "outputs": [],
   "source": [
    "np.array(df_test[['X','Y']])"
   ]
  },
  {
   "cell_type": "code",
   "execution_count": null,
   "metadata": {
    "scrolled": true
   },
   "outputs": [],
   "source": [
    "np.random.rand(30, 2)"
   ]
  },
  {
   "cell_type": "code",
   "execution_count": null,
   "metadata": {},
   "outputs": [],
   "source": [
    "from math import sin, cos, sqrt, atan2, radians\n",
    "\n",
    "lon1 = 72000\n",
    "lat1 = 16000\n",
    "\n",
    "for lon2,lat2 in zip(df_test.X,df_test.Y):\n",
    "\n",
    "    dlon = lon2 - lon1\n",
    "    dlat = lat2 - lat1\n",
    "    \n",
    "    a = sin(dlat / 2)**2 + cos(lat1) * cos(lat2) * sin(dlon / 2)**2\n",
    "    c = 2 * atan2(sqrt(a), sqrt(1 - a))\n",
    "    \n",
    "    distance = R * c\n",
    "    \n",
    "    print(\"Result:\", distance)"
   ]
  },
  {
   "cell_type": "code",
   "execution_count": null,
   "metadata": {},
   "outputs": [],
   "source": []
  }
 ],
 "metadata": {
  "cite2c": {
   "citations": {
    "8356857/9PKH9EG9": {
     "DOI": "https://doi.org/10.1002/wea.396",
     "URL": "http://rmets.onlinelibrary.wiley.com/doi/abs/10.1002/wea.396",
     "accessed": {
      "day": 17,
      "month": 11,
      "year": 2020
     },
     "author": [
      {
       "family": "Aung",
       "given": "Than"
      },
      {
       "family": "Singh",
       "given": "Awnesh"
      },
      {
       "family": "Prasad",
       "given": "Uma"
      }
     ],
     "container-title": "Weather",
     "id": "8356857/9PKH9EG9",
     "issue": "8",
     "issued": {
      "year": 2009
     },
     "language": "en",
     "note": "_eprint: https://onlinelibrary.wiley.com/doi/pdf/10.1002/wea.396",
     "page": "203-206",
     "page-first": "203",
     "title": "A study of sea–level changes in the Kiribati area for the last 16 years",
     "type": "article-journal",
     "volume": "64"
    },
    "8356857/CSPDKVGF": {
     "id": "8356857/CSPDKVGF",
     "title": "Aung_etal_2009_Weather.pdf",
     "type": "article"
    }
   }
  },
  "hide_input": false,
  "kernelspec": {
   "display_name": "Python 3 (ipykernel)",
   "language": "python",
   "name": "python3"
  },
  "language_info": {
   "codemirror_mode": {
    "name": "ipython",
    "version": 3
   },
   "file_extension": ".py",
   "mimetype": "text/x-python",
   "name": "python",
   "nbconvert_exporter": "python",
   "pygments_lexer": "ipython3",
   "version": "3.8.5"
  },
  "toc": {
   "base_numbering": 1,
   "nav_menu": {},
   "number_sections": true,
   "sideBar": true,
   "skip_h1_title": false,
   "title_cell": "Table of Contents",
   "title_sidebar": "Contents",
   "toc_cell": false,
   "toc_position": {
    "height": "calc(100% - 180px)",
    "left": "10px",
    "top": "150px",
    "width": "194px"
   },
   "toc_section_display": true,
   "toc_window_display": true
  },
  "varInspector": {
   "cols": {
    "lenName": 16,
    "lenType": 16,
    "lenVar": 40
   },
   "kernels_config": {
    "python": {
     "delete_cmd_postfix": "",
     "delete_cmd_prefix": "del ",
     "library": "var_list.py",
     "varRefreshCmd": "print(var_dic_list())"
    },
    "r": {
     "delete_cmd_postfix": ") ",
     "delete_cmd_prefix": "rm(",
     "library": "var_list.r",
     "varRefreshCmd": "cat(var_dic_list()) "
    }
   },
   "types_to_exclude": [
    "module",
    "function",
    "builtin_function_or_method",
    "instance",
    "_Feature"
   ],
   "window_display": false
  }
 },
 "nbformat": 4,
 "nbformat_minor": 1
}
