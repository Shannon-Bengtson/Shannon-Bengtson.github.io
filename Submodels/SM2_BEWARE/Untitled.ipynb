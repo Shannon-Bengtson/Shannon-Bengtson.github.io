{
 "cells": [
  {
   "cell_type": "code",
   "execution_count": 2,
   "metadata": {},
   "outputs": [
    {
     "name": "stderr",
     "output_type": "stream",
     "text": [
      "C:\\ProgramData\\Anaconda3\\lib\\site-packages\\rpy2\\robjects\\packages.py:366: UserWarning: The symbol 'quartz' is not in this R namespace/package.\n",
      "  warnings.warn(\n"
     ]
    }
   ],
   "source": [
    "import shapefile\n",
    "import matplotlib\n",
    "import matplotlib.pyplot as plt\n",
    "import pandas as pd\n",
    "import numpy as np\n",
    "import cartopy\n",
    "import cartopy.crs as ccrs\n",
    "from cartopy.io.shapereader import Reader\n",
    "from cartopy.feature import ShapelyFeature\n",
    "import geopandas as gpd\n",
    "import sklearn\n",
    "import scipy.interpolate\n",
    "import rpy2\n",
    "import os\n",
    "os.environ['R_HOME'] = 'C:\\ProgramData\\Anaconda3\\Lib\\R'\n",
    "%load_ext rpy2.ipython\n",
    "# from notebook.services.config import ConfigManager\n",
    "# cm = ConfigManager().update('notebook', {'limit_output': 10})"
   ]
  },
  {
   "cell_type": "code",
   "execution_count": 15,
   "metadata": {},
   "outputs": [],
   "source": [
    "# Load teh data using geopandas\n",
    "gdf_lagoon = gpd.read_file('../Data/ki_tarawa_mbes_bathy_lagoon_20m_grid.shp')\n",
    "gdf_ocean = gpd.read_file('../Data/ki_tarawa_ocean_side_mbes_bathy_20m_grid.shp')\n",
    "\n",
    "# convert the geopandas to pandas\n",
    "df_lagoon = pd.DataFrame(gdf_lagoon)\n",
    "df_ocean = pd.DataFrame(gdf_ocean)\n",
    "\n",
    "# # Sample the data to make it faster....\n",
    "# df_ocean = df_ocean.sample(1000)\n",
    "# df_lagoon = df_lagoon.sample(1000)\n",
    "\n",
    "# Convert the data to float\n",
    "df_ocean = df_ocean[['X','Y','A']].astype({'X':float,'Y':float,'A':float})\n",
    "df_lagoon = df_lagoon[['X','Y','A']].astype({'X':float,'Y':float,'A':float})\n",
    "\n",
    "# Combine the dataframes\n",
    "df_bath = df_ocean.append(df_lagoon)"
   ]
  },
  {
   "cell_type": "code",
   "execution_count": 20,
   "metadata": {},
   "outputs": [
    {
     "data": {
      "image/png": "[encoded data removed]"
     },
     "metadata": {},
     "output_type": "display_data"
    }
   ],
   "source": [
    "%%R -i df_ocean\n",
    "\n",
    "plot(x=df_ocean$X,y=df_ocean$Y, pch=20)\n",
    "\n",
    "##  Now get the polygons\n",
    "ConvexHull = chull(df_ocean$X, df_ocean$Y)\n",
    "polygon(df_ocean[ConvexHull,], \n",
    "    border=rainbow(4)[1], col=rainbow(4, alpha=0.1)[1])"
   ]
  },
  {
   "cell_type": "code",
   "execution_count": 7,
   "metadata": {},
   "outputs": [
    {
     "name": "stdout",
     "output_type": "stream",
     "text": [
      " 1  2  3  4  5  6  7  8  9 10 11 12 13 14 15 16 17 18 19 20 21 22 23 24 25 26 \n",
      " 1  1  1  1  1  1  1  1  1  1  1  1  1  1  1  1  1  1  1  1  2  2  2  2  2  2 \n",
      "27 28 29 30 31 32 33 34 35 36 37 38 39 40 41 42 43 44 45 46 47 48 49 50 51 52 \n",
      " 2  2  2  2  2  2  2  2  2  2  2  2  2  2  3  3  3  3  3  3  3  3  3  3  3  3 \n",
      "53 54 55 56 57 58 59 60 61 62 63 64 65 66 67 68 69 70 71 72 73 74 75 \n",
      " 3  3  3  3  3  3  3  3  4  4  4  4  4  4  4  4  4  4  4  4  4  4  4 \n"
     ]
    }
   ],
   "source": []
  },
  {
   "cell_type": "code",
   "execution_count": null,
   "metadata": {},
   "outputs": [],
   "source": []
  }
 ],
 "metadata": {
  "hide_input": false,
  "kernelspec": {
   "display_name": "Python 3",
   "language": "python",
   "name": "python3"
  },
  "language_info": {
   "codemirror_mode": {
    "name": "ipython",
    "version": 3
   },
   "file_extension": ".py",
   "mimetype": "text/x-python",
   "name": "python",
   "nbconvert_exporter": "python",
   "pygments_lexer": "ipython3",
   "version": "3.7.6"
  },
  "toc": {
   "base_numbering": 1,
   "nav_menu": {},
   "number_sections": true,
   "sideBar": true,
   "skip_h1_title": false,
   "title_cell": "Table of Contents",
   "title_sidebar": "Contents",
   "toc_cell": false,
   "toc_position": {},
   "toc_section_display": true,
   "toc_window_display": false
  }
 },
 "nbformat": 4,
 "nbformat_minor": 4
}
